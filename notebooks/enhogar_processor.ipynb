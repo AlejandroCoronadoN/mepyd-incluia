{
 "metadata": {
  "language_info": {
   "codemirror_mode": {
    "name": "ipython",
    "version": 3
   },
   "file_extension": ".py",
   "mimetype": "text/x-python",
   "name": "python",
   "nbconvert_exporter": "python",
   "pygments_lexer": "ipython3",
   "version": "3.7.9-final"
  },
  "orig_nbformat": 2,
  "kernelspec": {
   "name": "python3",
   "display_name": "Python 3.7.9 64-bit ('criteria-do': conda)",
   "metadata": {
    "interpreter": {
     "hash": "8b34bf399513e06a8774a8efb10030034b49ff381a6bcaf486d5d42f5d9a338c"
    }
   }
  }
 },
 "nbformat": 4,
 "nbformat_minor": 2,
 "cells": [
  {
   "cell_type": "code",
   "execution_count": null,
   "metadata": {},
   "outputs": [],
   "source": [
    "%load_ext autoreload\n",
    "%autoreload 2"
   ]
  },
  {
   "cell_type": "code",
   "execution_count": null,
   "metadata": {},
   "outputs": [],
   "source": [
    "import sys\n",
    "import importlib\n",
    "\n",
    "import itertools as it\n",
    "import matplotlib.pyplot as plt\n",
    "import seaborn as sns\n",
    "import pandas as pd\n",
    "import numpy as np\n",
    "import statsmodels.api as sm\n",
    "\n",
    "from itertools import product\n",
    "\n",
    "from criteriaetl.utils.expansion_func import (get_value_counts_with_expansion_factor,\n",
    "    get_percentage_table_with_expansion_factor)\n",
    "from criteriaetl.utils.display_func import cdisplay, percentage_count_plot\n",
    "from criteriaetl.utils.common_func import (get_weighted_complete_randomization_series_on_subset, \n",
    "    proportional_cut, weighted_qcut, get_partition_bool_columns_dict)\n",
    "from criteriaetl.transformers.columns_base import (NameTransformer, \n",
    "    ReplaceTransformer, SelectTransformer, AssignTransformer)\n",
    "from criteriaetl.transformers.rows_base import AggregateTransformer\n",
    "from criteriaetl.transformers.fusion_base import MergeTransformer\n",
    "\n",
    "from projectetl.utils.dataload import (load_survey_data_do, save_survey_with_pickle,\n",
    "                                       load_survey_from_pickle)\n",
    "from projectetl.utils.config import ENHOGAR_DIR"
   ]
  },
  {
   "cell_type": "code",
   "execution_count": null,
   "metadata": {},
   "outputs": [],
   "source": [
    "survey_household_member_raw = load_survey_data_do(ENHOGAR_DIR / 'Hogar_Personas ENHOGAR 2016.sav',\n",
    "                                                  load_func=lambda path: pd.read_spss(str(path)))\n",
    "survey_member_raw = load_survey_data_do(ENHOGAR_DIR / 'Personas ENHOGAR 2016.sav',\n",
    "                                        load_func=lambda path: pd.read_spss(str(path)))\n",
    "survey_house_raw = load_survey_data_do(ENHOGAR_DIR / 'Viviendas ENHOGAR 2016.sav',\n",
    "                                       load_func=lambda path: pd.read_spss(str(path)))"
   ]
  },
  {
   "cell_type": "code",
   "execution_count": null,
   "metadata": {},
   "outputs": [],
   "source": [
    "survey_household_member_raw.head()"
   ]
  },
  {
   "cell_type": "code",
   "execution_count": null,
   "metadata": {},
   "outputs": [],
   "source": [
    "survey_member_raw.head()"
   ]
  },
  {
   "cell_type": "code",
   "execution_count": null,
   "metadata": {},
   "outputs": [],
   "source": [
    "survey_house_raw.head()"
   ]
  }
 ]
}