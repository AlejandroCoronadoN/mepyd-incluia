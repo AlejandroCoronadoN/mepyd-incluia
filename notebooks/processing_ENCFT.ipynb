{
 "cells": [
  {
   "cell_type": "code",
   "execution_count": 1,
   "metadata": {},
   "outputs": [],
   "source": [
    "%load_ext autoreload\n",
    "%autoreload 2"
   ]
  },
  {
   "cell_type": "code",
   "execution_count": 2,
   "metadata": {},
   "outputs": [],
   "source": [
    "import sys\n",
    "import importlib\n",
    "\n",
    "import itertools as it\n",
    "import matplotlib.pyplot as plt\n",
    "import seaborn as sns\n",
    "import pandas as pd\n",
    "import numpy as np\n",
    "import statsmodels.api as sm\n",
    "\n",
    "from itertools import product\n",
    "from sklearn.pipeline import make_pipeline\n",
    "\n",
    "from criteriaetl.utils.expansion_func import (get_value_counts_with_expansion_factor,\n",
    "    get_percentage_table_with_expansion_factor)\n",
    "from criteriaetl.utils.display_func import cdisplay, percentage_count_plot\n",
    "from criteriaetl.utils.common_func import (get_weighted_complete_randomization_series_on_subset, \n",
    "    proportional_cut, weighted_qcut, get_partition_bool_columns_dict)\n",
    "from criteriaetl.transformers.columns_base import (NameTransformer, \n",
    "    ReplaceTransformer, SelectTransformer, AssignTransformer)\n",
    "from criteriaetl.transformers.rows_base import AggregateTransformer\n",
    "from criteriaetl.transformers.fusion_base import MergeTransformer\n",
    "\n",
    "from projectetl.utils.dataload import (load_survey_data_do, save_survey_with_pickle,\n",
    "                                       load_survey_from_pickle)\n",
    "from projectetl.utils.config import (ENCFT_SURVEY_PATH, ENCFT_PREVIOUS_SURVEY_PATH,\n",
    "                                     ENCFT_OBJECT_DIR, INFLATION_OBJECT_DIR, DATA_DIR)"
   ]
  },
  {
   "source": [
    "## Configuration variables"
   ],
   "cell_type": "markdown",
   "metadata": {}
  },
  {
   "cell_type": "code",
   "execution_count": 3,
   "metadata": {},
   "outputs": [],
   "source": [
    "get_raw = 0 # if 1 will read the raw data, if 0 will load the data from a previously serialized pickle object\n",
    "year = 2020 # year we want to analyze\n",
    "month = 6 # month to analyze\n",
    "trimester = 2 # trimester of the year we want to analyze"
   ]
  },
  {
   "cell_type": "markdown",
   "metadata": {},
   "source": [
    "# Load data"
   ]
  },
  {
   "cell_type": "markdown",
   "metadata": {},
   "source": [
    "## Survey\n"
   ]
  },
  {
   "cell_type": "code",
   "execution_count": 4,
   "metadata": {},
   "outputs": [],
   "source": [
    "if get_raw:\n",
    "    survey_raw = load_survey_data_do(ENCFT_SURVEY_PATH)\n",
    "    save_survey_with_pickle(survey_raw, ENCFT_OBJECT_DIR / 'encft202001-202004.pkl')\n",
    "else:\n",
    "    survey_raw = load_survey_from_pickle(ENCFT_OBJECT_DIR / 'encft202001-202004.pkl')"
   ]
  },
  {
   "cell_type": "code",
   "execution_count": 5,
   "metadata": {},
   "outputs": [],
   "source": [
    "survey_household_raw = survey_raw['Hogar']\n",
    "survey_member_raw = survey_raw['Miembros']\n",
    "survey_house_raw = survey_raw['Vivienda']"
   ]
  },
  {
   "source": [
    "### Split surveys by trimester"
   ],
   "cell_type": "markdown",
   "metadata": {}
  },
  {
   "cell_type": "code",
   "execution_count": 6,
   "metadata": {},
   "outputs": [
    {
     "output_type": "execute_result",
     "data": {
      "text/plain": [
       "202001    2268\n",
       "202002    2242\n",
       "202007    2030\n",
       "202010    1990\n",
       "202008    1981\n",
       "202011    1944\n",
       "202009    1928\n",
       "202012    1859\n",
       "202004    1823\n",
       "202005    1787\n",
       "202006    1749\n",
       "202003    1738\n",
       "Name: periodo, dtype: int64"
      ]
     },
     "metadata": {},
     "execution_count": 6
    }
   ],
   "source": [
    "survey_household_raw['periodo'].value_counts()"
   ]
  },
  {
   "cell_type": "code",
   "execution_count": 7,
   "metadata": {},
   "outputs": [
    {
     "output_type": "execute_result",
     "data": {
      "text/plain": [
       "20201    6248\n",
       "20203    5939\n",
       "20204    5793\n",
       "20202    5359\n",
       "Name: trimestre, dtype: int64"
      ]
     },
     "metadata": {},
     "execution_count": 7
    }
   ],
   "source": [
    "survey_household_raw['trimestre'].value_counts()"
   ]
  },
  {
   "cell_type": "code",
   "execution_count": 8,
   "metadata": {},
   "outputs": [],
   "source": [
    "def split_survey_by(survey, column_name, values):\n",
    "    return tuple(survey[survey[column_name] == value] for value in values)"
   ]
  },
  {
   "cell_type": "code",
   "execution_count": 9,
   "metadata": {},
   "outputs": [],
   "source": [
    "# split constants\n",
    "column_name = 'trimestre'\n",
    "values = [20201, 20202, 20203, 20204]"
   ]
  },
  {
   "cell_type": "code",
   "execution_count": 10,
   "metadata": {},
   "outputs": [],
   "source": [
    "# split household surveys\n",
    "survey_household_raw_01, survey_household_raw_02, \\\n",
    "    survey_household_raw_03, survey_household_raw_04 = split_survey_by(survey_household_raw,\n",
    "                                                                       column_name,\n",
    "                                                                       values)"
   ]
  },
  {
   "cell_type": "code",
   "execution_count": 11,
   "metadata": {},
   "outputs": [],
   "source": [
    "# split member surveys\n",
    "survey_member_raw_01, survey_member_raw_02, \\\n",
    "    survey_member_raw_03, survey_member_raw_04 = split_survey_by(survey_member_raw,\n",
    "                                                                 column_name,\n",
    "                                                                 values)"
   ]
  },
  {
   "cell_type": "code",
   "execution_count": 12,
   "metadata": {},
   "outputs": [],
   "source": [
    "# split house surveys\n",
    "survey_house_raw_01, survey_house_raw_02, \\\n",
    "    survey_house_raw_03, survey_house_raw_04 = split_survey_by(survey_house_raw,\n",
    "                                                               column_name,\n",
    "                                                               values)"
   ]
  },
  {
   "source": [
    "## Dictionary"
   ],
   "cell_type": "markdown",
   "metadata": {}
  },
  {
   "cell_type": "code",
   "execution_count": 13,
   "metadata": {},
   "outputs": [],
   "source": [
    "survey_dict = survey_raw['Diccionario']"
   ]
  },
  {
   "cell_type": "code",
   "execution_count": 14,
   "metadata": {},
   "outputs": [],
   "source": [
    "def consult_dict(field):\n",
    "    return survey_dict[survey_dict['campo'] == field.upper()][['valor', 'descripcion', 'texto']] "
   ]
  },
  {
   "source": [
    "## Exchange Rate"
   ],
   "cell_type": "markdown",
   "metadata": {}
  },
  {
   "cell_type": "code",
   "execution_count": 15,
   "metadata": {},
   "outputs": [
    {
     "output_type": "execute_result",
     "data": {
      "text/plain": [
       "   periodo moneda  tasa_a_dolar_mes1  tasa_a_dolar_mes2  tasa_a_dolar_mes3  \\\n",
       "0   202001    CHF               0.99               0.98               0.99   \n",
       "1   202001    DOP              50.81              51.06              51.53   \n",
       "2   202001    EUR               0.89               0.90               0.91   \n",
       "3   202001    USD               1.00               1.00               1.00   \n",
       "4   202002    DOP              51.06              51.53              52.62   \n",
       "\n",
       "   tasa_a_dolar_mes4  tasa_a_dolar_mes5  tasa_a_dolar_mes6  \\\n",
       "0               0.99               0.99               0.98   \n",
       "1              52.62              52.76              52.84   \n",
       "2               0.90               0.91               0.90   \n",
       "3               1.00               1.00               1.00   \n",
       "4              52.76              52.84              53.04   \n",
       "\n",
       "   tasa_a_dolar_promedio  tasa_a_pesos_mes1  tasa_a_pesos_mes2  \\\n",
       "0                   0.99              51.32              52.10   \n",
       "1                  51.94               1.00               1.00   \n",
       "2                   0.90              57.09              56.73   \n",
       "3                   1.00              50.81              51.06   \n",
       "4                  52.31               1.00               1.00   \n",
       "\n",
       "   tasa_a_pesos_mes3  tasa_a_pesos_mes4  tasa_a_pesos_mes5  tasa_a_pesos_mes6  \\\n",
       "0              52.05              53.15              53.29              53.92   \n",
       "1               1.00               1.00               1.00               1.00   \n",
       "2              56.63              58.47              57.98              58.71   \n",
       "3              51.53              52.62              52.76              52.84   \n",
       "4               1.00               1.00               1.00               1.00   \n",
       "\n",
       "   tasa_a_pesos_promedio  \n",
       "0                  52.64  \n",
       "1                   1.00  \n",
       "2                  57.60  \n",
       "3                  51.94  \n",
       "4                   1.00  "
      ],
      "text/html": "<div>\n<style scoped>\n    .dataframe tbody tr th:only-of-type {\n        vertical-align: middle;\n    }\n\n    .dataframe tbody tr th {\n        vertical-align: top;\n    }\n\n    .dataframe thead th {\n        text-align: right;\n    }\n</style>\n<table border=\"1\" class=\"dataframe\">\n  <thead>\n    <tr style=\"text-align: right;\">\n      <th></th>\n      <th>periodo</th>\n      <th>moneda</th>\n      <th>tasa_a_dolar_mes1</th>\n      <th>tasa_a_dolar_mes2</th>\n      <th>tasa_a_dolar_mes3</th>\n      <th>tasa_a_dolar_mes4</th>\n      <th>tasa_a_dolar_mes5</th>\n      <th>tasa_a_dolar_mes6</th>\n      <th>tasa_a_dolar_promedio</th>\n      <th>tasa_a_pesos_mes1</th>\n      <th>tasa_a_pesos_mes2</th>\n      <th>tasa_a_pesos_mes3</th>\n      <th>tasa_a_pesos_mes4</th>\n      <th>tasa_a_pesos_mes5</th>\n      <th>tasa_a_pesos_mes6</th>\n      <th>tasa_a_pesos_promedio</th>\n    </tr>\n  </thead>\n  <tbody>\n    <tr>\n      <th>0</th>\n      <td>202001</td>\n      <td>CHF</td>\n      <td>0.99</td>\n      <td>0.98</td>\n      <td>0.99</td>\n      <td>0.99</td>\n      <td>0.99</td>\n      <td>0.98</td>\n      <td>0.99</td>\n      <td>51.32</td>\n      <td>52.10</td>\n      <td>52.05</td>\n      <td>53.15</td>\n      <td>53.29</td>\n      <td>53.92</td>\n      <td>52.64</td>\n    </tr>\n    <tr>\n      <th>1</th>\n      <td>202001</td>\n      <td>DOP</td>\n      <td>50.81</td>\n      <td>51.06</td>\n      <td>51.53</td>\n      <td>52.62</td>\n      <td>52.76</td>\n      <td>52.84</td>\n      <td>51.94</td>\n      <td>1.00</td>\n      <td>1.00</td>\n      <td>1.00</td>\n      <td>1.00</td>\n      <td>1.00</td>\n      <td>1.00</td>\n      <td>1.00</td>\n    </tr>\n    <tr>\n      <th>2</th>\n      <td>202001</td>\n      <td>EUR</td>\n      <td>0.89</td>\n      <td>0.90</td>\n      <td>0.91</td>\n      <td>0.90</td>\n      <td>0.91</td>\n      <td>0.90</td>\n      <td>0.90</td>\n      <td>57.09</td>\n      <td>56.73</td>\n      <td>56.63</td>\n      <td>58.47</td>\n      <td>57.98</td>\n      <td>58.71</td>\n      <td>57.60</td>\n    </tr>\n    <tr>\n      <th>3</th>\n      <td>202001</td>\n      <td>USD</td>\n      <td>1.00</td>\n      <td>1.00</td>\n      <td>1.00</td>\n      <td>1.00</td>\n      <td>1.00</td>\n      <td>1.00</td>\n      <td>1.00</td>\n      <td>50.81</td>\n      <td>51.06</td>\n      <td>51.53</td>\n      <td>52.62</td>\n      <td>52.76</td>\n      <td>52.84</td>\n      <td>51.94</td>\n    </tr>\n    <tr>\n      <th>4</th>\n      <td>202002</td>\n      <td>DOP</td>\n      <td>51.06</td>\n      <td>51.53</td>\n      <td>52.62</td>\n      <td>52.76</td>\n      <td>52.84</td>\n      <td>53.04</td>\n      <td>52.31</td>\n      <td>1.00</td>\n      <td>1.00</td>\n      <td>1.00</td>\n      <td>1.00</td>\n      <td>1.00</td>\n      <td>1.00</td>\n      <td>1.00</td>\n    </tr>\n  </tbody>\n</table>\n</div>"
     },
     "metadata": {},
     "execution_count": 15
    }
   ],
   "source": [
    "exchange_rate = survey_raw['Tasa monedas']\n",
    "exchange_rate.head()"
   ]
  },
  {
   "source": [
    "## Inflation"
   ],
   "cell_type": "markdown",
   "metadata": {}
  },
  {
   "cell_type": "code",
   "execution_count": 16,
   "metadata": {},
   "outputs": [
    {
     "output_type": "execute_result",
     "data": {
      "text/plain": [
       "            alimentaria  no_alimentaria  ampliada\n",
       "date                                             \n",
       "2016-01-01     1.043013        0.984132  0.988909\n",
       "2016-02-01     1.022986        0.985364  0.988446\n",
       "2016-03-01     1.011455        0.987945  0.989883\n",
       "2016-04-01     1.002352        0.988627  0.989763\n",
       "2016-05-01     0.998407        0.991860  0.992404"
      ],
      "text/html": "<div>\n<style scoped>\n    .dataframe tbody tr th:only-of-type {\n        vertical-align: middle;\n    }\n\n    .dataframe tbody tr th {\n        vertical-align: top;\n    }\n\n    .dataframe thead th {\n        text-align: right;\n    }\n</style>\n<table border=\"1\" class=\"dataframe\">\n  <thead>\n    <tr style=\"text-align: right;\">\n      <th></th>\n      <th>alimentaria</th>\n      <th>no_alimentaria</th>\n      <th>ampliada</th>\n    </tr>\n    <tr>\n      <th>date</th>\n      <th></th>\n      <th></th>\n      <th></th>\n    </tr>\n  </thead>\n  <tbody>\n    <tr>\n      <th>2016-01-01</th>\n      <td>1.043013</td>\n      <td>0.984132</td>\n      <td>0.988909</td>\n    </tr>\n    <tr>\n      <th>2016-02-01</th>\n      <td>1.022986</td>\n      <td>0.985364</td>\n      <td>0.988446</td>\n    </tr>\n    <tr>\n      <th>2016-03-01</th>\n      <td>1.011455</td>\n      <td>0.987945</td>\n      <td>0.989883</td>\n    </tr>\n    <tr>\n      <th>2016-04-01</th>\n      <td>1.002352</td>\n      <td>0.988627</td>\n      <td>0.989763</td>\n    </tr>\n    <tr>\n      <th>2016-05-01</th>\n      <td>0.998407</td>\n      <td>0.991860</td>\n      <td>0.992404</td>\n    </tr>\n  </tbody>\n</table>\n</div>"
     },
     "metadata": {},
     "execution_count": 16
    }
   ],
   "source": [
    "inflation_df = load_survey_from_pickle(INFLATION_OBJECT_DIR / 'inflation_basket_2016.pkl')\n",
    "inflation_df.head()"
   ]
  },
  {
   "source": [
    "## Current Survey"
   ],
   "cell_type": "markdown",
   "metadata": {}
  },
  {
   "cell_type": "code",
   "execution_count": 17,
   "metadata": {},
   "outputs": [],
   "source": [
    "survey_member_raw = locals().get(f'survey_member_raw_0{trimester}')\n",
    "survey_house_raw = locals().get(f'survey_house_raw_0{trimester}')\n",
    "survey_household_raw = locals().get(f'survey_household_raw_0{trimester}')\n"
   ]
  },
  {
   "source": [
    "# Processing Members\n",
    "... missing docs"
   ],
   "cell_type": "markdown",
   "metadata": {}
  },
  {
   "source": [
    "## Replace Transformer"
   ],
   "cell_type": "markdown",
   "metadata": {}
  },
  {
   "cell_type": "code",
   "execution_count": 18,
   "metadata": {},
   "outputs": [],
   "source": [
    "replace_member_map = {\n",
    "    'sexo': {\n",
    "        1: 0,\n",
    "        2: 1\n",
    "    }\n",
    "}\n",
    "\n",
    "replace_member_transformer = ReplaceTransformer(replace_member_map)\n",
    "survey_member_replaced = replace_member_transformer.transform(survey_member_raw)"
   ]
  },
  {
   "source": [
    "## Assign Transformer"
   ],
   "cell_type": "markdown",
   "metadata": {}
  },
  {
   "cell_type": "code",
   "execution_count": 19,
   "metadata": {},
   "outputs": [],
   "source": [
    "total_income_cols = {\n",
    "    'ingreso_laboral_monetario': [\n",
    "        'ingreso_asalariado', # Ingreso monetario principal mensual por ocupacion principal para asalariados (OK)\n",
    "        # '', # Ingreso monetario mensual por ocupacion secundaria para cuenta propia o patron\n",
    "        'comisiones', # Ingreso monetario mensual de comisiones por ocupacion principal (OK)\n",
    "        'propinas', # Ingreso monetario mensual de propinas por ocupacion principal (OK)\n",
    "        'horas_extra', # Ingreso monetario mensual de horas extras por ocupacion principal (OK)\n",
    "        'especie_alimentos', # Ingreso en especie por alimentos adicional mensual por ocupacion principal (OK)\n",
    "        'especie_vivienda', # Ingreso en especie por pago de viviendas adicional mensual por ocupacion principal (OK)\n",
    "        'especie_transporte', # Ingreso en especie por pago de transporte adicional mensual por ocupacion principal (OK)\n",
    "        'especie_combustible', # Ingreso en especie por pago de combustible mensual por ocupacion principal (OK)\n",
    "        'especie_celular', # Ingreso en especie por pago de celular adicional mensual por ocupacion principal (OK)\n",
    "        'ingreso_asalariado_secun', # Ingreso monetario mensual por ocupacion secundaria para ocupacion secundaria asalariada\n",
    "        'ingreso_independientes', # Ingreso monetario principal mensual por ocupacion principal para cuenta propia o patron (OK)\n",
    "        'otros_pagos_secun', # Ingreso monetario mensual de otros ingresos monetarios mensuales por ocupación secundaria asalariada\n",
    "        'otros_beneficios_secun', # Ingreso monetario mensual de otros ingresos por beneficios marginales anuales en ocupación secundaria asalariada\n",
    "\n",
    "        # no se deflactan\n",
    "        # '', # Ingreso monetario mensual de vacaciones pagadas por ocupacion principal\n",
    "        # '', # Ingreso monetario mensual de dividendos por ocupacion principal\n",
    "        # '', # Ingreso monetario mensual de bonificacion por ocupacion principal\n",
    "        # '', # Ingreso monetario mensual de regalia pascual por ocupacion principal\n",
    "        # '', # Ingreso monetario mensual de utilidades empresariales por ocupacion principal\n",
    "        # '', # Ingreso monetario mensual de beneficios marginales por ocupacion principal\n",
    "        # '', # Ingreso monetario nacional no laboral por pension adicional\n",
    "\n",
    "        # se deflactan con el promedio del IPC de los últimos 6 meses\n",
    "        # 'ingreso_independientes', # Ingreso monetario principal mensual por ocupacion principal para independientes agropecuarios y contratista\n",
    "        # '', # Ingreso monetario mensual por ocupacion secundaria para independientes agropecuarios y contratista (1 y 2)\n",
    "    ],\n",
    "\n",
    "    'ingreso_laboral_no_monetario': [\n",
    "        'otros_especie', # Ingreso en especie por otros pagos adicional mensual por ocupacion principal\n",
    "        'especie_independientes', # Ingreso en especie laboral trabajadores por ocupacion principal cuenta propia\n",
    "        'especie_independientes_secun', # Ingreso en especie laboral trabajadores por ocupacion secundaria cuenta propia\n",
    "        'pago_especie_secun', # Ingreso monetario mensual de ingresos en especie mensuales por ocupacion secundaria asalariada\n",
    "    ],\n",
    "    \n",
    "    'ingreso_no_laboral_monetario': [\n",
    "        # no se deflactan\n",
    "        'interes_nac', # Ingreso monetario nacional no laboral por intereses adicionales\n",
    "        'alquiler_nac_a', # Ingreso monetario nacional no laboral por alquileres adcionales\n",
    "        'remesas_nac_a', # Ingreso monetario nacional no laboral por remesas nacionales\n",
    "        'ayuda_especie_nac_a', # Ingreso en especie no laboral por ayuda de familiares, no familiares e instituciones (AYUDA_ESPECIE_NAC_MONTO, AYUDA_ESPECIE_NAC_ANO_MONTO)\n",
    "\n",
    "        'pension_nac_a', # Ingreso monetario no laboral por pension o jubilacion\n",
    "        # '', # Ingreso monetario no laboral por Intereses o dividendos\n",
    "        # '', # Ingreso monetario no laboral por alquileres o rentas de propiedades\n",
    "        # '', # Ingreso monetario no laboral por remesas nacionales       \n",
    "    ],\n",
    "\n",
    "    'ingreso_no_laboral_no_monetario': [\n",
    "        # '', # Ingreso en especie no laboral por ayuda de familiares, no familiares e instituciones (otro)\n",
    "        'consumo_bienes', # Ingreso por autoconsumo y autosuministro para trabajadores por cuenta propia, ocupacion principal (CONSUMIO_BIENES_IN_MONTO)\n",
    "        'consumo_bienes_secun', # Ingreso por autoconsumo y autosuministro ocupacion secundaria para trabajadores por cuenta propia (CONSUMIO_BIENES_IS_MONTO)\n",
    "    ],\n",
    "\n",
    "    'ingreso_monetario_exterior': [\n",
    "        'pension_ext_1', # Ingresos mensuales externos por pension\n",
    "        'interes_ext_1', # Ingresos mensuales externos por intereses o dividendos en RD$\n",
    "        'alquiler_ext_1', # Ingresos mensuales externos por alquileres en RD$\n",
    "        'regalos_ext_1', # Ingresos externos por regalos\n",
    "        'remesas_ext', # Ingresos externos por remesas\n",
    "    ],\n",
    "\n",
    "    'ingreso_subsidios': [\n",
    "        # Ingreso monetario no laboral por ayuda del gobierno\n",
    "        # Prosoli\n",
    "        'comer_es_primero', 'inc_asistencia_escolar', 'bonoluz',\n",
    "        'bonogas_hogar', 'proteccion_vejez',\n",
    "        # Otros\n",
    "        'bonogas_chofer', 'bono_estudiante_progreso', 'inc_educacion_superior',\n",
    "        'inc_policia_preventiva', 'inc_marina_guerra'\n",
    "    ],\n",
    "\n",
    "    'ingreso_subsidios_covid': [\n",
    "        'quedate_en_casa', 'fase', 'pa_ti'\n",
    "    ],\n",
    "\n",
    "    'ingreso_sin_subsidios_covid': [\n",
    "        'ingreso_laboral_monetario', 'ingreso_laboral_no_monetario',\n",
    "        'ingreso_no_laboral_monetario', 'ingreso_no_laboral_no_monetario',\n",
    "        'ingreso_monetario_exterior', 'ingreso_subsidios'\n",
    "    ],\n",
    "\n",
    "    'ingreso_sin_qec': [\n",
    "        'ingreso_sin_subsidios_covid', 'fase', 'pa_ti'\n",
    "    ],\n",
    "\n",
    "    'ingreso_total': [\n",
    "        'ingreso_sin_subsidios_covid', 'ingreso_subsidios_covid'\n",
    "    ]\n",
    "}"
   ]
  },
  {
   "cell_type": "code",
   "execution_count": 20,
   "metadata": {},
   "outputs": [],
   "source": [
    "assign_member_map = {\n",
    "    **{\n",
    "        income_column_name: lambda df, cols=income_sum_columns: df[cols].sum(1)\n",
    "        for income_column_name, income_sum_columns in total_income_cols.items()\n",
    "    },\n",
    "    # Segmentation\n",
    "    'edad_menor_5': lambda df: (df['edad'] < 5).astype(int),\n",
    "    'edad_mayor_60': lambda df: (df['edad'] > 60).astype(int),\n",
    "    'edad_mayor_65': lambda df: (df['edad'] > 65).astype(int),\n",
    "    'edad_5_a_10': lambda df: ((df['edad'] >= 5) & (df['edad'] < 10)).astype(int),\n",
    "    'edad_10_a_15': lambda df: ((df['edad'] > 10) & (df['edad'] <= 15)).astype(int),\n",
    "    # ---\n",
    "    'es_jefe': lambda df: (df['parentesco'] == 1).astype(int),\n",
    "    'es_conyugue': lambda df: (df['parentesco'] == 2).astype(int),\n",
    "    'es_hijo': lambda df: (df['parentesco'] == 3).astype(int),\n",
    "    'otro_pariente': lambda df: df['parentesco'].isin(range(4, 12)).astype(int),\n",
    "    'no_pariente': lambda df: (df['parentesco'] == 12).astype(int),\n",
    "    'sexo_jefe_familia': lambda df: df['sexo'] * df['es_jefe'],\n",
    "    # ---\n",
    "    'es_trabajador_domestico': lambda df: df['orden_sector'] == 3,\n",
    "    'es_enfermo': lambda df: df['motivo_no_disponible'] == 4,\n",
    "    'es_trabajador_infantil': lambda df: df['edad'].isin(range(0, 16)) & df['trabajo_semana_pasada'] == 1,\n",
    "    # ---\n",
    "    'es_informal': lambda df: df['orden_empleo'] == 2,\n",
    "    'es_formal': lambda df: df['orden_empleo'] == 1\n",
    "}\n",
    "assign_member_transformer = AssignTransformer(assign_member_map)\n",
    "survey_member_assigned = assign_member_transformer.transform(survey_member_replaced)"
   ]
  },
  {
   "cell_type": "code",
   "execution_count": 21,
   "metadata": {},
   "outputs": [
    {
     "output_type": "execute_result",
     "data": {
      "text/plain": [
       "       edad_menor_5  edad_mayor_60\n",
       "19386             0              0\n",
       "19387             0              0\n",
       "19388             0              0\n",
       "19389             0              0\n",
       "19390             0              0"
      ],
      "text/html": "<div>\n<style scoped>\n    .dataframe tbody tr th:only-of-type {\n        vertical-align: middle;\n    }\n\n    .dataframe tbody tr th {\n        vertical-align: top;\n    }\n\n    .dataframe thead th {\n        text-align: right;\n    }\n</style>\n<table border=\"1\" class=\"dataframe\">\n  <thead>\n    <tr style=\"text-align: right;\">\n      <th></th>\n      <th>edad_menor_5</th>\n      <th>edad_mayor_60</th>\n    </tr>\n  </thead>\n  <tbody>\n    <tr>\n      <th>19386</th>\n      <td>0</td>\n      <td>0</td>\n    </tr>\n    <tr>\n      <th>19387</th>\n      <td>0</td>\n      <td>0</td>\n    </tr>\n    <tr>\n      <th>19388</th>\n      <td>0</td>\n      <td>0</td>\n    </tr>\n    <tr>\n      <th>19389</th>\n      <td>0</td>\n      <td>0</td>\n    </tr>\n    <tr>\n      <th>19390</th>\n      <td>0</td>\n      <td>0</td>\n    </tr>\n  </tbody>\n</table>\n</div>"
     },
     "metadata": {},
     "execution_count": 21
    }
   ],
   "source": [
    "survey_member_assigned[survey_member_assigned['id_hogar'] == 6006][['edad_menor_5', 'edad_mayor_60']]"
   ]
  },
  {
   "source": [
    "## Aggregate Transformer"
   ],
   "cell_type": "markdown",
   "metadata": {}
  },
  {
   "cell_type": "code",
   "execution_count": 22,
   "metadata": {},
   "outputs": [],
   "source": [
    "aggregate_member_map = {\n",
    "    'sum': [\n",
    "        'quedate_en_casa', 'ingreso_total', 'ingreso_subsidios',\n",
    "        'ingreso_monetario_exterior', 'ingreso_no_laboral_no_monetario',\n",
    "        'ingreso_no_laboral_monetario', 'ingreso_laboral_no_monetario',\n",
    "        'ingreso_laboral_monetario', 'ingreso_subsidios_covid',\n",
    "        'ingreso_sin_subsidios_covid', 'ingreso_sin_qec',\n",
    "        'quedate_en_casa', 'comer_es_primero',\n",
    "        'sexo_jefe_familia', 'edad_menor_5', 'edad_mayor_60',\n",
    "        'es_jefe', 'es_conyugue', 'es_hijo', 'otro_pariente',\n",
    "        'no_pariente', 'es_informal', 'es_formal'\n",
    "    ],\n",
    "\n",
    "    'any': [\n",
    "        'edad_menor_5', 'edad_mayor_60', 'edad_mayor_65',\n",
    "        'edad_5_a_10', 'edad_10_a_15', 'es_trabajador_domestico',\n",
    "        'es_enfermo', 'es_informal', 'es_trabajador_infantil'\n",
    "    ],\n",
    "}\n",
    "keep_first = ['factor_expansion', 'miembro', 'cantidad_miembros_hogar', 'zona', 'grupo_region']\n",
    "key = 'id_hogar'\n",
    "aggregate_member_transformer = AggregateTransformer(aggregate_member_map, keep_first, key)\n",
    "survey_household_member_aggregated = aggregate_member_transformer.transform(survey_member_assigned)"
   ]
  },
  {
   "source": [
    "# Processing Households"
   ],
   "cell_type": "markdown",
   "metadata": {}
  },
  {
   "source": [
    "## Merge Transformer"
   ],
   "cell_type": "markdown",
   "metadata": {}
  },
  {
   "cell_type": "code",
   "execution_count": 23,
   "metadata": {},
   "outputs": [],
   "source": [
    "merge_survey_household_member_transformer = MergeTransformer(lambda : survey_household_raw, {'by': key})\n",
    "survey_household_merged = merge_survey_household_member_transformer.transform(survey_household_member_aggregated)"
   ]
  },
  {
   "cell_type": "code",
   "execution_count": 24,
   "metadata": {},
   "outputs": [
    {
     "output_type": "execute_result",
     "data": {
      "text/plain": [
       "    id_hogar  factor_expansion_first  miembro_first  \\\n",
       "0       1007              654.403718              1   \n",
       "1       2006              654.403718              1   \n",
       "2       3008              654.403718              1   \n",
       "3       6006              654.403718              1   \n",
       "4       7006              654.403718              1   \n",
       "..       ...                     ...            ...   \n",
       "95    191006             1636.009296              1   \n",
       "96    193005             1636.009296              1   \n",
       "97    195004             1636.009296              1   \n",
       "98    201007             1636.009296              2   \n",
       "99    205007             1636.009296              1   \n",
       "\n",
       "    cantidad_miembros_hogar_first  zona_first  grupo_region_first  \\\n",
       "0                               1           1  Gran Santo Domingo   \n",
       "1                               3           1  Gran Santo Domingo   \n",
       "2                               3           1  Gran Santo Domingo   \n",
       "3                               5           1  Gran Santo Domingo   \n",
       "4                               4           1  Gran Santo Domingo   \n",
       "..                            ...         ...                 ...   \n",
       "95                              4           1  Gran Santo Domingo   \n",
       "96                              5           1  Gran Santo Domingo   \n",
       "97                              4           1  Gran Santo Domingo   \n",
       "98                              2           1  Gran Santo Domingo   \n",
       "99                              4           1  Gran Santo Domingo   \n",
       "\n",
       "    quedate_en_casa_sum  ingreso_total_sum  ingreso_subsidios_sum  \\\n",
       "0                     0            40000.0                      0   \n",
       "1                     0            44155.0                      0   \n",
       "2                     0            14272.0                   1672   \n",
       "3                     0            10053.0                   1053   \n",
       "4                     0             2550.0                      0   \n",
       "..                  ...                ...                    ...   \n",
       "95                    0            20000.0                      0   \n",
       "96                    0            18000.0                      0   \n",
       "97                    0            27353.0                   1053   \n",
       "98                    0            15000.0                      0   \n",
       "99                    0            30757.0                   1497   \n",
       "\n",
       "    ingreso_monetario_exterior_sum  ...  incentivo_educacion_superior  \\\n",
       "0                              0.0  ...                             2   \n",
       "1                              0.0  ...                             2   \n",
       "2                              0.0  ...                             2   \n",
       "3                              0.0  ...                             2   \n",
       "4                              0.0  ...                             2   \n",
       "..                             ...  ...                           ...   \n",
       "95                             0.0  ...                             2   \n",
       "96                             0.0  ...                             2   \n",
       "97                             0.0  ...                             2   \n",
       "98                          3000.0  ...                             2   \n",
       "99                             0.0  ...                             2   \n",
       "\n",
       "    bono_escolar_estudiante_prog  prog_incentivo_policia_prev  \\\n",
       "0                              2                            2   \n",
       "1                              2                            2   \n",
       "2                              2                            2   \n",
       "3                              2                            2   \n",
       "4                              2                            2   \n",
       "..                           ...                          ...   \n",
       "95                             2                            2   \n",
       "96                             2                            2   \n",
       "97                             2                            2   \n",
       "98                             2                            2   \n",
       "99                             2                            2   \n",
       "\n",
       "    prog_incentivo_alist_marina  programa_quedate_casa  \\\n",
       "0                             2                    2.0   \n",
       "1                             2                    2.0   \n",
       "2                             2                    1.0   \n",
       "3                             2                    1.0   \n",
       "4                             2                    2.0   \n",
       "..                          ...                    ...   \n",
       "95                            2                    2.0   \n",
       "96                            2                    2.0   \n",
       "97                            2                    1.0   \n",
       "98                            2                    2.0   \n",
       "99                            2                    1.0   \n",
       "\n",
       "    fondo_asistencia_solidaria_emp  programa_apoyo_trabajadores_in  \\\n",
       "0                              2.0                             2.0   \n",
       "1                              2.0                             2.0   \n",
       "2                              2.0                             2.0   \n",
       "3                              2.0                             2.0   \n",
       "4                              2.0                             2.0   \n",
       "..                             ...                             ...   \n",
       "95                             2.0                             2.0   \n",
       "96                             2.0                             2.0   \n",
       "97                             2.0                             2.0   \n",
       "98                             2.0                             2.0   \n",
       "99                             2.0                             2.0   \n",
       "\n",
       "    cantidad_miembros_hogar  hay_recien_nacidos  numero_linea_informante  \n",
       "0                         1                   2                        1  \n",
       "1                         3                   2                        1  \n",
       "2                         3                   2                        1  \n",
       "3                         5                   2                        1  \n",
       "4                         4                   2                        1  \n",
       "..                      ...                 ...                      ...  \n",
       "95                        4                   2                        2  \n",
       "96                        5                   2                        2  \n",
       "97                        4                   2                        2  \n",
       "98                        2                   2                        2  \n",
       "99                        4                   2                        1  \n",
       "\n",
       "[100 rows x 113 columns]"
      ],
      "text/html": "<div>\n<style scoped>\n    .dataframe tbody tr th:only-of-type {\n        vertical-align: middle;\n    }\n\n    .dataframe tbody tr th {\n        vertical-align: top;\n    }\n\n    .dataframe thead th {\n        text-align: right;\n    }\n</style>\n<table border=\"1\" class=\"dataframe\">\n  <thead>\n    <tr style=\"text-align: right;\">\n      <th></th>\n      <th>id_hogar</th>\n      <th>factor_expansion_first</th>\n      <th>miembro_first</th>\n      <th>cantidad_miembros_hogar_first</th>\n      <th>zona_first</th>\n      <th>grupo_region_first</th>\n      <th>quedate_en_casa_sum</th>\n      <th>ingreso_total_sum</th>\n      <th>ingreso_subsidios_sum</th>\n      <th>ingreso_monetario_exterior_sum</th>\n      <th>...</th>\n      <th>incentivo_educacion_superior</th>\n      <th>bono_escolar_estudiante_prog</th>\n      <th>prog_incentivo_policia_prev</th>\n      <th>prog_incentivo_alist_marina</th>\n      <th>programa_quedate_casa</th>\n      <th>fondo_asistencia_solidaria_emp</th>\n      <th>programa_apoyo_trabajadores_in</th>\n      <th>cantidad_miembros_hogar</th>\n      <th>hay_recien_nacidos</th>\n      <th>numero_linea_informante</th>\n    </tr>\n  </thead>\n  <tbody>\n    <tr>\n      <th>0</th>\n      <td>1007</td>\n      <td>654.403718</td>\n      <td>1</td>\n      <td>1</td>\n      <td>1</td>\n      <td>Gran Santo Domingo</td>\n      <td>0</td>\n      <td>40000.0</td>\n      <td>0</td>\n      <td>0.0</td>\n      <td>...</td>\n      <td>2</td>\n      <td>2</td>\n      <td>2</td>\n      <td>2</td>\n      <td>2.0</td>\n      <td>2.0</td>\n      <td>2.0</td>\n      <td>1</td>\n      <td>2</td>\n      <td>1</td>\n    </tr>\n    <tr>\n      <th>1</th>\n      <td>2006</td>\n      <td>654.403718</td>\n      <td>1</td>\n      <td>3</td>\n      <td>1</td>\n      <td>Gran Santo Domingo</td>\n      <td>0</td>\n      <td>44155.0</td>\n      <td>0</td>\n      <td>0.0</td>\n      <td>...</td>\n      <td>2</td>\n      <td>2</td>\n      <td>2</td>\n      <td>2</td>\n      <td>2.0</td>\n      <td>2.0</td>\n      <td>2.0</td>\n      <td>3</td>\n      <td>2</td>\n      <td>1</td>\n    </tr>\n    <tr>\n      <th>2</th>\n      <td>3008</td>\n      <td>654.403718</td>\n      <td>1</td>\n      <td>3</td>\n      <td>1</td>\n      <td>Gran Santo Domingo</td>\n      <td>0</td>\n      <td>14272.0</td>\n      <td>1672</td>\n      <td>0.0</td>\n      <td>...</td>\n      <td>2</td>\n      <td>2</td>\n      <td>2</td>\n      <td>2</td>\n      <td>1.0</td>\n      <td>2.0</td>\n      <td>2.0</td>\n      <td>3</td>\n      <td>2</td>\n      <td>1</td>\n    </tr>\n    <tr>\n      <th>3</th>\n      <td>6006</td>\n      <td>654.403718</td>\n      <td>1</td>\n      <td>5</td>\n      <td>1</td>\n      <td>Gran Santo Domingo</td>\n      <td>0</td>\n      <td>10053.0</td>\n      <td>1053</td>\n      <td>0.0</td>\n      <td>...</td>\n      <td>2</td>\n      <td>2</td>\n      <td>2</td>\n      <td>2</td>\n      <td>1.0</td>\n      <td>2.0</td>\n      <td>2.0</td>\n      <td>5</td>\n      <td>2</td>\n      <td>1</td>\n    </tr>\n    <tr>\n      <th>4</th>\n      <td>7006</td>\n      <td>654.403718</td>\n      <td>1</td>\n      <td>4</td>\n      <td>1</td>\n      <td>Gran Santo Domingo</td>\n      <td>0</td>\n      <td>2550.0</td>\n      <td>0</td>\n      <td>0.0</td>\n      <td>...</td>\n      <td>2</td>\n      <td>2</td>\n      <td>2</td>\n      <td>2</td>\n      <td>2.0</td>\n      <td>2.0</td>\n      <td>2.0</td>\n      <td>4</td>\n      <td>2</td>\n      <td>1</td>\n    </tr>\n    <tr>\n      <th>...</th>\n      <td>...</td>\n      <td>...</td>\n      <td>...</td>\n      <td>...</td>\n      <td>...</td>\n      <td>...</td>\n      <td>...</td>\n      <td>...</td>\n      <td>...</td>\n      <td>...</td>\n      <td>...</td>\n      <td>...</td>\n      <td>...</td>\n      <td>...</td>\n      <td>...</td>\n      <td>...</td>\n      <td>...</td>\n      <td>...</td>\n      <td>...</td>\n      <td>...</td>\n      <td>...</td>\n    </tr>\n    <tr>\n      <th>95</th>\n      <td>191006</td>\n      <td>1636.009296</td>\n      <td>1</td>\n      <td>4</td>\n      <td>1</td>\n      <td>Gran Santo Domingo</td>\n      <td>0</td>\n      <td>20000.0</td>\n      <td>0</td>\n      <td>0.0</td>\n      <td>...</td>\n      <td>2</td>\n      <td>2</td>\n      <td>2</td>\n      <td>2</td>\n      <td>2.0</td>\n      <td>2.0</td>\n      <td>2.0</td>\n      <td>4</td>\n      <td>2</td>\n      <td>2</td>\n    </tr>\n    <tr>\n      <th>96</th>\n      <td>193005</td>\n      <td>1636.009296</td>\n      <td>1</td>\n      <td>5</td>\n      <td>1</td>\n      <td>Gran Santo Domingo</td>\n      <td>0</td>\n      <td>18000.0</td>\n      <td>0</td>\n      <td>0.0</td>\n      <td>...</td>\n      <td>2</td>\n      <td>2</td>\n      <td>2</td>\n      <td>2</td>\n      <td>2.0</td>\n      <td>2.0</td>\n      <td>2.0</td>\n      <td>5</td>\n      <td>2</td>\n      <td>2</td>\n    </tr>\n    <tr>\n      <th>97</th>\n      <td>195004</td>\n      <td>1636.009296</td>\n      <td>1</td>\n      <td>4</td>\n      <td>1</td>\n      <td>Gran Santo Domingo</td>\n      <td>0</td>\n      <td>27353.0</td>\n      <td>1053</td>\n      <td>0.0</td>\n      <td>...</td>\n      <td>2</td>\n      <td>2</td>\n      <td>2</td>\n      <td>2</td>\n      <td>1.0</td>\n      <td>2.0</td>\n      <td>2.0</td>\n      <td>4</td>\n      <td>2</td>\n      <td>2</td>\n    </tr>\n    <tr>\n      <th>98</th>\n      <td>201007</td>\n      <td>1636.009296</td>\n      <td>2</td>\n      <td>2</td>\n      <td>1</td>\n      <td>Gran Santo Domingo</td>\n      <td>0</td>\n      <td>15000.0</td>\n      <td>0</td>\n      <td>3000.0</td>\n      <td>...</td>\n      <td>2</td>\n      <td>2</td>\n      <td>2</td>\n      <td>2</td>\n      <td>2.0</td>\n      <td>2.0</td>\n      <td>2.0</td>\n      <td>2</td>\n      <td>2</td>\n      <td>2</td>\n    </tr>\n    <tr>\n      <th>99</th>\n      <td>205007</td>\n      <td>1636.009296</td>\n      <td>1</td>\n      <td>4</td>\n      <td>1</td>\n      <td>Gran Santo Domingo</td>\n      <td>0</td>\n      <td>30757.0</td>\n      <td>1497</td>\n      <td>0.0</td>\n      <td>...</td>\n      <td>2</td>\n      <td>2</td>\n      <td>2</td>\n      <td>2</td>\n      <td>1.0</td>\n      <td>2.0</td>\n      <td>2.0</td>\n      <td>4</td>\n      <td>2</td>\n      <td>1</td>\n    </tr>\n  </tbody>\n</table>\n<p>100 rows × 113 columns</p>\n</div>"
     },
     "metadata": {},
     "execution_count": 24
    }
   ],
   "source": [
    "survey_household_merged.head(100)"
   ]
  },
  {
   "source": [
    "## Replace Transformer"
   ],
   "cell_type": "markdown",
   "metadata": {}
  },
  {
   "cell_type": "code",
   "execution_count": 25,
   "metadata": {},
   "outputs": [],
   "source": [
    "household_replace_map = {\n",
    "    'zona_first': {\n",
    "        1: 0, # urbana\n",
    "        2: 1 # rural\n",
    "    }\n",
    "}\n",
    "household_replace_transformer = ReplaceTransformer(household_replace_map)\n",
    "survey_household_replaced = household_replace_transformer.transform(survey_household_merged)"
   ]
  },
  {
   "source": [
    "## Select Transformer"
   ],
   "cell_type": "markdown",
   "metadata": {}
  },
  {
   "cell_type": "code",
   "execution_count": 26,
   "metadata": {},
   "outputs": [],
   "source": [
    "estrato_region_map = {\n",
    "    'DISTRITO NACIONAL': 'Región Ozama',\n",
    "    'SANTO DOMINGO URBANO': 'Región Ozama',\n",
    "    'SANTO DOMINGO RURAL': 'Región Ozama',\n",
    "    'SANTIAGO URBANO': 'Región Cibao Norte',\n",
    "    'SANTIAGO RURAL': 'Región Cibao Norte',\n",
    "    'RESTO CIBAO NORTE URBANO': 'Región Cibao Norte',\n",
    "    'RESTO CIBAO NORTE RURAL': 'Región Cibao Norte',\n",
    "    'CIBAO SUR URBANO': 'Región Cibao Sur',\n",
    "    'CIBAO SUR RURAL': 'Región Cibao Sur',\n",
    "    ' CIBAO NORDESTE URBANO': 'Región Cibao Nordeste',\n",
    "    ' CIBAO NORDESTE RURAL': 'Región Cibao Nordeste',\n",
    "    ' CIBAO NOROESTE URBANO': 'Región Cibao Noroeste',\n",
    "    ' CIBAO NOROESTE RURAL': 'Región Cibao Noroeste',\n",
    "    ' VALDESIA URBANO': 'Región Valdesia',\n",
    "    ' VALDESIA RURAL': 'Región Valdesia',\n",
    "    ' EL VALLE URBANO': 'Región El Valle',\n",
    "    ' EL VALLE RURAL': 'Región El Valle',\n",
    "    ' ENRIQUILLO URBANO': 'Región Enriquillo',\n",
    "    ' ENRIQUILLO RURAL': 'Región Enriquillo',\n",
    "    ' HIGUAMO URBANO': 'Región Higuamo',\n",
    "    ' HIGUAMO RURAL': 'Región Higuamo',\n",
    "    ' YUMA URBANO': 'Región Yuma',\n",
    "    ' YUMA RURAL': 'Región Yuma'\n",
    "}"
   ]
  },
  {
   "cell_type": "code",
   "execution_count": 27,
   "metadata": {},
   "outputs": [],
   "source": [
    "select_household_map = {\n",
    "    'region': {\n",
    "        lambda df, estrato=estrato: df['des_estrato'] == estrato:\n",
    "            lambda df, region=region: region\n",
    "        for estrato, region in estrato_region_map.items()\n",
    "    },\n",
    "\n",
    "    'tipo_hogar': {\n",
    "        lambda df: (df['es_jefe_sum'] == 1) & (\n",
    "            df['es_conyugue_sum'] == 0) & (df['es_hijo_sum'] == 0) & (\n",
    "            df['otro_pariente_sum'] == 0) & (df['no_pariente_sum'] == 0): \"Unipersonal\",\n",
    "        lambda df: (df['es_jefe_sum'] == 1) & (\n",
    "            df['es_conyugue_sum'] != 0) & (df['es_hijo_sum'] == 0) & (\n",
    "            df['otro_pariente_sum'] == 0) & (df['no_pariente_sum'] == 0): \"Nuclear sin hijos\",\n",
    "        lambda df: (df['es_jefe_sum'] == 1) & (\n",
    "            df['es_conyugue_sum'] != 0) & (df['es_hijo_sum'] != 0) & (\n",
    "            df['otro_pariente_sum'] == 0) & (df['no_pariente_sum'] == 0): \"Nuclear con hijos\",\n",
    "        lambda df: (df['es_jefe_sum'] == 1) & (\n",
    "            df['es_conyugue_sum'] == 0) & (df['es_hijo_sum'] != 0) & (\n",
    "            df['otro_pariente_sum'] == 0) & (df['no_pariente_sum'] == 0): \"Nuclear monoparental\",\n",
    "        lambda df: (df['es_jefe_sum'] == 1) & (df['es_conyugue_sum'] != 0)\n",
    "            & (df['es_hijo_sum'] == 0) & (df['otro_pariente_sum'] != 0)\n",
    "            & (df['no_pariente_sum'] == 0): \"Extendido base nuclear sin hijos\",\n",
    "        lambda df: (df['es_jefe_sum'] == 1) & (df['es_conyugue_sum'] != 0) & (\n",
    "            df['es_hijo_sum'] != 0) & (df['otro_pariente_sum'] != 0) & (\n",
    "            df['no_pariente_sum'] == 0): \"Extendido base nuclear con hijos\",\n",
    "        lambda df: (df['es_jefe_sum'] == 1) & (\n",
    "            df['es_conyugue_sum'] == 0) & (df['es_hijo_sum'] != 0) & (\n",
    "            df['otro_pariente_sum'] != 0) & (df['no_pariente_sum'] == 0): \"Extendido base monoparental\",\n",
    "        lambda df: (df['es_jefe_sum'] == 1) & (\n",
    "            df['es_conyugue_sum'] == 0) & (df['es_hijo_sum'] == 0) & (\n",
    "            df['otro_pariente_sum'] != 0) & (df['no_pariente_sum'] == 0): \"Extendido sin base nuclear\",\n",
    "        lambda df: (df['es_jefe_sum'] == 1) & (df['no_pariente_sum'] != 0): \"Compuesto\",\n",
    "    },\n",
    "\n",
    "    'informalidad_mayoria': {\n",
    "        lambda df: df['es_informal_sum'] > df['es_formal_sum'] : True,\n",
    "        'default': False\n",
    "    }\n",
    "}\n",
    "\n",
    "select_household_transformer = SelectTransformer(select_household_map)\n",
    "survey_household_selected = select_household_transformer.transform(survey_household_replaced)"
   ]
  },
  {
   "cell_type": "code",
   "execution_count": 28,
   "metadata": {},
   "outputs": [
    {
     "output_type": "execute_result",
     "data": {
      "text/plain": [
       "      id_hogar  factor_expansion_first  miembro_first  \\\n",
       "0         1007              654.403718              1   \n",
       "1         2006              654.403718              1   \n",
       "2         3008              654.403718              1   \n",
       "3         6006              654.403718              1   \n",
       "4         7006              654.403718              1   \n",
       "...        ...                     ...            ...   \n",
       "5354   8820006              200.780935              1   \n",
       "5355   8821008              200.780935              1   \n",
       "5356   8822007              200.780935              1   \n",
       "5357   8823007              200.780935              1   \n",
       "5358   8824008              200.780935              1   \n",
       "\n",
       "      cantidad_miembros_hogar_first  zona_first  grupo_region_first  \\\n",
       "0                                 1           0  Gran Santo Domingo   \n",
       "1                                 3           0  Gran Santo Domingo   \n",
       "2                                 3           0  Gran Santo Domingo   \n",
       "3                                 5           0  Gran Santo Domingo   \n",
       "4                                 4           0  Gran Santo Domingo   \n",
       "...                             ...         ...                 ...   \n",
       "5354                              2           1                Este   \n",
       "5355                              1           1                Este   \n",
       "5356                              4           1                Este   \n",
       "5357                              3           1                Este   \n",
       "5358                              4           1                Este   \n",
       "\n",
       "      quedate_en_casa_sum  ingreso_total_sum  ingreso_subsidios_sum  \\\n",
       "0                       0           40000.00                      0   \n",
       "1                       0           44155.00                      0   \n",
       "2                       0           14272.00                   1672   \n",
       "3                       0           10053.00                   1053   \n",
       "4                       0            2550.00                      0   \n",
       "...                   ...                ...                    ...   \n",
       "5354                 5000           19500.00                      0   \n",
       "5355                    0            9960.00                      0   \n",
       "5356                 5000           18400.00                      0   \n",
       "5357                 5000           14600.01                      0   \n",
       "5358                    0           10375.00                      0   \n",
       "\n",
       "      ingreso_monetario_exterior_sum  ...  prog_incentivo_alist_marina  \\\n",
       "0                                0.0  ...                            2   \n",
       "1                                0.0  ...                            2   \n",
       "2                                0.0  ...                            2   \n",
       "3                                0.0  ...                            2   \n",
       "4                                0.0  ...                            2   \n",
       "...                              ...  ...                          ...   \n",
       "5354                             0.0  ...                            2   \n",
       "5355                             0.0  ...                            2   \n",
       "5356                             0.0  ...                            2   \n",
       "5357                             0.0  ...                            2   \n",
       "5358                             0.0  ...                            2   \n",
       "\n",
       "      programa_quedate_casa  fondo_asistencia_solidaria_emp  \\\n",
       "0                       2.0                             2.0   \n",
       "1                       2.0                             2.0   \n",
       "2                       1.0                             2.0   \n",
       "3                       1.0                             2.0   \n",
       "4                       2.0                             2.0   \n",
       "...                     ...                             ...   \n",
       "5354                    1.0                             2.0   \n",
       "5355                    2.0                             2.0   \n",
       "5356                    1.0                             2.0   \n",
       "5357                    1.0                             2.0   \n",
       "5358                    2.0                             2.0   \n",
       "\n",
       "      programa_apoyo_trabajadores_in  cantidad_miembros_hogar  \\\n",
       "0                                2.0                        1   \n",
       "1                                2.0                        3   \n",
       "2                                2.0                        3   \n",
       "3                                2.0                        5   \n",
       "4                                2.0                        4   \n",
       "...                              ...                      ...   \n",
       "5354                             2.0                        2   \n",
       "5355                             2.0                        1   \n",
       "5356                             2.0                        4   \n",
       "5357                             2.0                        3   \n",
       "5358                             2.0                        4   \n",
       "\n",
       "      hay_recien_nacidos  numero_linea_informante        region  \\\n",
       "0                      2                        1  Región Ozama   \n",
       "1                      2                        1  Región Ozama   \n",
       "2                      2                        1  Región Ozama   \n",
       "3                      2                        1  Región Ozama   \n",
       "4                      2                        1  Región Ozama   \n",
       "...                  ...                      ...           ...   \n",
       "5354                   2                        1   Región Yuma   \n",
       "5355                   2                        1   Región Yuma   \n",
       "5356                   2                        2   Región Yuma   \n",
       "5357                   2                        2   Región Yuma   \n",
       "5358                   2                        1   Región Yuma   \n",
       "\n",
       "                       tipo_hogar  informalidad_mayoria  \n",
       "0                     Unipersonal                 False  \n",
       "1               Nuclear con hijos                 False  \n",
       "2            Nuclear monoparental                  True  \n",
       "3               Nuclear con hijos                  True  \n",
       "4     Extendido base monoparental                  True  \n",
       "...                           ...                   ...  \n",
       "5354            Nuclear sin hijos                 False  \n",
       "5355                  Unipersonal                 False  \n",
       "5356            Nuclear con hijos                 False  \n",
       "5357            Nuclear con hijos                 False  \n",
       "5358         Nuclear monoparental                 False  \n",
       "\n",
       "[5359 rows x 116 columns]"
      ],
      "text/html": "<div>\n<style scoped>\n    .dataframe tbody tr th:only-of-type {\n        vertical-align: middle;\n    }\n\n    .dataframe tbody tr th {\n        vertical-align: top;\n    }\n\n    .dataframe thead th {\n        text-align: right;\n    }\n</style>\n<table border=\"1\" class=\"dataframe\">\n  <thead>\n    <tr style=\"text-align: right;\">\n      <th></th>\n      <th>id_hogar</th>\n      <th>factor_expansion_first</th>\n      <th>miembro_first</th>\n      <th>cantidad_miembros_hogar_first</th>\n      <th>zona_first</th>\n      <th>grupo_region_first</th>\n      <th>quedate_en_casa_sum</th>\n      <th>ingreso_total_sum</th>\n      <th>ingreso_subsidios_sum</th>\n      <th>ingreso_monetario_exterior_sum</th>\n      <th>...</th>\n      <th>prog_incentivo_alist_marina</th>\n      <th>programa_quedate_casa</th>\n      <th>fondo_asistencia_solidaria_emp</th>\n      <th>programa_apoyo_trabajadores_in</th>\n      <th>cantidad_miembros_hogar</th>\n      <th>hay_recien_nacidos</th>\n      <th>numero_linea_informante</th>\n      <th>region</th>\n      <th>tipo_hogar</th>\n      <th>informalidad_mayoria</th>\n    </tr>\n  </thead>\n  <tbody>\n    <tr>\n      <th>0</th>\n      <td>1007</td>\n      <td>654.403718</td>\n      <td>1</td>\n      <td>1</td>\n      <td>0</td>\n      <td>Gran Santo Domingo</td>\n      <td>0</td>\n      <td>40000.00</td>\n      <td>0</td>\n      <td>0.0</td>\n      <td>...</td>\n      <td>2</td>\n      <td>2.0</td>\n      <td>2.0</td>\n      <td>2.0</td>\n      <td>1</td>\n      <td>2</td>\n      <td>1</td>\n      <td>Región Ozama</td>\n      <td>Unipersonal</td>\n      <td>False</td>\n    </tr>\n    <tr>\n      <th>1</th>\n      <td>2006</td>\n      <td>654.403718</td>\n      <td>1</td>\n      <td>3</td>\n      <td>0</td>\n      <td>Gran Santo Domingo</td>\n      <td>0</td>\n      <td>44155.00</td>\n      <td>0</td>\n      <td>0.0</td>\n      <td>...</td>\n      <td>2</td>\n      <td>2.0</td>\n      <td>2.0</td>\n      <td>2.0</td>\n      <td>3</td>\n      <td>2</td>\n      <td>1</td>\n      <td>Región Ozama</td>\n      <td>Nuclear con hijos</td>\n      <td>False</td>\n    </tr>\n    <tr>\n      <th>2</th>\n      <td>3008</td>\n      <td>654.403718</td>\n      <td>1</td>\n      <td>3</td>\n      <td>0</td>\n      <td>Gran Santo Domingo</td>\n      <td>0</td>\n      <td>14272.00</td>\n      <td>1672</td>\n      <td>0.0</td>\n      <td>...</td>\n      <td>2</td>\n      <td>1.0</td>\n      <td>2.0</td>\n      <td>2.0</td>\n      <td>3</td>\n      <td>2</td>\n      <td>1</td>\n      <td>Región Ozama</td>\n      <td>Nuclear monoparental</td>\n      <td>True</td>\n    </tr>\n    <tr>\n      <th>3</th>\n      <td>6006</td>\n      <td>654.403718</td>\n      <td>1</td>\n      <td>5</td>\n      <td>0</td>\n      <td>Gran Santo Domingo</td>\n      <td>0</td>\n      <td>10053.00</td>\n      <td>1053</td>\n      <td>0.0</td>\n      <td>...</td>\n      <td>2</td>\n      <td>1.0</td>\n      <td>2.0</td>\n      <td>2.0</td>\n      <td>5</td>\n      <td>2</td>\n      <td>1</td>\n      <td>Región Ozama</td>\n      <td>Nuclear con hijos</td>\n      <td>True</td>\n    </tr>\n    <tr>\n      <th>4</th>\n      <td>7006</td>\n      <td>654.403718</td>\n      <td>1</td>\n      <td>4</td>\n      <td>0</td>\n      <td>Gran Santo Domingo</td>\n      <td>0</td>\n      <td>2550.00</td>\n      <td>0</td>\n      <td>0.0</td>\n      <td>...</td>\n      <td>2</td>\n      <td>2.0</td>\n      <td>2.0</td>\n      <td>2.0</td>\n      <td>4</td>\n      <td>2</td>\n      <td>1</td>\n      <td>Región Ozama</td>\n      <td>Extendido base monoparental</td>\n      <td>True</td>\n    </tr>\n    <tr>\n      <th>...</th>\n      <td>...</td>\n      <td>...</td>\n      <td>...</td>\n      <td>...</td>\n      <td>...</td>\n      <td>...</td>\n      <td>...</td>\n      <td>...</td>\n      <td>...</td>\n      <td>...</td>\n      <td>...</td>\n      <td>...</td>\n      <td>...</td>\n      <td>...</td>\n      <td>...</td>\n      <td>...</td>\n      <td>...</td>\n      <td>...</td>\n      <td>...</td>\n      <td>...</td>\n      <td>...</td>\n    </tr>\n    <tr>\n      <th>5354</th>\n      <td>8820006</td>\n      <td>200.780935</td>\n      <td>1</td>\n      <td>2</td>\n      <td>1</td>\n      <td>Este</td>\n      <td>5000</td>\n      <td>19500.00</td>\n      <td>0</td>\n      <td>0.0</td>\n      <td>...</td>\n      <td>2</td>\n      <td>1.0</td>\n      <td>2.0</td>\n      <td>2.0</td>\n      <td>2</td>\n      <td>2</td>\n      <td>1</td>\n      <td>Región Yuma</td>\n      <td>Nuclear sin hijos</td>\n      <td>False</td>\n    </tr>\n    <tr>\n      <th>5355</th>\n      <td>8821008</td>\n      <td>200.780935</td>\n      <td>1</td>\n      <td>1</td>\n      <td>1</td>\n      <td>Este</td>\n      <td>0</td>\n      <td>9960.00</td>\n      <td>0</td>\n      <td>0.0</td>\n      <td>...</td>\n      <td>2</td>\n      <td>2.0</td>\n      <td>2.0</td>\n      <td>2.0</td>\n      <td>1</td>\n      <td>2</td>\n      <td>1</td>\n      <td>Región Yuma</td>\n      <td>Unipersonal</td>\n      <td>False</td>\n    </tr>\n    <tr>\n      <th>5356</th>\n      <td>8822007</td>\n      <td>200.780935</td>\n      <td>1</td>\n      <td>4</td>\n      <td>1</td>\n      <td>Este</td>\n      <td>5000</td>\n      <td>18400.00</td>\n      <td>0</td>\n      <td>0.0</td>\n      <td>...</td>\n      <td>2</td>\n      <td>1.0</td>\n      <td>2.0</td>\n      <td>2.0</td>\n      <td>4</td>\n      <td>2</td>\n      <td>2</td>\n      <td>Región Yuma</td>\n      <td>Nuclear con hijos</td>\n      <td>False</td>\n    </tr>\n    <tr>\n      <th>5357</th>\n      <td>8823007</td>\n      <td>200.780935</td>\n      <td>1</td>\n      <td>3</td>\n      <td>1</td>\n      <td>Este</td>\n      <td>5000</td>\n      <td>14600.01</td>\n      <td>0</td>\n      <td>0.0</td>\n      <td>...</td>\n      <td>2</td>\n      <td>1.0</td>\n      <td>2.0</td>\n      <td>2.0</td>\n      <td>3</td>\n      <td>2</td>\n      <td>2</td>\n      <td>Región Yuma</td>\n      <td>Nuclear con hijos</td>\n      <td>False</td>\n    </tr>\n    <tr>\n      <th>5358</th>\n      <td>8824008</td>\n      <td>200.780935</td>\n      <td>1</td>\n      <td>4</td>\n      <td>1</td>\n      <td>Este</td>\n      <td>0</td>\n      <td>10375.00</td>\n      <td>0</td>\n      <td>0.0</td>\n      <td>...</td>\n      <td>2</td>\n      <td>2.0</td>\n      <td>2.0</td>\n      <td>2.0</td>\n      <td>4</td>\n      <td>2</td>\n      <td>1</td>\n      <td>Región Yuma</td>\n      <td>Nuclear monoparental</td>\n      <td>False</td>\n    </tr>\n  </tbody>\n</table>\n<p>5359 rows × 116 columns</p>\n</div>"
     },
     "metadata": {},
     "execution_count": 28
    }
   ],
   "source": [
    "survey_household_selected"
   ]
  },
  {
   "source": [
    "## Assign Transformer"
   ],
   "cell_type": "markdown",
   "metadata": {}
  },
  {
   "cell_type": "code",
   "execution_count": 29,
   "metadata": {},
   "outputs": [],
   "source": [
    "def generate_poverty(suffix, income_per_capita_col):\n",
    "    return {\n",
    "        # General Poverty\n",
    "        f'pobreza_extrema_urbana{suffix}': lambda df, inflation_df=inflation_df, income_col=income_per_capita_col:\n",
    "                                    (df[income_col] < df['linea_pobreza_extrema_urbana']).astype(int),\n",
    "        f'pobreza_extrema_rural{suffix}': lambda df, inflation_df=inflation_df, income_col=income_per_capita_col:\n",
    "                                        (df[income_col] < df['linea_pobreza_extrema_rural']).astype(int),\n",
    "        f'pobreza_extrema{suffix}': lambda df: df[f'pobreza_extrema_urbana{suffix}'] + df[f'pobreza_extrema_rural{suffix}'],\n",
    "        # Extreme Poverty\n",
    "        f'pobreza_urbana{suffix}': lambda df, inflation_df=inflation_df, income_col=income_per_capita_col:\n",
    "                                        (df[income_col] < df['linea_pobreza_urbana']).astype(int),\n",
    "        f'pobreza_rural{suffix}': lambda df, inflation_df=inflation_df, income_col=income_per_capita_col:\n",
    "                                        (df[income_col] < df['linea_pobreza_rural']).astype(int),\n",
    "        f'pobreza_general{suffix}': lambda df: df[f'pobreza_urbana{suffix}'] + df[f'pobreza_rural{suffix}'],\n",
    "        f'pobreza{suffix}': lambda df: df[f'pobreza_extrema{suffix}'] + df[f'pobreza_general{suffix}']\n",
    "    }"
   ]
  },
  {
   "cell_type": "code",
   "execution_count": 30,
   "metadata": {},
   "outputs": [],
   "source": [
    "inflation_key = f'{year}-{str(month).zfill(2)}-01'\n",
    "n_buckets, n_buckets_total = 10, 55\n",
    "\n",
    "assign_household_per_capita_map = {\n",
    "    # Incomes per capita\n",
    "    'ingreso_sin_subsidio_covid_per_capita': lambda df: df['ingreso_sin_subsidios_covid_sum'] / df['cantidad_miembros_hogar_first'],\n",
    "    'ingreso_per_capita': lambda df: df['ingreso_total_sum'] / df['cantidad_miembros_hogar_first'],\n",
    "    'ingreso_per_capita_sin_qec': lambda df: df['ingreso_sin_qec_sum'] / df['cantidad_miembros_hogar_first'],\n",
    "    'ingreso_per_capita_qec': lambda df: df['quedate_en_casa_sum'] / df['cantidad_miembros_hogar_first'],\n",
    "    # Poverty lines\n",
    "    'linea_pobreza_urbana': lambda df, key=inflation_key:\n",
    "                                (1 - df['zona_first']) * 4812.93 * inflation_df.loc[key, 'ampliada'],\n",
    "    'linea_pobreza_rural': lambda df, key=inflation_key:\n",
    "                                df['zona_first'] * 4285.26 * inflation_df.loc[key, 'ampliada'],\n",
    "    'linea_pobreza': lambda df: df['linea_pobreza_urbana'] + df['linea_pobreza_rural'],\n",
    "    'linea_pobreza_extrema_urbana': lambda df, key=inflation_key:\n",
    "                                        (1 - df['zona_first']) * 2167.16 * inflation_df.loc[key, 'ampliada'],\n",
    "    'linea_pobreza_extrema_rural': lambda df, key=inflation_key:\n",
    "                                        df['zona_first'] * 2076.49 * inflation_df.loc[key, 'ampliada'],\n",
    "    'linea_pobreza_extrema': lambda df: df['linea_pobreza_extrema_urbana'] + df['linea_pobreza_extrema_rural'],\n",
    "    'linea_pobreza_norm': lambda df: df['linea_pobreza'] / df['linea_pobreza_extrema'],\n",
    "    # Income Bins\n",
    "    'ingreso_per_capita_bins': lambda df: proportional_cut(df, 'ingreso_per_capita', 'linea_pobreza', n_buckets, n_buckets_total, include_lowest=True),\n",
    "    'ingreso_sin_qec_sum_norm': lambda df: df['ingreso_per_capita_sin_qec'] / df['linea_pobreza_extrema'],\n",
    "    'ingreso_per_capita_sin_qec_bins':\n",
    "        lambda df: proportional_cut(df, 'ingreso_per_capita_sin_qec', 'linea_pobreza', n_buckets, n_buckets_total, include_lowest=True),\n",
    "    # Poverty\n",
    "    **generate_poverty('', 'ingreso_per_capita'),\n",
    "    **generate_poverty('_sin_subsidio', 'ingreso_sin_subsidio_covid_per_capita'),\n",
    "    **generate_poverty('_sin_qec', 'ingreso_per_capita_sin_qec'),\n",
    "    # Cost Factors\n",
    "    'factor_cost': lambda df: float(1.0),\n",
    "    'factor_cost_percent': lambda df: (df['ingreso_per_capita_qec'] / 100.0).astype(float),\n",
    "    # Impact Factors\n",
    "    'factor_impact': lambda df, n_buckets=n_buckets: (n_buckets / df['linea_pobreza']).astype(float),\n",
    "    'factor_impact_percent': lambda df: (df['factor_cost_percent'] * df['factor_impact']).astype(float),\n",
    "    'factor_impact_dop': lambda df, n_buckets=n_buckets: (n_buckets / (df['linea_pobreza'] * df['cantidad_miembros_hogar_first'])).astype(float),\n",
    "    # Segmentation\n",
    "    'recibe_qec': lambda df: df['quedate_en_casa_sum'] > 0.0,\n",
    "    # Statistics\n",
    "    'beneficio_promedio_qec': lambda df: 100.0 * df['ingreso_per_capita_qec'] / df['linea_pobreza']\n",
    "}\n",
    "\n",
    "assign_household_transformer = AssignTransformer(assign_household_per_capita_map)\n",
    "survey_household_assigned_per_capita = assign_household_transformer.transform(survey_household_selected)"
   ]
  },
  {
   "cell_type": "code",
   "execution_count": 31,
   "metadata": {},
   "outputs": [
    {
     "output_type": "stream",
     "name": "stderr",
     "text": [
      "/home/ubuntu/anaconda3/envs/criteria-do/lib/python3.7/site-packages/seaborn/_decorators.py:43: FutureWarning: Pass the following variable as a keyword arg: x. From version 0.12, the only valid positional argument will be `data`, and passing other arguments without an explicit keyword will result in an error or misinterpretation.\n  FutureWarning\n"
     ]
    },
    {
     "output_type": "execute_result",
     "data": {
      "text/plain": [
       "<AxesSubplot:xlabel='ingreso_per_capita_bins', ylabel='count'>"
      ]
     },
     "metadata": {},
     "execution_count": 31
    },
    {
     "output_type": "display_data",
     "data": {
      "text/plain": "<Figure size 432x288 with 1 Axes>",
      "image/svg+xml": "<?xml version=\"1.0\" encoding=\"utf-8\" standalone=\"no\"?>\n<!DOCTYPE svg PUBLIC \"-//W3C//DTD SVG 1.1//EN\"\n  \"http://www.w3.org/Graphics/SVG/1.1/DTD/svg11.dtd\">\n<!-- Created with matplotlib (https://matplotlib.org/) -->\n<svg height=\"263.060195pt\" version=\"1.1\" viewBox=\"0 0 392.284489 263.060195\" width=\"392.284489pt\" xmlns=\"http://www.w3.org/2000/svg\" xmlns:xlink=\"http://www.w3.org/1999/xlink\">\n <metadata>\n  <rdf:RDF xmlns:cc=\"http://creativecommons.org/ns#\" xmlns:dc=\"http://purl.org/dc/elements/1.1/\" xmlns:rdf=\"http://www.w3.org/1999/02/22-rdf-syntax-ns#\">\n   <cc:Work>\n    <dc:type rdf:resource=\"http://purl.org/dc/dcmitype/StillImage\"/>\n    <dc:date>2021-03-16T15:23:28.167804</dc:date>\n    <dc:format>image/svg+xml</dc:format>\n    <dc:creator>\n     <cc:Agent>\n      <dc:title>Matplotlib v3.3.4, https://matplotlib.org/</dc:title>\n     </cc:Agent>\n    </dc:creator>\n   </cc:Work>\n  </rdf:RDF>\n </metadata>\n <defs>\n  <style type=\"text/css\">*{stroke-linecap:butt;stroke-linejoin:round;}</style>\n </defs>\n <g id=\"figure_1\">\n  <g id=\"patch_1\">\n   <path d=\"M -0 263.060195 \nL 392.284489 263.060195 \nL 392.284489 0 \nL -0 0 \nz\n\" style=\"fill:none;\"/>\n  </g>\n  <g id=\"axes_1\">\n   <g id=\"patch_2\">\n    <path d=\"M 46.965625 225.22582 \nL 381.765625 225.22582 \nL 381.765625 7.78582 \nL 46.965625 7.78582 \nz\n\" style=\"fill:#ffffff;\"/>\n   </g>\n   <g id=\"patch_3\">\n    <path clip-path=\"url(#p0b0c2fe7a6)\" d=\"M 47.574352 225.22582 \nL 52.44417 225.22582 \nL 52.44417 180.238234 \nL 47.574352 180.238234 \nz\n\" style=\"fill:#ea96a3;\"/>\n   </g>\n   <g id=\"patch_4\">\n    <path clip-path=\"url(#p0b0c2fe7a6)\" d=\"M 53.661625 225.22582 \nL 58.531443 225.22582 \nL 58.531443 197.376362 \nL 53.661625 197.376362 \nz\n\" style=\"fill:#ea979a;\"/>\n   </g>\n   <g id=\"patch_5\">\n    <path clip-path=\"url(#p0b0c2fe7a6)\" d=\"M 59.748898 225.22582 \nL 64.618716 225.22582 \nL 64.618716 173.097347 \nL 59.748898 173.097347 \nz\n\" style=\"fill:#e9978e;\"/>\n   </g>\n   <g id=\"patch_6\">\n    <path clip-path=\"url(#p0b0c2fe7a6)\" d=\"M 65.83617 225.22582 \nL 70.705989 225.22582 \nL 70.705989 144.5338 \nL 65.83617 144.5338 \nz\n\" style=\"fill:#e7957f;\"/>\n   </g>\n   <g id=\"patch_7\">\n    <path clip-path=\"url(#p0b0c2fe7a6)\" d=\"M 71.923443 225.22582 \nL 76.793261 225.22582 \nL 76.793261 118.112519 \nL 71.923443 118.112519 \nz\n\" style=\"fill:#e49368;\"/>\n   </g>\n   <g id=\"patch_8\">\n    <path clip-path=\"url(#p0b0c2fe7a6)\" d=\"M 78.010716 225.22582 \nL 82.880534 225.22582 \nL 82.880534 95.261682 \nL 78.010716 95.261682 \nz\n\" style=\"fill:#dc924e;\"/>\n   </g>\n   <g id=\"patch_9\">\n    <path clip-path=\"url(#p0b0c2fe7a6)\" d=\"M 84.097989 225.22582 \nL 88.967807 225.22582 \nL 88.967807 49.560007 \nL 84.097989 49.560007 \nz\n\" style=\"fill:#d2954d;\"/>\n   </g>\n   <g id=\"patch_10\">\n    <path clip-path=\"url(#p0b0c2fe7a6)\" d=\"M 90.185261 225.22582 \nL 95.05508 225.22582 \nL 95.05508 53.844539 \nL 90.185261 53.844539 \nz\n\" style=\"fill:#c9984c;\"/>\n   </g>\n   <g id=\"patch_11\">\n    <path clip-path=\"url(#p0b0c2fe7a6)\" d=\"M 96.272534 225.22582 \nL 101.142352 225.22582 \nL 101.142352 52.416362 \nL 96.272534 52.416362 \nz\n\" style=\"fill:#c19a4a;\"/>\n   </g>\n   <g id=\"patch_12\">\n    <path clip-path=\"url(#p0b0c2fe7a6)\" d=\"M 102.359807 225.22582 \nL 107.229625 225.22582 \nL 107.229625 18.140105 \nL 102.359807 18.140105 \nz\n\" style=\"fill:#ba9b49;\"/>\n   </g>\n   <g id=\"patch_13\">\n    <path clip-path=\"url(#p0b0c2fe7a6)\" d=\"M 108.44708 225.22582 \nL 113.316898 225.22582 \nL 113.316898 32.421879 \nL 108.44708 32.421879 \nz\n\" style=\"fill:#b39d48;\"/>\n   </g>\n   <g id=\"patch_14\">\n    <path clip-path=\"url(#p0b0c2fe7a6)\" d=\"M 114.534352 225.22582 \nL 119.40417 225.22582 \nL 119.40417 43.847298 \nL 114.534352 43.847298 \nz\n\" style=\"fill:#ab9e47;\"/>\n   </g>\n   <g id=\"patch_15\">\n    <path clip-path=\"url(#p0b0c2fe7a6)\" d=\"M 120.621625 225.22582 \nL 125.491443 225.22582 \nL 125.491443 70.982667 \nL 120.621625 70.982667 \nz\n\" style=\"fill:#a49f46;\"/>\n   </g>\n   <g id=\"patch_16\">\n    <path clip-path=\"url(#p0b0c2fe7a6)\" d=\"M 126.708898 225.22582 \nL 131.578716 225.22582 \nL 131.578716 75.981288 \nL 126.708898 75.981288 \nz\n\" style=\"fill:#9da045;\"/>\n   </g>\n   <g id=\"patch_17\">\n    <path clip-path=\"url(#p0b0c2fe7a6)\" d=\"M 132.79617 225.22582 \nL 137.665989 225.22582 \nL 137.665989 82.408086 \nL 132.79617 82.408086 \nz\n\" style=\"fill:#96a346;\"/>\n   </g>\n   <g id=\"patch_18\">\n    <path clip-path=\"url(#p0b0c2fe7a6)\" d=\"M 138.883443 225.22582 \nL 143.753261 225.22582 \nL 143.753261 109.543455 \nL 138.883443 109.543455 \nz\n\" style=\"fill:#8ea546;\"/>\n   </g>\n   <g id=\"patch_19\">\n    <path clip-path=\"url(#p0b0c2fe7a6)\" d=\"M 144.970716 225.22582 \nL 149.840534 225.22582 \nL 149.840534 109.543455 \nL 144.970716 109.543455 \nz\n\" style=\"fill:#85a746;\"/>\n   </g>\n   <g id=\"patch_20\">\n    <path clip-path=\"url(#p0b0c2fe7a6)\" d=\"M 151.057989 225.22582 \nL 155.927807 225.22582 \nL 155.927807 103.116657 \nL 151.057989 103.116657 \nz\n\" style=\"fill:#79aa47;\"/>\n   </g>\n   <g id=\"patch_21\">\n    <path clip-path=\"url(#p0b0c2fe7a6)\" d=\"M 157.145261 225.22582 \nL 162.01508 225.22582 \nL 162.01508 130.252027 \nL 157.145261 130.252027 \nz\n\" style=\"fill:#68ad47;\"/>\n   </g>\n   <g id=\"patch_22\">\n    <path clip-path=\"url(#p0b0c2fe7a6)\" d=\"M 163.232534 225.22582 \nL 168.102352 225.22582 \nL 168.102352 83.122174 \nL 163.232534 83.122174 \nz\n\" style=\"fill:#48b147;\"/>\n   </g>\n   <g id=\"patch_23\">\n    <path clip-path=\"url(#p0b0c2fe7a6)\" d=\"M 169.319807 225.22582 \nL 174.189625 225.22582 \nL 174.189625 132.394293 \nL 169.319807 132.394293 \nz\n\" style=\"fill:#48b067;\"/>\n   </g>\n   <g id=\"patch_24\">\n    <path clip-path=\"url(#p0b0c2fe7a6)\" d=\"M 175.40708 225.22582 \nL 180.276898 225.22582 \nL 180.276898 154.531041 \nL 175.40708 154.531041 \nz\n\" style=\"fill:#49af77;\"/>\n   </g>\n   <g id=\"patch_25\">\n    <path clip-path=\"url(#p0b0c2fe7a6)\" d=\"M 181.494352 225.22582 \nL 186.36417 225.22582 \nL 186.36417 140.963357 \nL 181.494352 140.963357 \nz\n\" style=\"fill:#49ae83;\"/>\n   </g>\n   <g id=\"patch_26\">\n    <path clip-path=\"url(#p0b0c2fe7a6)\" d=\"M 187.581625 225.22582 \nL 192.451443 225.22582 \nL 192.451443 158.101485 \nL 187.581625 158.101485 \nz\n\" style=\"fill:#4aad8b;\"/>\n   </g>\n   <g id=\"patch_27\">\n    <path clip-path=\"url(#p0b0c2fe7a6)\" d=\"M 193.668898 225.22582 \nL 198.538716 225.22582 \nL 198.538716 153.102864 \nL 193.668898 153.102864 \nz\n\" style=\"fill:#4aad92;\"/>\n   </g>\n   <g id=\"patch_28\">\n    <path clip-path=\"url(#p0b0c2fe7a6)\" d=\"M 199.75617 225.22582 \nL 204.625989 225.22582 \nL 204.625989 172.383258 \nL 199.75617 172.383258 \nz\n\" style=\"fill:#4aac98;\"/>\n   </g>\n   <g id=\"patch_29\">\n    <path clip-path=\"url(#p0b0c2fe7a6)\" d=\"M 205.843443 225.22582 \nL 210.713261 225.22582 \nL 210.713261 178.095968 \nL 205.843443 178.095968 \nz\n\" style=\"fill:#4bac9d;\"/>\n   </g>\n   <g id=\"patch_30\">\n    <path clip-path=\"url(#p0b0c2fe7a6)\" d=\"M 211.930716 225.22582 \nL 216.800534 225.22582 \nL 216.800534 170.955081 \nL 211.930716 170.955081 \nz\n\" style=\"fill:#4baba2;\"/>\n   </g>\n   <g id=\"patch_31\">\n    <path clip-path=\"url(#p0b0c2fe7a6)\" d=\"M 218.017989 225.22582 \nL 222.887807 225.22582 \nL 222.887807 163.814194 \nL 218.017989 163.814194 \nz\n\" style=\"fill:#4baba6;\"/>\n   </g>\n   <g id=\"patch_32\">\n    <path clip-path=\"url(#p0b0c2fe7a6)\" d=\"M 224.105261 225.22582 \nL 228.97508 225.22582 \nL 228.97508 183.094588 \nL 224.105261 183.094588 \nz\n\" style=\"fill:#4babab;\"/>\n   </g>\n   <g id=\"patch_33\">\n    <path clip-path=\"url(#p0b0c2fe7a6)\" d=\"M 230.192534 225.22582 \nL 235.062352 225.22582 \nL 235.062352 186.665032 \nL 230.192534 186.665032 \nz\n\" style=\"fill:#4dabb0;\"/>\n   </g>\n   <g id=\"patch_34\">\n    <path clip-path=\"url(#p0b0c2fe7a6)\" d=\"M 236.279807 225.22582 \nL 241.149625 225.22582 \nL 241.149625 193.09183 \nL 236.279807 193.09183 \nz\n\" style=\"fill:#4eabb6;\"/>\n   </g>\n   <g id=\"patch_35\">\n    <path clip-path=\"url(#p0b0c2fe7a6)\" d=\"M 242.36708 225.22582 \nL 247.236898 225.22582 \nL 247.236898 188.093209 \nL 242.36708 188.093209 \nz\n\" style=\"fill:#4fabbc;\"/>\n   </g>\n   <g id=\"patch_36\">\n    <path clip-path=\"url(#p0b0c2fe7a6)\" d=\"M 248.454352 225.22582 \nL 253.32417 225.22582 \nL 253.32417 196.662273 \nL 248.454352 196.662273 \nz\n\" style=\"fill:#50acc3;\"/>\n   </g>\n   <g id=\"patch_37\">\n    <path clip-path=\"url(#p0b0c2fe7a6)\" d=\"M 254.541625 225.22582 \nL 259.411443 225.22582 \nL 259.411443 181.666411 \nL 254.541625 181.666411 \nz\n\" style=\"fill:#52acca;\"/>\n   </g>\n   <g id=\"patch_38\">\n    <path clip-path=\"url(#p0b0c2fe7a6)\" d=\"M 260.628898 225.22582 \nL 265.498716 225.22582 \nL 265.498716 210.229958 \nL 260.628898 210.229958 \nz\n\" style=\"fill:#54acd3;\"/>\n   </g>\n   <g id=\"patch_39\">\n    <path clip-path=\"url(#p0b0c2fe7a6)\" d=\"M 266.71617 225.22582 \nL 271.585989 225.22582 \nL 271.585989 205.231337 \nL 266.71617 205.231337 \nz\n\" style=\"fill:#57adde;\"/>\n   </g>\n   <g id=\"patch_40\">\n    <path clip-path=\"url(#p0b0c2fe7a6)\" d=\"M 272.803443 225.22582 \nL 277.673261 225.22582 \nL 277.673261 203.089071 \nL 272.803443 203.089071 \nz\n\" style=\"fill:#76aee4;\"/>\n   </g>\n   <g id=\"patch_41\">\n    <path clip-path=\"url(#p0b0c2fe7a6)\" d=\"M 278.890716 225.22582 \nL 283.760534 225.22582 \nL 283.760534 188.093209 \nL 278.890716 188.093209 \nz\n\" style=\"fill:#8baee7;\"/>\n   </g>\n   <g id=\"patch_42\">\n    <path clip-path=\"url(#p0b0c2fe7a6)\" d=\"M 284.977989 225.22582 \nL 289.847807 225.22582 \nL 289.847807 205.231337 \nL 284.977989 205.231337 \nz\n\" style=\"fill:#9cade9;\"/>\n   </g>\n   <g id=\"patch_43\">\n    <path clip-path=\"url(#p0b0c2fe7a6)\" d=\"M 291.065261 225.22582 \nL 295.93508 225.22582 \nL 295.93508 211.658135 \nL 291.065261 211.658135 \nz\n\" style=\"fill:#a9aceb;\"/>\n   </g>\n   <g id=\"patch_44\">\n    <path clip-path=\"url(#p0b0c2fe7a6)\" d=\"M 297.152534 225.22582 \nL 302.022352 225.22582 \nL 302.022352 211.658135 \nL 297.152534 211.658135 \nz\n\" style=\"fill:#b4a9eb;\"/>\n   </g>\n   <g id=\"patch_45\">\n    <path clip-path=\"url(#p0b0c2fe7a6)\" d=\"M 303.239807 225.22582 \nL 308.109625 225.22582 \nL 308.109625 207.373603 \nL 303.239807 207.373603 \nz\n\" style=\"fill:#bda5ea;\"/>\n   </g>\n   <g id=\"patch_46\">\n    <path clip-path=\"url(#p0b0c2fe7a6)\" d=\"M 309.32708 225.22582 \nL 314.196898 225.22582 \nL 314.196898 210.229958 \nL 309.32708 210.229958 \nz\n\" style=\"fill:#c5a0ea;\"/>\n   </g>\n   <g id=\"patch_47\">\n    <path clip-path=\"url(#p0b0c2fe7a6)\" d=\"M 315.414352 225.22582 \nL 320.28417 225.22582 \nL 320.28417 210.229958 \nL 315.414352 210.229958 \nz\n\" style=\"fill:#ce9be9;\"/>\n   </g>\n   <g id=\"patch_48\">\n    <path clip-path=\"url(#p0b0c2fe7a6)\" d=\"M 321.501625 225.22582 \nL 326.371443 225.22582 \nL 326.371443 213.086312 \nL 321.501625 213.086312 \nz\n\" style=\"fill:#d795e8;\"/>\n   </g>\n   <g id=\"patch_49\">\n    <path clip-path=\"url(#p0b0c2fe7a6)\" d=\"M 327.588898 225.22582 \nL 332.458716 225.22582 \nL 332.458716 213.800401 \nL 327.588898 213.800401 \nz\n\" style=\"fill:#e08ee7;\"/>\n   </g>\n   <g id=\"patch_50\">\n    <path clip-path=\"url(#p0b0c2fe7a6)\" d=\"M 333.67617 225.22582 \nL 338.545989 225.22582 \nL 338.545989 211.658135 \nL 333.67617 211.658135 \nz\n\" style=\"fill:#e689e2;\"/>\n   </g>\n   <g id=\"patch_51\">\n    <path clip-path=\"url(#p0b0c2fe7a6)\" d=\"M 339.763443 225.22582 \nL 344.633261 225.22582 \nL 344.633261 212.372224 \nL 339.763443 212.372224 \nz\n\" style=\"fill:#e78cd8;\"/>\n   </g>\n   <g id=\"patch_52\">\n    <path clip-path=\"url(#p0b0c2fe7a6)\" d=\"M 345.850716 225.22582 \nL 350.720534 225.22582 \nL 350.720534 210.229958 \nL 345.850716 210.229958 \nz\n\" style=\"fill:#e88ed0;\"/>\n   </g>\n   <g id=\"patch_53\">\n    <path clip-path=\"url(#p0b0c2fe7a6)\" d=\"M 351.937989 225.22582 \nL 356.807807 225.22582 \nL 356.807807 218.799022 \nL 351.937989 218.799022 \nz\n\" style=\"fill:#e88fc9;\"/>\n   </g>\n   <g id=\"patch_54\">\n    <path clip-path=\"url(#p0b0c2fe7a6)\" d=\"M 358.025261 225.22582 \nL 362.89508 225.22582 \nL 362.89508 214.51449 \nL 358.025261 214.51449 \nz\n\" style=\"fill:#e891c2;\"/>\n   </g>\n   <g id=\"patch_55\">\n    <path clip-path=\"url(#p0b0c2fe7a6)\" d=\"M 364.112534 225.22582 \nL 368.982352 225.22582 \nL 368.982352 220.227199 \nL 364.112534 220.227199 \nz\n\" style=\"fill:#e992bb;\"/>\n   </g>\n   <g id=\"patch_56\">\n    <path clip-path=\"url(#p0b0c2fe7a6)\" d=\"M 370.199807 225.22582 \nL 375.069625 225.22582 \nL 375.069625 216.656756 \nL 370.199807 216.656756 \nz\n\" style=\"fill:#e993b4;\"/>\n   </g>\n   <g id=\"patch_57\">\n    <path clip-path=\"url(#p0b0c2fe7a6)\" d=\"M 376.28708 225.22582 \nL 381.156898 225.22582 \nL 381.156898 88.834884 \nL 376.28708 88.834884 \nz\n\" style=\"fill:#e995ac;\"/>\n   </g>\n   <g id=\"matplotlib.axis_1\">\n    <g id=\"xtick_1\">\n     <g id=\"line2d_1\">\n      <defs>\n       <path d=\"M 0 0 \nL 0 3.5 \n\" id=\"mb9d8c11a77\" style=\"stroke:#000000;stroke-width:0.8;\"/>\n      </defs>\n      <g>\n       <use style=\"stroke:#000000;stroke-width:0.8;\" x=\"50.009261\" xlink:href=\"#mb9d8c11a77\" y=\"225.22582\"/>\n      </g>\n     </g>\n     <g id=\"text_1\">\n      <!-- 1 -->\n      <g transform=\"translate(46.828011 239.824257)scale(0.1 -0.1)\">\n       <defs>\n        <path d=\"M 12.40625 8.296875 \nL 28.515625 8.296875 \nL 28.515625 63.921875 \nL 10.984375 60.40625 \nL 10.984375 69.390625 \nL 28.421875 72.90625 \nL 38.28125 72.90625 \nL 38.28125 8.296875 \nL 54.390625 8.296875 \nL 54.390625 0 \nL 12.40625 0 \nz\n\" id=\"DejaVuSans-49\"/>\n       </defs>\n       <use xlink:href=\"#DejaVuSans-49\"/>\n      </g>\n     </g>\n    </g>\n    <g id=\"xtick_2\">\n     <g id=\"line2d_2\">\n      <g>\n       <use style=\"stroke:#000000;stroke-width:0.8;\" x=\"56.096534\" xlink:href=\"#mb9d8c11a77\" y=\"225.22582\"/>\n      </g>\n     </g>\n     <g id=\"text_2\">\n      <!-- 2 -->\n      <g transform=\"translate(52.915284 239.824257)scale(0.1 -0.1)\">\n       <defs>\n        <path d=\"M 19.1875 8.296875 \nL 53.609375 8.296875 \nL 53.609375 0 \nL 7.328125 0 \nL 7.328125 8.296875 \nQ 12.9375 14.109375 22.625 23.890625 \nQ 32.328125 33.6875 34.8125 36.53125 \nQ 39.546875 41.84375 41.421875 45.53125 \nQ 43.3125 49.21875 43.3125 52.78125 \nQ 43.3125 58.59375 39.234375 62.25 \nQ 35.15625 65.921875 28.609375 65.921875 \nQ 23.96875 65.921875 18.8125 64.3125 \nQ 13.671875 62.703125 7.8125 59.421875 \nL 7.8125 69.390625 \nQ 13.765625 71.78125 18.9375 73 \nQ 24.125 74.21875 28.421875 74.21875 \nQ 39.75 74.21875 46.484375 68.546875 \nQ 53.21875 62.890625 53.21875 53.421875 \nQ 53.21875 48.921875 51.53125 44.890625 \nQ 49.859375 40.875 45.40625 35.40625 \nQ 44.1875 33.984375 37.640625 27.21875 \nQ 31.109375 20.453125 19.1875 8.296875 \nz\n\" id=\"DejaVuSans-50\"/>\n       </defs>\n       <use xlink:href=\"#DejaVuSans-50\"/>\n      </g>\n     </g>\n    </g>\n    <g id=\"xtick_3\">\n     <g id=\"line2d_3\">\n      <g>\n       <use style=\"stroke:#000000;stroke-width:0.8;\" x=\"62.183807\" xlink:href=\"#mb9d8c11a77\" y=\"225.22582\"/>\n      </g>\n     </g>\n     <g id=\"text_3\">\n      <!-- 3 -->\n      <g transform=\"translate(59.002557 239.824257)scale(0.1 -0.1)\">\n       <defs>\n        <path d=\"M 40.578125 39.3125 \nQ 47.65625 37.796875 51.625 33 \nQ 55.609375 28.21875 55.609375 21.1875 \nQ 55.609375 10.40625 48.1875 4.484375 \nQ 40.765625 -1.421875 27.09375 -1.421875 \nQ 22.515625 -1.421875 17.65625 -0.515625 \nQ 12.796875 0.390625 7.625 2.203125 \nL 7.625 11.71875 \nQ 11.71875 9.328125 16.59375 8.109375 \nQ 21.484375 6.890625 26.8125 6.890625 \nQ 36.078125 6.890625 40.9375 10.546875 \nQ 45.796875 14.203125 45.796875 21.1875 \nQ 45.796875 27.640625 41.28125 31.265625 \nQ 36.765625 34.90625 28.71875 34.90625 \nL 20.21875 34.90625 \nL 20.21875 43.015625 \nL 29.109375 43.015625 \nQ 36.375 43.015625 40.234375 45.921875 \nQ 44.09375 48.828125 44.09375 54.296875 \nQ 44.09375 59.90625 40.109375 62.90625 \nQ 36.140625 65.921875 28.71875 65.921875 \nQ 24.65625 65.921875 20.015625 65.03125 \nQ 15.375 64.15625 9.8125 62.3125 \nL 9.8125 71.09375 \nQ 15.4375 72.65625 20.34375 73.4375 \nQ 25.25 74.21875 29.59375 74.21875 \nQ 40.828125 74.21875 47.359375 69.109375 \nQ 53.90625 64.015625 53.90625 55.328125 \nQ 53.90625 49.265625 50.4375 45.09375 \nQ 46.96875 40.921875 40.578125 39.3125 \nz\n\" id=\"DejaVuSans-51\"/>\n       </defs>\n       <use xlink:href=\"#DejaVuSans-51\"/>\n      </g>\n     </g>\n    </g>\n    <g id=\"xtick_4\">\n     <g id=\"line2d_4\">\n      <g>\n       <use style=\"stroke:#000000;stroke-width:0.8;\" x=\"68.27108\" xlink:href=\"#mb9d8c11a77\" y=\"225.22582\"/>\n      </g>\n     </g>\n     <g id=\"text_4\">\n      <!-- 4 -->\n      <g transform=\"translate(65.08983 239.824257)scale(0.1 -0.1)\">\n       <defs>\n        <path d=\"M 37.796875 64.3125 \nL 12.890625 25.390625 \nL 37.796875 25.390625 \nz\nM 35.203125 72.90625 \nL 47.609375 72.90625 \nL 47.609375 25.390625 \nL 58.015625 25.390625 \nL 58.015625 17.1875 \nL 47.609375 17.1875 \nL 47.609375 0 \nL 37.796875 0 \nL 37.796875 17.1875 \nL 4.890625 17.1875 \nL 4.890625 26.703125 \nz\n\" id=\"DejaVuSans-52\"/>\n       </defs>\n       <use xlink:href=\"#DejaVuSans-52\"/>\n      </g>\n     </g>\n    </g>\n    <g id=\"xtick_5\">\n     <g id=\"line2d_5\">\n      <g>\n       <use style=\"stroke:#000000;stroke-width:0.8;\" x=\"74.358352\" xlink:href=\"#mb9d8c11a77\" y=\"225.22582\"/>\n      </g>\n     </g>\n     <g id=\"text_5\">\n      <!-- 5 -->\n      <g transform=\"translate(71.177102 239.824257)scale(0.1 -0.1)\">\n       <defs>\n        <path d=\"M 10.796875 72.90625 \nL 49.515625 72.90625 \nL 49.515625 64.59375 \nL 19.828125 64.59375 \nL 19.828125 46.734375 \nQ 21.96875 47.46875 24.109375 47.828125 \nQ 26.265625 48.1875 28.421875 48.1875 \nQ 40.625 48.1875 47.75 41.5 \nQ 54.890625 34.8125 54.890625 23.390625 \nQ 54.890625 11.625 47.5625 5.09375 \nQ 40.234375 -1.421875 26.90625 -1.421875 \nQ 22.3125 -1.421875 17.546875 -0.640625 \nQ 12.796875 0.140625 7.71875 1.703125 \nL 7.71875 11.625 \nQ 12.109375 9.234375 16.796875 8.0625 \nQ 21.484375 6.890625 26.703125 6.890625 \nQ 35.15625 6.890625 40.078125 11.328125 \nQ 45.015625 15.765625 45.015625 23.390625 \nQ 45.015625 31 40.078125 35.4375 \nQ 35.15625 39.890625 26.703125 39.890625 \nQ 22.75 39.890625 18.8125 39.015625 \nQ 14.890625 38.140625 10.796875 36.28125 \nz\n\" id=\"DejaVuSans-53\"/>\n       </defs>\n       <use xlink:href=\"#DejaVuSans-53\"/>\n      </g>\n     </g>\n    </g>\n    <g id=\"xtick_6\">\n     <g id=\"line2d_6\">\n      <g>\n       <use style=\"stroke:#000000;stroke-width:0.8;\" x=\"80.445625\" xlink:href=\"#mb9d8c11a77\" y=\"225.22582\"/>\n      </g>\n     </g>\n     <g id=\"text_6\">\n      <!-- 6 -->\n      <g transform=\"translate(77.264375 239.824257)scale(0.1 -0.1)\">\n       <defs>\n        <path d=\"M 33.015625 40.375 \nQ 26.375 40.375 22.484375 35.828125 \nQ 18.609375 31.296875 18.609375 23.390625 \nQ 18.609375 15.53125 22.484375 10.953125 \nQ 26.375 6.390625 33.015625 6.390625 \nQ 39.65625 6.390625 43.53125 10.953125 \nQ 47.40625 15.53125 47.40625 23.390625 \nQ 47.40625 31.296875 43.53125 35.828125 \nQ 39.65625 40.375 33.015625 40.375 \nz\nM 52.59375 71.296875 \nL 52.59375 62.3125 \nQ 48.875 64.0625 45.09375 64.984375 \nQ 41.3125 65.921875 37.59375 65.921875 \nQ 27.828125 65.921875 22.671875 59.328125 \nQ 17.53125 52.734375 16.796875 39.40625 \nQ 19.671875 43.65625 24.015625 45.921875 \nQ 28.375 48.1875 33.59375 48.1875 \nQ 44.578125 48.1875 50.953125 41.515625 \nQ 57.328125 34.859375 57.328125 23.390625 \nQ 57.328125 12.15625 50.6875 5.359375 \nQ 44.046875 -1.421875 33.015625 -1.421875 \nQ 20.359375 -1.421875 13.671875 8.265625 \nQ 6.984375 17.96875 6.984375 36.375 \nQ 6.984375 53.65625 15.1875 63.9375 \nQ 23.390625 74.21875 37.203125 74.21875 \nQ 40.921875 74.21875 44.703125 73.484375 \nQ 48.484375 72.75 52.59375 71.296875 \nz\n\" id=\"DejaVuSans-54\"/>\n       </defs>\n       <use xlink:href=\"#DejaVuSans-54\"/>\n      </g>\n     </g>\n    </g>\n    <g id=\"xtick_7\">\n     <g id=\"line2d_7\">\n      <g>\n       <use style=\"stroke:#000000;stroke-width:0.8;\" x=\"86.532898\" xlink:href=\"#mb9d8c11a77\" y=\"225.22582\"/>\n      </g>\n     </g>\n     <g id=\"text_7\">\n      <!-- 7 -->\n      <g transform=\"translate(83.351648 239.824257)scale(0.1 -0.1)\">\n       <defs>\n        <path d=\"M 8.203125 72.90625 \nL 55.078125 72.90625 \nL 55.078125 68.703125 \nL 28.609375 0 \nL 18.3125 0 \nL 43.21875 64.59375 \nL 8.203125 64.59375 \nz\n\" id=\"DejaVuSans-55\"/>\n       </defs>\n       <use xlink:href=\"#DejaVuSans-55\"/>\n      </g>\n     </g>\n    </g>\n    <g id=\"xtick_8\">\n     <g id=\"line2d_8\">\n      <g>\n       <use style=\"stroke:#000000;stroke-width:0.8;\" x=\"92.62017\" xlink:href=\"#mb9d8c11a77\" y=\"225.22582\"/>\n      </g>\n     </g>\n     <g id=\"text_8\">\n      <!-- 8 -->\n      <g transform=\"translate(89.43892 239.824257)scale(0.1 -0.1)\">\n       <defs>\n        <path d=\"M 31.78125 34.625 \nQ 24.75 34.625 20.71875 30.859375 \nQ 16.703125 27.09375 16.703125 20.515625 \nQ 16.703125 13.921875 20.71875 10.15625 \nQ 24.75 6.390625 31.78125 6.390625 \nQ 38.8125 6.390625 42.859375 10.171875 \nQ 46.921875 13.96875 46.921875 20.515625 \nQ 46.921875 27.09375 42.890625 30.859375 \nQ 38.875 34.625 31.78125 34.625 \nz\nM 21.921875 38.8125 \nQ 15.578125 40.375 12.03125 44.71875 \nQ 8.5 49.078125 8.5 55.328125 \nQ 8.5 64.0625 14.71875 69.140625 \nQ 20.953125 74.21875 31.78125 74.21875 \nQ 42.671875 74.21875 48.875 69.140625 \nQ 55.078125 64.0625 55.078125 55.328125 \nQ 55.078125 49.078125 51.53125 44.71875 \nQ 48 40.375 41.703125 38.8125 \nQ 48.828125 37.15625 52.796875 32.3125 \nQ 56.78125 27.484375 56.78125 20.515625 \nQ 56.78125 9.90625 50.3125 4.234375 \nQ 43.84375 -1.421875 31.78125 -1.421875 \nQ 19.734375 -1.421875 13.25 4.234375 \nQ 6.78125 9.90625 6.78125 20.515625 \nQ 6.78125 27.484375 10.78125 32.3125 \nQ 14.796875 37.15625 21.921875 38.8125 \nz\nM 18.3125 54.390625 \nQ 18.3125 48.734375 21.84375 45.5625 \nQ 25.390625 42.390625 31.78125 42.390625 \nQ 38.140625 42.390625 41.71875 45.5625 \nQ 45.3125 48.734375 45.3125 54.390625 \nQ 45.3125 60.0625 41.71875 63.234375 \nQ 38.140625 66.40625 31.78125 66.40625 \nQ 25.390625 66.40625 21.84375 63.234375 \nQ 18.3125 60.0625 18.3125 54.390625 \nz\n\" id=\"DejaVuSans-56\"/>\n       </defs>\n       <use xlink:href=\"#DejaVuSans-56\"/>\n      </g>\n     </g>\n    </g>\n    <g id=\"xtick_9\">\n     <g id=\"line2d_9\">\n      <g>\n       <use style=\"stroke:#000000;stroke-width:0.8;\" x=\"98.707443\" xlink:href=\"#mb9d8c11a77\" y=\"225.22582\"/>\n      </g>\n     </g>\n     <g id=\"text_9\">\n      <!-- 9 -->\n      <g transform=\"translate(95.526193 239.824257)scale(0.1 -0.1)\">\n       <defs>\n        <path d=\"M 10.984375 1.515625 \nL 10.984375 10.5 \nQ 14.703125 8.734375 18.5 7.8125 \nQ 22.3125 6.890625 25.984375 6.890625 \nQ 35.75 6.890625 40.890625 13.453125 \nQ 46.046875 20.015625 46.78125 33.40625 \nQ 43.953125 29.203125 39.59375 26.953125 \nQ 35.25 24.703125 29.984375 24.703125 \nQ 19.046875 24.703125 12.671875 31.3125 \nQ 6.296875 37.9375 6.296875 49.421875 \nQ 6.296875 60.640625 12.9375 67.421875 \nQ 19.578125 74.21875 30.609375 74.21875 \nQ 43.265625 74.21875 49.921875 64.515625 \nQ 56.59375 54.828125 56.59375 36.375 \nQ 56.59375 19.140625 48.40625 8.859375 \nQ 40.234375 -1.421875 26.421875 -1.421875 \nQ 22.703125 -1.421875 18.890625 -0.6875 \nQ 15.09375 0.046875 10.984375 1.515625 \nz\nM 30.609375 32.421875 \nQ 37.25 32.421875 41.125 36.953125 \nQ 45.015625 41.5 45.015625 49.421875 \nQ 45.015625 57.28125 41.125 61.84375 \nQ 37.25 66.40625 30.609375 66.40625 \nQ 23.96875 66.40625 20.09375 61.84375 \nQ 16.21875 57.28125 16.21875 49.421875 \nQ 16.21875 41.5 20.09375 36.953125 \nQ 23.96875 32.421875 30.609375 32.421875 \nz\n\" id=\"DejaVuSans-57\"/>\n       </defs>\n       <use xlink:href=\"#DejaVuSans-57\"/>\n      </g>\n     </g>\n    </g>\n    <g id=\"xtick_10\">\n     <g id=\"line2d_10\">\n      <g>\n       <use style=\"stroke:#000000;stroke-width:0.8;\" x=\"104.794716\" xlink:href=\"#mb9d8c11a77\" y=\"225.22582\"/>\n      </g>\n     </g>\n     <g id=\"text_10\">\n      <!-- 10 -->\n      <g transform=\"translate(98.432216 239.824257)scale(0.1 -0.1)\">\n       <defs>\n        <path d=\"M 31.78125 66.40625 \nQ 24.171875 66.40625 20.328125 58.90625 \nQ 16.5 51.421875 16.5 36.375 \nQ 16.5 21.390625 20.328125 13.890625 \nQ 24.171875 6.390625 31.78125 6.390625 \nQ 39.453125 6.390625 43.28125 13.890625 \nQ 47.125 21.390625 47.125 36.375 \nQ 47.125 51.421875 43.28125 58.90625 \nQ 39.453125 66.40625 31.78125 66.40625 \nz\nM 31.78125 74.21875 \nQ 44.046875 74.21875 50.515625 64.515625 \nQ 56.984375 54.828125 56.984375 36.375 \nQ 56.984375 17.96875 50.515625 8.265625 \nQ 44.046875 -1.421875 31.78125 -1.421875 \nQ 19.53125 -1.421875 13.0625 8.265625 \nQ 6.59375 17.96875 6.59375 36.375 \nQ 6.59375 54.828125 13.0625 64.515625 \nQ 19.53125 74.21875 31.78125 74.21875 \nz\n\" id=\"DejaVuSans-48\"/>\n       </defs>\n       <use xlink:href=\"#DejaVuSans-49\"/>\n       <use x=\"63.623047\" xlink:href=\"#DejaVuSans-48\"/>\n      </g>\n     </g>\n    </g>\n    <g id=\"xtick_11\">\n     <g id=\"line2d_11\">\n      <g>\n       <use style=\"stroke:#000000;stroke-width:0.8;\" x=\"110.881989\" xlink:href=\"#mb9d8c11a77\" y=\"225.22582\"/>\n      </g>\n     </g>\n     <g id=\"text_11\">\n      <!-- 11 -->\n      <g transform=\"translate(104.519489 239.824257)scale(0.1 -0.1)\">\n       <use xlink:href=\"#DejaVuSans-49\"/>\n       <use x=\"63.623047\" xlink:href=\"#DejaVuSans-49\"/>\n      </g>\n     </g>\n    </g>\n    <g id=\"xtick_12\">\n     <g id=\"line2d_12\">\n      <g>\n       <use style=\"stroke:#000000;stroke-width:0.8;\" x=\"116.969261\" xlink:href=\"#mb9d8c11a77\" y=\"225.22582\"/>\n      </g>\n     </g>\n     <g id=\"text_12\">\n      <!-- 12 -->\n      <g transform=\"translate(110.606761 239.824257)scale(0.1 -0.1)\">\n       <use xlink:href=\"#DejaVuSans-49\"/>\n       <use x=\"63.623047\" xlink:href=\"#DejaVuSans-50\"/>\n      </g>\n     </g>\n    </g>\n    <g id=\"xtick_13\">\n     <g id=\"line2d_13\">\n      <g>\n       <use style=\"stroke:#000000;stroke-width:0.8;\" x=\"123.056534\" xlink:href=\"#mb9d8c11a77\" y=\"225.22582\"/>\n      </g>\n     </g>\n     <g id=\"text_13\">\n      <!-- 13 -->\n      <g transform=\"translate(116.694034 239.824257)scale(0.1 -0.1)\">\n       <use xlink:href=\"#DejaVuSans-49\"/>\n       <use x=\"63.623047\" xlink:href=\"#DejaVuSans-51\"/>\n      </g>\n     </g>\n    </g>\n    <g id=\"xtick_14\">\n     <g id=\"line2d_14\">\n      <g>\n       <use style=\"stroke:#000000;stroke-width:0.8;\" x=\"129.143807\" xlink:href=\"#mb9d8c11a77\" y=\"225.22582\"/>\n      </g>\n     </g>\n     <g id=\"text_14\">\n      <!-- 14 -->\n      <g transform=\"translate(122.781307 239.824257)scale(0.1 -0.1)\">\n       <use xlink:href=\"#DejaVuSans-49\"/>\n       <use x=\"63.623047\" xlink:href=\"#DejaVuSans-52\"/>\n      </g>\n     </g>\n    </g>\n    <g id=\"xtick_15\">\n     <g id=\"line2d_15\">\n      <g>\n       <use style=\"stroke:#000000;stroke-width:0.8;\" x=\"135.23108\" xlink:href=\"#mb9d8c11a77\" y=\"225.22582\"/>\n      </g>\n     </g>\n     <g id=\"text_15\">\n      <!-- 15 -->\n      <g transform=\"translate(128.86858 239.824257)scale(0.1 -0.1)\">\n       <use xlink:href=\"#DejaVuSans-49\"/>\n       <use x=\"63.623047\" xlink:href=\"#DejaVuSans-53\"/>\n      </g>\n     </g>\n    </g>\n    <g id=\"xtick_16\">\n     <g id=\"line2d_16\">\n      <g>\n       <use style=\"stroke:#000000;stroke-width:0.8;\" x=\"141.318352\" xlink:href=\"#mb9d8c11a77\" y=\"225.22582\"/>\n      </g>\n     </g>\n     <g id=\"text_16\">\n      <!-- 16 -->\n      <g transform=\"translate(134.955852 239.824257)scale(0.1 -0.1)\">\n       <use xlink:href=\"#DejaVuSans-49\"/>\n       <use x=\"63.623047\" xlink:href=\"#DejaVuSans-54\"/>\n      </g>\n     </g>\n    </g>\n    <g id=\"xtick_17\">\n     <g id=\"line2d_17\">\n      <g>\n       <use style=\"stroke:#000000;stroke-width:0.8;\" x=\"147.405625\" xlink:href=\"#mb9d8c11a77\" y=\"225.22582\"/>\n      </g>\n     </g>\n     <g id=\"text_17\">\n      <!-- 17 -->\n      <g transform=\"translate(141.043125 239.824257)scale(0.1 -0.1)\">\n       <use xlink:href=\"#DejaVuSans-49\"/>\n       <use x=\"63.623047\" xlink:href=\"#DejaVuSans-55\"/>\n      </g>\n     </g>\n    </g>\n    <g id=\"xtick_18\">\n     <g id=\"line2d_18\">\n      <g>\n       <use style=\"stroke:#000000;stroke-width:0.8;\" x=\"153.492898\" xlink:href=\"#mb9d8c11a77\" y=\"225.22582\"/>\n      </g>\n     </g>\n     <g id=\"text_18\">\n      <!-- 18 -->\n      <g transform=\"translate(147.130398 239.824257)scale(0.1 -0.1)\">\n       <use xlink:href=\"#DejaVuSans-49\"/>\n       <use x=\"63.623047\" xlink:href=\"#DejaVuSans-56\"/>\n      </g>\n     </g>\n    </g>\n    <g id=\"xtick_19\">\n     <g id=\"line2d_19\">\n      <g>\n       <use style=\"stroke:#000000;stroke-width:0.8;\" x=\"159.58017\" xlink:href=\"#mb9d8c11a77\" y=\"225.22582\"/>\n      </g>\n     </g>\n     <g id=\"text_19\">\n      <!-- 19 -->\n      <g transform=\"translate(153.21767 239.824257)scale(0.1 -0.1)\">\n       <use xlink:href=\"#DejaVuSans-49\"/>\n       <use x=\"63.623047\" xlink:href=\"#DejaVuSans-57\"/>\n      </g>\n     </g>\n    </g>\n    <g id=\"xtick_20\">\n     <g id=\"line2d_20\">\n      <g>\n       <use style=\"stroke:#000000;stroke-width:0.8;\" x=\"165.667443\" xlink:href=\"#mb9d8c11a77\" y=\"225.22582\"/>\n      </g>\n     </g>\n     <g id=\"text_20\">\n      <!-- 20 -->\n      <g transform=\"translate(159.304943 239.824257)scale(0.1 -0.1)\">\n       <use xlink:href=\"#DejaVuSans-50\"/>\n       <use x=\"63.623047\" xlink:href=\"#DejaVuSans-48\"/>\n      </g>\n     </g>\n    </g>\n    <g id=\"xtick_21\">\n     <g id=\"line2d_21\">\n      <g>\n       <use style=\"stroke:#000000;stroke-width:0.8;\" x=\"171.754716\" xlink:href=\"#mb9d8c11a77\" y=\"225.22582\"/>\n      </g>\n     </g>\n     <g id=\"text_21\">\n      <!-- 21 -->\n      <g transform=\"translate(165.392216 239.824257)scale(0.1 -0.1)\">\n       <use xlink:href=\"#DejaVuSans-50\"/>\n       <use x=\"63.623047\" xlink:href=\"#DejaVuSans-49\"/>\n      </g>\n     </g>\n    </g>\n    <g id=\"xtick_22\">\n     <g id=\"line2d_22\">\n      <g>\n       <use style=\"stroke:#000000;stroke-width:0.8;\" x=\"177.841989\" xlink:href=\"#mb9d8c11a77\" y=\"225.22582\"/>\n      </g>\n     </g>\n     <g id=\"text_22\">\n      <!-- 22 -->\n      <g transform=\"translate(171.479489 239.824257)scale(0.1 -0.1)\">\n       <use xlink:href=\"#DejaVuSans-50\"/>\n       <use x=\"63.623047\" xlink:href=\"#DejaVuSans-50\"/>\n      </g>\n     </g>\n    </g>\n    <g id=\"xtick_23\">\n     <g id=\"line2d_23\">\n      <g>\n       <use style=\"stroke:#000000;stroke-width:0.8;\" x=\"183.929261\" xlink:href=\"#mb9d8c11a77\" y=\"225.22582\"/>\n      </g>\n     </g>\n     <g id=\"text_23\">\n      <!-- 23 -->\n      <g transform=\"translate(177.566761 239.824257)scale(0.1 -0.1)\">\n       <use xlink:href=\"#DejaVuSans-50\"/>\n       <use x=\"63.623047\" xlink:href=\"#DejaVuSans-51\"/>\n      </g>\n     </g>\n    </g>\n    <g id=\"xtick_24\">\n     <g id=\"line2d_24\">\n      <g>\n       <use style=\"stroke:#000000;stroke-width:0.8;\" x=\"190.016534\" xlink:href=\"#mb9d8c11a77\" y=\"225.22582\"/>\n      </g>\n     </g>\n     <g id=\"text_24\">\n      <!-- 24 -->\n      <g transform=\"translate(183.654034 239.824257)scale(0.1 -0.1)\">\n       <use xlink:href=\"#DejaVuSans-50\"/>\n       <use x=\"63.623047\" xlink:href=\"#DejaVuSans-52\"/>\n      </g>\n     </g>\n    </g>\n    <g id=\"xtick_25\">\n     <g id=\"line2d_25\">\n      <g>\n       <use style=\"stroke:#000000;stroke-width:0.8;\" x=\"196.103807\" xlink:href=\"#mb9d8c11a77\" y=\"225.22582\"/>\n      </g>\n     </g>\n     <g id=\"text_25\">\n      <!-- 25 -->\n      <g transform=\"translate(189.741307 239.824257)scale(0.1 -0.1)\">\n       <use xlink:href=\"#DejaVuSans-50\"/>\n       <use x=\"63.623047\" xlink:href=\"#DejaVuSans-53\"/>\n      </g>\n     </g>\n    </g>\n    <g id=\"xtick_26\">\n     <g id=\"line2d_26\">\n      <g>\n       <use style=\"stroke:#000000;stroke-width:0.8;\" x=\"202.19108\" xlink:href=\"#mb9d8c11a77\" y=\"225.22582\"/>\n      </g>\n     </g>\n     <g id=\"text_26\">\n      <!-- 26 -->\n      <g transform=\"translate(195.82858 239.824257)scale(0.1 -0.1)\">\n       <use xlink:href=\"#DejaVuSans-50\"/>\n       <use x=\"63.623047\" xlink:href=\"#DejaVuSans-54\"/>\n      </g>\n     </g>\n    </g>\n    <g id=\"xtick_27\">\n     <g id=\"line2d_27\">\n      <g>\n       <use style=\"stroke:#000000;stroke-width:0.8;\" x=\"208.278352\" xlink:href=\"#mb9d8c11a77\" y=\"225.22582\"/>\n      </g>\n     </g>\n     <g id=\"text_27\">\n      <!-- 27 -->\n      <g transform=\"translate(201.915852 239.824257)scale(0.1 -0.1)\">\n       <use xlink:href=\"#DejaVuSans-50\"/>\n       <use x=\"63.623047\" xlink:href=\"#DejaVuSans-55\"/>\n      </g>\n     </g>\n    </g>\n    <g id=\"xtick_28\">\n     <g id=\"line2d_28\">\n      <g>\n       <use style=\"stroke:#000000;stroke-width:0.8;\" x=\"214.365625\" xlink:href=\"#mb9d8c11a77\" y=\"225.22582\"/>\n      </g>\n     </g>\n     <g id=\"text_28\">\n      <!-- 28 -->\n      <g transform=\"translate(208.003125 239.824257)scale(0.1 -0.1)\">\n       <use xlink:href=\"#DejaVuSans-50\"/>\n       <use x=\"63.623047\" xlink:href=\"#DejaVuSans-56\"/>\n      </g>\n     </g>\n    </g>\n    <g id=\"xtick_29\">\n     <g id=\"line2d_29\">\n      <g>\n       <use style=\"stroke:#000000;stroke-width:0.8;\" x=\"220.452898\" xlink:href=\"#mb9d8c11a77\" y=\"225.22582\"/>\n      </g>\n     </g>\n     <g id=\"text_29\">\n      <!-- 29 -->\n      <g transform=\"translate(214.090398 239.824257)scale(0.1 -0.1)\">\n       <use xlink:href=\"#DejaVuSans-50\"/>\n       <use x=\"63.623047\" xlink:href=\"#DejaVuSans-57\"/>\n      </g>\n     </g>\n    </g>\n    <g id=\"xtick_30\">\n     <g id=\"line2d_30\">\n      <g>\n       <use style=\"stroke:#000000;stroke-width:0.8;\" x=\"226.54017\" xlink:href=\"#mb9d8c11a77\" y=\"225.22582\"/>\n      </g>\n     </g>\n     <g id=\"text_30\">\n      <!-- 30 -->\n      <g transform=\"translate(220.17767 239.824257)scale(0.1 -0.1)\">\n       <use xlink:href=\"#DejaVuSans-51\"/>\n       <use x=\"63.623047\" xlink:href=\"#DejaVuSans-48\"/>\n      </g>\n     </g>\n    </g>\n    <g id=\"xtick_31\">\n     <g id=\"line2d_31\">\n      <g>\n       <use style=\"stroke:#000000;stroke-width:0.8;\" x=\"232.627443\" xlink:href=\"#mb9d8c11a77\" y=\"225.22582\"/>\n      </g>\n     </g>\n     <g id=\"text_31\">\n      <!-- 31 -->\n      <g transform=\"translate(226.264943 239.824257)scale(0.1 -0.1)\">\n       <use xlink:href=\"#DejaVuSans-51\"/>\n       <use x=\"63.623047\" xlink:href=\"#DejaVuSans-49\"/>\n      </g>\n     </g>\n    </g>\n    <g id=\"xtick_32\">\n     <g id=\"line2d_32\">\n      <g>\n       <use style=\"stroke:#000000;stroke-width:0.8;\" x=\"238.714716\" xlink:href=\"#mb9d8c11a77\" y=\"225.22582\"/>\n      </g>\n     </g>\n     <g id=\"text_32\">\n      <!-- 32 -->\n      <g transform=\"translate(232.352216 239.824257)scale(0.1 -0.1)\">\n       <use xlink:href=\"#DejaVuSans-51\"/>\n       <use x=\"63.623047\" xlink:href=\"#DejaVuSans-50\"/>\n      </g>\n     </g>\n    </g>\n    <g id=\"xtick_33\">\n     <g id=\"line2d_33\">\n      <g>\n       <use style=\"stroke:#000000;stroke-width:0.8;\" x=\"244.801989\" xlink:href=\"#mb9d8c11a77\" y=\"225.22582\"/>\n      </g>\n     </g>\n     <g id=\"text_33\">\n      <!-- 33 -->\n      <g transform=\"translate(238.439489 239.824257)scale(0.1 -0.1)\">\n       <use xlink:href=\"#DejaVuSans-51\"/>\n       <use x=\"63.623047\" xlink:href=\"#DejaVuSans-51\"/>\n      </g>\n     </g>\n    </g>\n    <g id=\"xtick_34\">\n     <g id=\"line2d_34\">\n      <g>\n       <use style=\"stroke:#000000;stroke-width:0.8;\" x=\"250.889261\" xlink:href=\"#mb9d8c11a77\" y=\"225.22582\"/>\n      </g>\n     </g>\n     <g id=\"text_34\">\n      <!-- 34 -->\n      <g transform=\"translate(244.526761 239.824257)scale(0.1 -0.1)\">\n       <use xlink:href=\"#DejaVuSans-51\"/>\n       <use x=\"63.623047\" xlink:href=\"#DejaVuSans-52\"/>\n      </g>\n     </g>\n    </g>\n    <g id=\"xtick_35\">\n     <g id=\"line2d_35\">\n      <g>\n       <use style=\"stroke:#000000;stroke-width:0.8;\" x=\"256.976534\" xlink:href=\"#mb9d8c11a77\" y=\"225.22582\"/>\n      </g>\n     </g>\n     <g id=\"text_35\">\n      <!-- 35 -->\n      <g transform=\"translate(250.614034 239.824257)scale(0.1 -0.1)\">\n       <use xlink:href=\"#DejaVuSans-51\"/>\n       <use x=\"63.623047\" xlink:href=\"#DejaVuSans-53\"/>\n      </g>\n     </g>\n    </g>\n    <g id=\"xtick_36\">\n     <g id=\"line2d_36\">\n      <g>\n       <use style=\"stroke:#000000;stroke-width:0.8;\" x=\"263.063807\" xlink:href=\"#mb9d8c11a77\" y=\"225.22582\"/>\n      </g>\n     </g>\n     <g id=\"text_36\">\n      <!-- 36 -->\n      <g transform=\"translate(256.701307 239.824257)scale(0.1 -0.1)\">\n       <use xlink:href=\"#DejaVuSans-51\"/>\n       <use x=\"63.623047\" xlink:href=\"#DejaVuSans-54\"/>\n      </g>\n     </g>\n    </g>\n    <g id=\"xtick_37\">\n     <g id=\"line2d_37\">\n      <g>\n       <use style=\"stroke:#000000;stroke-width:0.8;\" x=\"269.15108\" xlink:href=\"#mb9d8c11a77\" y=\"225.22582\"/>\n      </g>\n     </g>\n     <g id=\"text_37\">\n      <!-- 37 -->\n      <g transform=\"translate(262.78858 239.824257)scale(0.1 -0.1)\">\n       <use xlink:href=\"#DejaVuSans-51\"/>\n       <use x=\"63.623047\" xlink:href=\"#DejaVuSans-55\"/>\n      </g>\n     </g>\n    </g>\n    <g id=\"xtick_38\">\n     <g id=\"line2d_38\">\n      <g>\n       <use style=\"stroke:#000000;stroke-width:0.8;\" x=\"275.238352\" xlink:href=\"#mb9d8c11a77\" y=\"225.22582\"/>\n      </g>\n     </g>\n     <g id=\"text_38\">\n      <!-- 38 -->\n      <g transform=\"translate(268.875852 239.824257)scale(0.1 -0.1)\">\n       <use xlink:href=\"#DejaVuSans-51\"/>\n       <use x=\"63.623047\" xlink:href=\"#DejaVuSans-56\"/>\n      </g>\n     </g>\n    </g>\n    <g id=\"xtick_39\">\n     <g id=\"line2d_39\">\n      <g>\n       <use style=\"stroke:#000000;stroke-width:0.8;\" x=\"281.325625\" xlink:href=\"#mb9d8c11a77\" y=\"225.22582\"/>\n      </g>\n     </g>\n     <g id=\"text_39\">\n      <!-- 39 -->\n      <g transform=\"translate(274.963125 239.824257)scale(0.1 -0.1)\">\n       <use xlink:href=\"#DejaVuSans-51\"/>\n       <use x=\"63.623047\" xlink:href=\"#DejaVuSans-57\"/>\n      </g>\n     </g>\n    </g>\n    <g id=\"xtick_40\">\n     <g id=\"line2d_40\">\n      <g>\n       <use style=\"stroke:#000000;stroke-width:0.8;\" x=\"287.412898\" xlink:href=\"#mb9d8c11a77\" y=\"225.22582\"/>\n      </g>\n     </g>\n     <g id=\"text_40\">\n      <!-- 40 -->\n      <g transform=\"translate(281.050398 239.824257)scale(0.1 -0.1)\">\n       <use xlink:href=\"#DejaVuSans-52\"/>\n       <use x=\"63.623047\" xlink:href=\"#DejaVuSans-48\"/>\n      </g>\n     </g>\n    </g>\n    <g id=\"xtick_41\">\n     <g id=\"line2d_41\">\n      <g>\n       <use style=\"stroke:#000000;stroke-width:0.8;\" x=\"293.50017\" xlink:href=\"#mb9d8c11a77\" y=\"225.22582\"/>\n      </g>\n     </g>\n     <g id=\"text_41\">\n      <!-- 41 -->\n      <g transform=\"translate(287.13767 239.824257)scale(0.1 -0.1)\">\n       <use xlink:href=\"#DejaVuSans-52\"/>\n       <use x=\"63.623047\" xlink:href=\"#DejaVuSans-49\"/>\n      </g>\n     </g>\n    </g>\n    <g id=\"xtick_42\">\n     <g id=\"line2d_42\">\n      <g>\n       <use style=\"stroke:#000000;stroke-width:0.8;\" x=\"299.587443\" xlink:href=\"#mb9d8c11a77\" y=\"225.22582\"/>\n      </g>\n     </g>\n     <g id=\"text_42\">\n      <!-- 42 -->\n      <g transform=\"translate(293.224943 239.824257)scale(0.1 -0.1)\">\n       <use xlink:href=\"#DejaVuSans-52\"/>\n       <use x=\"63.623047\" xlink:href=\"#DejaVuSans-50\"/>\n      </g>\n     </g>\n    </g>\n    <g id=\"xtick_43\">\n     <g id=\"line2d_43\">\n      <g>\n       <use style=\"stroke:#000000;stroke-width:0.8;\" x=\"305.674716\" xlink:href=\"#mb9d8c11a77\" y=\"225.22582\"/>\n      </g>\n     </g>\n     <g id=\"text_43\">\n      <!-- 43 -->\n      <g transform=\"translate(299.312216 239.824257)scale(0.1 -0.1)\">\n       <use xlink:href=\"#DejaVuSans-52\"/>\n       <use x=\"63.623047\" xlink:href=\"#DejaVuSans-51\"/>\n      </g>\n     </g>\n    </g>\n    <g id=\"xtick_44\">\n     <g id=\"line2d_44\">\n      <g>\n       <use style=\"stroke:#000000;stroke-width:0.8;\" x=\"311.761989\" xlink:href=\"#mb9d8c11a77\" y=\"225.22582\"/>\n      </g>\n     </g>\n     <g id=\"text_44\">\n      <!-- 44 -->\n      <g transform=\"translate(305.399489 239.824257)scale(0.1 -0.1)\">\n       <use xlink:href=\"#DejaVuSans-52\"/>\n       <use x=\"63.623047\" xlink:href=\"#DejaVuSans-52\"/>\n      </g>\n     </g>\n    </g>\n    <g id=\"xtick_45\">\n     <g id=\"line2d_45\">\n      <g>\n       <use style=\"stroke:#000000;stroke-width:0.8;\" x=\"317.849261\" xlink:href=\"#mb9d8c11a77\" y=\"225.22582\"/>\n      </g>\n     </g>\n     <g id=\"text_45\">\n      <!-- 45 -->\n      <g transform=\"translate(311.486761 239.824257)scale(0.1 -0.1)\">\n       <use xlink:href=\"#DejaVuSans-52\"/>\n       <use x=\"63.623047\" xlink:href=\"#DejaVuSans-53\"/>\n      </g>\n     </g>\n    </g>\n    <g id=\"xtick_46\">\n     <g id=\"line2d_46\">\n      <g>\n       <use style=\"stroke:#000000;stroke-width:0.8;\" x=\"323.936534\" xlink:href=\"#mb9d8c11a77\" y=\"225.22582\"/>\n      </g>\n     </g>\n     <g id=\"text_46\">\n      <!-- 46 -->\n      <g transform=\"translate(317.574034 239.824257)scale(0.1 -0.1)\">\n       <use xlink:href=\"#DejaVuSans-52\"/>\n       <use x=\"63.623047\" xlink:href=\"#DejaVuSans-54\"/>\n      </g>\n     </g>\n    </g>\n    <g id=\"xtick_47\">\n     <g id=\"line2d_47\">\n      <g>\n       <use style=\"stroke:#000000;stroke-width:0.8;\" x=\"330.023807\" xlink:href=\"#mb9d8c11a77\" y=\"225.22582\"/>\n      </g>\n     </g>\n     <g id=\"text_47\">\n      <!-- 47 -->\n      <g transform=\"translate(323.661307 239.824257)scale(0.1 -0.1)\">\n       <use xlink:href=\"#DejaVuSans-52\"/>\n       <use x=\"63.623047\" xlink:href=\"#DejaVuSans-55\"/>\n      </g>\n     </g>\n    </g>\n    <g id=\"xtick_48\">\n     <g id=\"line2d_48\">\n      <g>\n       <use style=\"stroke:#000000;stroke-width:0.8;\" x=\"336.11108\" xlink:href=\"#mb9d8c11a77\" y=\"225.22582\"/>\n      </g>\n     </g>\n     <g id=\"text_48\">\n      <!-- 48 -->\n      <g transform=\"translate(329.74858 239.824257)scale(0.1 -0.1)\">\n       <use xlink:href=\"#DejaVuSans-52\"/>\n       <use x=\"63.623047\" xlink:href=\"#DejaVuSans-56\"/>\n      </g>\n     </g>\n    </g>\n    <g id=\"xtick_49\">\n     <g id=\"line2d_49\">\n      <g>\n       <use style=\"stroke:#000000;stroke-width:0.8;\" x=\"342.198352\" xlink:href=\"#mb9d8c11a77\" y=\"225.22582\"/>\n      </g>\n     </g>\n     <g id=\"text_49\">\n      <!-- 49 -->\n      <g transform=\"translate(335.835852 239.824257)scale(0.1 -0.1)\">\n       <use xlink:href=\"#DejaVuSans-52\"/>\n       <use x=\"63.623047\" xlink:href=\"#DejaVuSans-57\"/>\n      </g>\n     </g>\n    </g>\n    <g id=\"xtick_50\">\n     <g id=\"line2d_50\">\n      <g>\n       <use style=\"stroke:#000000;stroke-width:0.8;\" x=\"348.285625\" xlink:href=\"#mb9d8c11a77\" y=\"225.22582\"/>\n      </g>\n     </g>\n     <g id=\"text_50\">\n      <!-- 50 -->\n      <g transform=\"translate(341.923125 239.824257)scale(0.1 -0.1)\">\n       <use xlink:href=\"#DejaVuSans-53\"/>\n       <use x=\"63.623047\" xlink:href=\"#DejaVuSans-48\"/>\n      </g>\n     </g>\n    </g>\n    <g id=\"xtick_51\">\n     <g id=\"line2d_51\">\n      <g>\n       <use style=\"stroke:#000000;stroke-width:0.8;\" x=\"354.372898\" xlink:href=\"#mb9d8c11a77\" y=\"225.22582\"/>\n      </g>\n     </g>\n     <g id=\"text_51\">\n      <!-- 51 -->\n      <g transform=\"translate(348.010398 239.824257)scale(0.1 -0.1)\">\n       <use xlink:href=\"#DejaVuSans-53\"/>\n       <use x=\"63.623047\" xlink:href=\"#DejaVuSans-49\"/>\n      </g>\n     </g>\n    </g>\n    <g id=\"xtick_52\">\n     <g id=\"line2d_52\">\n      <g>\n       <use style=\"stroke:#000000;stroke-width:0.8;\" x=\"360.46017\" xlink:href=\"#mb9d8c11a77\" y=\"225.22582\"/>\n      </g>\n     </g>\n     <g id=\"text_52\">\n      <!-- 52 -->\n      <g transform=\"translate(354.09767 239.824257)scale(0.1 -0.1)\">\n       <use xlink:href=\"#DejaVuSans-53\"/>\n       <use x=\"63.623047\" xlink:href=\"#DejaVuSans-50\"/>\n      </g>\n     </g>\n    </g>\n    <g id=\"xtick_53\">\n     <g id=\"line2d_53\">\n      <g>\n       <use style=\"stroke:#000000;stroke-width:0.8;\" x=\"366.547443\" xlink:href=\"#mb9d8c11a77\" y=\"225.22582\"/>\n      </g>\n     </g>\n     <g id=\"text_53\">\n      <!-- 53 -->\n      <g transform=\"translate(360.184943 239.824257)scale(0.1 -0.1)\">\n       <use xlink:href=\"#DejaVuSans-53\"/>\n       <use x=\"63.623047\" xlink:href=\"#DejaVuSans-51\"/>\n      </g>\n     </g>\n    </g>\n    <g id=\"xtick_54\">\n     <g id=\"line2d_54\">\n      <g>\n       <use style=\"stroke:#000000;stroke-width:0.8;\" x=\"372.634716\" xlink:href=\"#mb9d8c11a77\" y=\"225.22582\"/>\n      </g>\n     </g>\n     <g id=\"text_54\">\n      <!-- 54 -->\n      <g transform=\"translate(366.272216 239.824257)scale(0.1 -0.1)\">\n       <use xlink:href=\"#DejaVuSans-53\"/>\n       <use x=\"63.623047\" xlink:href=\"#DejaVuSans-52\"/>\n      </g>\n     </g>\n    </g>\n    <g id=\"xtick_55\">\n     <g id=\"line2d_55\">\n      <g>\n       <use style=\"stroke:#000000;stroke-width:0.8;\" x=\"378.721989\" xlink:href=\"#mb9d8c11a77\" y=\"225.22582\"/>\n      </g>\n     </g>\n     <g id=\"text_55\">\n      <!-- 55 -->\n      <g transform=\"translate(372.359489 239.824257)scale(0.1 -0.1)\">\n       <use xlink:href=\"#DejaVuSans-53\"/>\n       <use x=\"63.623047\" xlink:href=\"#DejaVuSans-53\"/>\n      </g>\n     </g>\n    </g>\n    <g id=\"text_56\">\n     <!-- ingreso_per_capita_bins -->\n     <g transform=\"translate(154.40625 253.502382)scale(0.1 -0.1)\">\n      <defs>\n       <path d=\"M 9.421875 54.6875 \nL 18.40625 54.6875 \nL 18.40625 0 \nL 9.421875 0 \nz\nM 9.421875 75.984375 \nL 18.40625 75.984375 \nL 18.40625 64.59375 \nL 9.421875 64.59375 \nz\n\" id=\"DejaVuSans-105\"/>\n       <path d=\"M 54.890625 33.015625 \nL 54.890625 0 \nL 45.90625 0 \nL 45.90625 32.71875 \nQ 45.90625 40.484375 42.875 44.328125 \nQ 39.84375 48.1875 33.796875 48.1875 \nQ 26.515625 48.1875 22.3125 43.546875 \nQ 18.109375 38.921875 18.109375 30.90625 \nL 18.109375 0 \nL 9.078125 0 \nL 9.078125 54.6875 \nL 18.109375 54.6875 \nL 18.109375 46.1875 \nQ 21.34375 51.125 25.703125 53.5625 \nQ 30.078125 56 35.796875 56 \nQ 45.21875 56 50.046875 50.171875 \nQ 54.890625 44.34375 54.890625 33.015625 \nz\n\" id=\"DejaVuSans-110\"/>\n       <path d=\"M 45.40625 27.984375 \nQ 45.40625 37.75 41.375 43.109375 \nQ 37.359375 48.484375 30.078125 48.484375 \nQ 22.859375 48.484375 18.828125 43.109375 \nQ 14.796875 37.75 14.796875 27.984375 \nQ 14.796875 18.265625 18.828125 12.890625 \nQ 22.859375 7.515625 30.078125 7.515625 \nQ 37.359375 7.515625 41.375 12.890625 \nQ 45.40625 18.265625 45.40625 27.984375 \nz\nM 54.390625 6.78125 \nQ 54.390625 -7.171875 48.1875 -13.984375 \nQ 42 -20.796875 29.203125 -20.796875 \nQ 24.46875 -20.796875 20.265625 -20.09375 \nQ 16.0625 -19.390625 12.109375 -17.921875 \nL 12.109375 -9.1875 \nQ 16.0625 -11.328125 19.921875 -12.34375 \nQ 23.78125 -13.375 27.78125 -13.375 \nQ 36.625 -13.375 41.015625 -8.765625 \nQ 45.40625 -4.15625 45.40625 5.171875 \nL 45.40625 9.625 \nQ 42.625 4.78125 38.28125 2.390625 \nQ 33.9375 0 27.875 0 \nQ 17.828125 0 11.671875 7.65625 \nQ 5.515625 15.328125 5.515625 27.984375 \nQ 5.515625 40.671875 11.671875 48.328125 \nQ 17.828125 56 27.875 56 \nQ 33.9375 56 38.28125 53.609375 \nQ 42.625 51.21875 45.40625 46.390625 \nL 45.40625 54.6875 \nL 54.390625 54.6875 \nz\n\" id=\"DejaVuSans-103\"/>\n       <path d=\"M 41.109375 46.296875 \nQ 39.59375 47.171875 37.8125 47.578125 \nQ 36.03125 48 33.890625 48 \nQ 26.265625 48 22.1875 43.046875 \nQ 18.109375 38.09375 18.109375 28.8125 \nL 18.109375 0 \nL 9.078125 0 \nL 9.078125 54.6875 \nL 18.109375 54.6875 \nL 18.109375 46.1875 \nQ 20.953125 51.171875 25.484375 53.578125 \nQ 30.03125 56 36.53125 56 \nQ 37.453125 56 38.578125 55.875 \nQ 39.703125 55.765625 41.0625 55.515625 \nz\n\" id=\"DejaVuSans-114\"/>\n       <path d=\"M 56.203125 29.59375 \nL 56.203125 25.203125 \nL 14.890625 25.203125 \nQ 15.484375 15.921875 20.484375 11.0625 \nQ 25.484375 6.203125 34.421875 6.203125 \nQ 39.59375 6.203125 44.453125 7.46875 \nQ 49.3125 8.734375 54.109375 11.28125 \nL 54.109375 2.78125 \nQ 49.265625 0.734375 44.1875 -0.34375 \nQ 39.109375 -1.421875 33.890625 -1.421875 \nQ 20.796875 -1.421875 13.15625 6.1875 \nQ 5.515625 13.8125 5.515625 26.8125 \nQ 5.515625 40.234375 12.765625 48.109375 \nQ 20.015625 56 32.328125 56 \nQ 43.359375 56 49.78125 48.890625 \nQ 56.203125 41.796875 56.203125 29.59375 \nz\nM 47.21875 32.234375 \nQ 47.125 39.59375 43.09375 43.984375 \nQ 39.0625 48.390625 32.421875 48.390625 \nQ 24.90625 48.390625 20.390625 44.140625 \nQ 15.875 39.890625 15.1875 32.171875 \nz\n\" id=\"DejaVuSans-101\"/>\n       <path d=\"M 44.28125 53.078125 \nL 44.28125 44.578125 \nQ 40.484375 46.53125 36.375 47.5 \nQ 32.28125 48.484375 27.875 48.484375 \nQ 21.1875 48.484375 17.84375 46.4375 \nQ 14.5 44.390625 14.5 40.28125 \nQ 14.5 37.15625 16.890625 35.375 \nQ 19.28125 33.59375 26.515625 31.984375 \nL 29.59375 31.296875 \nQ 39.15625 29.25 43.1875 25.515625 \nQ 47.21875 21.78125 47.21875 15.09375 \nQ 47.21875 7.46875 41.1875 3.015625 \nQ 35.15625 -1.421875 24.609375 -1.421875 \nQ 20.21875 -1.421875 15.453125 -0.5625 \nQ 10.6875 0.296875 5.421875 2 \nL 5.421875 11.28125 \nQ 10.40625 8.6875 15.234375 7.390625 \nQ 20.0625 6.109375 24.8125 6.109375 \nQ 31.15625 6.109375 34.5625 8.28125 \nQ 37.984375 10.453125 37.984375 14.40625 \nQ 37.984375 18.0625 35.515625 20.015625 \nQ 33.0625 21.96875 24.703125 23.78125 \nL 21.578125 24.515625 \nQ 13.234375 26.265625 9.515625 29.90625 \nQ 5.8125 33.546875 5.8125 39.890625 \nQ 5.8125 47.609375 11.28125 51.796875 \nQ 16.75 56 26.8125 56 \nQ 31.78125 56 36.171875 55.265625 \nQ 40.578125 54.546875 44.28125 53.078125 \nz\n\" id=\"DejaVuSans-115\"/>\n       <path d=\"M 30.609375 48.390625 \nQ 23.390625 48.390625 19.1875 42.75 \nQ 14.984375 37.109375 14.984375 27.296875 \nQ 14.984375 17.484375 19.15625 11.84375 \nQ 23.34375 6.203125 30.609375 6.203125 \nQ 37.796875 6.203125 41.984375 11.859375 \nQ 46.1875 17.53125 46.1875 27.296875 \nQ 46.1875 37.015625 41.984375 42.703125 \nQ 37.796875 48.390625 30.609375 48.390625 \nz\nM 30.609375 56 \nQ 42.328125 56 49.015625 48.375 \nQ 55.71875 40.765625 55.71875 27.296875 \nQ 55.71875 13.875 49.015625 6.21875 \nQ 42.328125 -1.421875 30.609375 -1.421875 \nQ 18.84375 -1.421875 12.171875 6.21875 \nQ 5.515625 13.875 5.515625 27.296875 \nQ 5.515625 40.765625 12.171875 48.375 \nQ 18.84375 56 30.609375 56 \nz\n\" id=\"DejaVuSans-111\"/>\n       <path d=\"M 50.984375 -16.609375 \nL 50.984375 -23.578125 \nL -0.984375 -23.578125 \nL -0.984375 -16.609375 \nz\n\" id=\"DejaVuSans-95\"/>\n       <path d=\"M 18.109375 8.203125 \nL 18.109375 -20.796875 \nL 9.078125 -20.796875 \nL 9.078125 54.6875 \nL 18.109375 54.6875 \nL 18.109375 46.390625 \nQ 20.953125 51.265625 25.265625 53.625 \nQ 29.59375 56 35.59375 56 \nQ 45.5625 56 51.78125 48.09375 \nQ 58.015625 40.1875 58.015625 27.296875 \nQ 58.015625 14.40625 51.78125 6.484375 \nQ 45.5625 -1.421875 35.59375 -1.421875 \nQ 29.59375 -1.421875 25.265625 0.953125 \nQ 20.953125 3.328125 18.109375 8.203125 \nz\nM 48.6875 27.296875 \nQ 48.6875 37.203125 44.609375 42.84375 \nQ 40.53125 48.484375 33.40625 48.484375 \nQ 26.265625 48.484375 22.1875 42.84375 \nQ 18.109375 37.203125 18.109375 27.296875 \nQ 18.109375 17.390625 22.1875 11.75 \nQ 26.265625 6.109375 33.40625 6.109375 \nQ 40.53125 6.109375 44.609375 11.75 \nQ 48.6875 17.390625 48.6875 27.296875 \nz\n\" id=\"DejaVuSans-112\"/>\n       <path d=\"M 48.78125 52.59375 \nL 48.78125 44.1875 \nQ 44.96875 46.296875 41.140625 47.34375 \nQ 37.3125 48.390625 33.40625 48.390625 \nQ 24.65625 48.390625 19.8125 42.84375 \nQ 14.984375 37.3125 14.984375 27.296875 \nQ 14.984375 17.28125 19.8125 11.734375 \nQ 24.65625 6.203125 33.40625 6.203125 \nQ 37.3125 6.203125 41.140625 7.25 \nQ 44.96875 8.296875 48.78125 10.40625 \nL 48.78125 2.09375 \nQ 45.015625 0.34375 40.984375 -0.53125 \nQ 36.96875 -1.421875 32.421875 -1.421875 \nQ 20.0625 -1.421875 12.78125 6.34375 \nQ 5.515625 14.109375 5.515625 27.296875 \nQ 5.515625 40.671875 12.859375 48.328125 \nQ 20.21875 56 33.015625 56 \nQ 37.15625 56 41.109375 55.140625 \nQ 45.0625 54.296875 48.78125 52.59375 \nz\n\" id=\"DejaVuSans-99\"/>\n       <path d=\"M 34.28125 27.484375 \nQ 23.390625 27.484375 19.1875 25 \nQ 14.984375 22.515625 14.984375 16.5 \nQ 14.984375 11.71875 18.140625 8.90625 \nQ 21.296875 6.109375 26.703125 6.109375 \nQ 34.1875 6.109375 38.703125 11.40625 \nQ 43.21875 16.703125 43.21875 25.484375 \nL 43.21875 27.484375 \nz\nM 52.203125 31.203125 \nL 52.203125 0 \nL 43.21875 0 \nL 43.21875 8.296875 \nQ 40.140625 3.328125 35.546875 0.953125 \nQ 30.953125 -1.421875 24.3125 -1.421875 \nQ 15.921875 -1.421875 10.953125 3.296875 \nQ 6 8.015625 6 15.921875 \nQ 6 25.140625 12.171875 29.828125 \nQ 18.359375 34.515625 30.609375 34.515625 \nL 43.21875 34.515625 \nL 43.21875 35.40625 \nQ 43.21875 41.609375 39.140625 45 \nQ 35.0625 48.390625 27.6875 48.390625 \nQ 23 48.390625 18.546875 47.265625 \nQ 14.109375 46.140625 10.015625 43.890625 \nL 10.015625 52.203125 \nQ 14.9375 54.109375 19.578125 55.046875 \nQ 24.21875 56 28.609375 56 \nQ 40.484375 56 46.34375 49.84375 \nQ 52.203125 43.703125 52.203125 31.203125 \nz\n\" id=\"DejaVuSans-97\"/>\n       <path d=\"M 18.3125 70.21875 \nL 18.3125 54.6875 \nL 36.8125 54.6875 \nL 36.8125 47.703125 \nL 18.3125 47.703125 \nL 18.3125 18.015625 \nQ 18.3125 11.328125 20.140625 9.421875 \nQ 21.96875 7.515625 27.59375 7.515625 \nL 36.8125 7.515625 \nL 36.8125 0 \nL 27.59375 0 \nQ 17.1875 0 13.234375 3.875 \nQ 9.28125 7.765625 9.28125 18.015625 \nL 9.28125 47.703125 \nL 2.6875 47.703125 \nL 2.6875 54.6875 \nL 9.28125 54.6875 \nL 9.28125 70.21875 \nz\n\" id=\"DejaVuSans-116\"/>\n       <path d=\"M 48.6875 27.296875 \nQ 48.6875 37.203125 44.609375 42.84375 \nQ 40.53125 48.484375 33.40625 48.484375 \nQ 26.265625 48.484375 22.1875 42.84375 \nQ 18.109375 37.203125 18.109375 27.296875 \nQ 18.109375 17.390625 22.1875 11.75 \nQ 26.265625 6.109375 33.40625 6.109375 \nQ 40.53125 6.109375 44.609375 11.75 \nQ 48.6875 17.390625 48.6875 27.296875 \nz\nM 18.109375 46.390625 \nQ 20.953125 51.265625 25.265625 53.625 \nQ 29.59375 56 35.59375 56 \nQ 45.5625 56 51.78125 48.09375 \nQ 58.015625 40.1875 58.015625 27.296875 \nQ 58.015625 14.40625 51.78125 6.484375 \nQ 45.5625 -1.421875 35.59375 -1.421875 \nQ 29.59375 -1.421875 25.265625 0.953125 \nQ 20.953125 3.328125 18.109375 8.203125 \nL 18.109375 0 \nL 9.078125 0 \nL 9.078125 75.984375 \nL 18.109375 75.984375 \nz\n\" id=\"DejaVuSans-98\"/>\n      </defs>\n      <use xlink:href=\"#DejaVuSans-105\"/>\n      <use x=\"27.783203\" xlink:href=\"#DejaVuSans-110\"/>\n      <use x=\"91.162109\" xlink:href=\"#DejaVuSans-103\"/>\n      <use x=\"154.638672\" xlink:href=\"#DejaVuSans-114\"/>\n      <use x=\"193.501953\" xlink:href=\"#DejaVuSans-101\"/>\n      <use x=\"255.025391\" xlink:href=\"#DejaVuSans-115\"/>\n      <use x=\"307.125\" xlink:href=\"#DejaVuSans-111\"/>\n      <use x=\"368.306641\" xlink:href=\"#DejaVuSans-95\"/>\n      <use x=\"418.306641\" xlink:href=\"#DejaVuSans-112\"/>\n      <use x=\"481.783203\" xlink:href=\"#DejaVuSans-101\"/>\n      <use x=\"543.306641\" xlink:href=\"#DejaVuSans-114\"/>\n      <use x=\"584.419922\" xlink:href=\"#DejaVuSans-95\"/>\n      <use x=\"634.419922\" xlink:href=\"#DejaVuSans-99\"/>\n      <use x=\"689.400391\" xlink:href=\"#DejaVuSans-97\"/>\n      <use x=\"750.679688\" xlink:href=\"#DejaVuSans-112\"/>\n      <use x=\"814.15625\" xlink:href=\"#DejaVuSans-105\"/>\n      <use x=\"841.939453\" xlink:href=\"#DejaVuSans-116\"/>\n      <use x=\"881.148438\" xlink:href=\"#DejaVuSans-97\"/>\n      <use x=\"942.427734\" xlink:href=\"#DejaVuSans-95\"/>\n      <use x=\"992.427734\" xlink:href=\"#DejaVuSans-98\"/>\n      <use x=\"1055.904297\" xlink:href=\"#DejaVuSans-105\"/>\n      <use x=\"1083.6875\" xlink:href=\"#DejaVuSans-110\"/>\n      <use x=\"1147.066406\" xlink:href=\"#DejaVuSans-115\"/>\n     </g>\n    </g>\n   </g>\n   <g id=\"matplotlib.axis_2\">\n    <g id=\"ytick_1\">\n     <g id=\"line2d_56\">\n      <defs>\n       <path d=\"M 0 0 \nL -3.5 0 \n\" id=\"m7da380491f\" style=\"stroke:#000000;stroke-width:0.8;\"/>\n      </defs>\n      <g>\n       <use style=\"stroke:#000000;stroke-width:0.8;\" x=\"46.965625\" xlink:href=\"#m7da380491f\" y=\"225.22582\"/>\n      </g>\n     </g>\n     <g id=\"text_57\">\n      <!-- 0 -->\n      <g transform=\"translate(33.603125 229.025038)scale(0.1 -0.1)\">\n       <use xlink:href=\"#DejaVuSans-48\"/>\n      </g>\n     </g>\n    </g>\n    <g id=\"ytick_2\">\n     <g id=\"line2d_57\">\n      <g>\n       <use style=\"stroke:#000000;stroke-width:0.8;\" x=\"46.965625\" xlink:href=\"#m7da380491f\" y=\"189.521386\"/>\n      </g>\n     </g>\n     <g id=\"text_58\">\n      <!-- 50 -->\n      <g transform=\"translate(27.240625 193.320605)scale(0.1 -0.1)\">\n       <use xlink:href=\"#DejaVuSans-53\"/>\n       <use x=\"63.623047\" xlink:href=\"#DejaVuSans-48\"/>\n      </g>\n     </g>\n    </g>\n    <g id=\"ytick_3\">\n     <g id=\"line2d_58\">\n      <g>\n       <use style=\"stroke:#000000;stroke-width:0.8;\" x=\"46.965625\" xlink:href=\"#m7da380491f\" y=\"153.816953\"/>\n      </g>\n     </g>\n     <g id=\"text_59\">\n      <!-- 100 -->\n      <g transform=\"translate(20.878125 157.616171)scale(0.1 -0.1)\">\n       <use xlink:href=\"#DejaVuSans-49\"/>\n       <use x=\"63.623047\" xlink:href=\"#DejaVuSans-48\"/>\n       <use x=\"127.246094\" xlink:href=\"#DejaVuSans-48\"/>\n      </g>\n     </g>\n    </g>\n    <g id=\"ytick_4\">\n     <g id=\"line2d_59\">\n      <g>\n       <use style=\"stroke:#000000;stroke-width:0.8;\" x=\"46.965625\" xlink:href=\"#m7da380491f\" y=\"118.112519\"/>\n      </g>\n     </g>\n     <g id=\"text_60\">\n      <!-- 150 -->\n      <g transform=\"translate(20.878125 121.911738)scale(0.1 -0.1)\">\n       <use xlink:href=\"#DejaVuSans-49\"/>\n       <use x=\"63.623047\" xlink:href=\"#DejaVuSans-53\"/>\n       <use x=\"127.246094\" xlink:href=\"#DejaVuSans-48\"/>\n      </g>\n     </g>\n    </g>\n    <g id=\"ytick_5\">\n     <g id=\"line2d_60\">\n      <g>\n       <use style=\"stroke:#000000;stroke-width:0.8;\" x=\"46.965625\" xlink:href=\"#m7da380491f\" y=\"82.408086\"/>\n      </g>\n     </g>\n     <g id=\"text_61\">\n      <!-- 200 -->\n      <g transform=\"translate(20.878125 86.207304)scale(0.1 -0.1)\">\n       <use xlink:href=\"#DejaVuSans-50\"/>\n       <use x=\"63.623047\" xlink:href=\"#DejaVuSans-48\"/>\n       <use x=\"127.246094\" xlink:href=\"#DejaVuSans-48\"/>\n      </g>\n     </g>\n    </g>\n    <g id=\"ytick_6\">\n     <g id=\"line2d_61\">\n      <g>\n       <use style=\"stroke:#000000;stroke-width:0.8;\" x=\"46.965625\" xlink:href=\"#m7da380491f\" y=\"46.703652\"/>\n      </g>\n     </g>\n     <g id=\"text_62\">\n      <!-- 250 -->\n      <g transform=\"translate(20.878125 50.502871)scale(0.1 -0.1)\">\n       <use xlink:href=\"#DejaVuSans-50\"/>\n       <use x=\"63.623047\" xlink:href=\"#DejaVuSans-53\"/>\n       <use x=\"127.246094\" xlink:href=\"#DejaVuSans-48\"/>\n      </g>\n     </g>\n    </g>\n    <g id=\"ytick_7\">\n     <g id=\"line2d_62\">\n      <g>\n       <use style=\"stroke:#000000;stroke-width:0.8;\" x=\"46.965625\" xlink:href=\"#m7da380491f\" y=\"10.999219\"/>\n      </g>\n     </g>\n     <g id=\"text_63\">\n      <!-- 300 -->\n      <g transform=\"translate(20.878125 14.798437)scale(0.1 -0.1)\">\n       <use xlink:href=\"#DejaVuSans-51\"/>\n       <use x=\"63.623047\" xlink:href=\"#DejaVuSans-48\"/>\n       <use x=\"127.246094\" xlink:href=\"#DejaVuSans-48\"/>\n      </g>\n     </g>\n    </g>\n    <g id=\"text_64\">\n     <!-- count -->\n     <g transform=\"translate(14.798438 130.61207)rotate(-90)scale(0.1 -0.1)\">\n      <defs>\n       <path d=\"M 8.5 21.578125 \nL 8.5 54.6875 \nL 17.484375 54.6875 \nL 17.484375 21.921875 \nQ 17.484375 14.15625 20.5 10.265625 \nQ 23.53125 6.390625 29.59375 6.390625 \nQ 36.859375 6.390625 41.078125 11.03125 \nQ 45.3125 15.671875 45.3125 23.6875 \nL 45.3125 54.6875 \nL 54.296875 54.6875 \nL 54.296875 0 \nL 45.3125 0 \nL 45.3125 8.40625 \nQ 42.046875 3.421875 37.71875 1 \nQ 33.40625 -1.421875 27.6875 -1.421875 \nQ 18.265625 -1.421875 13.375 4.4375 \nQ 8.5 10.296875 8.5 21.578125 \nz\nM 31.109375 56 \nz\n\" id=\"DejaVuSans-117\"/>\n      </defs>\n      <use xlink:href=\"#DejaVuSans-99\"/>\n      <use x=\"54.980469\" xlink:href=\"#DejaVuSans-111\"/>\n      <use x=\"116.162109\" xlink:href=\"#DejaVuSans-117\"/>\n      <use x=\"179.541016\" xlink:href=\"#DejaVuSans-110\"/>\n      <use x=\"242.919922\" xlink:href=\"#DejaVuSans-116\"/>\n     </g>\n    </g>\n   </g>\n   <g id=\"patch_58\">\n    <path d=\"M 46.965625 225.22582 \nL 46.965625 7.78582 \n\" style=\"fill:none;stroke:#000000;stroke-linecap:square;stroke-linejoin:miter;stroke-width:0.8;\"/>\n   </g>\n   <g id=\"patch_59\">\n    <path d=\"M 381.765625 225.22582 \nL 381.765625 7.78582 \n\" style=\"fill:none;stroke:#000000;stroke-linecap:square;stroke-linejoin:miter;stroke-width:0.8;\"/>\n   </g>\n   <g id=\"patch_60\">\n    <path d=\"M 46.965625 225.22582 \nL 381.765625 225.22582 \n\" style=\"fill:none;stroke:#000000;stroke-linecap:square;stroke-linejoin:miter;stroke-width:0.8;\"/>\n   </g>\n   <g id=\"patch_61\">\n    <path d=\"M 46.965625 7.78582 \nL 381.765625 7.78582 \n\" style=\"fill:none;stroke:#000000;stroke-linecap:square;stroke-linejoin:miter;stroke-width:0.8;\"/>\n   </g>\n  </g>\n </g>\n <defs>\n  <clipPath id=\"p0b0c2fe7a6\">\n   <rect height=\"217.44\" width=\"334.8\" x=\"46.965625\" y=\"7.78582\"/>\n  </clipPath>\n </defs>\n</svg>\n",
      "image/png": "[encoded data removed]"
     },
     "metadata": {
      "needs_background": "light"
     }
    }
   ],
   "source": [
    "sns.countplot(survey_household_assigned_per_capita['ingreso_per_capita_bins'])"
   ]
  },
  {
   "cell_type": "code",
   "execution_count": 32,
   "metadata": {},
   "outputs": [
    {
     "output_type": "execute_result",
     "data": {
      "text/plain": [
       "<AxesSubplot:xlabel='ingreso_per_capita_sin_qec_bins', ylabel='count'>"
      ]
     },
     "metadata": {},
     "execution_count": 32
    },
    {
     "output_type": "display_data",
     "data": {
      "text/plain": "<Figure size 432x288 with 1 Axes>",
      "image/svg+xml": "<?xml version=\"1.0\" encoding=\"utf-8\" standalone=\"no\"?>\n<!DOCTYPE svg PUBLIC \"-//W3C//DTD SVG 1.1//EN\"\n  \"http://www.w3.org/Graphics/SVG/1.1/DTD/svg11.dtd\">\n<!-- Created with matplotlib (https://matplotlib.org/) -->\n<svg height=\"262.474375pt\" version=\"1.1\" viewBox=\"0 0 392.284489 262.474375\" width=\"392.284489pt\" xmlns=\"http://www.w3.org/2000/svg\" xmlns:xlink=\"http://www.w3.org/1999/xlink\">\n <metadata>\n  <rdf:RDF xmlns:cc=\"http://creativecommons.org/ns#\" xmlns:dc=\"http://purl.org/dc/elements/1.1/\" xmlns:rdf=\"http://www.w3.org/1999/02/22-rdf-syntax-ns#\">\n   <cc:Work>\n    <dc:type rdf:resource=\"http://purl.org/dc/dcmitype/StillImage\"/>\n    <dc:date>2021-03-16T15:23:30.046292</dc:date>\n    <dc:format>image/svg+xml</dc:format>\n    <dc:creator>\n     <cc:Agent>\n      <dc:title>Matplotlib v3.3.4, https://matplotlib.org/</dc:title>\n     </cc:Agent>\n    </dc:creator>\n   </cc:Work>\n  </rdf:RDF>\n </metadata>\n <defs>\n  <style type=\"text/css\">*{stroke-linecap:butt;stroke-linejoin:round;}</style>\n </defs>\n <g id=\"figure_1\">\n  <g id=\"patch_1\">\n   <path d=\"M -0 262.474375 \nL 392.284489 262.474375 \nL 392.284489 0 \nL -0 0 \nz\n\" style=\"fill:none;\"/>\n  </g>\n  <g id=\"axes_1\">\n   <g id=\"patch_2\">\n    <path d=\"M 46.965625 224.64 \nL 381.765625 224.64 \nL 381.765625 7.2 \nL 46.965625 7.2 \nz\n\" style=\"fill:#ffffff;\"/>\n   </g>\n   <g id=\"patch_3\">\n    <path clip-path=\"url(#p33844fdda6)\" d=\"M 47.574352 224.64 \nL 52.44417 224.64 \nL 52.44417 157.724548 \nL 47.574352 157.724548 \nz\n\" style=\"fill:#ea96a3;\"/>\n   </g>\n   <g id=\"patch_4\">\n    <path clip-path=\"url(#p33844fdda6)\" d=\"M 53.661625 224.64 \nL 58.531443 224.64 \nL 58.531443 179.560117 \nL 53.661625 179.560117 \nz\n\" style=\"fill:#ea979a;\"/>\n   </g>\n   <g id=\"patch_5\">\n    <path clip-path=\"url(#p33844fdda6)\" d=\"M 59.748898 224.64 \nL 64.618716 224.64 \nL 64.618716 139.410845 \nL 59.748898 139.410845 \nz\n\" style=\"fill:#e9978e;\"/>\n   </g>\n   <g id=\"patch_6\">\n    <path clip-path=\"url(#p33844fdda6)\" d=\"M 65.83617 224.64 \nL 70.705989 224.64 \nL 70.705989 109.122799 \nL 65.83617 109.122799 \nz\n\" style=\"fill:#e7957f;\"/>\n   </g>\n   <g id=\"patch_7\">\n    <path clip-path=\"url(#p33844fdda6)\" d=\"M 71.923443 224.64 \nL 76.793261 224.64 \nL 76.793261 73.199767 \nL 71.923443 73.199767 \nz\n\" style=\"fill:#e49368;\"/>\n   </g>\n   <g id=\"patch_8\">\n    <path clip-path=\"url(#p33844fdda6)\" d=\"M 78.010716 224.64 \nL 82.880534 224.64 \nL 82.880534 61.929796 \nL 78.010716 61.929796 \nz\n\" style=\"fill:#dc924e;\"/>\n   </g>\n   <g id=\"patch_9\">\n    <path clip-path=\"url(#p33844fdda6)\" d=\"M 84.097989 224.64 \nL 88.967807 224.64 \nL 88.967807 34.459242 \nL 84.097989 34.459242 \nz\n\" style=\"fill:#d2954d;\"/>\n   </g>\n   <g id=\"patch_10\">\n    <path clip-path=\"url(#p33844fdda6)\" d=\"M 90.185261 224.64 \nL 95.05508 224.64 \nL 95.05508 21.076152 \nL 90.185261 21.076152 \nz\n\" style=\"fill:#c9984c;\"/>\n   </g>\n   <g id=\"patch_11\">\n    <path clip-path=\"url(#p33844fdda6)\" d=\"M 96.272534 224.64 \nL 101.142352 224.64 \nL 101.142352 59.816676 \nL 96.272534 59.816676 \nz\n\" style=\"fill:#c19a4a;\"/>\n   </g>\n   <g id=\"patch_12\">\n    <path clip-path=\"url(#p33844fdda6)\" d=\"M 102.359807 224.64 \nL 107.229625 224.64 \nL 107.229625 17.554286 \nL 102.359807 17.554286 \nz\n\" style=\"fill:#ba9b49;\"/>\n   </g>\n   <g id=\"patch_13\">\n    <path clip-path=\"url(#p33844fdda6)\" d=\"M 108.44708 224.64 \nL 113.316898 224.64 \nL 113.316898 35.867988 \nL 108.44708 35.867988 \nz\n\" style=\"fill:#b39d48;\"/>\n   </g>\n   <g id=\"patch_14\">\n    <path clip-path=\"url(#p33844fdda6)\" d=\"M 114.534352 224.64 \nL 119.40417 224.64 \nL 119.40417 43.616093 \nL 114.534352 43.616093 \nz\n\" style=\"fill:#ab9e47;\"/>\n   </g>\n   <g id=\"patch_15\">\n    <path clip-path=\"url(#p33844fdda6)\" d=\"M 120.621625 224.64 \nL 125.491443 224.64 \nL 125.491443 82.356618 \nL 120.621625 82.356618 \nz\n\" style=\"fill:#a49f46;\"/>\n   </g>\n   <g id=\"patch_16\">\n    <path clip-path=\"url(#p33844fdda6)\" d=\"M 126.708898 224.64 \nL 131.578716 224.64 \nL 131.578716 79.539125 \nL 126.708898 79.539125 \nz\n\" style=\"fill:#9da045;\"/>\n   </g>\n   <g id=\"patch_17\">\n    <path clip-path=\"url(#p33844fdda6)\" d=\"M 132.79617 224.64 \nL 137.665989 224.64 \nL 137.665989 105.600933 \nL 132.79617 105.600933 \nz\n\" style=\"fill:#96a346;\"/>\n   </g>\n   <g id=\"patch_18\">\n    <path clip-path=\"url(#p33844fdda6)\" d=\"M 138.883443 224.64 \nL 143.753261 224.64 \nL 143.753261 102.079067 \nL 138.883443 102.079067 \nz\n\" style=\"fill:#8ea546;\"/>\n   </g>\n   <g id=\"patch_19\">\n    <path clip-path=\"url(#p33844fdda6)\" d=\"M 144.970716 224.64 \nL 149.840534 224.64 \nL 149.840534 118.984023 \nL 144.970716 118.984023 \nz\n\" style=\"fill:#85a746;\"/>\n   </g>\n   <g id=\"patch_20\">\n    <path clip-path=\"url(#p33844fdda6)\" d=\"M 151.057989 224.64 \nL 155.927807 224.64 \nL 155.927807 126.027755 \nL 151.057989 126.027755 \nz\n\" style=\"fill:#79aa47;\"/>\n   </g>\n   <g id=\"patch_21\">\n    <path clip-path=\"url(#p33844fdda6)\" d=\"M 157.145261 224.64 \nL 162.01508 224.64 \nL 162.01508 142.932711 \nL 157.145261 142.932711 \nz\n\" style=\"fill:#68ad47;\"/>\n   </g>\n   <g id=\"patch_22\">\n    <path clip-path=\"url(#p33844fdda6)\" d=\"M 163.232534 224.64 \nL 168.102352 224.64 \nL 168.102352 99.965948 \nL 163.232534 99.965948 \nz\n\" style=\"fill:#48b147;\"/>\n   </g>\n   <g id=\"patch_23\">\n    <path clip-path=\"url(#p33844fdda6)\" d=\"M 169.319807 224.64 \nL 174.189625 224.64 \nL 174.189625 147.863324 \nL 169.319807 147.863324 \nz\n\" style=\"fill:#48b067;\"/>\n   </g>\n   <g id=\"patch_24\">\n    <path clip-path=\"url(#p33844fdda6)\" d=\"M 175.40708 224.64 \nL 180.276898 224.64 \nL 180.276898 158.428921 \nL 175.40708 158.428921 \nz\n\" style=\"fill:#49af77;\"/>\n   </g>\n   <g id=\"patch_25\">\n    <path clip-path=\"url(#p33844fdda6)\" d=\"M 181.494352 224.64 \nL 186.36417 224.64 \nL 186.36417 149.976443 \nL 181.494352 149.976443 \nz\n\" style=\"fill:#49ae83;\"/>\n   </g>\n   <g id=\"patch_26\">\n    <path clip-path=\"url(#p33844fdda6)\" d=\"M 187.581625 224.64 \nL 192.451443 224.64 \nL 192.451443 169.698892 \nL 187.581625 169.698892 \nz\n\" style=\"fill:#4aad8b;\"/>\n   </g>\n   <g id=\"patch_27\">\n    <path clip-path=\"url(#p33844fdda6)\" d=\"M 193.668898 224.64 \nL 198.538716 224.64 \nL 198.538716 161.950787 \nL 193.668898 161.950787 \nz\n\" style=\"fill:#4aad92;\"/>\n   </g>\n   <g id=\"patch_28\">\n    <path clip-path=\"url(#p33844fdda6)\" d=\"M 199.75617 224.64 \nL 204.625989 224.64 \nL 204.625989 176.742624 \nL 199.75617 176.742624 \nz\n\" style=\"fill:#4aac98;\"/>\n   </g>\n   <g id=\"patch_29\">\n    <path clip-path=\"url(#p33844fdda6)\" d=\"M 205.843443 224.64 \nL 210.713261 224.64 \nL 210.713261 187.308222 \nL 205.843443 187.308222 \nz\n\" style=\"fill:#4bac9d;\"/>\n   </g>\n   <g id=\"patch_30\">\n    <path clip-path=\"url(#p33844fdda6)\" d=\"M 211.930716 224.64 \nL 216.800534 224.64 \nL 216.800534 185.195102 \nL 211.930716 185.195102 \nz\n\" style=\"fill:#4baba2;\"/>\n   </g>\n   <g id=\"patch_31\">\n    <path clip-path=\"url(#p33844fdda6)\" d=\"M 218.017989 224.64 \nL 222.887807 224.64 \nL 222.887807 176.038251 \nL 218.017989 176.038251 \nz\n\" style=\"fill:#4baba6;\"/>\n   </g>\n   <g id=\"patch_32\">\n    <path clip-path=\"url(#p33844fdda6)\" d=\"M 224.105261 224.64 \nL 228.97508 224.64 \nL 228.97508 188.716968 \nL 224.105261 188.716968 \nz\n\" style=\"fill:#4babab;\"/>\n   </g>\n   <g id=\"patch_33\">\n    <path clip-path=\"url(#p33844fdda6)\" d=\"M 230.192534 224.64 \nL 235.062352 224.64 \nL 235.062352 196.465073 \nL 230.192534 196.465073 \nz\n\" style=\"fill:#4dabb0;\"/>\n   </g>\n   <g id=\"patch_34\">\n    <path clip-path=\"url(#p33844fdda6)\" d=\"M 236.279807 224.64 \nL 241.149625 224.64 \nL 241.149625 198.578192 \nL 236.279807 198.578192 \nz\n\" style=\"fill:#4eabb6;\"/>\n   </g>\n   <g id=\"patch_35\">\n    <path clip-path=\"url(#p33844fdda6)\" d=\"M 242.36708 224.64 \nL 247.236898 224.64 \nL 247.236898 189.421341 \nL 242.36708 189.421341 \nz\n\" style=\"fill:#4fabbc;\"/>\n   </g>\n   <g id=\"patch_36\">\n    <path clip-path=\"url(#p33844fdda6)\" d=\"M 248.454352 224.64 \nL 253.32417 224.64 \nL 253.32417 197.169446 \nL 248.454352 197.169446 \nz\n\" style=\"fill:#50acc3;\"/>\n   </g>\n   <g id=\"patch_37\">\n    <path clip-path=\"url(#p33844fdda6)\" d=\"M 254.541625 224.64 \nL 259.411443 224.64 \nL 259.411443 188.012595 \nL 254.541625 188.012595 \nz\n\" style=\"fill:#52acca;\"/>\n   </g>\n   <g id=\"patch_38\">\n    <path clip-path=\"url(#p33844fdda6)\" d=\"M 260.628898 224.64 \nL 265.498716 224.64 \nL 265.498716 210.552536 \nL 260.628898 210.552536 \nz\n\" style=\"fill:#54acd3;\"/>\n   </g>\n   <g id=\"patch_39\">\n    <path clip-path=\"url(#p33844fdda6)\" d=\"M 266.71617 224.64 \nL 271.585989 224.64 \nL 271.585989 202.804431 \nL 266.71617 202.804431 \nz\n\" style=\"fill:#57adde;\"/>\n   </g>\n   <g id=\"patch_40\">\n    <path clip-path=\"url(#p33844fdda6)\" d=\"M 272.803443 224.64 \nL 277.673261 224.64 \nL 277.673261 203.508805 \nL 272.803443 203.508805 \nz\n\" style=\"fill:#76aee4;\"/>\n   </g>\n   <g id=\"patch_41\">\n    <path clip-path=\"url(#p33844fdda6)\" d=\"M 278.890716 224.64 \nL 283.760534 224.64 \nL 283.760534 192.943207 \nL 278.890716 192.943207 \nz\n\" style=\"fill:#8baee7;\"/>\n   </g>\n   <g id=\"patch_42\">\n    <path clip-path=\"url(#p33844fdda6)\" d=\"M 284.977989 224.64 \nL 289.847807 224.64 \nL 289.847807 207.030671 \nL 284.977989 207.030671 \nz\n\" style=\"fill:#9cade9;\"/>\n   </g>\n   <g id=\"patch_43\">\n    <path clip-path=\"url(#p33844fdda6)\" d=\"M 291.065261 224.64 \nL 295.93508 224.64 \nL 295.93508 214.074402 \nL 291.065261 214.074402 \nz\n\" style=\"fill:#a9aceb;\"/>\n   </g>\n   <g id=\"patch_44\">\n    <path clip-path=\"url(#p33844fdda6)\" d=\"M 297.152534 224.64 \nL 302.022352 224.64 \nL 302.022352 215.483149 \nL 297.152534 215.483149 \nz\n\" style=\"fill:#b4a9eb;\"/>\n   </g>\n   <g id=\"patch_45\">\n    <path clip-path=\"url(#p33844fdda6)\" d=\"M 303.239807 224.64 \nL 308.109625 224.64 \nL 308.109625 208.439417 \nL 303.239807 208.439417 \nz\n\" style=\"fill:#bda5ea;\"/>\n   </g>\n   <g id=\"patch_46\">\n    <path clip-path=\"url(#p33844fdda6)\" d=\"M 309.32708 224.64 \nL 314.196898 224.64 \nL 314.196898 211.961283 \nL 309.32708 211.961283 \nz\n\" style=\"fill:#c5a0ea;\"/>\n   </g>\n   <g id=\"patch_47\">\n    <path clip-path=\"url(#p33844fdda6)\" d=\"M 315.414352 224.64 \nL 320.28417 224.64 \nL 320.28417 210.552536 \nL 315.414352 210.552536 \nz\n\" style=\"fill:#ce9be9;\"/>\n   </g>\n   <g id=\"patch_48\">\n    <path clip-path=\"url(#p33844fdda6)\" d=\"M 321.501625 224.64 \nL 326.371443 224.64 \nL 326.371443 213.370029 \nL 321.501625 213.370029 \nz\n\" style=\"fill:#d795e8;\"/>\n   </g>\n   <g id=\"patch_49\">\n    <path clip-path=\"url(#p33844fdda6)\" d=\"M 327.588898 224.64 \nL 332.458716 224.64 \nL 332.458716 216.187522 \nL 327.588898 216.187522 \nz\n\" style=\"fill:#e08ee7;\"/>\n   </g>\n   <g id=\"patch_50\">\n    <path clip-path=\"url(#p33844fdda6)\" d=\"M 333.67617 224.64 \nL 338.545989 224.64 \nL 338.545989 213.370029 \nL 333.67617 213.370029 \nz\n\" style=\"fill:#e689e2;\"/>\n   </g>\n   <g id=\"patch_51\">\n    <path clip-path=\"url(#p33844fdda6)\" d=\"M 339.763443 224.64 \nL 344.633261 224.64 \nL 344.633261 216.891895 \nL 339.763443 216.891895 \nz\n\" style=\"fill:#e78cd8;\"/>\n   </g>\n   <g id=\"patch_52\">\n    <path clip-path=\"url(#p33844fdda6)\" d=\"M 345.850716 224.64 \nL 350.720534 224.64 \nL 350.720534 213.370029 \nL 345.850716 213.370029 \nz\n\" style=\"fill:#e88ed0;\"/>\n   </g>\n   <g id=\"patch_53\">\n    <path clip-path=\"url(#p33844fdda6)\" d=\"M 351.937989 224.64 \nL 356.807807 224.64 \nL 356.807807 219.709388 \nL 351.937989 219.709388 \nz\n\" style=\"fill:#e88fc9;\"/>\n   </g>\n   <g id=\"patch_54\">\n    <path clip-path=\"url(#p33844fdda6)\" d=\"M 358.025261 224.64 \nL 362.89508 224.64 \nL 362.89508 214.074402 \nL 358.025261 214.074402 \nz\n\" style=\"fill:#e891c2;\"/>\n   </g>\n   <g id=\"patch_55\">\n    <path clip-path=\"url(#p33844fdda6)\" d=\"M 364.112534 224.64 \nL 368.982352 224.64 \nL 368.982352 221.118134 \nL 364.112534 221.118134 \nz\n\" style=\"fill:#e992bb;\"/>\n   </g>\n   <g id=\"patch_56\">\n    <path clip-path=\"url(#p33844fdda6)\" d=\"M 370.199807 224.64 \nL 375.069625 224.64 \nL 375.069625 217.596268 \nL 370.199807 217.596268 \nz\n\" style=\"fill:#e993b4;\"/>\n   </g>\n   <g id=\"patch_57\">\n    <path clip-path=\"url(#p33844fdda6)\" d=\"M 376.28708 224.64 \nL 381.156898 224.64 \nL 381.156898 95.035335 \nL 376.28708 95.035335 \nz\n\" style=\"fill:#e995ac;\"/>\n   </g>\n   <g id=\"matplotlib.axis_1\">\n    <g id=\"xtick_1\">\n     <g id=\"line2d_1\">\n      <defs>\n       <path d=\"M 0 0 \nL 0 3.5 \n\" id=\"m5ddbca3b27\" style=\"stroke:#000000;stroke-width:0.8;\"/>\n      </defs>\n      <g>\n       <use style=\"stroke:#000000;stroke-width:0.8;\" x=\"50.009261\" xlink:href=\"#m5ddbca3b27\" y=\"224.64\"/>\n      </g>\n     </g>\n     <g id=\"text_1\">\n      <!-- 1 -->\n      <g transform=\"translate(46.828011 239.238438)scale(0.1 -0.1)\">\n       <defs>\n        <path d=\"M 12.40625 8.296875 \nL 28.515625 8.296875 \nL 28.515625 63.921875 \nL 10.984375 60.40625 \nL 10.984375 69.390625 \nL 28.421875 72.90625 \nL 38.28125 72.90625 \nL 38.28125 8.296875 \nL 54.390625 8.296875 \nL 54.390625 0 \nL 12.40625 0 \nz\n\" id=\"DejaVuSans-49\"/>\n       </defs>\n       <use xlink:href=\"#DejaVuSans-49\"/>\n      </g>\n     </g>\n    </g>\n    <g id=\"xtick_2\">\n     <g id=\"line2d_2\">\n      <g>\n       <use style=\"stroke:#000000;stroke-width:0.8;\" x=\"56.096534\" xlink:href=\"#m5ddbca3b27\" y=\"224.64\"/>\n      </g>\n     </g>\n     <g id=\"text_2\">\n      <!-- 2 -->\n      <g transform=\"translate(52.915284 239.238438)scale(0.1 -0.1)\">\n       <defs>\n        <path d=\"M 19.1875 8.296875 \nL 53.609375 8.296875 \nL 53.609375 0 \nL 7.328125 0 \nL 7.328125 8.296875 \nQ 12.9375 14.109375 22.625 23.890625 \nQ 32.328125 33.6875 34.8125 36.53125 \nQ 39.546875 41.84375 41.421875 45.53125 \nQ 43.3125 49.21875 43.3125 52.78125 \nQ 43.3125 58.59375 39.234375 62.25 \nQ 35.15625 65.921875 28.609375 65.921875 \nQ 23.96875 65.921875 18.8125 64.3125 \nQ 13.671875 62.703125 7.8125 59.421875 \nL 7.8125 69.390625 \nQ 13.765625 71.78125 18.9375 73 \nQ 24.125 74.21875 28.421875 74.21875 \nQ 39.75 74.21875 46.484375 68.546875 \nQ 53.21875 62.890625 53.21875 53.421875 \nQ 53.21875 48.921875 51.53125 44.890625 \nQ 49.859375 40.875 45.40625 35.40625 \nQ 44.1875 33.984375 37.640625 27.21875 \nQ 31.109375 20.453125 19.1875 8.296875 \nz\n\" id=\"DejaVuSans-50\"/>\n       </defs>\n       <use xlink:href=\"#DejaVuSans-50\"/>\n      </g>\n     </g>\n    </g>\n    <g id=\"xtick_3\">\n     <g id=\"line2d_3\">\n      <g>\n       <use style=\"stroke:#000000;stroke-width:0.8;\" x=\"62.183807\" xlink:href=\"#m5ddbca3b27\" y=\"224.64\"/>\n      </g>\n     </g>\n     <g id=\"text_3\">\n      <!-- 3 -->\n      <g transform=\"translate(59.002557 239.238438)scale(0.1 -0.1)\">\n       <defs>\n        <path d=\"M 40.578125 39.3125 \nQ 47.65625 37.796875 51.625 33 \nQ 55.609375 28.21875 55.609375 21.1875 \nQ 55.609375 10.40625 48.1875 4.484375 \nQ 40.765625 -1.421875 27.09375 -1.421875 \nQ 22.515625 -1.421875 17.65625 -0.515625 \nQ 12.796875 0.390625 7.625 2.203125 \nL 7.625 11.71875 \nQ 11.71875 9.328125 16.59375 8.109375 \nQ 21.484375 6.890625 26.8125 6.890625 \nQ 36.078125 6.890625 40.9375 10.546875 \nQ 45.796875 14.203125 45.796875 21.1875 \nQ 45.796875 27.640625 41.28125 31.265625 \nQ 36.765625 34.90625 28.71875 34.90625 \nL 20.21875 34.90625 \nL 20.21875 43.015625 \nL 29.109375 43.015625 \nQ 36.375 43.015625 40.234375 45.921875 \nQ 44.09375 48.828125 44.09375 54.296875 \nQ 44.09375 59.90625 40.109375 62.90625 \nQ 36.140625 65.921875 28.71875 65.921875 \nQ 24.65625 65.921875 20.015625 65.03125 \nQ 15.375 64.15625 9.8125 62.3125 \nL 9.8125 71.09375 \nQ 15.4375 72.65625 20.34375 73.4375 \nQ 25.25 74.21875 29.59375 74.21875 \nQ 40.828125 74.21875 47.359375 69.109375 \nQ 53.90625 64.015625 53.90625 55.328125 \nQ 53.90625 49.265625 50.4375 45.09375 \nQ 46.96875 40.921875 40.578125 39.3125 \nz\n\" id=\"DejaVuSans-51\"/>\n       </defs>\n       <use xlink:href=\"#DejaVuSans-51\"/>\n      </g>\n     </g>\n    </g>\n    <g id=\"xtick_4\">\n     <g id=\"line2d_4\">\n      <g>\n       <use style=\"stroke:#000000;stroke-width:0.8;\" x=\"68.27108\" xlink:href=\"#m5ddbca3b27\" y=\"224.64\"/>\n      </g>\n     </g>\n     <g id=\"text_4\">\n      <!-- 4 -->\n      <g transform=\"translate(65.08983 239.238438)scale(0.1 -0.1)\">\n       <defs>\n        <path d=\"M 37.796875 64.3125 \nL 12.890625 25.390625 \nL 37.796875 25.390625 \nz\nM 35.203125 72.90625 \nL 47.609375 72.90625 \nL 47.609375 25.390625 \nL 58.015625 25.390625 \nL 58.015625 17.1875 \nL 47.609375 17.1875 \nL 47.609375 0 \nL 37.796875 0 \nL 37.796875 17.1875 \nL 4.890625 17.1875 \nL 4.890625 26.703125 \nz\n\" id=\"DejaVuSans-52\"/>\n       </defs>\n       <use xlink:href=\"#DejaVuSans-52\"/>\n      </g>\n     </g>\n    </g>\n    <g id=\"xtick_5\">\n     <g id=\"line2d_5\">\n      <g>\n       <use style=\"stroke:#000000;stroke-width:0.8;\" x=\"74.358352\" xlink:href=\"#m5ddbca3b27\" y=\"224.64\"/>\n      </g>\n     </g>\n     <g id=\"text_5\">\n      <!-- 5 -->\n      <g transform=\"translate(71.177102 239.238438)scale(0.1 -0.1)\">\n       <defs>\n        <path d=\"M 10.796875 72.90625 \nL 49.515625 72.90625 \nL 49.515625 64.59375 \nL 19.828125 64.59375 \nL 19.828125 46.734375 \nQ 21.96875 47.46875 24.109375 47.828125 \nQ 26.265625 48.1875 28.421875 48.1875 \nQ 40.625 48.1875 47.75 41.5 \nQ 54.890625 34.8125 54.890625 23.390625 \nQ 54.890625 11.625 47.5625 5.09375 \nQ 40.234375 -1.421875 26.90625 -1.421875 \nQ 22.3125 -1.421875 17.546875 -0.640625 \nQ 12.796875 0.140625 7.71875 1.703125 \nL 7.71875 11.625 \nQ 12.109375 9.234375 16.796875 8.0625 \nQ 21.484375 6.890625 26.703125 6.890625 \nQ 35.15625 6.890625 40.078125 11.328125 \nQ 45.015625 15.765625 45.015625 23.390625 \nQ 45.015625 31 40.078125 35.4375 \nQ 35.15625 39.890625 26.703125 39.890625 \nQ 22.75 39.890625 18.8125 39.015625 \nQ 14.890625 38.140625 10.796875 36.28125 \nz\n\" id=\"DejaVuSans-53\"/>\n       </defs>\n       <use xlink:href=\"#DejaVuSans-53\"/>\n      </g>\n     </g>\n    </g>\n    <g id=\"xtick_6\">\n     <g id=\"line2d_6\">\n      <g>\n       <use style=\"stroke:#000000;stroke-width:0.8;\" x=\"80.445625\" xlink:href=\"#m5ddbca3b27\" y=\"224.64\"/>\n      </g>\n     </g>\n     <g id=\"text_6\">\n      <!-- 6 -->\n      <g transform=\"translate(77.264375 239.238438)scale(0.1 -0.1)\">\n       <defs>\n        <path d=\"M 33.015625 40.375 \nQ 26.375 40.375 22.484375 35.828125 \nQ 18.609375 31.296875 18.609375 23.390625 \nQ 18.609375 15.53125 22.484375 10.953125 \nQ 26.375 6.390625 33.015625 6.390625 \nQ 39.65625 6.390625 43.53125 10.953125 \nQ 47.40625 15.53125 47.40625 23.390625 \nQ 47.40625 31.296875 43.53125 35.828125 \nQ 39.65625 40.375 33.015625 40.375 \nz\nM 52.59375 71.296875 \nL 52.59375 62.3125 \nQ 48.875 64.0625 45.09375 64.984375 \nQ 41.3125 65.921875 37.59375 65.921875 \nQ 27.828125 65.921875 22.671875 59.328125 \nQ 17.53125 52.734375 16.796875 39.40625 \nQ 19.671875 43.65625 24.015625 45.921875 \nQ 28.375 48.1875 33.59375 48.1875 \nQ 44.578125 48.1875 50.953125 41.515625 \nQ 57.328125 34.859375 57.328125 23.390625 \nQ 57.328125 12.15625 50.6875 5.359375 \nQ 44.046875 -1.421875 33.015625 -1.421875 \nQ 20.359375 -1.421875 13.671875 8.265625 \nQ 6.984375 17.96875 6.984375 36.375 \nQ 6.984375 53.65625 15.1875 63.9375 \nQ 23.390625 74.21875 37.203125 74.21875 \nQ 40.921875 74.21875 44.703125 73.484375 \nQ 48.484375 72.75 52.59375 71.296875 \nz\n\" id=\"DejaVuSans-54\"/>\n       </defs>\n       <use xlink:href=\"#DejaVuSans-54\"/>\n      </g>\n     </g>\n    </g>\n    <g id=\"xtick_7\">\n     <g id=\"line2d_7\">\n      <g>\n       <use style=\"stroke:#000000;stroke-width:0.8;\" x=\"86.532898\" xlink:href=\"#m5ddbca3b27\" y=\"224.64\"/>\n      </g>\n     </g>\n     <g id=\"text_7\">\n      <!-- 7 -->\n      <g transform=\"translate(83.351648 239.238438)scale(0.1 -0.1)\">\n       <defs>\n        <path d=\"M 8.203125 72.90625 \nL 55.078125 72.90625 \nL 55.078125 68.703125 \nL 28.609375 0 \nL 18.3125 0 \nL 43.21875 64.59375 \nL 8.203125 64.59375 \nz\n\" id=\"DejaVuSans-55\"/>\n       </defs>\n       <use xlink:href=\"#DejaVuSans-55\"/>\n      </g>\n     </g>\n    </g>\n    <g id=\"xtick_8\">\n     <g id=\"line2d_8\">\n      <g>\n       <use style=\"stroke:#000000;stroke-width:0.8;\" x=\"92.62017\" xlink:href=\"#m5ddbca3b27\" y=\"224.64\"/>\n      </g>\n     </g>\n     <g id=\"text_8\">\n      <!-- 8 -->\n      <g transform=\"translate(89.43892 239.238438)scale(0.1 -0.1)\">\n       <defs>\n        <path d=\"M 31.78125 34.625 \nQ 24.75 34.625 20.71875 30.859375 \nQ 16.703125 27.09375 16.703125 20.515625 \nQ 16.703125 13.921875 20.71875 10.15625 \nQ 24.75 6.390625 31.78125 6.390625 \nQ 38.8125 6.390625 42.859375 10.171875 \nQ 46.921875 13.96875 46.921875 20.515625 \nQ 46.921875 27.09375 42.890625 30.859375 \nQ 38.875 34.625 31.78125 34.625 \nz\nM 21.921875 38.8125 \nQ 15.578125 40.375 12.03125 44.71875 \nQ 8.5 49.078125 8.5 55.328125 \nQ 8.5 64.0625 14.71875 69.140625 \nQ 20.953125 74.21875 31.78125 74.21875 \nQ 42.671875 74.21875 48.875 69.140625 \nQ 55.078125 64.0625 55.078125 55.328125 \nQ 55.078125 49.078125 51.53125 44.71875 \nQ 48 40.375 41.703125 38.8125 \nQ 48.828125 37.15625 52.796875 32.3125 \nQ 56.78125 27.484375 56.78125 20.515625 \nQ 56.78125 9.90625 50.3125 4.234375 \nQ 43.84375 -1.421875 31.78125 -1.421875 \nQ 19.734375 -1.421875 13.25 4.234375 \nQ 6.78125 9.90625 6.78125 20.515625 \nQ 6.78125 27.484375 10.78125 32.3125 \nQ 14.796875 37.15625 21.921875 38.8125 \nz\nM 18.3125 54.390625 \nQ 18.3125 48.734375 21.84375 45.5625 \nQ 25.390625 42.390625 31.78125 42.390625 \nQ 38.140625 42.390625 41.71875 45.5625 \nQ 45.3125 48.734375 45.3125 54.390625 \nQ 45.3125 60.0625 41.71875 63.234375 \nQ 38.140625 66.40625 31.78125 66.40625 \nQ 25.390625 66.40625 21.84375 63.234375 \nQ 18.3125 60.0625 18.3125 54.390625 \nz\n\" id=\"DejaVuSans-56\"/>\n       </defs>\n       <use xlink:href=\"#DejaVuSans-56\"/>\n      </g>\n     </g>\n    </g>\n    <g id=\"xtick_9\">\n     <g id=\"line2d_9\">\n      <g>\n       <use style=\"stroke:#000000;stroke-width:0.8;\" x=\"98.707443\" xlink:href=\"#m5ddbca3b27\" y=\"224.64\"/>\n      </g>\n     </g>\n     <g id=\"text_9\">\n      <!-- 9 -->\n      <g transform=\"translate(95.526193 239.238438)scale(0.1 -0.1)\">\n       <defs>\n        <path d=\"M 10.984375 1.515625 \nL 10.984375 10.5 \nQ 14.703125 8.734375 18.5 7.8125 \nQ 22.3125 6.890625 25.984375 6.890625 \nQ 35.75 6.890625 40.890625 13.453125 \nQ 46.046875 20.015625 46.78125 33.40625 \nQ 43.953125 29.203125 39.59375 26.953125 \nQ 35.25 24.703125 29.984375 24.703125 \nQ 19.046875 24.703125 12.671875 31.3125 \nQ 6.296875 37.9375 6.296875 49.421875 \nQ 6.296875 60.640625 12.9375 67.421875 \nQ 19.578125 74.21875 30.609375 74.21875 \nQ 43.265625 74.21875 49.921875 64.515625 \nQ 56.59375 54.828125 56.59375 36.375 \nQ 56.59375 19.140625 48.40625 8.859375 \nQ 40.234375 -1.421875 26.421875 -1.421875 \nQ 22.703125 -1.421875 18.890625 -0.6875 \nQ 15.09375 0.046875 10.984375 1.515625 \nz\nM 30.609375 32.421875 \nQ 37.25 32.421875 41.125 36.953125 \nQ 45.015625 41.5 45.015625 49.421875 \nQ 45.015625 57.28125 41.125 61.84375 \nQ 37.25 66.40625 30.609375 66.40625 \nQ 23.96875 66.40625 20.09375 61.84375 \nQ 16.21875 57.28125 16.21875 49.421875 \nQ 16.21875 41.5 20.09375 36.953125 \nQ 23.96875 32.421875 30.609375 32.421875 \nz\n\" id=\"DejaVuSans-57\"/>\n       </defs>\n       <use xlink:href=\"#DejaVuSans-57\"/>\n      </g>\n     </g>\n    </g>\n    <g id=\"xtick_10\">\n     <g id=\"line2d_10\">\n      <g>\n       <use style=\"stroke:#000000;stroke-width:0.8;\" x=\"104.794716\" xlink:href=\"#m5ddbca3b27\" y=\"224.64\"/>\n      </g>\n     </g>\n     <g id=\"text_10\">\n      <!-- 10 -->\n      <g transform=\"translate(98.432216 239.238438)scale(0.1 -0.1)\">\n       <defs>\n        <path d=\"M 31.78125 66.40625 \nQ 24.171875 66.40625 20.328125 58.90625 \nQ 16.5 51.421875 16.5 36.375 \nQ 16.5 21.390625 20.328125 13.890625 \nQ 24.171875 6.390625 31.78125 6.390625 \nQ 39.453125 6.390625 43.28125 13.890625 \nQ 47.125 21.390625 47.125 36.375 \nQ 47.125 51.421875 43.28125 58.90625 \nQ 39.453125 66.40625 31.78125 66.40625 \nz\nM 31.78125 74.21875 \nQ 44.046875 74.21875 50.515625 64.515625 \nQ 56.984375 54.828125 56.984375 36.375 \nQ 56.984375 17.96875 50.515625 8.265625 \nQ 44.046875 -1.421875 31.78125 -1.421875 \nQ 19.53125 -1.421875 13.0625 8.265625 \nQ 6.59375 17.96875 6.59375 36.375 \nQ 6.59375 54.828125 13.0625 64.515625 \nQ 19.53125 74.21875 31.78125 74.21875 \nz\n\" id=\"DejaVuSans-48\"/>\n       </defs>\n       <use xlink:href=\"#DejaVuSans-49\"/>\n       <use x=\"63.623047\" xlink:href=\"#DejaVuSans-48\"/>\n      </g>\n     </g>\n    </g>\n    <g id=\"xtick_11\">\n     <g id=\"line2d_11\">\n      <g>\n       <use style=\"stroke:#000000;stroke-width:0.8;\" x=\"110.881989\" xlink:href=\"#m5ddbca3b27\" y=\"224.64\"/>\n      </g>\n     </g>\n     <g id=\"text_11\">\n      <!-- 11 -->\n      <g transform=\"translate(104.519489 239.238438)scale(0.1 -0.1)\">\n       <use xlink:href=\"#DejaVuSans-49\"/>\n       <use x=\"63.623047\" xlink:href=\"#DejaVuSans-49\"/>\n      </g>\n     </g>\n    </g>\n    <g id=\"xtick_12\">\n     <g id=\"line2d_12\">\n      <g>\n       <use style=\"stroke:#000000;stroke-width:0.8;\" x=\"116.969261\" xlink:href=\"#m5ddbca3b27\" y=\"224.64\"/>\n      </g>\n     </g>\n     <g id=\"text_12\">\n      <!-- 12 -->\n      <g transform=\"translate(110.606761 239.238438)scale(0.1 -0.1)\">\n       <use xlink:href=\"#DejaVuSans-49\"/>\n       <use x=\"63.623047\" xlink:href=\"#DejaVuSans-50\"/>\n      </g>\n     </g>\n    </g>\n    <g id=\"xtick_13\">\n     <g id=\"line2d_13\">\n      <g>\n       <use style=\"stroke:#000000;stroke-width:0.8;\" x=\"123.056534\" xlink:href=\"#m5ddbca3b27\" y=\"224.64\"/>\n      </g>\n     </g>\n     <g id=\"text_13\">\n      <!-- 13 -->\n      <g transform=\"translate(116.694034 239.238438)scale(0.1 -0.1)\">\n       <use xlink:href=\"#DejaVuSans-49\"/>\n       <use x=\"63.623047\" xlink:href=\"#DejaVuSans-51\"/>\n      </g>\n     </g>\n    </g>\n    <g id=\"xtick_14\">\n     <g id=\"line2d_14\">\n      <g>\n       <use style=\"stroke:#000000;stroke-width:0.8;\" x=\"129.143807\" xlink:href=\"#m5ddbca3b27\" y=\"224.64\"/>\n      </g>\n     </g>\n     <g id=\"text_14\">\n      <!-- 14 -->\n      <g transform=\"translate(122.781307 239.238438)scale(0.1 -0.1)\">\n       <use xlink:href=\"#DejaVuSans-49\"/>\n       <use x=\"63.623047\" xlink:href=\"#DejaVuSans-52\"/>\n      </g>\n     </g>\n    </g>\n    <g id=\"xtick_15\">\n     <g id=\"line2d_15\">\n      <g>\n       <use style=\"stroke:#000000;stroke-width:0.8;\" x=\"135.23108\" xlink:href=\"#m5ddbca3b27\" y=\"224.64\"/>\n      </g>\n     </g>\n     <g id=\"text_15\">\n      <!-- 15 -->\n      <g transform=\"translate(128.86858 239.238438)scale(0.1 -0.1)\">\n       <use xlink:href=\"#DejaVuSans-49\"/>\n       <use x=\"63.623047\" xlink:href=\"#DejaVuSans-53\"/>\n      </g>\n     </g>\n    </g>\n    <g id=\"xtick_16\">\n     <g id=\"line2d_16\">\n      <g>\n       <use style=\"stroke:#000000;stroke-width:0.8;\" x=\"141.318352\" xlink:href=\"#m5ddbca3b27\" y=\"224.64\"/>\n      </g>\n     </g>\n     <g id=\"text_16\">\n      <!-- 16 -->\n      <g transform=\"translate(134.955852 239.238438)scale(0.1 -0.1)\">\n       <use xlink:href=\"#DejaVuSans-49\"/>\n       <use x=\"63.623047\" xlink:href=\"#DejaVuSans-54\"/>\n      </g>\n     </g>\n    </g>\n    <g id=\"xtick_17\">\n     <g id=\"line2d_17\">\n      <g>\n       <use style=\"stroke:#000000;stroke-width:0.8;\" x=\"147.405625\" xlink:href=\"#m5ddbca3b27\" y=\"224.64\"/>\n      </g>\n     </g>\n     <g id=\"text_17\">\n      <!-- 17 -->\n      <g transform=\"translate(141.043125 239.238438)scale(0.1 -0.1)\">\n       <use xlink:href=\"#DejaVuSans-49\"/>\n       <use x=\"63.623047\" xlink:href=\"#DejaVuSans-55\"/>\n      </g>\n     </g>\n    </g>\n    <g id=\"xtick_18\">\n     <g id=\"line2d_18\">\n      <g>\n       <use style=\"stroke:#000000;stroke-width:0.8;\" x=\"153.492898\" xlink:href=\"#m5ddbca3b27\" y=\"224.64\"/>\n      </g>\n     </g>\n     <g id=\"text_18\">\n      <!-- 18 -->\n      <g transform=\"translate(147.130398 239.238438)scale(0.1 -0.1)\">\n       <use xlink:href=\"#DejaVuSans-49\"/>\n       <use x=\"63.623047\" xlink:href=\"#DejaVuSans-56\"/>\n      </g>\n     </g>\n    </g>\n    <g id=\"xtick_19\">\n     <g id=\"line2d_19\">\n      <g>\n       <use style=\"stroke:#000000;stroke-width:0.8;\" x=\"159.58017\" xlink:href=\"#m5ddbca3b27\" y=\"224.64\"/>\n      </g>\n     </g>\n     <g id=\"text_19\">\n      <!-- 19 -->\n      <g transform=\"translate(153.21767 239.238438)scale(0.1 -0.1)\">\n       <use xlink:href=\"#DejaVuSans-49\"/>\n       <use x=\"63.623047\" xlink:href=\"#DejaVuSans-57\"/>\n      </g>\n     </g>\n    </g>\n    <g id=\"xtick_20\">\n     <g id=\"line2d_20\">\n      <g>\n       <use style=\"stroke:#000000;stroke-width:0.8;\" x=\"165.667443\" xlink:href=\"#m5ddbca3b27\" y=\"224.64\"/>\n      </g>\n     </g>\n     <g id=\"text_20\">\n      <!-- 20 -->\n      <g transform=\"translate(159.304943 239.238438)scale(0.1 -0.1)\">\n       <use xlink:href=\"#DejaVuSans-50\"/>\n       <use x=\"63.623047\" xlink:href=\"#DejaVuSans-48\"/>\n      </g>\n     </g>\n    </g>\n    <g id=\"xtick_21\">\n     <g id=\"line2d_21\">\n      <g>\n       <use style=\"stroke:#000000;stroke-width:0.8;\" x=\"171.754716\" xlink:href=\"#m5ddbca3b27\" y=\"224.64\"/>\n      </g>\n     </g>\n     <g id=\"text_21\">\n      <!-- 21 -->\n      <g transform=\"translate(165.392216 239.238438)scale(0.1 -0.1)\">\n       <use xlink:href=\"#DejaVuSans-50\"/>\n       <use x=\"63.623047\" xlink:href=\"#DejaVuSans-49\"/>\n      </g>\n     </g>\n    </g>\n    <g id=\"xtick_22\">\n     <g id=\"line2d_22\">\n      <g>\n       <use style=\"stroke:#000000;stroke-width:0.8;\" x=\"177.841989\" xlink:href=\"#m5ddbca3b27\" y=\"224.64\"/>\n      </g>\n     </g>\n     <g id=\"text_22\">\n      <!-- 22 -->\n      <g transform=\"translate(171.479489 239.238438)scale(0.1 -0.1)\">\n       <use xlink:href=\"#DejaVuSans-50\"/>\n       <use x=\"63.623047\" xlink:href=\"#DejaVuSans-50\"/>\n      </g>\n     </g>\n    </g>\n    <g id=\"xtick_23\">\n     <g id=\"line2d_23\">\n      <g>\n       <use style=\"stroke:#000000;stroke-width:0.8;\" x=\"183.929261\" xlink:href=\"#m5ddbca3b27\" y=\"224.64\"/>\n      </g>\n     </g>\n     <g id=\"text_23\">\n      <!-- 23 -->\n      <g transform=\"translate(177.566761 239.238438)scale(0.1 -0.1)\">\n       <use xlink:href=\"#DejaVuSans-50\"/>\n       <use x=\"63.623047\" xlink:href=\"#DejaVuSans-51\"/>\n      </g>\n     </g>\n    </g>\n    <g id=\"xtick_24\">\n     <g id=\"line2d_24\">\n      <g>\n       <use style=\"stroke:#000000;stroke-width:0.8;\" x=\"190.016534\" xlink:href=\"#m5ddbca3b27\" y=\"224.64\"/>\n      </g>\n     </g>\n     <g id=\"text_24\">\n      <!-- 24 -->\n      <g transform=\"translate(183.654034 239.238438)scale(0.1 -0.1)\">\n       <use xlink:href=\"#DejaVuSans-50\"/>\n       <use x=\"63.623047\" xlink:href=\"#DejaVuSans-52\"/>\n      </g>\n     </g>\n    </g>\n    <g id=\"xtick_25\">\n     <g id=\"line2d_25\">\n      <g>\n       <use style=\"stroke:#000000;stroke-width:0.8;\" x=\"196.103807\" xlink:href=\"#m5ddbca3b27\" y=\"224.64\"/>\n      </g>\n     </g>\n     <g id=\"text_25\">\n      <!-- 25 -->\n      <g transform=\"translate(189.741307 239.238438)scale(0.1 -0.1)\">\n       <use xlink:href=\"#DejaVuSans-50\"/>\n       <use x=\"63.623047\" xlink:href=\"#DejaVuSans-53\"/>\n      </g>\n     </g>\n    </g>\n    <g id=\"xtick_26\">\n     <g id=\"line2d_26\">\n      <g>\n       <use style=\"stroke:#000000;stroke-width:0.8;\" x=\"202.19108\" xlink:href=\"#m5ddbca3b27\" y=\"224.64\"/>\n      </g>\n     </g>\n     <g id=\"text_26\">\n      <!-- 26 -->\n      <g transform=\"translate(195.82858 239.238438)scale(0.1 -0.1)\">\n       <use xlink:href=\"#DejaVuSans-50\"/>\n       <use x=\"63.623047\" xlink:href=\"#DejaVuSans-54\"/>\n      </g>\n     </g>\n    </g>\n    <g id=\"xtick_27\">\n     <g id=\"line2d_27\">\n      <g>\n       <use style=\"stroke:#000000;stroke-width:0.8;\" x=\"208.278352\" xlink:href=\"#m5ddbca3b27\" y=\"224.64\"/>\n      </g>\n     </g>\n     <g id=\"text_27\">\n      <!-- 27 -->\n      <g transform=\"translate(201.915852 239.238438)scale(0.1 -0.1)\">\n       <use xlink:href=\"#DejaVuSans-50\"/>\n       <use x=\"63.623047\" xlink:href=\"#DejaVuSans-55\"/>\n      </g>\n     </g>\n    </g>\n    <g id=\"xtick_28\">\n     <g id=\"line2d_28\">\n      <g>\n       <use style=\"stroke:#000000;stroke-width:0.8;\" x=\"214.365625\" xlink:href=\"#m5ddbca3b27\" y=\"224.64\"/>\n      </g>\n     </g>\n     <g id=\"text_28\">\n      <!-- 28 -->\n      <g transform=\"translate(208.003125 239.238438)scale(0.1 -0.1)\">\n       <use xlink:href=\"#DejaVuSans-50\"/>\n       <use x=\"63.623047\" xlink:href=\"#DejaVuSans-56\"/>\n      </g>\n     </g>\n    </g>\n    <g id=\"xtick_29\">\n     <g id=\"line2d_29\">\n      <g>\n       <use style=\"stroke:#000000;stroke-width:0.8;\" x=\"220.452898\" xlink:href=\"#m5ddbca3b27\" y=\"224.64\"/>\n      </g>\n     </g>\n     <g id=\"text_29\">\n      <!-- 29 -->\n      <g transform=\"translate(214.090398 239.238438)scale(0.1 -0.1)\">\n       <use xlink:href=\"#DejaVuSans-50\"/>\n       <use x=\"63.623047\" xlink:href=\"#DejaVuSans-57\"/>\n      </g>\n     </g>\n    </g>\n    <g id=\"xtick_30\">\n     <g id=\"line2d_30\">\n      <g>\n       <use style=\"stroke:#000000;stroke-width:0.8;\" x=\"226.54017\" xlink:href=\"#m5ddbca3b27\" y=\"224.64\"/>\n      </g>\n     </g>\n     <g id=\"text_30\">\n      <!-- 30 -->\n      <g transform=\"translate(220.17767 239.238438)scale(0.1 -0.1)\">\n       <use xlink:href=\"#DejaVuSans-51\"/>\n       <use x=\"63.623047\" xlink:href=\"#DejaVuSans-48\"/>\n      </g>\n     </g>\n    </g>\n    <g id=\"xtick_31\">\n     <g id=\"line2d_31\">\n      <g>\n       <use style=\"stroke:#000000;stroke-width:0.8;\" x=\"232.627443\" xlink:href=\"#m5ddbca3b27\" y=\"224.64\"/>\n      </g>\n     </g>\n     <g id=\"text_31\">\n      <!-- 31 -->\n      <g transform=\"translate(226.264943 239.238438)scale(0.1 -0.1)\">\n       <use xlink:href=\"#DejaVuSans-51\"/>\n       <use x=\"63.623047\" xlink:href=\"#DejaVuSans-49\"/>\n      </g>\n     </g>\n    </g>\n    <g id=\"xtick_32\">\n     <g id=\"line2d_32\">\n      <g>\n       <use style=\"stroke:#000000;stroke-width:0.8;\" x=\"238.714716\" xlink:href=\"#m5ddbca3b27\" y=\"224.64\"/>\n      </g>\n     </g>\n     <g id=\"text_32\">\n      <!-- 32 -->\n      <g transform=\"translate(232.352216 239.238438)scale(0.1 -0.1)\">\n       <use xlink:href=\"#DejaVuSans-51\"/>\n       <use x=\"63.623047\" xlink:href=\"#DejaVuSans-50\"/>\n      </g>\n     </g>\n    </g>\n    <g id=\"xtick_33\">\n     <g id=\"line2d_33\">\n      <g>\n       <use style=\"stroke:#000000;stroke-width:0.8;\" x=\"244.801989\" xlink:href=\"#m5ddbca3b27\" y=\"224.64\"/>\n      </g>\n     </g>\n     <g id=\"text_33\">\n      <!-- 33 -->\n      <g transform=\"translate(238.439489 239.238438)scale(0.1 -0.1)\">\n       <use xlink:href=\"#DejaVuSans-51\"/>\n       <use x=\"63.623047\" xlink:href=\"#DejaVuSans-51\"/>\n      </g>\n     </g>\n    </g>\n    <g id=\"xtick_34\">\n     <g id=\"line2d_34\">\n      <g>\n       <use style=\"stroke:#000000;stroke-width:0.8;\" x=\"250.889261\" xlink:href=\"#m5ddbca3b27\" y=\"224.64\"/>\n      </g>\n     </g>\n     <g id=\"text_34\">\n      <!-- 34 -->\n      <g transform=\"translate(244.526761 239.238438)scale(0.1 -0.1)\">\n       <use xlink:href=\"#DejaVuSans-51\"/>\n       <use x=\"63.623047\" xlink:href=\"#DejaVuSans-52\"/>\n      </g>\n     </g>\n    </g>\n    <g id=\"xtick_35\">\n     <g id=\"line2d_35\">\n      <g>\n       <use style=\"stroke:#000000;stroke-width:0.8;\" x=\"256.976534\" xlink:href=\"#m5ddbca3b27\" y=\"224.64\"/>\n      </g>\n     </g>\n     <g id=\"text_35\">\n      <!-- 35 -->\n      <g transform=\"translate(250.614034 239.238438)scale(0.1 -0.1)\">\n       <use xlink:href=\"#DejaVuSans-51\"/>\n       <use x=\"63.623047\" xlink:href=\"#DejaVuSans-53\"/>\n      </g>\n     </g>\n    </g>\n    <g id=\"xtick_36\">\n     <g id=\"line2d_36\">\n      <g>\n       <use style=\"stroke:#000000;stroke-width:0.8;\" x=\"263.063807\" xlink:href=\"#m5ddbca3b27\" y=\"224.64\"/>\n      </g>\n     </g>\n     <g id=\"text_36\">\n      <!-- 36 -->\n      <g transform=\"translate(256.701307 239.238438)scale(0.1 -0.1)\">\n       <use xlink:href=\"#DejaVuSans-51\"/>\n       <use x=\"63.623047\" xlink:href=\"#DejaVuSans-54\"/>\n      </g>\n     </g>\n    </g>\n    <g id=\"xtick_37\">\n     <g id=\"line2d_37\">\n      <g>\n       <use style=\"stroke:#000000;stroke-width:0.8;\" x=\"269.15108\" xlink:href=\"#m5ddbca3b27\" y=\"224.64\"/>\n      </g>\n     </g>\n     <g id=\"text_37\">\n      <!-- 37 -->\n      <g transform=\"translate(262.78858 239.238438)scale(0.1 -0.1)\">\n       <use xlink:href=\"#DejaVuSans-51\"/>\n       <use x=\"63.623047\" xlink:href=\"#DejaVuSans-55\"/>\n      </g>\n     </g>\n    </g>\n    <g id=\"xtick_38\">\n     <g id=\"line2d_38\">\n      <g>\n       <use style=\"stroke:#000000;stroke-width:0.8;\" x=\"275.238352\" xlink:href=\"#m5ddbca3b27\" y=\"224.64\"/>\n      </g>\n     </g>\n     <g id=\"text_38\">\n      <!-- 38 -->\n      <g transform=\"translate(268.875852 239.238438)scale(0.1 -0.1)\">\n       <use xlink:href=\"#DejaVuSans-51\"/>\n       <use x=\"63.623047\" xlink:href=\"#DejaVuSans-56\"/>\n      </g>\n     </g>\n    </g>\n    <g id=\"xtick_39\">\n     <g id=\"line2d_39\">\n      <g>\n       <use style=\"stroke:#000000;stroke-width:0.8;\" x=\"281.325625\" xlink:href=\"#m5ddbca3b27\" y=\"224.64\"/>\n      </g>\n     </g>\n     <g id=\"text_39\">\n      <!-- 39 -->\n      <g transform=\"translate(274.963125 239.238438)scale(0.1 -0.1)\">\n       <use xlink:href=\"#DejaVuSans-51\"/>\n       <use x=\"63.623047\" xlink:href=\"#DejaVuSans-57\"/>\n      </g>\n     </g>\n    </g>\n    <g id=\"xtick_40\">\n     <g id=\"line2d_40\">\n      <g>\n       <use style=\"stroke:#000000;stroke-width:0.8;\" x=\"287.412898\" xlink:href=\"#m5ddbca3b27\" y=\"224.64\"/>\n      </g>\n     </g>\n     <g id=\"text_40\">\n      <!-- 40 -->\n      <g transform=\"translate(281.050398 239.238438)scale(0.1 -0.1)\">\n       <use xlink:href=\"#DejaVuSans-52\"/>\n       <use x=\"63.623047\" xlink:href=\"#DejaVuSans-48\"/>\n      </g>\n     </g>\n    </g>\n    <g id=\"xtick_41\">\n     <g id=\"line2d_41\">\n      <g>\n       <use style=\"stroke:#000000;stroke-width:0.8;\" x=\"293.50017\" xlink:href=\"#m5ddbca3b27\" y=\"224.64\"/>\n      </g>\n     </g>\n     <g id=\"text_41\">\n      <!-- 41 -->\n      <g transform=\"translate(287.13767 239.238438)scale(0.1 -0.1)\">\n       <use xlink:href=\"#DejaVuSans-52\"/>\n       <use x=\"63.623047\" xlink:href=\"#DejaVuSans-49\"/>\n      </g>\n     </g>\n    </g>\n    <g id=\"xtick_42\">\n     <g id=\"line2d_42\">\n      <g>\n       <use style=\"stroke:#000000;stroke-width:0.8;\" x=\"299.587443\" xlink:href=\"#m5ddbca3b27\" y=\"224.64\"/>\n      </g>\n     </g>\n     <g id=\"text_42\">\n      <!-- 42 -->\n      <g transform=\"translate(293.224943 239.238438)scale(0.1 -0.1)\">\n       <use xlink:href=\"#DejaVuSans-52\"/>\n       <use x=\"63.623047\" xlink:href=\"#DejaVuSans-50\"/>\n      </g>\n     </g>\n    </g>\n    <g id=\"xtick_43\">\n     <g id=\"line2d_43\">\n      <g>\n       <use style=\"stroke:#000000;stroke-width:0.8;\" x=\"305.674716\" xlink:href=\"#m5ddbca3b27\" y=\"224.64\"/>\n      </g>\n     </g>\n     <g id=\"text_43\">\n      <!-- 43 -->\n      <g transform=\"translate(299.312216 239.238438)scale(0.1 -0.1)\">\n       <use xlink:href=\"#DejaVuSans-52\"/>\n       <use x=\"63.623047\" xlink:href=\"#DejaVuSans-51\"/>\n      </g>\n     </g>\n    </g>\n    <g id=\"xtick_44\">\n     <g id=\"line2d_44\">\n      <g>\n       <use style=\"stroke:#000000;stroke-width:0.8;\" x=\"311.761989\" xlink:href=\"#m5ddbca3b27\" y=\"224.64\"/>\n      </g>\n     </g>\n     <g id=\"text_44\">\n      <!-- 44 -->\n      <g transform=\"translate(305.399489 239.238438)scale(0.1 -0.1)\">\n       <use xlink:href=\"#DejaVuSans-52\"/>\n       <use x=\"63.623047\" xlink:href=\"#DejaVuSans-52\"/>\n      </g>\n     </g>\n    </g>\n    <g id=\"xtick_45\">\n     <g id=\"line2d_45\">\n      <g>\n       <use style=\"stroke:#000000;stroke-width:0.8;\" x=\"317.849261\" xlink:href=\"#m5ddbca3b27\" y=\"224.64\"/>\n      </g>\n     </g>\n     <g id=\"text_45\">\n      <!-- 45 -->\n      <g transform=\"translate(311.486761 239.238438)scale(0.1 -0.1)\">\n       <use xlink:href=\"#DejaVuSans-52\"/>\n       <use x=\"63.623047\" xlink:href=\"#DejaVuSans-53\"/>\n      </g>\n     </g>\n    </g>\n    <g id=\"xtick_46\">\n     <g id=\"line2d_46\">\n      <g>\n       <use style=\"stroke:#000000;stroke-width:0.8;\" x=\"323.936534\" xlink:href=\"#m5ddbca3b27\" y=\"224.64\"/>\n      </g>\n     </g>\n     <g id=\"text_46\">\n      <!-- 46 -->\n      <g transform=\"translate(317.574034 239.238438)scale(0.1 -0.1)\">\n       <use xlink:href=\"#DejaVuSans-52\"/>\n       <use x=\"63.623047\" xlink:href=\"#DejaVuSans-54\"/>\n      </g>\n     </g>\n    </g>\n    <g id=\"xtick_47\">\n     <g id=\"line2d_47\">\n      <g>\n       <use style=\"stroke:#000000;stroke-width:0.8;\" x=\"330.023807\" xlink:href=\"#m5ddbca3b27\" y=\"224.64\"/>\n      </g>\n     </g>\n     <g id=\"text_47\">\n      <!-- 47 -->\n      <g transform=\"translate(323.661307 239.238438)scale(0.1 -0.1)\">\n       <use xlink:href=\"#DejaVuSans-52\"/>\n       <use x=\"63.623047\" xlink:href=\"#DejaVuSans-55\"/>\n      </g>\n     </g>\n    </g>\n    <g id=\"xtick_48\">\n     <g id=\"line2d_48\">\n      <g>\n       <use style=\"stroke:#000000;stroke-width:0.8;\" x=\"336.11108\" xlink:href=\"#m5ddbca3b27\" y=\"224.64\"/>\n      </g>\n     </g>\n     <g id=\"text_48\">\n      <!-- 48 -->\n      <g transform=\"translate(329.74858 239.238438)scale(0.1 -0.1)\">\n       <use xlink:href=\"#DejaVuSans-52\"/>\n       <use x=\"63.623047\" xlink:href=\"#DejaVuSans-56\"/>\n      </g>\n     </g>\n    </g>\n    <g id=\"xtick_49\">\n     <g id=\"line2d_49\">\n      <g>\n       <use style=\"stroke:#000000;stroke-width:0.8;\" x=\"342.198352\" xlink:href=\"#m5ddbca3b27\" y=\"224.64\"/>\n      </g>\n     </g>\n     <g id=\"text_49\">\n      <!-- 49 -->\n      <g transform=\"translate(335.835852 239.238438)scale(0.1 -0.1)\">\n       <use xlink:href=\"#DejaVuSans-52\"/>\n       <use x=\"63.623047\" xlink:href=\"#DejaVuSans-57\"/>\n      </g>\n     </g>\n    </g>\n    <g id=\"xtick_50\">\n     <g id=\"line2d_50\">\n      <g>\n       <use style=\"stroke:#000000;stroke-width:0.8;\" x=\"348.285625\" xlink:href=\"#m5ddbca3b27\" y=\"224.64\"/>\n      </g>\n     </g>\n     <g id=\"text_50\">\n      <!-- 50 -->\n      <g transform=\"translate(341.923125 239.238438)scale(0.1 -0.1)\">\n       <use xlink:href=\"#DejaVuSans-53\"/>\n       <use x=\"63.623047\" xlink:href=\"#DejaVuSans-48\"/>\n      </g>\n     </g>\n    </g>\n    <g id=\"xtick_51\">\n     <g id=\"line2d_51\">\n      <g>\n       <use style=\"stroke:#000000;stroke-width:0.8;\" x=\"354.372898\" xlink:href=\"#m5ddbca3b27\" y=\"224.64\"/>\n      </g>\n     </g>\n     <g id=\"text_51\">\n      <!-- 51 -->\n      <g transform=\"translate(348.010398 239.238438)scale(0.1 -0.1)\">\n       <use xlink:href=\"#DejaVuSans-53\"/>\n       <use x=\"63.623047\" xlink:href=\"#DejaVuSans-49\"/>\n      </g>\n     </g>\n    </g>\n    <g id=\"xtick_52\">\n     <g id=\"line2d_52\">\n      <g>\n       <use style=\"stroke:#000000;stroke-width:0.8;\" x=\"360.46017\" xlink:href=\"#m5ddbca3b27\" y=\"224.64\"/>\n      </g>\n     </g>\n     <g id=\"text_52\">\n      <!-- 52 -->\n      <g transform=\"translate(354.09767 239.238438)scale(0.1 -0.1)\">\n       <use xlink:href=\"#DejaVuSans-53\"/>\n       <use x=\"63.623047\" xlink:href=\"#DejaVuSans-50\"/>\n      </g>\n     </g>\n    </g>\n    <g id=\"xtick_53\">\n     <g id=\"line2d_53\">\n      <g>\n       <use style=\"stroke:#000000;stroke-width:0.8;\" x=\"366.547443\" xlink:href=\"#m5ddbca3b27\" y=\"224.64\"/>\n      </g>\n     </g>\n     <g id=\"text_53\">\n      <!-- 53 -->\n      <g transform=\"translate(360.184943 239.238438)scale(0.1 -0.1)\">\n       <use xlink:href=\"#DejaVuSans-53\"/>\n       <use x=\"63.623047\" xlink:href=\"#DejaVuSans-51\"/>\n      </g>\n     </g>\n    </g>\n    <g id=\"xtick_54\">\n     <g id=\"line2d_54\">\n      <g>\n       <use style=\"stroke:#000000;stroke-width:0.8;\" x=\"372.634716\" xlink:href=\"#m5ddbca3b27\" y=\"224.64\"/>\n      </g>\n     </g>\n     <g id=\"text_54\">\n      <!-- 54 -->\n      <g transform=\"translate(366.272216 239.238438)scale(0.1 -0.1)\">\n       <use xlink:href=\"#DejaVuSans-53\"/>\n       <use x=\"63.623047\" xlink:href=\"#DejaVuSans-52\"/>\n      </g>\n     </g>\n    </g>\n    <g id=\"xtick_55\">\n     <g id=\"line2d_55\">\n      <g>\n       <use style=\"stroke:#000000;stroke-width:0.8;\" x=\"378.721989\" xlink:href=\"#m5ddbca3b27\" y=\"224.64\"/>\n      </g>\n     </g>\n     <g id=\"text_55\">\n      <!-- 55 -->\n      <g transform=\"translate(372.359489 239.238438)scale(0.1 -0.1)\">\n       <use xlink:href=\"#DejaVuSans-53\"/>\n       <use x=\"63.623047\" xlink:href=\"#DejaVuSans-53\"/>\n      </g>\n     </g>\n    </g>\n    <g id=\"text_56\">\n     <!-- ingreso_per_capita_sin_qec_bins -->\n     <g transform=\"translate(133.24375 252.916562)scale(0.1 -0.1)\">\n      <defs>\n       <path d=\"M 9.421875 54.6875 \nL 18.40625 54.6875 \nL 18.40625 0 \nL 9.421875 0 \nz\nM 9.421875 75.984375 \nL 18.40625 75.984375 \nL 18.40625 64.59375 \nL 9.421875 64.59375 \nz\n\" id=\"DejaVuSans-105\"/>\n       <path d=\"M 54.890625 33.015625 \nL 54.890625 0 \nL 45.90625 0 \nL 45.90625 32.71875 \nQ 45.90625 40.484375 42.875 44.328125 \nQ 39.84375 48.1875 33.796875 48.1875 \nQ 26.515625 48.1875 22.3125 43.546875 \nQ 18.109375 38.921875 18.109375 30.90625 \nL 18.109375 0 \nL 9.078125 0 \nL 9.078125 54.6875 \nL 18.109375 54.6875 \nL 18.109375 46.1875 \nQ 21.34375 51.125 25.703125 53.5625 \nQ 30.078125 56 35.796875 56 \nQ 45.21875 56 50.046875 50.171875 \nQ 54.890625 44.34375 54.890625 33.015625 \nz\n\" id=\"DejaVuSans-110\"/>\n       <path d=\"M 45.40625 27.984375 \nQ 45.40625 37.75 41.375 43.109375 \nQ 37.359375 48.484375 30.078125 48.484375 \nQ 22.859375 48.484375 18.828125 43.109375 \nQ 14.796875 37.75 14.796875 27.984375 \nQ 14.796875 18.265625 18.828125 12.890625 \nQ 22.859375 7.515625 30.078125 7.515625 \nQ 37.359375 7.515625 41.375 12.890625 \nQ 45.40625 18.265625 45.40625 27.984375 \nz\nM 54.390625 6.78125 \nQ 54.390625 -7.171875 48.1875 -13.984375 \nQ 42 -20.796875 29.203125 -20.796875 \nQ 24.46875 -20.796875 20.265625 -20.09375 \nQ 16.0625 -19.390625 12.109375 -17.921875 \nL 12.109375 -9.1875 \nQ 16.0625 -11.328125 19.921875 -12.34375 \nQ 23.78125 -13.375 27.78125 -13.375 \nQ 36.625 -13.375 41.015625 -8.765625 \nQ 45.40625 -4.15625 45.40625 5.171875 \nL 45.40625 9.625 \nQ 42.625 4.78125 38.28125 2.390625 \nQ 33.9375 0 27.875 0 \nQ 17.828125 0 11.671875 7.65625 \nQ 5.515625 15.328125 5.515625 27.984375 \nQ 5.515625 40.671875 11.671875 48.328125 \nQ 17.828125 56 27.875 56 \nQ 33.9375 56 38.28125 53.609375 \nQ 42.625 51.21875 45.40625 46.390625 \nL 45.40625 54.6875 \nL 54.390625 54.6875 \nz\n\" id=\"DejaVuSans-103\"/>\n       <path d=\"M 41.109375 46.296875 \nQ 39.59375 47.171875 37.8125 47.578125 \nQ 36.03125 48 33.890625 48 \nQ 26.265625 48 22.1875 43.046875 \nQ 18.109375 38.09375 18.109375 28.8125 \nL 18.109375 0 \nL 9.078125 0 \nL 9.078125 54.6875 \nL 18.109375 54.6875 \nL 18.109375 46.1875 \nQ 20.953125 51.171875 25.484375 53.578125 \nQ 30.03125 56 36.53125 56 \nQ 37.453125 56 38.578125 55.875 \nQ 39.703125 55.765625 41.0625 55.515625 \nz\n\" id=\"DejaVuSans-114\"/>\n       <path d=\"M 56.203125 29.59375 \nL 56.203125 25.203125 \nL 14.890625 25.203125 \nQ 15.484375 15.921875 20.484375 11.0625 \nQ 25.484375 6.203125 34.421875 6.203125 \nQ 39.59375 6.203125 44.453125 7.46875 \nQ 49.3125 8.734375 54.109375 11.28125 \nL 54.109375 2.78125 \nQ 49.265625 0.734375 44.1875 -0.34375 \nQ 39.109375 -1.421875 33.890625 -1.421875 \nQ 20.796875 -1.421875 13.15625 6.1875 \nQ 5.515625 13.8125 5.515625 26.8125 \nQ 5.515625 40.234375 12.765625 48.109375 \nQ 20.015625 56 32.328125 56 \nQ 43.359375 56 49.78125 48.890625 \nQ 56.203125 41.796875 56.203125 29.59375 \nz\nM 47.21875 32.234375 \nQ 47.125 39.59375 43.09375 43.984375 \nQ 39.0625 48.390625 32.421875 48.390625 \nQ 24.90625 48.390625 20.390625 44.140625 \nQ 15.875 39.890625 15.1875 32.171875 \nz\n\" id=\"DejaVuSans-101\"/>\n       <path d=\"M 44.28125 53.078125 \nL 44.28125 44.578125 \nQ 40.484375 46.53125 36.375 47.5 \nQ 32.28125 48.484375 27.875 48.484375 \nQ 21.1875 48.484375 17.84375 46.4375 \nQ 14.5 44.390625 14.5 40.28125 \nQ 14.5 37.15625 16.890625 35.375 \nQ 19.28125 33.59375 26.515625 31.984375 \nL 29.59375 31.296875 \nQ 39.15625 29.25 43.1875 25.515625 \nQ 47.21875 21.78125 47.21875 15.09375 \nQ 47.21875 7.46875 41.1875 3.015625 \nQ 35.15625 -1.421875 24.609375 -1.421875 \nQ 20.21875 -1.421875 15.453125 -0.5625 \nQ 10.6875 0.296875 5.421875 2 \nL 5.421875 11.28125 \nQ 10.40625 8.6875 15.234375 7.390625 \nQ 20.0625 6.109375 24.8125 6.109375 \nQ 31.15625 6.109375 34.5625 8.28125 \nQ 37.984375 10.453125 37.984375 14.40625 \nQ 37.984375 18.0625 35.515625 20.015625 \nQ 33.0625 21.96875 24.703125 23.78125 \nL 21.578125 24.515625 \nQ 13.234375 26.265625 9.515625 29.90625 \nQ 5.8125 33.546875 5.8125 39.890625 \nQ 5.8125 47.609375 11.28125 51.796875 \nQ 16.75 56 26.8125 56 \nQ 31.78125 56 36.171875 55.265625 \nQ 40.578125 54.546875 44.28125 53.078125 \nz\n\" id=\"DejaVuSans-115\"/>\n       <path d=\"M 30.609375 48.390625 \nQ 23.390625 48.390625 19.1875 42.75 \nQ 14.984375 37.109375 14.984375 27.296875 \nQ 14.984375 17.484375 19.15625 11.84375 \nQ 23.34375 6.203125 30.609375 6.203125 \nQ 37.796875 6.203125 41.984375 11.859375 \nQ 46.1875 17.53125 46.1875 27.296875 \nQ 46.1875 37.015625 41.984375 42.703125 \nQ 37.796875 48.390625 30.609375 48.390625 \nz\nM 30.609375 56 \nQ 42.328125 56 49.015625 48.375 \nQ 55.71875 40.765625 55.71875 27.296875 \nQ 55.71875 13.875 49.015625 6.21875 \nQ 42.328125 -1.421875 30.609375 -1.421875 \nQ 18.84375 -1.421875 12.171875 6.21875 \nQ 5.515625 13.875 5.515625 27.296875 \nQ 5.515625 40.765625 12.171875 48.375 \nQ 18.84375 56 30.609375 56 \nz\n\" id=\"DejaVuSans-111\"/>\n       <path d=\"M 50.984375 -16.609375 \nL 50.984375 -23.578125 \nL -0.984375 -23.578125 \nL -0.984375 -16.609375 \nz\n\" id=\"DejaVuSans-95\"/>\n       <path d=\"M 18.109375 8.203125 \nL 18.109375 -20.796875 \nL 9.078125 -20.796875 \nL 9.078125 54.6875 \nL 18.109375 54.6875 \nL 18.109375 46.390625 \nQ 20.953125 51.265625 25.265625 53.625 \nQ 29.59375 56 35.59375 56 \nQ 45.5625 56 51.78125 48.09375 \nQ 58.015625 40.1875 58.015625 27.296875 \nQ 58.015625 14.40625 51.78125 6.484375 \nQ 45.5625 -1.421875 35.59375 -1.421875 \nQ 29.59375 -1.421875 25.265625 0.953125 \nQ 20.953125 3.328125 18.109375 8.203125 \nz\nM 48.6875 27.296875 \nQ 48.6875 37.203125 44.609375 42.84375 \nQ 40.53125 48.484375 33.40625 48.484375 \nQ 26.265625 48.484375 22.1875 42.84375 \nQ 18.109375 37.203125 18.109375 27.296875 \nQ 18.109375 17.390625 22.1875 11.75 \nQ 26.265625 6.109375 33.40625 6.109375 \nQ 40.53125 6.109375 44.609375 11.75 \nQ 48.6875 17.390625 48.6875 27.296875 \nz\n\" id=\"DejaVuSans-112\"/>\n       <path d=\"M 48.78125 52.59375 \nL 48.78125 44.1875 \nQ 44.96875 46.296875 41.140625 47.34375 \nQ 37.3125 48.390625 33.40625 48.390625 \nQ 24.65625 48.390625 19.8125 42.84375 \nQ 14.984375 37.3125 14.984375 27.296875 \nQ 14.984375 17.28125 19.8125 11.734375 \nQ 24.65625 6.203125 33.40625 6.203125 \nQ 37.3125 6.203125 41.140625 7.25 \nQ 44.96875 8.296875 48.78125 10.40625 \nL 48.78125 2.09375 \nQ 45.015625 0.34375 40.984375 -0.53125 \nQ 36.96875 -1.421875 32.421875 -1.421875 \nQ 20.0625 -1.421875 12.78125 6.34375 \nQ 5.515625 14.109375 5.515625 27.296875 \nQ 5.515625 40.671875 12.859375 48.328125 \nQ 20.21875 56 33.015625 56 \nQ 37.15625 56 41.109375 55.140625 \nQ 45.0625 54.296875 48.78125 52.59375 \nz\n\" id=\"DejaVuSans-99\"/>\n       <path d=\"M 34.28125 27.484375 \nQ 23.390625 27.484375 19.1875 25 \nQ 14.984375 22.515625 14.984375 16.5 \nQ 14.984375 11.71875 18.140625 8.90625 \nQ 21.296875 6.109375 26.703125 6.109375 \nQ 34.1875 6.109375 38.703125 11.40625 \nQ 43.21875 16.703125 43.21875 25.484375 \nL 43.21875 27.484375 \nz\nM 52.203125 31.203125 \nL 52.203125 0 \nL 43.21875 0 \nL 43.21875 8.296875 \nQ 40.140625 3.328125 35.546875 0.953125 \nQ 30.953125 -1.421875 24.3125 -1.421875 \nQ 15.921875 -1.421875 10.953125 3.296875 \nQ 6 8.015625 6 15.921875 \nQ 6 25.140625 12.171875 29.828125 \nQ 18.359375 34.515625 30.609375 34.515625 \nL 43.21875 34.515625 \nL 43.21875 35.40625 \nQ 43.21875 41.609375 39.140625 45 \nQ 35.0625 48.390625 27.6875 48.390625 \nQ 23 48.390625 18.546875 47.265625 \nQ 14.109375 46.140625 10.015625 43.890625 \nL 10.015625 52.203125 \nQ 14.9375 54.109375 19.578125 55.046875 \nQ 24.21875 56 28.609375 56 \nQ 40.484375 56 46.34375 49.84375 \nQ 52.203125 43.703125 52.203125 31.203125 \nz\n\" id=\"DejaVuSans-97\"/>\n       <path d=\"M 18.3125 70.21875 \nL 18.3125 54.6875 \nL 36.8125 54.6875 \nL 36.8125 47.703125 \nL 18.3125 47.703125 \nL 18.3125 18.015625 \nQ 18.3125 11.328125 20.140625 9.421875 \nQ 21.96875 7.515625 27.59375 7.515625 \nL 36.8125 7.515625 \nL 36.8125 0 \nL 27.59375 0 \nQ 17.1875 0 13.234375 3.875 \nQ 9.28125 7.765625 9.28125 18.015625 \nL 9.28125 47.703125 \nL 2.6875 47.703125 \nL 2.6875 54.6875 \nL 9.28125 54.6875 \nL 9.28125 70.21875 \nz\n\" id=\"DejaVuSans-116\"/>\n       <path d=\"M 14.796875 27.296875 \nQ 14.796875 17.390625 18.875 11.75 \nQ 22.953125 6.109375 30.078125 6.109375 \nQ 37.203125 6.109375 41.296875 11.75 \nQ 45.40625 17.390625 45.40625 27.296875 \nQ 45.40625 37.203125 41.296875 42.84375 \nQ 37.203125 48.484375 30.078125 48.484375 \nQ 22.953125 48.484375 18.875 42.84375 \nQ 14.796875 37.203125 14.796875 27.296875 \nz\nM 45.40625 8.203125 \nQ 42.578125 3.328125 38.25 0.953125 \nQ 33.9375 -1.421875 27.875 -1.421875 \nQ 17.96875 -1.421875 11.734375 6.484375 \nQ 5.515625 14.40625 5.515625 27.296875 \nQ 5.515625 40.1875 11.734375 48.09375 \nQ 17.96875 56 27.875 56 \nQ 33.9375 56 38.25 53.625 \nQ 42.578125 51.265625 45.40625 46.390625 \nL 45.40625 54.6875 \nL 54.390625 54.6875 \nL 54.390625 -20.796875 \nL 45.40625 -20.796875 \nz\n\" id=\"DejaVuSans-113\"/>\n       <path d=\"M 48.6875 27.296875 \nQ 48.6875 37.203125 44.609375 42.84375 \nQ 40.53125 48.484375 33.40625 48.484375 \nQ 26.265625 48.484375 22.1875 42.84375 \nQ 18.109375 37.203125 18.109375 27.296875 \nQ 18.109375 17.390625 22.1875 11.75 \nQ 26.265625 6.109375 33.40625 6.109375 \nQ 40.53125 6.109375 44.609375 11.75 \nQ 48.6875 17.390625 48.6875 27.296875 \nz\nM 18.109375 46.390625 \nQ 20.953125 51.265625 25.265625 53.625 \nQ 29.59375 56 35.59375 56 \nQ 45.5625 56 51.78125 48.09375 \nQ 58.015625 40.1875 58.015625 27.296875 \nQ 58.015625 14.40625 51.78125 6.484375 \nQ 45.5625 -1.421875 35.59375 -1.421875 \nQ 29.59375 -1.421875 25.265625 0.953125 \nQ 20.953125 3.328125 18.109375 8.203125 \nL 18.109375 0 \nL 9.078125 0 \nL 9.078125 75.984375 \nL 18.109375 75.984375 \nz\n\" id=\"DejaVuSans-98\"/>\n      </defs>\n      <use xlink:href=\"#DejaVuSans-105\"/>\n      <use x=\"27.783203\" xlink:href=\"#DejaVuSans-110\"/>\n      <use x=\"91.162109\" xlink:href=\"#DejaVuSans-103\"/>\n      <use x=\"154.638672\" xlink:href=\"#DejaVuSans-114\"/>\n      <use x=\"193.501953\" xlink:href=\"#DejaVuSans-101\"/>\n      <use x=\"255.025391\" xlink:href=\"#DejaVuSans-115\"/>\n      <use x=\"307.125\" xlink:href=\"#DejaVuSans-111\"/>\n      <use x=\"368.306641\" xlink:href=\"#DejaVuSans-95\"/>\n      <use x=\"418.306641\" xlink:href=\"#DejaVuSans-112\"/>\n      <use x=\"481.783203\" xlink:href=\"#DejaVuSans-101\"/>\n      <use x=\"543.306641\" xlink:href=\"#DejaVuSans-114\"/>\n      <use x=\"584.419922\" xlink:href=\"#DejaVuSans-95\"/>\n      <use x=\"634.419922\" xlink:href=\"#DejaVuSans-99\"/>\n      <use x=\"689.400391\" xlink:href=\"#DejaVuSans-97\"/>\n      <use x=\"750.679688\" xlink:href=\"#DejaVuSans-112\"/>\n      <use x=\"814.15625\" xlink:href=\"#DejaVuSans-105\"/>\n      <use x=\"841.939453\" xlink:href=\"#DejaVuSans-116\"/>\n      <use x=\"881.148438\" xlink:href=\"#DejaVuSans-97\"/>\n      <use x=\"942.427734\" xlink:href=\"#DejaVuSans-95\"/>\n      <use x=\"992.427734\" xlink:href=\"#DejaVuSans-115\"/>\n      <use x=\"1044.527344\" xlink:href=\"#DejaVuSans-105\"/>\n      <use x=\"1072.310547\" xlink:href=\"#DejaVuSans-110\"/>\n      <use x=\"1135.689453\" xlink:href=\"#DejaVuSans-95\"/>\n      <use x=\"1185.689453\" xlink:href=\"#DejaVuSans-113\"/>\n      <use x=\"1249.166016\" xlink:href=\"#DejaVuSans-101\"/>\n      <use x=\"1310.689453\" xlink:href=\"#DejaVuSans-99\"/>\n      <use x=\"1365.669922\" xlink:href=\"#DejaVuSans-95\"/>\n      <use x=\"1415.669922\" xlink:href=\"#DejaVuSans-98\"/>\n      <use x=\"1479.146484\" xlink:href=\"#DejaVuSans-105\"/>\n      <use x=\"1506.929688\" xlink:href=\"#DejaVuSans-110\"/>\n      <use x=\"1570.308594\" xlink:href=\"#DejaVuSans-115\"/>\n     </g>\n    </g>\n   </g>\n   <g id=\"matplotlib.axis_2\">\n    <g id=\"ytick_1\">\n     <g id=\"line2d_56\">\n      <defs>\n       <path d=\"M 0 0 \nL -3.5 0 \n\" id=\"m18a62272f8\" style=\"stroke:#000000;stroke-width:0.8;\"/>\n      </defs>\n      <g>\n       <use style=\"stroke:#000000;stroke-width:0.8;\" x=\"46.965625\" xlink:href=\"#m18a62272f8\" y=\"224.64\"/>\n      </g>\n     </g>\n     <g id=\"text_57\">\n      <!-- 0 -->\n      <g transform=\"translate(33.603125 228.439219)scale(0.1 -0.1)\">\n       <use xlink:href=\"#DejaVuSans-48\"/>\n      </g>\n     </g>\n    </g>\n    <g id=\"ytick_2\">\n     <g id=\"line2d_57\">\n      <g>\n       <use style=\"stroke:#000000;stroke-width:0.8;\" x=\"46.965625\" xlink:href=\"#m18a62272f8\" y=\"189.421341\"/>\n      </g>\n     </g>\n     <g id=\"text_58\">\n      <!-- 50 -->\n      <g transform=\"translate(27.240625 193.22056)scale(0.1 -0.1)\">\n       <use xlink:href=\"#DejaVuSans-53\"/>\n       <use x=\"63.623047\" xlink:href=\"#DejaVuSans-48\"/>\n      </g>\n     </g>\n    </g>\n    <g id=\"ytick_3\">\n     <g id=\"line2d_58\">\n      <g>\n       <use style=\"stroke:#000000;stroke-width:0.8;\" x=\"46.965625\" xlink:href=\"#m18a62272f8\" y=\"154.202682\"/>\n      </g>\n     </g>\n     <g id=\"text_59\">\n      <!-- 100 -->\n      <g transform=\"translate(20.878125 158.001901)scale(0.1 -0.1)\">\n       <use xlink:href=\"#DejaVuSans-49\"/>\n       <use x=\"63.623047\" xlink:href=\"#DejaVuSans-48\"/>\n       <use x=\"127.246094\" xlink:href=\"#DejaVuSans-48\"/>\n      </g>\n     </g>\n    </g>\n    <g id=\"ytick_4\">\n     <g id=\"line2d_59\">\n      <g>\n       <use style=\"stroke:#000000;stroke-width:0.8;\" x=\"46.965625\" xlink:href=\"#m18a62272f8\" y=\"118.984023\"/>\n      </g>\n     </g>\n     <g id=\"text_60\">\n      <!-- 150 -->\n      <g transform=\"translate(20.878125 122.783242)scale(0.1 -0.1)\">\n       <use xlink:href=\"#DejaVuSans-49\"/>\n       <use x=\"63.623047\" xlink:href=\"#DejaVuSans-53\"/>\n       <use x=\"127.246094\" xlink:href=\"#DejaVuSans-48\"/>\n      </g>\n     </g>\n    </g>\n    <g id=\"ytick_5\">\n     <g id=\"line2d_60\">\n      <g>\n       <use style=\"stroke:#000000;stroke-width:0.8;\" x=\"46.965625\" xlink:href=\"#m18a62272f8\" y=\"83.765364\"/>\n      </g>\n     </g>\n     <g id=\"text_61\">\n      <!-- 200 -->\n      <g transform=\"translate(20.878125 87.564583)scale(0.1 -0.1)\">\n       <use xlink:href=\"#DejaVuSans-50\"/>\n       <use x=\"63.623047\" xlink:href=\"#DejaVuSans-48\"/>\n       <use x=\"127.246094\" xlink:href=\"#DejaVuSans-48\"/>\n      </g>\n     </g>\n    </g>\n    <g id=\"ytick_6\">\n     <g id=\"line2d_61\">\n      <g>\n       <use style=\"stroke:#000000;stroke-width:0.8;\" x=\"46.965625\" xlink:href=\"#m18a62272f8\" y=\"48.546706\"/>\n      </g>\n     </g>\n     <g id=\"text_62\">\n      <!-- 250 -->\n      <g transform=\"translate(20.878125 52.345924)scale(0.1 -0.1)\">\n       <use xlink:href=\"#DejaVuSans-50\"/>\n       <use x=\"63.623047\" xlink:href=\"#DejaVuSans-53\"/>\n       <use x=\"127.246094\" xlink:href=\"#DejaVuSans-48\"/>\n      </g>\n     </g>\n    </g>\n    <g id=\"ytick_7\">\n     <g id=\"line2d_62\">\n      <g>\n       <use style=\"stroke:#000000;stroke-width:0.8;\" x=\"46.965625\" xlink:href=\"#m18a62272f8\" y=\"13.328047\"/>\n      </g>\n     </g>\n     <g id=\"text_63\">\n      <!-- 300 -->\n      <g transform=\"translate(20.878125 17.127265)scale(0.1 -0.1)\">\n       <use xlink:href=\"#DejaVuSans-51\"/>\n       <use x=\"63.623047\" xlink:href=\"#DejaVuSans-48\"/>\n       <use x=\"127.246094\" xlink:href=\"#DejaVuSans-48\"/>\n      </g>\n     </g>\n    </g>\n    <g id=\"text_64\">\n     <!-- count -->\n     <g transform=\"translate(14.798438 130.02625)rotate(-90)scale(0.1 -0.1)\">\n      <defs>\n       <path d=\"M 8.5 21.578125 \nL 8.5 54.6875 \nL 17.484375 54.6875 \nL 17.484375 21.921875 \nQ 17.484375 14.15625 20.5 10.265625 \nQ 23.53125 6.390625 29.59375 6.390625 \nQ 36.859375 6.390625 41.078125 11.03125 \nQ 45.3125 15.671875 45.3125 23.6875 \nL 45.3125 54.6875 \nL 54.296875 54.6875 \nL 54.296875 0 \nL 45.3125 0 \nL 45.3125 8.40625 \nQ 42.046875 3.421875 37.71875 1 \nQ 33.40625 -1.421875 27.6875 -1.421875 \nQ 18.265625 -1.421875 13.375 4.4375 \nQ 8.5 10.296875 8.5 21.578125 \nz\nM 31.109375 56 \nz\n\" id=\"DejaVuSans-117\"/>\n      </defs>\n      <use xlink:href=\"#DejaVuSans-99\"/>\n      <use x=\"54.980469\" xlink:href=\"#DejaVuSans-111\"/>\n      <use x=\"116.162109\" xlink:href=\"#DejaVuSans-117\"/>\n      <use x=\"179.541016\" xlink:href=\"#DejaVuSans-110\"/>\n      <use x=\"242.919922\" xlink:href=\"#DejaVuSans-116\"/>\n     </g>\n    </g>\n   </g>\n   <g id=\"patch_58\">\n    <path d=\"M 46.965625 224.64 \nL 46.965625 7.2 \n\" style=\"fill:none;stroke:#000000;stroke-linecap:square;stroke-linejoin:miter;stroke-width:0.8;\"/>\n   </g>\n   <g id=\"patch_59\">\n    <path d=\"M 381.765625 224.64 \nL 381.765625 7.2 \n\" style=\"fill:none;stroke:#000000;stroke-linecap:square;stroke-linejoin:miter;stroke-width:0.8;\"/>\n   </g>\n   <g id=\"patch_60\">\n    <path d=\"M 46.965625 224.64 \nL 381.765625 224.64 \n\" style=\"fill:none;stroke:#000000;stroke-linecap:square;stroke-linejoin:miter;stroke-width:0.8;\"/>\n   </g>\n   <g id=\"patch_61\">\n    <path d=\"M 46.965625 7.2 \nL 381.765625 7.2 \n\" style=\"fill:none;stroke:#000000;stroke-linecap:square;stroke-linejoin:miter;stroke-width:0.8;\"/>\n   </g>\n  </g>\n </g>\n <defs>\n  <clipPath id=\"p33844fdda6\">\n   <rect height=\"217.44\" width=\"334.8\" x=\"46.965625\" y=\"7.2\"/>\n  </clipPath>\n </defs>\n</svg>\n",
      "image/png": "[encoded data removed]"
     },
     "metadata": {
      "needs_background": "light"
     }
    }
   ],
   "source": [
    "sns.countplot(survey_household_assigned_per_capita['ingreso_per_capita_sin_qec_bins'])"
   ]
  },
  {
   "cell_type": "code",
   "execution_count": 33,
   "metadata": {},
   "outputs": [
    {
     "output_type": "execute_result",
     "data": {
      "text/plain": [
       "                         exp_count  percentage\n",
       "pobreza_sin_subsidio                          \n",
       "0                     2.165058e+06   63.504728\n",
       "1                     8.560887e+05   25.110499\n",
       "2                     3.881395e+05   11.384773"
      ],
      "text/html": "<div>\n<style scoped>\n    .dataframe tbody tr th:only-of-type {\n        vertical-align: middle;\n    }\n\n    .dataframe tbody tr th {\n        vertical-align: top;\n    }\n\n    .dataframe thead th {\n        text-align: right;\n    }\n</style>\n<table border=\"1\" class=\"dataframe\">\n  <thead>\n    <tr style=\"text-align: right;\">\n      <th></th>\n      <th>exp_count</th>\n      <th>percentage</th>\n    </tr>\n    <tr>\n      <th>pobreza_sin_subsidio</th>\n      <th></th>\n      <th></th>\n    </tr>\n  </thead>\n  <tbody>\n    <tr>\n      <th>0</th>\n      <td>2.165058e+06</td>\n      <td>63.504728</td>\n    </tr>\n    <tr>\n      <th>1</th>\n      <td>8.560887e+05</td>\n      <td>25.110499</td>\n    </tr>\n    <tr>\n      <th>2</th>\n      <td>3.881395e+05</td>\n      <td>11.384773</td>\n    </tr>\n  </tbody>\n</table>\n</div>"
     },
     "metadata": {},
     "execution_count": 33
    }
   ],
   "source": [
    "\"\"\"\n",
    "En Covid bajo la lupa, para junio 2020 se reportan los siguientes valores de pobreza extrema y pobreza general:\n",
    "* pobreza extrema - 8.2 %\n",
    "* pobreza general - 34.6 %\n",
    "\"\"\"\n",
    "get_percentage_table_with_expansion_factor(survey_household_assigned_per_capita, 'pobreza_sin_subsidio', 'factor_expansion_first')"
   ]
  },
  {
   "cell_type": "code",
   "execution_count": 34,
   "metadata": {},
   "outputs": [
    {
     "output_type": "execute_result",
     "data": {
      "text/plain": [
       "            exp_count  percentage\n",
       "pobreza                          \n",
       "0        2.427868e+06   71.213394\n",
       "1        7.635013e+05   22.394758\n",
       "2        2.179164e+05    6.391848"
      ],
      "text/html": "<div>\n<style scoped>\n    .dataframe tbody tr th:only-of-type {\n        vertical-align: middle;\n    }\n\n    .dataframe tbody tr th {\n        vertical-align: top;\n    }\n\n    .dataframe thead th {\n        text-align: right;\n    }\n</style>\n<table border=\"1\" class=\"dataframe\">\n  <thead>\n    <tr style=\"text-align: right;\">\n      <th></th>\n      <th>exp_count</th>\n      <th>percentage</th>\n    </tr>\n    <tr>\n      <th>pobreza</th>\n      <th></th>\n      <th></th>\n    </tr>\n  </thead>\n  <tbody>\n    <tr>\n      <th>0</th>\n      <td>2.427868e+06</td>\n      <td>71.213394</td>\n    </tr>\n    <tr>\n      <th>1</th>\n      <td>7.635013e+05</td>\n      <td>22.394758</td>\n    </tr>\n    <tr>\n      <th>2</th>\n      <td>2.179164e+05</td>\n      <td>6.391848</td>\n    </tr>\n  </tbody>\n</table>\n</div>"
     },
     "metadata": {},
     "execution_count": 34
    }
   ],
   "source": [
    "\"\"\"\n",
    "En Covid bajo la lupa, para junio 2020 se reportan los siguientes valores de pobreza extrema y pobreza general\n",
    "gracias a los programas de mitigación:\n",
    "* pobreza extrema - 5.1 %\n",
    "* pobreza general - 27.4 %\n",
    "\"\"\"\n",
    "get_percentage_table_with_expansion_factor(survey_household_assigned_per_capita, 'pobreza', 'factor_expansion_first')"
   ]
  },
  {
   "cell_type": "code",
   "execution_count": 35,
   "metadata": {},
   "outputs": [
    {
     "output_type": "execute_result",
     "data": {
      "text/plain": [
       "                    exp_count  percentage\n",
       "pobreza_sin_qec                          \n",
       "0                2.225993e+06   65.292058\n",
       "1                8.393900e+05   24.620698\n",
       "2                3.439030e+05   10.087244"
      ],
      "text/html": "<div>\n<style scoped>\n    .dataframe tbody tr th:only-of-type {\n        vertical-align: middle;\n    }\n\n    .dataframe tbody tr th {\n        vertical-align: top;\n    }\n\n    .dataframe thead th {\n        text-align: right;\n    }\n</style>\n<table border=\"1\" class=\"dataframe\">\n  <thead>\n    <tr style=\"text-align: right;\">\n      <th></th>\n      <th>exp_count</th>\n      <th>percentage</th>\n    </tr>\n    <tr>\n      <th>pobreza_sin_qec</th>\n      <th></th>\n      <th></th>\n    </tr>\n  </thead>\n  <tbody>\n    <tr>\n      <th>0</th>\n      <td>2.225993e+06</td>\n      <td>65.292058</td>\n    </tr>\n    <tr>\n      <th>1</th>\n      <td>8.393900e+05</td>\n      <td>24.620698</td>\n    </tr>\n    <tr>\n      <th>2</th>\n      <td>3.439030e+05</td>\n      <td>10.087244</td>\n    </tr>\n  </tbody>\n</table>\n</div>"
     },
     "metadata": {},
     "execution_count": 35
    }
   ],
   "source": [
    "get_percentage_table_with_expansion_factor(survey_household_assigned_per_capita, 'pobreza_sin_qec', 'factor_expansion_first')"
   ]
  },
  {
   "source": [
    "# Pipeline"
   ],
   "cell_type": "markdown",
   "metadata": {}
  },
  {
   "cell_type": "code",
   "execution_count": 36,
   "metadata": {},
   "outputs": [],
   "source": [
    "survey_pipeline_processor = make_pipeline(\n",
    "    replace_member_transformer,\n",
    "    assign_member_transformer,\n",
    "    aggregate_member_transformer,\n",
    "    merge_survey_household_member_transformer,\n",
    "    household_replace_transformer,\n",
    "    select_household_transformer,\n",
    "    assign_household_transformer\n",
    ")\n",
    "\n",
    "survey_final_processed = survey_pipeline_processor.transform(survey_member_raw)"
   ]
  },
  {
   "cell_type": "code",
   "execution_count": 37,
   "metadata": {},
   "outputs": [
    {
     "output_type": "execute_result",
     "data": {
      "text/plain": [
       "0"
      ]
     },
     "metadata": {},
     "execution_count": 37
    }
   ],
   "source": [
    "survey_final_processed['ingreso_per_capita_sin_qec_bins'].isna().sum()"
   ]
  },
  {
   "source": [
    "# Processing to Criteria"
   ],
   "cell_type": "markdown",
   "metadata": {}
  },
  {
   "source": [
    "## Replace Transformer"
   ],
   "cell_type": "markdown",
   "metadata": {}
  },
  {
   "cell_type": "code",
   "execution_count": 44,
   "metadata": {},
   "outputs": [],
   "source": [
    "replace_final_map = {\n",
    "    'sexo_jefe_familia_sum': {\n",
    "        0: 'Hombre',\n",
    "        1: 'Mujer',\n",
    "    },\n",
    "    'ps_comer_es_primero': {\n",
    "        1: 'Beneficiario CEP',\n",
    "        2: 'No Beneficiario CEP'\n",
    "    },\n",
    "    'recibe_qec': {\n",
    "        True: 'Beneficiario QEC',\n",
    "        False: 'No Beneficiario QEC'\n",
    "    },\n",
    "    'zona_first': {\n",
    "        0: 'Urbana',\n",
    "        1: 'Rural'\n",
    "    },\n",
    "    'edad_menor_5_any': {\n",
    "        True: 'Con menores de 5 años',\n",
    "        False: 'Sin menores de 5 años'\n",
    "    },\n",
    "    'edad_mayor_60_any': {\n",
    "        True: 'Con mayores de 60 años',\n",
    "        False: 'Sin mayores de 60 años'\n",
    "    },\n",
    "    'edad_mayor_65_any': {\n",
    "        True: 'Con mayores de 65 años',\n",
    "        False: 'Sin mayores de 65 años'\n",
    "    },\n",
    "    'edad_5_a_10_any': {\n",
    "        True: 'Con niños de 5 a 10 años',\n",
    "        False: 'Sin niños de 5 a 10 años'\n",
    "    },\n",
    "    'edad_10_a_15_any': {\n",
    "        True: 'Con niños de 10 a 15 años',\n",
    "        False: 'Sin niños de 10 a 15 años'\n",
    "    },\n",
    "    'es_trabajador_domestico_any': {\n",
    "        True: 'Con trabajador doméstico',\n",
    "        False: 'Sin trabajador doméstico'\n",
    "    },\n",
    "    'es_informal_any': {\n",
    "        True: 'Con trabajador informal',\n",
    "        False: 'Sin trabajador informal'\n",
    "    },\n",
    "    'tipo_hogar':{\n",
    "        'Unipersonal': 'Unipers./Pareja sin hijos',\n",
    "        'Nuclear sin hijos': 'Unipers./Pareja sin hijos',\n",
    "        'Nuclear con hijos': 'Nuclear',\n",
    "        'Nuclear monoparental': 'Monoparental no extendido',\n",
    "        'Extendido base nuclear sin hijos': 'Extendido',\n",
    "        'Extendido base nuclear con hijos': 'Extendido',\n",
    "        'Extendido base monoparental': 'Extendido',\n",
    "        'Extendido sin base nuclear': 'Extendido',\n",
    "        'Compuesto': 'Compuesto',\n",
    "    },\n",
    "    'informalidad_mayoria': {\n",
    "        True: 'Mayoría empleo informal',\n",
    "        False: 'Minoría empleo informal'\n",
    "    },\n",
    "    'es_trabajador_infantil_any': {\n",
    "        True: 'Con trabajo infantil',\n",
    "        False: 'Sin trabajo infantil'\n",
    "    }\n",
    "}\n",
    "\n",
    "replace_final_transformer = ReplaceTransformer(replace_final_map)\n",
    "survey_final_replaced = replace_final_transformer.transform(survey_final_processed)"
   ]
  },
  {
   "source": [
    "## Name Transformer"
   ],
   "cell_type": "markdown",
   "metadata": {}
  },
  {
   "cell_type": "code",
   "execution_count": 45,
   "metadata": {},
   "outputs": [],
   "source": [
    "name_final_map = {\n",
    "    'id_hogar': 'uid',\n",
    "    'factor_expansion_first': 'weight',\n",
    "    # Segmentation\n",
    "    'zona_first': 'Zona Urbano-Rural',\n",
    "    'ps_comer_es_primero': 'Beneficiario de Comer es Primero',\n",
    "    'recibe_qec': 'Beneficiario de Quédate en Casa',\n",
    "    'sexo_jefe_familia_sum': 'Sexo jefe de familia',\n",
    "    'grupo_region': 'Macroregión geográfica',\n",
    "    'region': 'Región geográfica',\n",
    "    'tipo_hogar': 'Tipo familia',\n",
    "    'edad_menor_5_any': 'Miembro menor de 5 años',\n",
    "    'edad_mayor_60_any': 'Miembro mayor de 60 años',\n",
    "    'edad_5_a_10_any': 'Miembro entre 5 y 10 años',\n",
    "    'edad_10_a_15_any': 'Miembro entre 10 y 15 años',\n",
    "    'edad_mayor_65_any': 'Miembro mayor de 65 años',\n",
    "    'es_trabajador_domestico_any': 'Miembro trabajador doméstico',\n",
    "    'es_informal_any': 'Miembro con empleo informal',\n",
    "    'informalidad_mayoria': 'Mayoría de miembros con empleo informal',\n",
    "    # Statistics\n",
    "    'edad_menor_5_sum': 'stat_edad_menor_5_count',\n",
    "    'edad_mayor_60_sum': 'stat_edad_mayor_60_count',\n",
    "    'cantidad_miembros_hogar_first': 'stat_miembros_hogar_count',\n",
    "    'beneficio_promedio_qec': 'stat_beneficio_promedio_qec',\n",
    "    # Factors\n",
    "    'factor_cost': '(C) Beneficio en DOP',\n",
    "    'factor_cost_percent': '(C) Beneficio en % del monto de QEC',\n",
    "    'factor_impact': '(I) Beneficio en DOP',\n",
    "    'factor_impact_dop': '(I) Beneficio en DOP (miembros)',\n",
    "    'factor_impact_percent': '(I) Beneficio en % del monto de QEC',\n",
    "    # Prioritization\n",
    "    'ingreso_per_capita_sin_qec_bins': 'Ingreso del hogar antes de recibir QEC',\n",
    "}\n",
    "\n",
    "name_final_transformer = NameTransformer(name_final_map, keep_features=[])\n",
    "survey_final_named = name_final_transformer.transform(survey_final_replaced)"
   ]
  },
  {
   "cell_type": "code",
   "execution_count": 46,
   "metadata": {},
   "outputs": [
    {
     "output_type": "display_data",
     "data": {
      "text/plain": "    uid      weight Zona Urbano-Rural Beneficiario de Comer es Primero  \\\n0  1007  654.403718            Urbana              No Beneficiario CEP   \n1  2006  654.403718            Urbana              No Beneficiario CEP   \n2  3008  654.403718            Urbana                 Beneficiario CEP   \n3  6006  654.403718            Urbana                 Beneficiario CEP   \n4  7006  654.403718            Urbana              No Beneficiario CEP   \n\n  Beneficiario de Quédate en Casa Sexo jefe de familia Macroregión geográfica  \\\n0             No Beneficiario QEC               Hombre     Gran Santo Domingo   \n1             No Beneficiario QEC                Mujer     Gran Santo Domingo   \n2             No Beneficiario QEC                Mujer     Gran Santo Domingo   \n3             No Beneficiario QEC               Hombre     Gran Santo Domingo   \n4             No Beneficiario QEC                Mujer     Gran Santo Domingo   \n\n  Región geográfica               Tipo familia Miembro menor de 5 años  \\\n0      Región Ozama  Unipers./Pareja sin hijos   Sin menores de 5 años   \n1      Región Ozama                    Nuclear   Sin menores de 5 años   \n2      Región Ozama  Monoparental no extendido   Sin menores de 5 años   \n3      Región Ozama                    Nuclear   Sin menores de 5 años   \n4      Región Ozama                  Extendido   Con menores de 5 años   \n\n  Miembro mayor de 60 años Miembro entre 5 y 10 años  \\\n0   Sin mayores de 60 años  Sin niños de 5 a 10 años   \n1   Con mayores de 60 años  Sin niños de 5 a 10 años   \n2   Sin mayores de 60 años  Sin niños de 5 a 10 años   \n3   Sin mayores de 60 años  Con niños de 5 a 10 años   \n4   Sin mayores de 60 años  Sin niños de 5 a 10 años   \n\n  Miembro entre 10 y 15 años Miembro mayor de 65 años  \\\n0  Sin niños de 10 a 15 años   Sin mayores de 65 años   \n1  Sin niños de 10 a 15 años   Sin mayores de 65 años   \n2  Sin niños de 10 a 15 años   Sin mayores de 65 años   \n3  Con niños de 10 a 15 años   Sin mayores de 65 años   \n4  Sin niños de 10 a 15 años   Sin mayores de 65 años   \n\n  Miembro trabajador doméstico Miembro con empleo informal  \\\n0     Sin trabajador doméstico     Sin trabajador informal   \n1     Sin trabajador doméstico     Sin trabajador informal   \n2     Sin trabajador doméstico     Con trabajador informal   \n3     Sin trabajador doméstico     Con trabajador informal   \n4     Sin trabajador doméstico     Con trabajador informal   \n\n  Mayoría de miembros con empleo informal  stat_edad_menor_5_count  \\\n0                 Minoría empleo informal                        0   \n1                 Minoría empleo informal                        0   \n2                 Mayoría empleo informal                        0   \n3                 Mayoría empleo informal                        0   \n4                 Mayoría empleo informal                        1   \n\n   stat_edad_mayor_60_count  stat_miembros_hogar_count  \\\n0                         0                          1   \n1                         1                          3   \n2                         0                          3   \n3                         0                          5   \n4                         0                          4   \n\n   stat_beneficio_promedio_qec  (C) Beneficio en DOP  \\\n0                          0.0                   1.0   \n1                          0.0                   1.0   \n2                          0.0                   1.0   \n3                          0.0                   1.0   \n4                          0.0                   1.0   \n\n   (C) Beneficio en % del monto de QEC  (I) Beneficio en DOP  \\\n0                                  0.0              0.001904   \n1                                  0.0              0.001904   \n2                                  0.0              0.001904   \n3                                  0.0              0.001904   \n4                                  0.0              0.001904   \n\n   (I) Beneficio en DOP (miembros)  (I) Beneficio en % del monto de QEC  \\\n0                         0.001904                                  0.0   \n1                         0.000635                                  0.0   \n2                         0.000635                                  0.0   \n3                         0.000381                                  0.0   \n4                         0.000476                                  0.0   \n\n  Ingreso del hogar antes de recibir QEC  \n0                                     55  \n1                                     29  \n2                                     10  \n3                                      4  \n4                                      2  ",
      "text/html": "<div>\n<style scoped>\n    .dataframe tbody tr th:only-of-type {\n        vertical-align: middle;\n    }\n\n    .dataframe tbody tr th {\n        vertical-align: top;\n    }\n\n    .dataframe thead th {\n        text-align: right;\n    }\n</style>\n<table border=\"1\" class=\"dataframe\">\n  <thead>\n    <tr style=\"text-align: right;\">\n      <th></th>\n      <th>uid</th>\n      <th>weight</th>\n      <th>Zona Urbano-Rural</th>\n      <th>Beneficiario de Comer es Primero</th>\n      <th>Beneficiario de Quédate en Casa</th>\n      <th>Sexo jefe de familia</th>\n      <th>Macroregión geográfica</th>\n      <th>Región geográfica</th>\n      <th>Tipo familia</th>\n      <th>Miembro menor de 5 años</th>\n      <th>Miembro mayor de 60 años</th>\n      <th>Miembro entre 5 y 10 años</th>\n      <th>Miembro entre 10 y 15 años</th>\n      <th>Miembro mayor de 65 años</th>\n      <th>Miembro trabajador doméstico</th>\n      <th>Miembro con empleo informal</th>\n      <th>Mayoría de miembros con empleo informal</th>\n      <th>stat_edad_menor_5_count</th>\n      <th>stat_edad_mayor_60_count</th>\n      <th>stat_miembros_hogar_count</th>\n      <th>stat_beneficio_promedio_qec</th>\n      <th>(C) Beneficio en DOP</th>\n      <th>(C) Beneficio en % del monto de QEC</th>\n      <th>(I) Beneficio en DOP</th>\n      <th>(I) Beneficio en DOP (miembros)</th>\n      <th>(I) Beneficio en % del monto de QEC</th>\n      <th>Ingreso del hogar antes de recibir QEC</th>\n    </tr>\n  </thead>\n  <tbody>\n    <tr>\n      <th>0</th>\n      <td>1007</td>\n      <td>654.403718</td>\n      <td>Urbana</td>\n      <td>No Beneficiario CEP</td>\n      <td>No Beneficiario QEC</td>\n      <td>Hombre</td>\n      <td>Gran Santo Domingo</td>\n      <td>Región Ozama</td>\n      <td>Unipers./Pareja sin hijos</td>\n      <td>Sin menores de 5 años</td>\n      <td>Sin mayores de 60 años</td>\n      <td>Sin niños de 5 a 10 años</td>\n      <td>Sin niños de 10 a 15 años</td>\n      <td>Sin mayores de 65 años</td>\n      <td>Sin trabajador doméstico</td>\n      <td>Sin trabajador informal</td>\n      <td>Minoría empleo informal</td>\n      <td>0</td>\n      <td>0</td>\n      <td>1</td>\n      <td>0.0</td>\n      <td>1.0</td>\n      <td>0.0</td>\n      <td>0.001904</td>\n      <td>0.001904</td>\n      <td>0.0</td>\n      <td>55</td>\n    </tr>\n    <tr>\n      <th>1</th>\n      <td>2006</td>\n      <td>654.403718</td>\n      <td>Urbana</td>\n      <td>No Beneficiario CEP</td>\n      <td>No Beneficiario QEC</td>\n      <td>Mujer</td>\n      <td>Gran Santo Domingo</td>\n      <td>Región Ozama</td>\n      <td>Nuclear</td>\n      <td>Sin menores de 5 años</td>\n      <td>Con mayores de 60 años</td>\n      <td>Sin niños de 5 a 10 años</td>\n      <td>Sin niños de 10 a 15 años</td>\n      <td>Sin mayores de 65 años</td>\n      <td>Sin trabajador doméstico</td>\n      <td>Sin trabajador informal</td>\n      <td>Minoría empleo informal</td>\n      <td>0</td>\n      <td>1</td>\n      <td>3</td>\n      <td>0.0</td>\n      <td>1.0</td>\n      <td>0.0</td>\n      <td>0.001904</td>\n      <td>0.000635</td>\n      <td>0.0</td>\n      <td>29</td>\n    </tr>\n    <tr>\n      <th>2</th>\n      <td>3008</td>\n      <td>654.403718</td>\n      <td>Urbana</td>\n      <td>Beneficiario CEP</td>\n      <td>No Beneficiario QEC</td>\n      <td>Mujer</td>\n      <td>Gran Santo Domingo</td>\n      <td>Región Ozama</td>\n      <td>Monoparental no extendido</td>\n      <td>Sin menores de 5 años</td>\n      <td>Sin mayores de 60 años</td>\n      <td>Sin niños de 5 a 10 años</td>\n      <td>Sin niños de 10 a 15 años</td>\n      <td>Sin mayores de 65 años</td>\n      <td>Sin trabajador doméstico</td>\n      <td>Con trabajador informal</td>\n      <td>Mayoría empleo informal</td>\n      <td>0</td>\n      <td>0</td>\n      <td>3</td>\n      <td>0.0</td>\n      <td>1.0</td>\n      <td>0.0</td>\n      <td>0.001904</td>\n      <td>0.000635</td>\n      <td>0.0</td>\n      <td>10</td>\n    </tr>\n    <tr>\n      <th>3</th>\n      <td>6006</td>\n      <td>654.403718</td>\n      <td>Urbana</td>\n      <td>Beneficiario CEP</td>\n      <td>No Beneficiario QEC</td>\n      <td>Hombre</td>\n      <td>Gran Santo Domingo</td>\n      <td>Región Ozama</td>\n      <td>Nuclear</td>\n      <td>Sin menores de 5 años</td>\n      <td>Sin mayores de 60 años</td>\n      <td>Con niños de 5 a 10 años</td>\n      <td>Con niños de 10 a 15 años</td>\n      <td>Sin mayores de 65 años</td>\n      <td>Sin trabajador doméstico</td>\n      <td>Con trabajador informal</td>\n      <td>Mayoría empleo informal</td>\n      <td>0</td>\n      <td>0</td>\n      <td>5</td>\n      <td>0.0</td>\n      <td>1.0</td>\n      <td>0.0</td>\n      <td>0.001904</td>\n      <td>0.000381</td>\n      <td>0.0</td>\n      <td>4</td>\n    </tr>\n    <tr>\n      <th>4</th>\n      <td>7006</td>\n      <td>654.403718</td>\n      <td>Urbana</td>\n      <td>No Beneficiario CEP</td>\n      <td>No Beneficiario QEC</td>\n      <td>Mujer</td>\n      <td>Gran Santo Domingo</td>\n      <td>Región Ozama</td>\n      <td>Extendido</td>\n      <td>Con menores de 5 años</td>\n      <td>Sin mayores de 60 años</td>\n      <td>Sin niños de 5 a 10 años</td>\n      <td>Sin niños de 10 a 15 años</td>\n      <td>Sin mayores de 65 años</td>\n      <td>Sin trabajador doméstico</td>\n      <td>Con trabajador informal</td>\n      <td>Mayoría empleo informal</td>\n      <td>1</td>\n      <td>0</td>\n      <td>4</td>\n      <td>0.0</td>\n      <td>1.0</td>\n      <td>0.0</td>\n      <td>0.001904</td>\n      <td>0.000476</td>\n      <td>0.0</td>\n      <td>2</td>\n    </tr>\n  </tbody>\n</table>\n</div>"
     },
     "metadata": {}
    }
   ],
   "source": [
    "cdisplay(survey_final_named.head())"
   ]
  },
  {
   "cell_type": "markdown",
   "metadata": {},
   "source": [
    "# Export file"
   ]
  },
  {
   "cell_type": "code",
   "execution_count": null,
   "metadata": {},
   "outputs": [],
   "source": [
    "survey_final_named.to_csv(\n",
    "    f\"QEC_escenario_s11.csv\", \n",
    "    index=False\n",
    ")"
   ]
  }
 ],
 "metadata": {
  "file_extension": ".py",
  "kernelspec": {
   "name": "python3",
   "display_name": "Python 3.7.9 64-bit ('criteria-do': conda)",
   "metadata": {
    "interpreter": {
     "hash": "8b34bf399513e06a8774a8efb10030034b49ff381a6bcaf486d5d42f5d9a338c"
    }
   }
  },
  "mimetype": "text/x-python",
  "name": "python",
  "nbTranslate": {
   "displayLangs": [
    "es",
    "en"
   ],
   "hotkey": "alt-t",
   "langInMainMenu": true,
   "sourceLang": "en",
   "targetLang": "es",
   "useGoogleTranslate": true
  },
  "npconvert_exporter": "python",
  "pygments_lexer": "ipython3",
  "toc": {
   "base_numbering": 1,
   "nav_menu": {},
   "number_sections": true,
   "sideBar": true,
   "skip_h1_title": false,
   "title_cell": "Table of Contents",
   "title_sidebar": "Contents",
   "toc_cell": false,
   "toc_position": {
    "height": "calc(100% - 180px)",
    "left": "10px",
    "top": "150px",
    "width": "326.533px"
   },
   "toc_section_display": true,
   "toc_window_display": true
  },
  "version": 3
 },
 "nbformat": 4,
 "nbformat_minor": 2
}