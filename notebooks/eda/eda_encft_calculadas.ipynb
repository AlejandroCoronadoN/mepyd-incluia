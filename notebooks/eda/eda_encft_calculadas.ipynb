{
 "cells": [
  {
   "cell_type": "code",
   "execution_count": null,
   "id": "approved-fight",
   "metadata": {},
   "outputs": [],
   "source": [
    "%load_ext autoreload\n",
    "%autoreload 2"
   ]
  },
  {
   "cell_type": "code",
   "execution_count": null,
   "id": "backed-choir",
   "metadata": {},
   "outputs": [],
   "source": [
    "import pandas as pd\n",
    "import gc\n",
    "from projectetl.utils.dataload import (load_survey_data_do, save_survey_with_pickle,\n",
    "                                       load_survey_from_pickle)\n",
    "from projectetl.utils.config import (ENCFT_SURVEY_PATH, ENCFT_PREVIOUS_SURVEY_PATH,\n",
    "                                     ENCFT_OBJECT_DIR, INFLATION_OBJECT_DIR, DATA_DIR,\n",
    "                                     ENCFT_DIR)\n",
    "from criteriaetl.utils.expansion_func import (get_value_counts_with_expansion_factor,\n",
    "    get_percentage_table_with_expansion_factor, get_weighted_average)"
   ]
  },
  {
   "cell_type": "code",
   "execution_count": null,
   "id": "documentary-patent",
   "metadata": {},
   "outputs": [],
   "source": [
    "get_raw_incomes = 0"
   ]
  },
  {
   "cell_type": "code",
   "execution_count": null,
   "id": "original-miller",
   "metadata": {},
   "outputs": [],
   "source": [
    "if get_raw_incomes:\n",
    "    print('loading csv')\n",
    "    survey_incomes = load_survey_data_do(ENCFT_DIR / '2020 con pobreza calculada.csv', load_func=lambda path: pd.read_csv(str(path), low_memory=False))\n",
    "    save_survey_with_pickle(survey_incomes, ENCFT_OBJECT_DIR / 'encft2020.pkl')\n",
    "else:\n",
    "    print('loading pickle')\n",
    "    survey_incomes = load_survey_from_pickle(ENCFT_OBJECT_DIR / 'encft2020.pkl')\n",
    "    \n",
    "key_member = ['trimestre', 'id_hogar', 'id_persona']\n",
    "cols_from_incomes = key_member + ['ingpercapitadef', 'lpextrema', 'lpgeneral', 'quedateencasa', \n",
    "                                  'trsoc_def', 'trsoc', 'factor_expansion_anual']\n",
    "survey_incomes_slim = survey_incomes[cols_from_incomes].copy()\n",
    "del survey_incomes\n",
    "gc.collect()"
   ]
  },
  {
   "cell_type": "code",
   "execution_count": null,
   "id": "divine-omega",
   "metadata": {},
   "outputs": [],
   "source": [
    "survey_incomes_slim['pobreza'] = survey_incomes_slim.ingpercapitadef.le(survey_incomes_slim.lpgeneral)\n",
    "survey_incomes_slim['pobreza_extrema'] = survey_incomes_slim.ingpercapitadef.le(survey_incomes_slim.lpextrema)\n"
   ]
  },
  {
   "cell_type": "code",
   "execution_count": null,
   "id": "adult-aluminum",
   "metadata": {},
   "outputs": [],
   "source": [
    "households_poverty = survey_incomes_slim.groupby(key_member[:-1])[['pobreza', 'pobreza_extrema', 'factor_expansion_anual']].first()"
   ]
  },
  {
   "cell_type": "code",
   "execution_count": null,
   "id": "regulation-peace",
   "metadata": {},
   "outputs": [],
   "source": [
    "get_percentage_table_with_expansion_factor(survey_incomes_slim, 'pobreza', 'factor_expansion_anual')"
   ]
  },
  {
   "cell_type": "code",
   "execution_count": null,
   "id": "european-government",
   "metadata": {},
   "outputs": [],
   "source": [
    "get_percentage_table_with_expansion_factor(households_poverty, 'pobreza', 'factor_expansion_anual')"
   ]
  },
  {
   "cell_type": "code",
   "execution_count": null,
   "id": "respective-mumbai",
   "metadata": {},
   "outputs": [],
   "source": [
    "get_percentage_table_with_expansion_factor(survey_incomes_slim, 'pobreza_extrema', 'factor_expansion_anual')"
   ]
  },
  {
   "cell_type": "code",
   "execution_count": null,
   "id": "polyphonic-column",
   "metadata": {},
   "outputs": [],
   "source": [
    "get_percentage_table_with_expansion_factor(households_poverty, 'pobreza_extrema', 'factor_expansion_anual')"
   ]
  },
  {
   "cell_type": "code",
   "execution_count": null,
   "id": "assured-juice",
   "metadata": {},
   "outputs": [],
   "source": [
    "survey_incomes_slim.quedateencasa.value_counts()"
   ]
  },
  {
   "cell_type": "code",
   "execution_count": null,
   "id": "straight-spain",
   "metadata": {},
   "outputs": [],
   "source": [
    "survey_incomes_slim.groupby(['trimestre', 'id_hogar'])['quedateencasa'].sum().value_counts()"
   ]
  },
  {
   "cell_type": "code",
   "execution_count": null,
   "id": "welcome-determination",
   "metadata": {},
   "outputs": [],
   "source": []
  }
 ],
 "metadata": {
  "kernelspec": {
   "display_name": "Python [conda env:criteria-do]",
   "language": "python",
   "name": "conda-env-criteria-do-py"
  },
  "language_info": {
   "codemirror_mode": {
    "name": "ipython",
    "version": 3
   },
   "file_extension": ".py",
   "mimetype": "text/x-python",
   "name": "python",
   "nbconvert_exporter": "python",
   "pygments_lexer": "ipython3",
   "version": "3.7.10"
  }
 },
 "nbformat": 4,
 "nbformat_minor": 5
}
