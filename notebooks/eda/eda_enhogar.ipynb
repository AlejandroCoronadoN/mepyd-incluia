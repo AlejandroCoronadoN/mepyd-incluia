{
 "cells": [
  {
   "cell_type": "code",
   "execution_count": null,
   "metadata": {},
   "outputs": [],
   "source": [
    "%load_ext autoreload\n",
    "%autoreload 2"
   ]
  },
  {
   "cell_type": "code",
   "execution_count": null,
   "metadata": {},
   "outputs": [],
   "source": [
    "import sys\n",
    "import importlib\n",
    "\n",
    "import itertools as it\n",
    "import matplotlib.pyplot as plt\n",
    "import seaborn as sns\n",
    "import pandas as pd\n",
    "import numpy as np\n",
    "import statsmodels.api as sm\n",
    "\n",
    "from itertools import product\n",
    "from pandas_profiling import ProfileReport\n",
    "\n",
    "from criteriaetl.utils.expansion_func import (get_value_counts_with_expansion_factor,\n",
    "    get_percentage_table_with_expansion_factor)\n",
    "from criteriaetl.utils.display_func import cdisplay, percentage_count_plot\n",
    "from criteriaetl.utils.common_func import (get_weighted_complete_randomization_series_on_subset, \n",
    "    proportional_cut, weighted_qcut, get_partition_bool_columns_dict)\n",
    "from criteriaetl.transformers.columns_base import (NameTransformer, \n",
    "    ReplaceTransformer, SelectTransformer, AssignTransformer)\n",
    "from criteriaetl.transformers.rows_base import AggregateTransformer\n",
    "from criteriaetl.transformers.fusion_base import MergeTransformer\n",
    "\n",
    "from projectetl.utils.dataload import (load_survey_data_do, save_survey_with_pickle,\n",
    "                                       load_survey_from_pickle)\n",
    "from projectetl.utils.config import ENHOGAR_DIR"
   ]
  },
  {
   "cell_type": "markdown",
   "metadata": {},
   "source": [
    "# Configuration variables"
   ]
  },
  {
   "cell_type": "code",
   "execution_count": null,
   "metadata": {},
   "outputs": [],
   "source": [
    "save_report = False\n",
    "save_correlation = False"
   ]
  },
  {
   "cell_type": "markdown",
   "metadata": {},
   "source": [
    "# Load ENHOGAR 2016"
   ]
  },
  {
   "cell_type": "code",
   "execution_count": null,
   "metadata": {},
   "outputs": [],
   "source": [
    "survey_elected_raw = load_survey_data_do(ENHOGAR_DIR / 'Elegidos_ENHOGAR2016_PUB.sav',\n",
    "                                         load_func=lambda path: pd.read_spss(str(path)))\n",
    "survey_member_raw = load_survey_data_do(ENHOGAR_DIR / 'Personas_ENHOGAR2016_PUB.sav',\n",
    "                                        load_func=lambda path: pd.read_spss(str(path)))\n",
    "survey_house_raw = load_survey_data_do(ENHOGAR_DIR / 'Viviendas_ENHOGAR2016_PUB.sav',\n",
    "                                       load_func=lambda path: pd.read_spss(str(path)))"
   ]
  },
  {
   "cell_type": "markdown",
   "metadata": {},
   "source": [
    "# Desired variables"
   ]
  },
  {
   "cell_type": "code",
   "execution_count": null,
   "metadata": {},
   "outputs": [],
   "source": [
    "# hhogar \n",
    "# ---\n",
    "# h402 = sexo\n",
    "# h403 = edad\n",
    "# h405 = parentesco\n",
    "# h407 = estado civil (h407a = números)\n",
    "# ----\n",
    "# h409 = aprendió a leer y escribir\n",
    "# h410 = donde aprendió a leer y escribir\n",
    "# h411 = asiste o asistió a centro educativo\n",
    "# h412 = nivel educativo más alto\n",
    "# h413 = curso o año más alto que cursó\n",
    "# h414 = asiste en el actual año escolar a algún centro educativo\n",
    "# h415 = nivel educativo al que está asistiendo\n",
    "# h416 = curso o año al que está asistiendo\n",
    "# ---\n",
    "# h501 = ¿Trabajó o realizó (nombre) alguna actividad económica por lo menos una hora la semana pasada?\n",
    "# h502 = Aunque no trabajó la semana pasada ¿Tenía algún empleo, negocio o actividad?\n",
    "# h503 = ¿La semana pasada (nombre) cultivó, cosechó o cuidó ganado u otros animales?\n",
    "# h504 = ¿La semana pasada, elaboró (nombre) algún producto como artesanía o comida para vender?\n",
    "# h505 = ¿La semana pasada, ayudó (nombre) a algún familiar en su negocio, empresa o finca?\n",
    "# h506 = ¿La semana pasada (nombre) cosió, planchó, limpió casas, lavó ropa ajena o realizó otra actividad por paga?\n",
    "# h507 = Durante las últimas cuatro semanas ¿Ha buscado (nombre) trabajo o estuvo tratando de establecer su propio negocio, actividad económica o empresa?\n",
    "# h508 = ¿Por qué (nombre) no ha buscado trabajo?\n",
    "# lh509 = ¿Podría (nombre) haber aceptado un trabajo la semana pasada si le hubieran ofrecido uno?\n",
    "# lh510 = ¿Dispone (nombre) del tiempo y las condiciones necesarias para salir a trabajar?\n",
    "# lh511 = La semana pasada, ¿Habría tenido (nombre) el tiempo y las condiciones necesarias para salir a trabajar?\n",
    "# lh512 = ¿Ha trabajado (nombre) antes por paga o ganancia?\n",
    "# lh513 = ¿Cuál fue la principal ocupación u oficio línea que desempeñó (nombre) durante la semana pasada o en el último trabajo que tuvo?\n",
    "# lh514 = ¿A qué se dedica la empresa, negocio o institución en la que trabaja (nombre) actualmente o trabajó por última vez?\n",
    "# lh515 = ¿En ese trabajo (nombre) es o era...\n",
    "# lh516 = Regularmente, ¿Cuántas horas a la semana trabaja o trabajó (nombre) en su ocupación principal?\n",
    "# h601 = ¿Tiene (nombre) PREG. algún seguro de salud, seguro médico o plan de salud?\n",
    "# region\n",
    "member_columns = [\n",
    "    # Identifiers\n",
    "    'hhupm', 'hhviv', 'hhogar', 'hzona', 'hprovi', 'h402', 'h403', 'h405', 'h407',\n",
    "    'tipo_hogar',\n",
    "    # Education\n",
    "    'h409', 'h410', 'h411', 'h412', 'h413', 'h414',\n",
    "    'h415', 'h416',\n",
    "    # Economic characteristics\n",
    "    'h501', 'h502', 'h503', 'h504', 'h505', 'h506', \n",
    "    'h507', 'h508', 'lh509', 'lh510', 'lh511', 'lh512', 'lh513',\n",
    "    'lh514', 'lh515', 'lh516',\n",
    "    # Assurance\n",
    "    'h601',\n",
    "    # Stratos\n",
    "    'hestrat', 'region', 'grupsec', 'zona', 'hmiembro',\n",
    "    'hprovin', 'estratos',\n",
    "    # Factors\n",
    "    'fexpansion', 'fponderacion'\n",
    "]\n",
    "\n",
    "# h702a = Número de personas estándar mayores de 10 en el hogar\n",
    "# h704 = edad\n",
    "# h1001 = ¿Trabajó usted la semana pasada por paga o ganacia?\n",
    "# h1002 = ¿Cuántos días trabajó usted durante la semana pasada?\n",
    "# h1003 = ¿Cuántas horas trabajó usted diariamente la semana pasada?\n",
    "# h1005 = ¿Estudia usted actualmente?\n",
    "# h1009 = ¿Realiza usted algún tipo de estudio vocacional, técnico o profesional como música, pintura, computación u otra actividad similar?\n",
    "# h1015 = Durante la semana pasada ¿Dedicó usted algún tiempo al cuidado de enfermos, ancianos, niños u otras personas, ya sean de su hogar u otro hogar?\n",
    "# h1016 = Durante la semana pasada ¿Cuántos días le dedico al cuidado de esa o esas personas?\n",
    "# h1017 = Durante la semana pasada ¿Cuántas horas le dedicó usted al cuidado de esa o esas personas diariamente o el último día que cuidó a esa o esas personas?\n",
    "# h1030 = En la semana pasada, ¿Cuántos días dedicó usted tiempo para criar o cuidar animales o realizar algún cultivo o cosecha de productos para el consumo del hogar?\n",
    "# h1032 = Durante la semana pasada, ¿Cuántos días dedicó usted a realizar algún trabajo sin paga en un negocio o establecimiento de comercio o producción?\n",
    "# h1034 = En la semana pasada, ¿Cuántos días dedicó usted tiempo para realizar actividades domésticas en su hogar, como limpiar la casa, cocinar, lavar, fregar u otras labores domésticas?\n",
    "# h1035 = En la semana pasada, ¿Cuántas horas dedicó usted a realizar actividades diariamente o el último día que las realizó la semana pasada?\n",
    "# h1036 = En la semana pasada, ¿Cuántos días dedicó usted tiempo para realizar actividades domésticas sin paga en otro hogar, como limpiar la casa, cocinar, lavar, fregar u otras labores domésticas?\n",
    "# h1037 = Durante la semana pasada, ¿Cuántas horas dedicó usted a realizar esas actividades diariamente o el último día que las ralizó la semana pasada?\n",
    "elected_columns = [\n",
    "    'h703', 'h702a',\n",
    "    'h704', 'h1001', 'h1002', 'h1003', 'h1005',\n",
    "    'h1009', 'h1030', 'h1032',\n",
    "    'fexpansion_tic', 'fponderacion_tic',\n",
    "    # Target\n",
    "    'h1015', 'h1016', 'h1017', 'h1034', 'h1035',\n",
    "    'h1036', 'h1037'\n",
    "]"
   ]
  },
  {
   "cell_type": "markdown",
   "metadata": {},
   "source": [
    "# Processing surveys"
   ]
  },
  {
   "cell_type": "code",
   "execution_count": null,
   "metadata": {},
   "outputs": [],
   "source": [
    "basic_cols = [\n",
    "    'hhupm', 'hhviv', 'hhogar'\n",
    "]"
   ]
  },
  {
   "cell_type": "markdown",
   "metadata": {},
   "source": [
    "## Assign Transformer"
   ]
  },
  {
   "cell_type": "code",
   "execution_count": null,
   "metadata": {},
   "outputs": [],
   "source": [
    "assign_member_map = {\n",
    "    'temp': lambda _: 1,\n",
    "    'h703': lambda df, cols=basic_cols: df.groupby(cols)['temp'].transform('cumsum'),\n",
    "\n",
    "    'es_jefe': lambda df: df['h405'] == 'El (la) Jefe(a)',\n",
    "    'es_hijo': lambda df: df['h405'] == 'Hijo(a)',\n",
    "    'es_conyugue': lambda df: df['h405'] == 'Esposo(a) o compañero(a)',\n",
    "    'otro_pariente': lambda df: df['h405'].isin(['Yerno o nuera', 'Nieto(a)', 'Padre o madre',\n",
    "                                                       'Suegro(a)', 'Hermano(a)', 'Cuñado(a)', 'Tío(a)',\n",
    "                                                       'Sobrino(a)', 'Otro pariente', 'Adoptado/ hijo de crianza']),\n",
    "    'no_pariente': lambda df: df['h405'].isin(['Trabajador(a) doméstico(a)', 'Otro']),\n",
    "\n",
    "    'es_jefe_sum': lambda df, cols=basic_cols: df.groupby(cols)['es_jefe'].transform('sum'),\n",
    "    'es_hijo_sum': lambda df, cols=basic_cols: df.groupby(cols)['es_hijo'].transform('sum'),\n",
    "    'es_conyugue_sum': lambda df, cols=basic_cols: df.groupby(cols)['es_conyugue'].transform('sum'),\n",
    "    'otro_pariente_sum': lambda df, cols=basic_cols: df.groupby(cols)['otro_pariente'].transform('sum'),\n",
    "    'no_pariente_sum': lambda df, cols=basic_cols: df.groupby(cols)['no_pariente'].transform('sum'),\n",
    "\n",
    "    'tipo_hogar': lambda df:\n",
    "        np.select([\n",
    "            (lambda df: (df['es_jefe_sum'] == 1) \\\n",
    "                & (df['es_conyugue_sum'] == 0) & (df['es_hijo_sum'] == 0) \\\n",
    "                & (df['otro_pariente_sum'] == 0) & (df['no_pariente_sum'] == 0))(df),\n",
    "            (lambda df: (df['es_jefe_sum'] == 1) \\\n",
    "                & (df['es_conyugue_sum'] != 0) & (df['es_hijo_sum'] == 0) \\\n",
    "                & (df['otro_pariente_sum'] == 0) & (df['no_pariente_sum'] == 0))(df),\n",
    "            (lambda df: (df['es_jefe_sum'] == 1) \\\n",
    "                & (df['es_conyugue_sum'] != 0) & (df['es_hijo_sum'] != 0) \\\n",
    "                & (df['otro_pariente_sum'] == 0) & (df['no_pariente_sum'] == 0))(df),\n",
    "            (lambda df: (df['es_jefe_sum'] == 1) \\\n",
    "                & (df['es_conyugue_sum'] == 0) & (df['es_hijo_sum'] != 0) \\\n",
    "                & (df['otro_pariente_sum'] == 0) & (df['no_pariente_sum'] == 0))(df),\n",
    "            (lambda df: (df['es_jefe_sum'] == 1) & (df['es_conyugue_sum'] != 0) \\\n",
    "                & (df['es_hijo_sum'] == 0) & (df['otro_pariente_sum'] != 0) \\\n",
    "                & (df['no_pariente_sum'] == 0))(df),\n",
    "            (lambda df: (df['es_jefe_sum'] == 1) & (df['es_conyugue_sum'] != 0) \\\n",
    "                & (df['es_hijo_sum'] != 0) & (df['otro_pariente_sum'] != 0) \\\n",
    "                & (df['no_pariente_sum'] == 0))(df),\n",
    "            (lambda df: (df['es_jefe_sum'] == 1) \\\n",
    "                & (df['es_conyugue_sum'] == 0) & (df['es_hijo_sum'] != 0) \\\n",
    "                & (df['otro_pariente_sum'] != 0) & (df['no_pariente_sum'] == 0))(df),\n",
    "            (lambda df: (df['es_jefe_sum'] == 1) \\\n",
    "                & (df['es_conyugue_sum'] == 0) & (df['es_hijo_sum'] == 0) \\\n",
    "                & (df['otro_pariente_sum'] != 0) & (df['no_pariente_sum'] == 0))(df),\n",
    "            (lambda df: (df['es_jefe_sum'] == 1) & (df['no_pariente_sum'] != 0))(df)\n",
    "        ], [\n",
    "            \"Unipersonal\", \"Nuclear sin hijos\", \"Nuclear con hijos\", \"Nuclear monoparental\",\n",
    "            \"Extendido base nuclear sin hijos\", \"Extendido base nuclear con hijos\",\n",
    "            \"Extendido base monoparental\", \"Extendido sin base nuclear\", \"Compuesto\"\n",
    "        ])\n",
    "}\n",
    "\n",
    "assign_member_transformer = AssignTransformer(assign_member_map)\n",
    "survey_member_assigned = assign_member_transformer.transform(survey_member_raw)"
   ]
  },
  {
   "cell_type": "code",
   "execution_count": null,
   "metadata": {},
   "outputs": [],
   "source": [
    "survey_member_assigned.head()"
   ]
  },
  {
   "cell_type": "markdown",
   "metadata": {},
   "source": [
    "## Merge Transformer"
   ]
  },
  {
   "cell_type": "code",
   "execution_count": null,
   "metadata": {},
   "outputs": [],
   "source": [
    "merge_member_elected_transformer = MergeTransformer(lambda : survey_member_assigned,\n",
    "                                                    merge_kwargs={\n",
    "                                                        'on': basic_cols + ['h703'],\n",
    "                                                        'suffixes': ('', '_other')\n",
    "                                                    })\n",
    "survey_elected_merged = merge_member_elected_transformer.transform(survey_elected_raw)"
   ]
  },
  {
   "cell_type": "code",
   "execution_count": null,
   "metadata": {},
   "outputs": [],
   "source": [
    "survey_elected_merged = survey_elected_merged[member_columns + elected_columns]"
   ]
  },
  {
   "cell_type": "markdown",
   "metadata": {},
   "source": [
    "## Name Transformer"
   ]
  },
  {
   "cell_type": "code",
   "execution_count": null,
   "metadata": {},
   "outputs": [],
   "source": [
    "name_elected_map = {\n",
    "    'h402': 'sexo', # sexo\n",
    "    'h403': 'edad', # edad\n",
    "    'h405': 'parentesco', # parentesco\n",
    "    'h407': 'estado_civil',\n",
    "    'h409': 'aprendio_leer_escribir',\n",
    "    'h410': 'donde_aprendio_leer_escribir',\n",
    "    'h411': 'asiste_asistio_centro_educativo',\n",
    "    'h412': 'nivel_educativo_mas_alto',\n",
    "    'h413': 'curso_mas_alto_que_curso',\n",
    "    'h414': 'asiste_centro_educativo_actualmente',\n",
    "    'h415': 'nivel_esta_asistiendo',\n",
    "    'h416': 'curso_esta_asistiendo',\n",
    "    'h501': 'trabajo_semana_pasada',\n",
    "    'h502': 'tenia_empleo_semana_pasada',\n",
    "    'h503': 'cultivo_cosecho_semana_pasada',\n",
    "    'h504': 'elaboro_producto_semana_pasada',\n",
    "    'h505': 'ayudo_familiar_semana_pasada',\n",
    "    'h506': 'tuvo_trabajo_domestico_por_paga_semana_pasada',\n",
    "    'h507': 'busco_trabajo_cuatro_semanas_pasadas',\n",
    "    'h508': 'motivo_no_busca_trabajo',\n",
    "    'lh509': 'podria_aceptar_trabajo_semana_pasada',\n",
    "    'lh510': 'dispone_condiciones_para_trabajar',\n",
    "    'lh511': 'dispone_condiciones_para_trabajar_semana_pasada',\n",
    "    'lh512': 'ha_trabajado_por_paga',\n",
    "    'lh513': 'ultima_principal_ocupacion',\n",
    "    'lh514': 'se_dedica_ultima_empresa',\n",
    "    'lh515': 'ocupacion_ultimo_trabajo',\n",
    "    'lh516': 'horas_trabajadas_semanalmente_ocupacion_principal',\n",
    "    'h601': 'tiene_seguro_salud_pension',\n",
    "    'h702a': 'mayores_10_annos',\n",
    "    'h704': 'edad_elegido',\n",
    "    'h1001': 'trabajo_por_paga_semana_pasada',\n",
    "    'h1002': 'dias_trabajo_semana_pasada',\n",
    "    'h1003': 'horas_trabajo_semana_pasada',\n",
    "    'h1005': 'estudia_actualmente',\n",
    "    'h1009': 'realiza_actividad_vocacional',\n",
    "    'h1015': 'dedico_tiempo_cuidados',\n",
    "    'h1016': 'tiempo_cuidados_dias',\n",
    "    'h1017': 'tiempo_cuidado_horas_diarias',\n",
    "    'h1030': 'tiempo_agricultura_ganado_dias',\n",
    "    'h1032': 'tiempo_trabajo_sin_paga_dias',\n",
    "    'h1034': 'tiempo_trabajo_domestico_hogar_dias',\n",
    "    'h1035': 'tiempo_trabajo_domestico_hogar_horas',\n",
    "    'h1036': 'tiempo_trabajo_domestico_no_hogar_dias',\n",
    "    'h1037': 'tiempo_trabajo_domestico_no_hogar_horas'\n",
    "}\n",
    "\n",
    "keep = ['hhupm', 'hhviv', 'hhogar', 'hzona', 'hprovi',\n",
    "        'tipo_hogar',\n",
    "        # Stratos\n",
    "        'hestrat', 'region', 'grupsec', 'zona', 'hmiembro',\n",
    "        'hprovin', 'estratos',\n",
    "        # Factors\n",
    "        'fexpansion', 'fponderacion',\n",
    "        'fexpansion_tic', 'fponderacion_tic',]\n",
    "\n",
    "name_elected_transformer = NameTransformer(name_elected_map, keep_features=keep)\n",
    "survey_elected_named = name_elected_transformer.transform(survey_elected_merged)"
   ]
  },
  {
   "cell_type": "code",
   "execution_count": null,
   "metadata": {},
   "outputs": [],
   "source": [
    "categories = set(survey_elected_named.columns) - set(survey_elected_named.select_dtypes(float))\n",
    "categories"
   ]
  },
  {
   "cell_type": "markdown",
   "metadata": {},
   "source": [
    "## Replace Transformer"
   ]
  },
  {
   "cell_type": "code",
   "execution_count": null,
   "metadata": {},
   "outputs": [],
   "source": [
    "motivos_no_busca_trabajo = [\n",
    "    'Ha buscado trabajo y no encuentra', 'Familiar y otras personas le están buscando',\n",
    "    'Solicitó y espera respuesta', 'Está incapacitado permanentemente',\n",
    "    'Está Incapacitado temporalmente', 'Está estudiando', 'Se dedica a quehaceres del hogar',\n",
    "    'Es rentista', 'No tiene suficiente educación o experiencia', 'Cree que no va a encontrar',\n",
    "    'Por razones de edad', 'No quiso buscar trabajo', 'Pensionado o jubilado'\n",
    "]"
   ]
  },
  {
   "cell_type": "code",
   "execution_count": null,
   "metadata": {},
   "outputs": [],
   "source": [
    "replace_elected_map = {\n",
    "    'horas_trabajadas_semanalmente_ocupacion_principal': {\n",
    "        'No sabe': 0.0\n",
    "    },\n",
    "    'curso_mas_alto_que_curso': {\n",
    "        'No sabe': 0.0\n",
    "    },\n",
    "    'curso_esta_asistiendo': {\n",
    "        'No sabe': 0.0\n",
    "    },\n",
    "    'motivo_no_busca_trabajo': {\n",
    "        **{reason: i + 1 for i, reason in enumerate(motivos_no_busca_trabajo)},\n",
    "        'Otro': 98\n",
    "    }\n",
    "}\n",
    "\n",
    "astype_elected_map = {\n",
    "    'horas_trabajadas_semanalmente_ocupacion_principal': float,\n",
    "    'tiempo_agricultura_ganado_dias': float,\n",
    "    'tiempo_trabajo_sin_paga_dias': float,\n",
    "    'curso_mas_alto_que_curso': float,\n",
    "    'curso_esta_asistiendo': float,\n",
    "    'motivo_no_busca_trabajo': 'category'\n",
    "}\n",
    "\n",
    "replace_elected_transformer = ReplaceTransformer(replace_elected_map, astype_dict=astype_elected_map)\n",
    "survey_elected_replaced = replace_elected_transformer.transform(survey_elected_named)"
   ]
  },
  {
   "cell_type": "markdown",
   "metadata": {},
   "source": [
    "## Select Transformer"
   ]
  },
  {
   "cell_type": "code",
   "execution_count": null,
   "metadata": {},
   "outputs": [],
   "source": [
    "age_groups = [(10, 14), (15, 24), (25, 45), (46, 59), (60, 74), (75, None)]"
   ]
  },
  {
   "cell_type": "code",
   "execution_count": null,
   "metadata": {},
   "outputs": [],
   "source": [
    "select_elected_map = {\n",
    "    'grupo_etareo': {\n",
    "        lambda df: df['edad'] == '97+': '75-+',\n",
    "        **{\n",
    "            lambda df, min_group=min_group, max_group=max_group:\n",
    "                pd.to_numeric(df['edad'], errors='coerce').isin(range(min_group, (max_group or 96) + 1)):\n",
    "                lambda _, min_group=min_group, max_group=max_group: f'{min_group}-{max_group or \"+\"}'\n",
    "            for min_group, max_group in age_groups\n",
    "        },\n",
    "        'default': lambda df: df['edad']\n",
    "    },\n",
    "\n",
    "    'condicion_actividad': {\n",
    "        # ocupados: \n",
    "        # trabajo_semana_pasada - realizo algun trabajo la semana anterior por lo menos una hora: sí, o\n",
    "        # tuvo_trabajo_domestico_por_paga_semana_pasada - en la semana anterior: realizo alguna actividad para \n",
    "        # obtener dinero o especies, o,\n",
    "        # tenia_empleo_semana_pasada - tiene un negocio o empresa a la que proximamente volverá: sí\n",
    "        lambda df: (df['trabajo_semana_pasada'] == 'Sí') \\\n",
    "                    | (df['tuvo_trabajo_domestico_por_paga_semana_pasada'] == 'Sí') \\\n",
    "                    | (df['tenia_empleo_semana_pasada'] == 'Sí'): 'ocupado',\n",
    "        \n",
    "        lambda df: df['motivo_no_busca_trabajo'].isin([4, 5, 11]): 'incapacitado o anciano',\n",
    "        lambda df: df['motivo_no_busca_trabajo'].isin([8, 13]): 'jubilado o rentista',\n",
    "        lambda df: (df['motivo_no_busca_trabajo'] == 7): 'quehacer doméstico',\n",
    "        lambda df: (df['motivo_no_busca_trabajo'] == 6): 'estudiante',\n",
    "\n",
    "        # desocupados\n",
    "        # busco_trabajo_cuatro_semanas_pasadas - en las 4 semanas anteriores estuvo buscando trabajo o \n",
    "        # tratando de emprender: si, y\n",
    "        # motivo_no_busca_trabajo = 1, 2, 3\n",
    "        # r408 - en las cuantro semanas efectivamente hizo algo para \n",
    "        # buscar trabajo o emprender\n",
    "        lambda df: (df['busco_trabajo_cuatro_semanas_pasadas'] == 'Sí') \\\n",
    "                   | df['motivo_no_busca_trabajo'].isin([1, 2, 3]): 'desocupado',\n",
    "\n",
    "        # inactivos\n",
    "        'default': 'inactivo'\n",
    "    },\n",
    "\n",
    "    'tiempo_cuidados_horas_semanales': {\n",
    "        lambda df: (df['dedico_tiempo_cuidados'] == 'No') | (df['dedico_tiempo_cuidados'].isna()): 0.0,\n",
    "        'default': lambda df: df['tiempo_cuidados_dias'] * df['tiempo_cuidado_horas_diarias']\n",
    "    },\n",
    "\n",
    "    'tiempo_trabajo_domestico_hogar_horas_semanales': {\n",
    "        lambda df: (df['tiempo_trabajo_domestico_hogar_dias'] == '97') \\\n",
    "                    | (df['tiempo_trabajo_domestico_hogar_dias'] == 99.0): 0.0,\n",
    "        lambda df: df['tiempo_trabajo_domestico_hogar_dias'].isna(): 0.0,\n",
    "        'default': lambda df: df['tiempo_trabajo_domestico_hogar_dias'].astype(float) * df['tiempo_trabajo_domestico_hogar_horas']\n",
    "    },\n",
    "\n",
    "    'tiempo_trabajo_domestico_no_hogar_horas_semanales': {\n",
    "        lambda df: (df['tiempo_trabajo_domestico_no_hogar_dias'] == '97') \\\n",
    "                    | (df['tiempo_trabajo_domestico_no_hogar_dias'] == 99.0): 0.0,\n",
    "        lambda df: df['tiempo_trabajo_domestico_no_hogar_dias'].isna(): 0.0,\n",
    "        'default': lambda df: df['tiempo_trabajo_domestico_no_hogar_dias'].astype(float) * df['tiempo_trabajo_domestico_hogar_horas']\n",
    "    }\n",
    "}\n",
    "\n",
    "select_elected_transformer = SelectTransformer(select_elected_map)\n",
    "survey_elected_selected = select_elected_transformer.transform(survey_elected_replaced)"
   ]
  },
  {
   "cell_type": "code",
   "execution_count": null,
   "metadata": {},
   "outputs": [],
   "source": [
    "get_percentage_table_with_expansion_factor(survey_elected_selected, 'dedico_tiempo_cuidados', 'fexpansion_tic')"
   ]
  },
  {
   "cell_type": "markdown",
   "metadata": {},
   "source": [
    "## Assign Transformer"
   ]
  },
  {
   "cell_type": "code",
   "execution_count": null,
   "metadata": {},
   "outputs": [],
   "source": [
    "assign_elected_map = {\n",
    "    'tiempo_trabajo_doméstico_no_remunerado_horas_semanales':\n",
    "        lambda df: df['tiempo_trabajo_domestico_hogar_horas_semanales'] + df['tiempo_trabajo_domestico_no_hogar_horas_semanales'],\n",
    "\n",
    "    'dedico_tiempo_trabajo_doméstico_no_remunerado': lambda df: df['tiempo_trabajo_doméstico_no_remunerado_horas_semanales'] > 0,\n",
    "\n",
    "    'dedico_tiempo_trabajo_doméstico_no_hogar': lambda df: df['tiempo_trabajo_domestico_no_hogar_horas_semanales'] > 0\n",
    "}\n",
    "\n",
    "assign_elected_transformer = AssignTransformer(assign_elected_map)\n",
    "survey_elected_assigned = assign_elected_transformer.transform(survey_elected_selected)"
   ]
  },
  {
   "cell_type": "code",
   "execution_count": null,
   "metadata": {},
   "outputs": [],
   "source": [
    "survey_elected_assigned['dedico_tiempo_trabajo_doméstico_no_hogar'].value_counts()"
   ]
  },
  {
   "cell_type": "code",
   "execution_count": null,
   "metadata": {},
   "outputs": [],
   "source": [
    "get_percentage_table_with_expansion_factor(survey_elected_assigned, 'dedico_tiempo_trabajo_doméstico_no_hogar', 'fexpansion_tic')"
   ]
  },
  {
   "cell_type": "code",
   "execution_count": null,
   "metadata": {},
   "outputs": [],
   "source": [
    "get_percentage_table_with_expansion_factor(survey_elected_assigned, 'dedico_tiempo_trabajo_doméstico_no_remunerado', 'fexpansion_tic')"
   ]
  },
  {
   "cell_type": "markdown",
   "metadata": {},
   "source": [
    "## Dummify survey"
   ]
  },
  {
   "cell_type": "code",
   "execution_count": null,
   "metadata": {},
   "outputs": [],
   "source": [
    "survey_elected_dummified = pd.get_dummies(survey_elected_assigned, drop_first=True)\n",
    "len(survey_elected_dummified.columns)"
   ]
  },
  {
   "cell_type": "markdown",
   "metadata": {},
   "source": [
    "## Fill NA"
   ]
  },
  {
   "cell_type": "code",
   "execution_count": null,
   "metadata": {},
   "outputs": [],
   "source": [
    "survey_elected_nan_replaced = survey_elected_dummified.fillna(0)"
   ]
  },
  {
   "cell_type": "code",
   "execution_count": null,
   "metadata": {},
   "outputs": [],
   "source": [
    "survey_elected_nan_replaced.head()"
   ]
  },
  {
   "cell_type": "markdown",
   "metadata": {},
   "source": [
    "# EDA"
   ]
  },
  {
   "cell_type": "code",
   "execution_count": null,
   "metadata": {},
   "outputs": [],
   "source": [
    "survey_elected_nan_replaced.loc[survey_elected_nan_replaced['tiempo_cuidados_horas_semanales'] > 0.0, 'tiempo_cuidados_horas_semanales'] \\\n",
    "                           .value_counts()"
   ]
  },
  {
   "cell_type": "markdown",
   "metadata": {},
   "source": [
    "## Pandas profiling"
   ]
  },
  {
   "cell_type": "code",
   "execution_count": null,
   "metadata": {},
   "outputs": [],
   "source": [
    "if save_report:\n",
    "    report = ProfileReport(survey_elected_selected, config_file='config.yml')\n",
    "    report.to_file('report.html')"
   ]
  },
  {
   "cell_type": "markdown",
   "metadata": {},
   "source": [
    "## Correlation"
   ]
  },
  {
   "cell_type": "code",
   "execution_count": null,
   "metadata": {},
   "outputs": [],
   "source": [
    "if save_correlation:\n",
    "    target_cols = [\n",
    "        'tiempo_cuidados_horas_semanales', 'tiempo_trabajo_domestico_hogar_horas_semanales',\n",
    "        'tiempo_trabajo_domestico_no_hogar_horas_semanales'\n",
    "    ]\n",
    "    groups = set(survey_elected_named.columns) - set(target_cols)\n",
    "    for col in groups:\n",
    "        cols = [scol for scol in survey_elected_dummified.columns if col in scol]\n",
    "        sns_plot = sns.heatmap(survey_elected_dummified[cols + target_cols].corr(), vmin=-1, vmax=1, center=0,\n",
    "                            cmap=sns.diverging_palette(20, 220, n=200),\n",
    "                            square=True)\n",
    "        sns_plot.get_figure().savefig(f'correlations/corr_{col}.png')\n",
    "        sns_plot.get_figure().clf()"
   ]
  },
  {
   "cell_type": "markdown",
   "metadata": {},
   "source": [
    "## Extra checks"
   ]
  },
  {
   "cell_type": "code",
   "execution_count": null,
   "metadata": {},
   "outputs": [],
   "source": [
    "(survey_elected_dummified['dedico_tiempo_cuidados_Si']).sum()"
   ]
  },
  {
   "cell_type": "markdown",
   "metadata": {},
   "source": [
    "# Regression Estimator"
   ]
  },
  {
   "cell_type": "code",
   "execution_count": 1,
   "metadata": {},
   "outputs": [
    {
     "output_type": "stream",
     "name": "stderr",
     "text": [
      "/Users/ohch/opt/anaconda3/envs/criteria-do/lib/python3.7/importlib/_bootstrap.py:219: RuntimeWarning: numpy.ufunc size changed, may indicate binary incompatibility. Expected 192 from C header, got 216 from PyObject\n",
      "  return f(*args, **kwds)\n",
      "/Users/ohch/opt/anaconda3/envs/criteria-do/lib/python3.7/importlib/_bootstrap.py:219: RuntimeWarning: numpy.ufunc size changed, may indicate binary incompatibility. Expected 192 from C header, got 216 from PyObject\n",
      "  return f(*args, **kwds)\n"
     ]
    },
    {
     "output_type": "error",
     "ename": "ModuleNotFoundError",
     "evalue": "No module named 'projectetl.utils.functions'",
     "traceback": [
      "\u001b[0;31m---------------------------------------------------------------------------\u001b[0m",
      "\u001b[0;31mModuleNotFoundError\u001b[0m                       Traceback (most recent call last)",
      "\u001b[0;32m<ipython-input-1-687e4447c35f>\u001b[0m in \u001b[0;36m<module>\u001b[0;34m\u001b[0m\n\u001b[1;32m      3\u001b[0m \u001b[0;32mfrom\u001b[0m \u001b[0msklearn\u001b[0m\u001b[0;34m.\u001b[0m\u001b[0mmodel_selection\u001b[0m \u001b[0;32mimport\u001b[0m \u001b[0mtrain_test_split\u001b[0m\u001b[0;34m\u001b[0m\u001b[0;34m\u001b[0m\u001b[0m\n\u001b[1;32m      4\u001b[0m \u001b[0;34m\u001b[0m\u001b[0m\n\u001b[0;32m----> 5\u001b[0;31m \u001b[0;32mfrom\u001b[0m \u001b[0mprojectetl\u001b[0m\u001b[0;34m.\u001b[0m\u001b[0mutils\u001b[0m\u001b[0;34m.\u001b[0m\u001b[0mfunctions\u001b[0m \u001b[0;32mimport\u001b[0m \u001b[0mget_real_feature_names\u001b[0m\u001b[0;34m\u001b[0m\u001b[0;34m\u001b[0m\u001b[0m\n\u001b[0m",
      "\u001b[0;31mModuleNotFoundError\u001b[0m: No module named 'projectetl.utils.functions'"
     ]
    }
   ],
   "source": [
    "from sklearn.linear_model import LassoCV, Lasso\n",
    "from sklearn.feature_selection import SelectFromModel\n",
    "from sklearn.model_selection import train_test_split\n",
    "\n",
    "from projectetl.utils.functions import get_real_feature_names"
   ]
  },
  {
   "cell_type": "code",
   "execution_count": null,
   "metadata": {},
   "outputs": [],
   "source": [
    "feature_names = [\n",
    "    'sexo',\n",
    "    'parentesco',\n",
    "    'estado_civil',\n",
    "    'aprendio_leer_escribir',\n",
    "    'donde_aprendio_leer_escribir',\n",
    "    'asiste_asistio_centro_educativo',\n",
    "    'nivel_educativo_mas_alto',\n",
    "    'curso_mas_alto_que_curso',\n",
    "    'asiste_centro_educativo_actualmente',\n",
    "    'nivel_esta_asistiendo',\n",
    "    'curso_esta_asistiendo',\n",
    "    'trabajo_semana_pasada',\n",
    "    'tenia_empleo_semana_pasada',\n",
    "    'cultivo_cosecho_semana_pasada',\n",
    "    'elaboro_producto_semana_pasada',\n",
    "    'ayudo_familiar_semana_pasada',\n",
    "    'tuvo_trabajo_domestico_por_paga_semana_pasada',\n",
    "    'busco_trabajo_cuatro_semanas_pasadas',\n",
    "    'motivo_no_busca_trabajo',\n",
    "    'podria_aceptar_trabajo_semana_pasada',\n",
    "    'dispone_condiciones_para_trabajar',\n",
    "    'dispone_condiciones_para_trabajar_semana_pasada',\n",
    "    'ha_trabajado_por_paga',\n",
    "    'ultima_principal_ocupacion',\n",
    "    'se_dedica_ultima_empresa',\n",
    "    'ocupacion_ultimo_trabajo',\n",
    "    'horas_trabajadas_semanalmente_ocupacion_principal',\n",
    "    'tiene_seguro_salud_pension',\n",
    "    'mayores_10_annos',\n",
    "    'trabajo_por_paga_semana_pasada',\n",
    "    'dias_trabajo_semana_pasada',\n",
    "    'horas_trabajo_semana_pasada',\n",
    "    'estudia_actualmente',\n",
    "    'realiza_actividad_vocacional',\n",
    "    'tiempo_agricultura_ganado_dias',\n",
    "    'tiempo_trabajo_sin_paga_dias',\n",
    "    'grupo_etareo',\n",
    "    'condicion_actividad',\n",
    "    'tipo_hogar'\n",
    "    # Stratos\n",
    "    'region', 'grupsec', 'zona', 'hmiembro',\n",
    "    'hprovin', 'estratos'\n",
    "]\n",
    "\n",
    "feature_names = get_real_feature_names(survey_elected_dummified, feature_names)"
   ]
  },
  {
   "cell_type": "code",
   "execution_count": null,
   "metadata": {},
   "outputs": [],
   "source": [
    "target_col = 'tiempo_trabajo_doméstico_no_remunerado_horas_semanales'\n",
    "decision_col = 'dedico_tiempo_trabajo_doméstico_no_remunerado'\n",
    "weight_col = 'fexpansion_tic'"
   ]
  },
  {
   "cell_type": "markdown",
   "metadata": {},
   "source": [
    "## Simple estimators"
   ]
  },
  {
   "cell_type": "code",
   "execution_count": null,
   "metadata": {},
   "outputs": [],
   "source": [
    "survey_train, survey_test = train_test_split(survey_elected_nan_replaced)"
   ]
  },
  {
   "cell_type": "code",
   "execution_count": null,
   "metadata": {},
   "outputs": [],
   "source": [
    "X_train = survey_train.loc[survey_train[decision_col], feature_names]\n",
    "y_train = survey_train.loc[survey_train[decision_col], target_col]\n",
    "weight_train = survey_train.loc[survey_train[decision_col], weight_col]"
   ]
  },
  {
   "cell_type": "code",
   "execution_count": null,
   "metadata": {},
   "outputs": [],
   "source": [
    "X_test = survey_test.loc[survey_test[decision_col], feature_names]\n",
    "y_test = survey_test.loc[survey_test[decision_col], target_col]\n",
    "weight_test = survey_test.loc[survey_test[decision_col], weight_col]"
   ]
  },
  {
   "cell_type": "markdown",
   "metadata": {},
   "source": [
    "### LassoCV"
   ]
  },
  {
   "cell_type": "code",
   "execution_count": null,
   "metadata": {},
   "outputs": [],
   "source": [
    "estimator = LassoCV(cv=5)\n",
    "estimator = estimator.fit(X_train, y_train)"
   ]
  },
  {
   "cell_type": "code",
   "execution_count": null,
   "metadata": {},
   "outputs": [],
   "source": [
    "selector = SelectFromModel(estimator, prefit=True)\n",
    "feature_names[selector.get_support()]"
   ]
  },
  {
   "cell_type": "markdown",
   "metadata": {},
   "source": [
    "### Lasso (`<decision_col> == True`)"
   ]
  },
  {
   "cell_type": "code",
   "execution_count": null,
   "metadata": {},
   "outputs": [],
   "source": [
    "estimator = Lasso(alpha=0.01, max_iter=100000)\n",
    "estimator = estimator.fit(X_train, y_train, sample_weight=weight_train)"
   ]
  },
  {
   "cell_type": "code",
   "execution_count": null,
   "metadata": {},
   "outputs": [],
   "source": [
    "estimator.score(X_test, y_test, sample_weight=weight_test)"
   ]
  },
  {
   "cell_type": "code",
   "execution_count": null,
   "metadata": {},
   "outputs": [],
   "source": [
    "selector = SelectFromModel(estimator, prefit=True)\n",
    "feature_names[selector.get_support()]"
   ]
  },
  {
   "cell_type": "markdown",
   "metadata": {},
   "source": [
    "### Lasso (all)"
   ]
  },
  {
   "cell_type": "code",
   "execution_count": null,
   "metadata": {},
   "outputs": [],
   "source": [
    "X_all_train = survey_train[feature_names]\n",
    "y_all_train = survey_train[target_col]\n",
    "weight_all_train = survey_train[weight_col]"
   ]
  },
  {
   "cell_type": "code",
   "execution_count": null,
   "metadata": {},
   "outputs": [],
   "source": [
    "X_all_test = survey_test[feature_names]\n",
    "y_all_test = survey_test[target_col]\n",
    "weight_all_test = survey_test[weight_col]"
   ]
  },
  {
   "cell_type": "code",
   "execution_count": null,
   "metadata": {},
   "outputs": [],
   "source": [
    "estimator_all_lasso = Lasso(alpha=0.1, max_iter=100000)\n",
    "estimator_all_lasso = estimator_all_lasso.fit(X_all_train, y_all_train, sample_weight=weight_all_train)\n",
    "estimator_all_lasso.score(X_all_test, y_all_test, sample_weight=weight_all_test)"
   ]
  },
  {
   "cell_type": "code",
   "execution_count": null,
   "metadata": {},
   "outputs": [],
   "source": [
    "selector_all_lasso = SelectFromModel(estimator_all_lasso, prefit=True)\n",
    "feature_names[selector.get_support()]"
   ]
  },
  {
   "cell_type": "markdown",
   "metadata": {},
   "source": [
    "### Random Forest"
   ]
  },
  {
   "cell_type": "code",
   "execution_count": null,
   "metadata": {},
   "outputs": [],
   "source": [
    "from sklearn.ensemble import RandomForestRegressor"
   ]
  },
  {
   "cell_type": "code",
   "execution_count": null,
   "metadata": {},
   "outputs": [],
   "source": [
    "estimator_random_forest = RandomForestRegressor()\n",
    "estimator_random_forest = estimator_random_forest.fit(X_train, y_train, sample_weight=weight_train)"
   ]
  },
  {
   "cell_type": "code",
   "execution_count": null,
   "metadata": {},
   "outputs": [],
   "source": [
    "estimator_random_forest.score(X_test, y_test, sample_weight=weight_test)"
   ]
  },
  {
   "cell_type": "code",
   "execution_count": null,
   "metadata": {},
   "outputs": [],
   "source": [
    "tolerance = 1e-2"
   ]
  },
  {
   "cell_type": "code",
   "execution_count": null,
   "metadata": {},
   "outputs": [],
   "source": [
    "feature_names[estimator_random_forest.feature_importances_ > tolerance]"
   ]
  },
  {
   "cell_type": "markdown",
   "metadata": {},
   "source": [
    "## Cross - Validation"
   ]
  },
  {
   "cell_type": "code",
   "execution_count": null,
   "metadata": {},
   "outputs": [],
   "source": [
    "from sklearn.model_selection import GridSearchCV\n",
    "\n",
    "from projectetl.utils.estimator import get_estimator"
   ]
  },
  {
   "cell_type": "code",
   "execution_count": null,
   "metadata": {},
   "outputs": [],
   "source": [
    "survey_care = survey_elected_nan_replaced.loc[survey_elected_nan_replaced[decision_col], list(feature_names) + [target_col, weight_col]]"
   ]
  },
  {
   "cell_type": "markdown",
   "metadata": {},
   "source": [
    "### Lasso"
   ]
  },
  {
   "cell_type": "code",
   "execution_count": null,
   "metadata": {},
   "outputs": [],
   "source": [
    "lasso = Lasso(max_iter=100000)"
   ]
  },
  {
   "cell_type": "code",
   "execution_count": null,
   "metadata": {},
   "outputs": [],
   "source": [
    "alphas = [10**(-i) for i in range(5)]\n",
    "grid_lasso_kwargs = {\n",
    "    'param_grid': {'alpha': np.array(alphas)},\n",
    "    'verbose': 1\n",
    "}"
   ]
  },
  {
   "cell_type": "code",
   "execution_count": null,
   "metadata": {},
   "outputs": [],
   "source": [
    "estimator_grid_lasso, test_indexes_grid_lasso = get_estimator(lasso,\n",
    "                                                              X=list(feature_names),\n",
    "                                                              y=target_col,\n",
    "                                                              df=survey_care,\n",
    "                                                              grid_kwargs=grid_lasso_kwargs,\n",
    "                                                              weight=weight_col)"
   ]
  },
  {
   "cell_type": "code",
   "execution_count": null,
   "metadata": {},
   "outputs": [],
   "source": [
    "# selector_grid_lasso = SelectFromModel(estimator_grid_lasso.best_estimator_, prefit=True)\n",
    "# feature_names[selector_grid_lasso.get_support()]"
   ]
  },
  {
   "cell_type": "code",
   "execution_count": null,
   "metadata": {},
   "outputs": [],
   "source": [
    "len(estimator_grid_lasso.best_estimator_.coef_ > tolerance)"
   ]
  },
  {
   "cell_type": "code",
   "execution_count": null,
   "metadata": {},
   "outputs": [],
   "source": [
    "len(feature_names)"
   ]
  },
  {
   "cell_type": "code",
   "execution_count": null,
   "metadata": {},
   "outputs": [],
   "source": [
    "X_grid_lasso_test = survey_care.loc[test_indexes_grid_lasso, feature_names].values\n",
    "y_grid_lasso_test = survey_care.loc[test_indexes_grid_lasso, target_col].values\n",
    "weight_grid_lasso_test = survey_care.loc[test_indexes_grid_lasso, weight_col].values\n",
    "\n",
    "estimator_grid_lasso.best_estimator_.score(X_grid_lasso_test,\n",
    "                                           y_grid_lasso_test,\n",
    "                                           sample_weight=weight_grid_lasso_test)"
   ]
  },
  {
   "cell_type": "code",
   "execution_count": null,
   "metadata": {},
   "outputs": [],
   "source": [
    "estimator_grid_lasso.best_score_"
   ]
  },
  {
   "cell_type": "code",
   "execution_count": null,
   "metadata": {},
   "outputs": [],
   "source": [
    "estimator_grid_lasso.best_estimator_"
   ]
  },
  {
   "cell_type": "markdown",
   "metadata": {},
   "source": [
    "### Random Forest Regressor"
   ]
  },
  {
   "cell_type": "code",
   "execution_count": null,
   "metadata": {},
   "outputs": [],
   "source": [
    "random_forest = RandomForestRegressor()"
   ]
  },
  {
   "cell_type": "code",
   "execution_count": null,
   "metadata": {},
   "outputs": [],
   "source": [
    "grid_random_forest_kwargs = {\n",
    "    'param_grid': {'n_estimators': np.array([10**i for i in range(5)])},\n",
    "    'verbose': 1\n",
    "}"
   ]
  },
  {
   "cell_type": "code",
   "execution_count": null,
   "metadata": {},
   "outputs": [],
   "source": [
    "estimator_grid_random_forest, test_indexes_grid_random_forest = get_estimator(random_forest,\n",
    "                                                                              df=survey_care,\n",
    "                                                                              X=feature_names,\n",
    "                                                                              y=target_col,\n",
    "                                                                              grid_kwargs=grid_random_forest_kwargs,\n",
    "                                                                              weight=weight_col)"
   ]
  },
  {
   "cell_type": "code",
   "execution_count": null,
   "metadata": {},
   "outputs": [],
   "source": [
    "X_grid_random_forest_test = survey_care.loc[test_indexes_grid_random_forest, feature_names].values\n",
    "y_grid_random_forest_test = survey_care.loc[test_indexes_grid_random_forest, target_col].values\n",
    "weight_grid_random_forest_test = survey_care.loc[test_indexes_grid_random_forest, weight_col].values\n",
    "\n",
    "estimator_grid_random_forest.best_estimator_.score(X_grid_random_forest_test,\n",
    "                                                   y_grid_random_forest_test,\n",
    "                                                   sample_weight=weight_grid_random_forest_test)"
   ]
  },
  {
   "cell_type": "code",
   "execution_count": null,
   "metadata": {},
   "outputs": [],
   "source": [
    "estimator_grid_random_forest.best_score_"
   ]
  },
  {
   "cell_type": "code",
   "execution_count": null,
   "metadata": {},
   "outputs": [],
   "source": [
    "estimator_grid_random_forest.best_estimator_"
   ]
  },
  {
   "cell_type": "code",
   "execution_count": null,
   "metadata": {},
   "outputs": [],
   "source": [
    "estimator_grid_random_forest.best_params_"
   ]
  },
  {
   "cell_type": "markdown",
   "metadata": {},
   "source": [
    "## Conditional Mean Estimator"
   ]
  },
  {
   "cell_type": "code",
   "execution_count": null,
   "metadata": {},
   "outputs": [],
   "source": [
    "from sklearn.metrics import mean_squared_error\n",
    "from projectetl.utils.estimator import ConditionalMeanEstimator"
   ]
  },
  {
   "cell_type": "code",
   "execution_count": null,
   "metadata": {},
   "outputs": [],
   "source": [
    "groupby_features_1 = [\n",
    "    'sexo', 'region', 'grupo_etareo', 'ocupacion_ultimo_trabajo'\n",
    "]\n",
    "groupby_features_2 = [\n",
    "    'sexo', 'grupo_etareo', 'zona', 'grupsec',\n",
    "    'region', 'nivel_educativo_mas_alto',\n",
    "    'ocupacion_ultimo_trabajo', 'condicion_actividad',\n",
    "    'estratos'\n",
    "]\n",
    "groupby_features_3 = [\n",
    "    'sexo', 'estratos'\n",
    "]\n",
    "groupby_features_4 = [\n",
    "    'sexo', 'zona', 'nivel_educativo_mas_alto'\n",
    "]\n",
    "groupby_features_5 = [\n",
    "    'sexo'\n",
    "]\n",
    "groupby_features_6 = [\n",
    "    'zona'\n",
    "]\n",
    "groupby_features_7 = [\n",
    "    'sexo', 'zona'\n",
    "]\n",
    "\n",
    "groupby_index = 7\n",
    "groupby_features = locals().get(f'groupby_features_{groupby_index}')\n",
    "groupby_features = list(get_real_feature_names(survey_care, groupby_features))"
   ]
  },
  {
   "cell_type": "markdown",
   "metadata": {},
   "source": [
    "### Baseline vs Grid Random Forest Regressor"
   ]
  },
  {
   "cell_type": "code",
   "execution_count": null,
   "metadata": {},
   "outputs": [],
   "source": [
    "estimator_baseline_grid_random_forest = ConditionalMeanEstimator(groupby_features)"
   ]
  },
  {
   "cell_type": "code",
   "execution_count": null,
   "metadata": {},
   "outputs": [],
   "source": [
    "train_indexes_grid_random_forest = list(set(survey_care.index.values) - set(test_indexes_grid_random_forest))\n",
    "survey_baseline_train_grid_random_forest = survey_care.loc[train_indexes_grid_random_forest]\n",
    "survey_baseline_test_grid_random_forest = survey_care.loc[test_indexes_grid_random_forest]\n",
    "\n",
    "estimator_baseline_grid_random_forest = estimator_baseline_grid_random_forest.fit(survey_baseline_train_grid_random_forest[feature_names],\n",
    "                                                                                  survey_baseline_train_grid_random_forest[target_col],\n",
    "                                                                                  sample_weight=survey_baseline_train_grid_random_forest[weight_col],\n",
    "                                                                                  weight_col=weight_col)"
   ]
  },
  {
   "cell_type": "code",
   "execution_count": null,
   "metadata": {},
   "outputs": [],
   "source": [
    "y_pred_grid_random_forest = estimator_baseline_grid_random_forest.predict(survey_baseline_test_grid_random_forest[feature_names])\n",
    "estimator_baseline_grid_random_forest.score(survey_baseline_test_grid_random_forest[target_col],\n",
    "                                            y_pred_grid_random_forest,\n",
    "                                            sample_weight=survey_baseline_test_grid_random_forest[weight_col])"
   ]
  },
  {
   "cell_type": "code",
   "execution_count": null,
   "metadata": {},
   "outputs": [],
   "source": [
    "y_pred = estimator_grid_random_forest.best_estimator_.predict(survey_baseline_test_grid_random_forest[feature_names])\n",
    "mean_squared_error(survey_baseline_test_grid_random_forest[target_col],\n",
    "                   y_pred,\n",
    "                   sample_weight=survey_baseline_test_grid_random_forest[weight_col])"
   ]
  },
  {
   "cell_type": "markdown",
   "metadata": {},
   "source": [
    "### Baseline vs Grid Lasso Regression"
   ]
  },
  {
   "cell_type": "code",
   "execution_count": null,
   "metadata": {},
   "outputs": [],
   "source": [
    "estimator_baseline_grid_lasso = ConditionalMeanEstimator(groupby_features)"
   ]
  },
  {
   "cell_type": "code",
   "execution_count": null,
   "metadata": {},
   "outputs": [],
   "source": [
    "train_indexes_grid_lasso = list(set(survey_care.index.values) - set(test_indexes_grid_lasso))\n",
    "survey_baseline_train_grid_lasso = survey_care.loc[train_indexes_grid_lasso]\n",
    "survey_baseline_test_grid_lasso = survey_care.loc[test_indexes_grid_lasso]\n",
    "\n",
    "estimator_baseline_grid_lasso = estimator_baseline_grid_lasso.fit(survey_baseline_train_grid_lasso[feature_names],\n",
    "                                                                  survey_baseline_train_grid_lasso[target_col],\n",
    "                                                                  sample_weight=survey_baseline_train_grid_lasso[weight_col],\n",
    "                                                                  weight_col=weight_col)"
   ]
  },
  {
   "cell_type": "code",
   "execution_count": null,
   "metadata": {},
   "outputs": [],
   "source": [
    "y_pred_grid_lasso = estimator_baseline_grid_lasso.predict(survey_baseline_test_grid_lasso[feature_names])\n",
    "estimator_baseline_grid_lasso.score(survey_baseline_test_grid_lasso[target_col],\n",
    "                                    y_pred_grid_lasso,\n",
    "                                    sample_weight=survey_baseline_test_grid_lasso[weight_col])"
   ]
  },
  {
   "cell_type": "code",
   "execution_count": null,
   "metadata": {},
   "outputs": [],
   "source": [
    "y_pred = estimator_grid_lasso.best_estimator_.predict(survey_baseline_test_grid_lasso[feature_names])\n",
    "mean_squared_error(survey_baseline_test_grid_lasso[target_col],\n",
    "                   y_pred,\n",
    "                   sample_weight=survey_baseline_test_grid_lasso[weight_col])"
   ]
  },
  {
   "cell_type": "markdown",
   "metadata": {},
   "source": [
    "# Classification Estimator"
   ]
  },
  {
   "cell_type": "code",
   "execution_count": null,
   "metadata": {},
   "outputs": [],
   "source": [
    "survey_all = survey_elected_nan_replaced.copy()"
   ]
  },
  {
   "cell_type": "markdown",
   "metadata": {},
   "source": [
    "## Logistic Regression"
   ]
  },
  {
   "cell_type": "code",
   "execution_count": null,
   "metadata": {},
   "outputs": [],
   "source": [
    "from sklearn.linear_model import LogisticRegression"
   ]
  },
  {
   "cell_type": "code",
   "execution_count": null,
   "metadata": {},
   "outputs": [],
   "source": [
    "logistic_lasso = LogisticRegression(penalty='l1',\n",
    "                                    solver='liblinear',\n",
    "                                    random_state=6202)"
   ]
  },
  {
   "cell_type": "code",
   "execution_count": null,
   "metadata": {},
   "outputs": [],
   "source": [
    "grid_logistic_lasso_kwargs = {\n",
    "    'param_grid': {'C': np.array([.01, .1, 1, 10])},\n",
    "    'verbose': 1,\n",
    "    'scoring': 'neg_log_loss'\n",
    "}\n",
    "target_logistic_col = 'dedico_tiempo_trabajo_doméstico_no_remunerado'"
   ]
  },
  {
   "cell_type": "code",
   "execution_count": null,
   "metadata": {},
   "outputs": [],
   "source": [
    "estimator_logistic_lasso, test_indexes_logistic_lasso = get_estimator(logistic_lasso,\n",
    "                                                                      df=survey_all,\n",
    "                                                                      X=list(feature_names),\n",
    "                                                                      y=target_logistic_col,\n",
    "                                                                      grid_kwargs=grid_logistic_lasso_kwargs,\n",
    "                                                                      weight=weight_col)"
   ]
  },
  {
   "cell_type": "code",
   "execution_count": null,
   "metadata": {},
   "outputs": [],
   "source": [
    "estimator_logistic_lasso.best_estimator_"
   ]
  },
  {
   "cell_type": "code",
   "execution_count": null,
   "metadata": {},
   "outputs": [],
   "source": [
    "estimator_logistic_lasso.best_params_"
   ]
  },
  {
   "cell_type": "code",
   "execution_count": null,
   "metadata": {},
   "outputs": [],
   "source": [
    "estimator_logistic_lasso.best_score_"
   ]
  },
  {
   "cell_type": "code",
   "execution_count": null,
   "metadata": {},
   "outputs": [],
   "source": [
    "survey_logistic_lasso_test = survey_all.loc[test_indexes_logistic_lasso]\n",
    "predicted_logistic_lasso = estimator_logistic_lasso.predict(survey_logistic_lasso_test[feature_names])"
   ]
  },
  {
   "cell_type": "code",
   "execution_count": null,
   "metadata": {},
   "outputs": [],
   "source": [
    "get_percentage_table_with_expansion_factor(survey_logistic_lasso_test, target_logistic_col, weight_col)"
   ]
  },
  {
   "cell_type": "code",
   "execution_count": null,
   "metadata": {},
   "outputs": [],
   "source": [
    "estimator_logistic_lasso.best_estimator_.score(survey_logistic_lasso_test[feature_names],\n",
    "                                               survey_logistic_lasso_test[target_logistic_col],\n",
    "                                               sample_weight=survey_logistic_lasso_test[weight_col])"
   ]
  },
  {
   "cell_type": "code",
   "execution_count": null,
   "metadata": {},
   "outputs": [],
   "source": [
    "from sklearn.metrics import classification_report"
   ]
  },
  {
   "cell_type": "code",
   "execution_count": null,
   "metadata": {},
   "outputs": [],
   "source": [
    "print(classification_report(survey_logistic_lasso_test[target_logistic_col],\n",
    "                            predicted_logistic_lasso,\n",
    "                            sample_weight=survey_logistic_lasso_test[weight_col]))"
   ]
  },
  {
   "cell_type": "code",
   "execution_count": null,
   "metadata": {},
   "outputs": [],
   "source": [
    "# selector_all_lasso = SelectFromModel(estimator_logistic_lasso, prefit=True)\n",
    "# feature_names[selector_all_lasso.get_support()]"
   ]
  },
  {
   "cell_type": "code",
   "execution_count": null,
   "metadata": {},
   "outputs": [],
   "source": [
    "list(survey_elected_selected['condicion_actividad'].unique())"
   ]
  },
  {
   "cell_type": "code",
   "execution_count": null,
   "metadata": {},
   "outputs": [],
   "source": [
    "new_feature_names = [\n",
    "    # sexo\n",
    "    'sexo_Mujer',\n",
    "    # parentesco\n",
    "    'parentesco_Esposo(a) o compañero(a)',\n",
    "    # estado_civil\n",
    "    'estado_civil_Casado(a)',\n",
    "    'estado_civil_Separado(a) de unión libre',\n",
    "    'estado_civil_Soltero(a)',\n",
    "    'estado_civil_Unido(a)',\n",
    "    \n",
    "    #! 'asiste_asistio_centro_educativo_Nunca ha asistido',\n",
    "    # nivel_ultimo_ano_aprobado\n",
    "    'nivel_educativo_mas_alto_Medio o Secundario',\n",
    "    # ultimo_ano_aprobado\n",
    "    'curso_mas_alto_que_curso',\n",
    "    # curso_matriculado\n",
    "    'curso_esta_asistiendo',\n",
    "    # trabajo_semana_pasada\n",
    "    'trabajo_semana_pasada_Sí',\n",
    "    # busco_trabajo_establ_negocio\n",
    "    'busco_trabajo_cuatro_semanas_pasadas_No',\n",
    "    # motivo_no_busca_trabajo\n",
    "    #! 'motivo_no_busca_trabajo_6.0',\n",
    "    #! 'motivo_no_busca_trabajo_7.0',\n",
    "    # aceptaria_trab_sem_pasada\n",
    "    'podria_aceptar_trabajo_semana_pasada_Sí',\n",
    "\n",
    "    #! 'ultima_principal_ocupacion',\n",
    "    # rama_principal_cod, rama_cesantia_cod\n",
    "    # 'se_dedica_ultima_empresa',\n",
    "    # categoria_cesantia, categoria_principal\n",
    "    'ocupacion_ultimo_trabajo_no profesional que trabaja por cuenta propia?',\n",
    "    'ocupacion_ultimo_trabajo_trabajador(a) doméstica?',\n",
    "    # horas_trabaja_semana_principal\n",
    "    'horas_trabajadas_semanalmente_ocupacion_principal',\n",
    "    # afiliado_seguro_salud\n",
    "    'tiene_seguro_salud_pension_Sí',\n",
    "    # mayores_10_annos (!)\n",
    "    'mayores_10_annos',\n",
    "\n",
    "    #! 'dias_trabajo_semana_pasada',\n",
    "\n",
    "    #! 'horas_trabajo_semana_pasada',\n",
    "    # asiste_centro_educativo\n",
    "    'estudia_actualmente_Si',\n",
    "    # realiza_curso_técnico\n",
    "    'realiza_actividad_vocacional_Si',\n",
    "\n",
    "    #! 'tiempo_agricultura_ganado_dias',\n",
    "\n",
    "    #! 'tiempo_trabajo_sin_paga_dias',\n",
    "    # grupo_etareo\n",
    "    'grupo_etareo_15-24',\n",
    "    'grupo_etareo_25-45',\n",
    "    'grupo_etareo_60-74',\n",
    "    # condicion_actividad\n",
    "    'condicion_actividad_quehacer doméstico',\n",
    "\n",
    "    #! 'grupsec_Medio bajo',\n",
    "    #! 'grupsec_Medio y Medio alto',\n",
    "    #! 'grupsec_Muy bajo',\n",
    "    # miembro\n",
    "    'hmiembro',\n",
    "    # des_provincia, id_provincia\n",
    "    'hprovin_Distrito Nacional',\n",
    "    'hprovin_La Altagracia',\n",
    "    'hprovin_Monte Cristi',\n",
    "    'hprovin_Peravia',\n",
    "    'hprovin_San Juan',\n",
    "    'hprovin_San Pedro de Macorís',\n",
    "    'hprovin_Santiago',\n",
    "    # des_estrato, estrato\n",
    "    'estratos_Grandes Ciudades',\n",
    "    'estratos_Resto Urbano']"
   ]
  },
  {
   "cell_type": "code",
   "execution_count": null,
   "metadata": {},
   "outputs": [],
   "source": [
    "estimator_logistic_lasso, test_indexes_logistic_lasso = get_estimator(logistic_lasso,\n",
    "                                                                      df=survey_all,\n",
    "                                                                      X=list(new_feature_names),\n",
    "                                                                      y=target_logistic_col,\n",
    "                                                                      grid_kwargs=grid_logistic_lasso_kwargs,\n",
    "                                                                      weight=weight_col)"
   ]
  },
  {
   "cell_type": "code",
   "execution_count": null,
   "metadata": {},
   "outputs": [],
   "source": [
    "estimator_logistic_lasso.best_estimator_"
   ]
  },
  {
   "cell_type": "code",
   "execution_count": null,
   "metadata": {},
   "outputs": [],
   "source": [
    "survey_logistic_lasso_test = survey_all.loc[test_indexes_logistic_lasso]\n",
    "predicted_logistic_lasso = estimator_logistic_lasso.predict(survey_logistic_lasso_test[new_feature_names])\n",
    "predicted_logistic_lasso"
   ]
  },
  {
   "cell_type": "code",
   "execution_count": null,
   "metadata": {},
   "outputs": [],
   "source": [
    "print(classification_report(survey_logistic_lasso_test[target_logistic_col],\n",
    "                            predicted_logistic_lasso,\n",
    "                            sample_weight=survey_logistic_lasso_test[weight_col]))"
   ]
  }
 ],
 "metadata": {
  "kernelspec": {
   "name": "python3710jvsc74a57bd0bd21bc71339b4335dc1668425d5993b235026758a1a70d3187a020d8e24cb921",
   "display_name": "Python 3.7.10 64-bit ('criteria-do': conda)"
  },
  "language_info": {
   "codemirror_mode": {
    "name": "ipython",
    "version": 3
   },
   "file_extension": ".py",
   "mimetype": "text/x-python",
   "name": "python",
   "nbconvert_exporter": "python",
   "pygments_lexer": "ipython3",
   "version": "3.7.10-final"
  }
 },
 "nbformat": 4,
 "nbformat_minor": 2
}