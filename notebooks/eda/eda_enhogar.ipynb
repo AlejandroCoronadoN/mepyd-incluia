{
 "metadata": {
  "language_info": {
   "codemirror_mode": {
    "name": "ipython",
    "version": 3
   },
   "file_extension": ".py",
   "mimetype": "text/x-python",
   "name": "python",
   "nbconvert_exporter": "python",
   "pygments_lexer": "ipython3",
   "version": "3.7.9-final"
  },
  "orig_nbformat": 2,
  "kernelspec": {
   "name": "python3",
   "display_name": "Python 3",
   "language": "python"
  }
 },
 "nbformat": 4,
 "nbformat_minor": 2,
 "cells": [
  {
   "cell_type": "code",
   "execution_count": null,
   "metadata": {},
   "outputs": [],
   "source": [
    "%load_ext autoreload\n",
    "%autoreload 2"
   ]
  },
  {
   "cell_type": "code",
   "execution_count": null,
   "metadata": {},
   "outputs": [],
   "source": [
    "import sys\n",
    "import importlib\n",
    "\n",
    "import itertools as it\n",
    "import matplotlib.pyplot as plt\n",
    "import seaborn as sns\n",
    "import pandas as pd\n",
    "import numpy as np\n",
    "import statsmodels.api as sm\n",
    "\n",
    "from itertools import product\n",
    "from pandas_profiling import ProfileReport\n",
    "\n",
    "from criteriaetl.utils.expansion_func import (get_value_counts_with_expansion_factor,\n",
    "    get_percentage_table_with_expansion_factor)\n",
    "from criteriaetl.utils.display_func import cdisplay, percentage_count_plot\n",
    "from criteriaetl.utils.common_func import (get_weighted_complete_randomization_series_on_subset, \n",
    "    proportional_cut, weighted_qcut, get_partition_bool_columns_dict)\n",
    "from criteriaetl.transformers.columns_base import (NameTransformer, \n",
    "    ReplaceTransformer, SelectTransformer, AssignTransformer)\n",
    "from criteriaetl.transformers.rows_base import AggregateTransformer\n",
    "from criteriaetl.transformers.fusion_base import MergeTransformer\n",
    "\n",
    "from projectetl.utils.dataload import (load_survey_data_do, save_survey_with_pickle,\n",
    "                                       load_survey_from_pickle)\n",
    "from projectetl.utils.config import ENHOGAR_DIR"
   ]
  },
  {
   "cell_type": "code",
   "execution_count": null,
   "metadata": {},
   "outputs": [],
   "source": [
    "survey_elected_raw = load_survey_data_do(ENHOGAR_DIR / 'Elegidos_ENHOGAR2016_PUB.sav',\n",
    "                                         load_func=lambda path: pd.read_spss(str(path)))\n",
    "survey_member_raw = load_survey_data_do(ENHOGAR_DIR / 'Personas_ENHOGAR2016_PUB.sav',\n",
    "                                        load_func=lambda path: pd.read_spss(str(path)))\n",
    "survey_house_raw = load_survey_data_do(ENHOGAR_DIR / 'Viviendas_ENHOGAR2016_PUB.sav',\n",
    "                                       load_func=lambda path: pd.read_spss(str(path)))"
   ]
  },
  {
   "cell_type": "code",
   "execution_count": null,
   "metadata": {},
   "outputs": [],
   "source": [
    "# hhogar \n",
    "# ---\n",
    "# h402 = sexo\n",
    "# h403 = edad\n",
    "# h405 = parentesco\n",
    "# h407 = estado civil (h407a = números)\n",
    "# ----\n",
    "# h409 = aprendió a leer y escribir\n",
    "# h410 = donde aprendió a leer y escribir\n",
    "# h411 = asiste o asistió a centro educativo\n",
    "# h412 = nivel educativo más alto\n",
    "# h413 = curso o año más alto que cursó\n",
    "# h414 = asiste en el actual año escolar a algún centro educativo\n",
    "# h415 = nivel educativo al que está asistiendo\n",
    "# h416 = curso o año al que está asistiendo\n",
    "# ---\n",
    "# h501 = ¿Trabajó o realizó (nombre) alguna actividad económica por lo menos una hora la semana pasada?\n",
    "# h502 = Aunque no trabajó la semana pasada ¿Tenía algún empleo, negocio o actividad?\n",
    "# h503 = ¿La semana pasada (nombre) cultivó, cosechó o cuidó ganado u otros animales?\n",
    "# h504 = ¿La semana pasada, elaboró (nombre) algún producto como artesanía o comida para vender?\n",
    "# h505 = ¿La semana pasada, ayudó (nombre) a algún familiar en su negocio, empresa o finca?\n",
    "# h506 = ¿La semana pasada (nombre) cosió, planchó, limpió casas, lavó ropa ajena o realizó otra actividad por paga?\n",
    "# h507 = Durante las últimas cuatro semanas ¿Ha buscado (nombre) trabajo o estuvo tratando de establecer su propio negocio, actividad económica o empresa?\n",
    "# h508 = ¿Por qué (nombre) no ha buscado trabajo?\n",
    "# lh509 = ¿Podría (nombre) haber aceptado un trabajo la semana pasada si le hubieran ofrecido uno?\n",
    "# lh510 = ¿Dispone (nombre) del tiempo y las condiciones necesarias para salir a trabajar?\n",
    "# lh511 = La semana pasada, ¿Habría tenido (nombre) el tiempo y las condiciones necesarias para salir a trabajar?\n",
    "# lh512 = ¿Ha trabajado (nombre) antes por paga o ganancia?\n",
    "# lh513 = ¿Cuál fue la principal ocupación u oficio línea que desempeñó (nombre) durante la semana pasada o en el último trabajo que tuvo?\n",
    "# lh514 = ¿A qué se dedica la empresa, negocio o institución en la que trabaja (nombre) actualmente o trabajó por última vez?\n",
    "# lh515 = ¿En ese trabajo (nombre) es o era...\n",
    "# lh516 = Regularmente, ¿Cuántas horas a la semana trabaja o trabajó (nombre) en su ocupación principal?\n",
    "# h601 = ¿Tiene (nombre) PREG. algún seguro de salud, seguro médico o plan de salud?\n",
    "# region\n",
    "member_columns = [\n",
    "    # Identifiers\n",
    "    'hhogar', 'hzona', 'hprovi', 'h402', 'h403', 'h405', 'h407',\n",
    "    # Education\n",
    "    'h409', 'h410', 'h411', 'h412', 'h413', 'h414',\n",
    "    'h415', 'h416',\n",
    "    # Economic characteristics\n",
    "    'h501', 'h502', 'h503', 'h504', 'h505', 'h506', \n",
    "    'h507', 'h508', 'lh509', 'lh510', 'lh511', 'lh512', 'lh513',\n",
    "    'lh514', 'lh515', 'lh516',\n",
    "    # Assurance\n",
    "    'h601',\n",
    "    # Stratos\n",
    "    'hestrat', 'region', 'grupsec', 'zona', 'hmiembro',\n",
    "    'hprovin', 'estratos',\n",
    "    # Factors\n",
    "    'fexpansion', 'fponderacion'\n",
    "]\n",
    "\n",
    "# h702a = Número de personas estándar mayores de 10 en el hogar\n",
    "# h704 = edad\n",
    "# h1001 = ¿Trabajó usted la semana pasada por paga o ganacia?\n",
    "# h1002 = ¿Cuántos días trabajó usted durante la semana pasada?\n",
    "# h1003 = ¿Cuántas horas trabajó usted diariamente la semana pasada?\n",
    "# h1005 = ¿Estudia usted actualmente?\n",
    "# h1009 = ¿Realiza usted algún tipo de estudio vocacional, técnico o profesional como música, pintura, computación u otra actividad similar?\n",
    "# h1015 = Durante la semana pasada ¿Dedicó usted algún tiempo al cuidado de enfermos, ancianos, niños u otras personas, ya sean de su hogar u otro hogar?\n",
    "# h1016 = Durante la semana pasada ¿Cuántos días le dedico al cuidado de esa o esas personas?\n",
    "# h1017 = Durante la semana pasada ¿Cuántas horas le dedicó usted al cuidado de esa o esas personas diariamente o el último día que cuidó a esa o esas personas?\n",
    "# h1030 = En la semana pasada, ¿Cuántos días dedicó usted tiempo para criar o cuidar animales o realizar algún cultivo o cosecha de productos para el consumo del hogar?\n",
    "# h1032 = Durante la semana pasada, ¿Cuántos días dedicó usted a realizar algún trabajo sin paga en un negocio o establecimiento de comercio o producción?\n",
    "# h1034 = En la semana pasada, ¿Cuántos días dedicó usted tiempo para realizar actividades domésticas en su hogar, como limpiar la casa, cocinar, lavar, fregar u otras labores domésticas?\n",
    "# h1035 = En la semana pasada, ¿Cuántas horas dedicó usted a realizar actividades diariamente o el último día que las realizó la semana pasada?\n",
    "# h1036 = En la semana pasada, ¿Cuántos días dedicó usted tiempo para realizar actividades domésticas sin paga en otro hogar, como limpiar la casa, cocinar, lavar, fregar u otras labores domésticas?\n",
    "# h1037 = Durante la semana pasada, ¿Cuántas horas dedicó usted a realizar esas actividades diariamente o el último día que las ralizó la semana pasada?\n",
    "elected_columns = [\n",
    "    'h703', 'h702a',\n",
    "    'h704', 'h1001', 'h1002', 'h1003', 'h1005',\n",
    "    'h1009', 'h1030', 'h1032',\n",
    "    'fexpansion_tic', 'fponderacion_tic',\n",
    "    # Target\n",
    "    'h1015', 'h1016', 'h1017', 'h1034', 'h1035',\n",
    "    'h1036', 'h1037'\n",
    "]"
   ]
  },
  {
   "source": [
    "# Processing surveys"
   ],
   "cell_type": "markdown",
   "metadata": {}
  },
  {
   "cell_type": "code",
   "execution_count": null,
   "metadata": {},
   "outputs": [],
   "source": [
    "basic_cols = [\n",
    "    'hhupm', 'hhviv', 'hhogar'\n",
    "]"
   ]
  },
  {
   "source": [
    "## Assign Transformer"
   ],
   "cell_type": "markdown",
   "metadata": {}
  },
  {
   "cell_type": "code",
   "execution_count": null,
   "metadata": {},
   "outputs": [],
   "source": [
    "assign_member_map = {\n",
    "    'temp': lambda _: 1,\n",
    "    'h703': lambda df, cols=basic_cols: df.groupby(cols)['temp'].transform('cumsum')\n",
    "}\n",
    "\n",
    "assign_member_transformer = AssignTransformer(assign_member_map)\n",
    "survey_member_assigned = assign_member_transformer.transform(survey_member_raw)"
   ]
  },
  {
   "cell_type": "code",
   "execution_count": null,
   "metadata": {},
   "outputs": [],
   "source": [
    "survey_member_assigned.head()"
   ]
  },
  {
   "source": [
    "## Merge Transformer"
   ],
   "cell_type": "markdown",
   "metadata": {}
  },
  {
   "cell_type": "code",
   "execution_count": null,
   "metadata": {},
   "outputs": [],
   "source": [
    "merge_member_elected_transformer = MergeTransformer(lambda : survey_member_assigned,\n",
    "                                                    merge_kwargs={\n",
    "                                                        'on': basic_cols + ['h703'],\n",
    "                                                        'suffixes': ('', '_other')\n",
    "                                                    })\n",
    "survey_elected_merged = merge_member_elected_transformer.transform(survey_elected_raw)"
   ]
  },
  {
   "cell_type": "code",
   "execution_count": null,
   "metadata": {},
   "outputs": [],
   "source": [
    "survey_elected_merged"
   ]
  },
  {
   "cell_type": "code",
   "execution_count": null,
   "metadata": {},
   "outputs": [],
   "source": [
    "survey_elected_merged['']"
   ]
  },
  {
   "source": [
    "## Name Transformer"
   ],
   "cell_type": "markdown",
   "metadata": {}
  },
  {
   "cell_type": "code",
   "execution_count": null,
   "metadata": {},
   "outputs": [],
   "source": [
    "name_map = {\n",
    "    'hhogar': ''\n",
    "    'h402': 'sexo'\n",
    "    'h403': 'edad'\n",
    "    'h405': 'parentesco'\n",
    "    'h407': 'estado_civil' (h407a = números)\n",
    "    'h409': aprendió a leer y escribir\n",
    "    'h410': donde aprendió a leer y escribir\n",
    "    'h411': asiste o asistió a centro educativo\n",
    "    'h412': nivel educativo más alto\n",
    "    'h413': curso o año más alto que cursó\n",
    "    'h414': asiste en el actual año escolar a algún centro educativo\n",
    "    'h415': nivel educativo al que está asistiendo\n",
    "    'h416': curso o año al que está asistiendo\n",
    "    'h501': ¿Trabajó o realizó (nombre) alguna actividad económica por lo menos una hora la semana pasada?\n",
    "    'h502': Aunque no trabajó la semana pasada ¿Tenía algún empleo, negocio o actividad?\n",
    "    'h503': ¿La semana pasada (nombre) cultivó, cosechó o cuidó ganado u otros animales?\n",
    "    'h504': ¿La semana pasada, elaboró (nombre) algún producto como artesanía o comida para vender?\n",
    "    'h505': ¿La semana pasada, ayudó (nombre) a algún familiar en su negocio, empresa o finca?\n",
    "    'h506': ¿La semana pasada (nombre) cosió, planchó, limpió casas, lavó ropa ajena o realizó otra actividad por paga?\n",
    "    'h507': Durante las últimas cuatro semanas ¿Ha buscado (nombre) trabajo o estuvo tratando de establecer su propio negocio, actividad económica o empresa?\n",
    "    'h508': ¿Por qué (nombre) no ha buscado trabajo?\n",
    "    'lh509': ¿Podría (nombre) haber aceptado un trabajo la semana pasada si le hubieran ofrecido uno?\n",
    "    'lh510': ¿Dispone (nombre) del tiempo y las condiciones necesarias para salir a trabajar?\n",
    "    'lh511': La semana pasada, ¿Habría tenido (nombre) el tiempo y las condiciones necesarias para salir a trabajar?\n",
    "    'lh512': ¿Ha trabajado (nombre) antes por paga o ganancia?\n",
    "    'lh513': ¿Cuál fue la principal ocupación u oficio línea que desempeñó (nombre) durante la semana pasada o en el último trabajo que tuvo?\n",
    "    'lh514': ¿A qué se dedica la empresa, negocio o institución en la que trabaja (nombre) actualmente o trabajó por última vez?\n",
    "    'lh515': ¿En ese trabajo (nombre) es o era...\n",
    "    'lh516': Regularmente, ¿Cuántas horas a la semana trabaja o trabajó (nombre) en su ocupación principal?\n",
    "    'h601':¿Tiene (nombre) PREG. algún seguro de salud, seguro médico o plan de salud?\n",
    "    region\n",
    "}"
   ]
  },
  {
   "source": [
    "## Final dataframe"
   ],
   "cell_type": "markdown",
   "metadata": {}
  },
  {
   "cell_type": "code",
   "execution_count": null,
   "metadata": {},
   "outputs": [],
   "source": [
    "survey_elected_final = survey_elected_merged[member_columns + elected_columns]\n",
    "cdisplay(survey_elected_final)"
   ]
  },
  {
   "cell_type": "code",
   "execution_count": null,
   "metadata": {},
   "outputs": [],
   "source": [
    "len(survey_elected_final.columns.unique())"
   ]
  },
  {
   "source": [
    "# EDA"
   ],
   "cell_type": "markdown",
   "metadata": {}
  },
  {
   "source": [
    "## Pandas profiling"
   ],
   "cell_type": "markdown",
   "metadata": {}
  },
  {
   "cell_type": "code",
   "execution_count": null,
   "metadata": {},
   "outputs": [],
   "source": [
    "report = ProfileReport(survey_elected_final, config_file='config.yml')"
   ]
  },
  {
   "cell_type": "code",
   "execution_count": null,
   "metadata": {},
   "outputs": [],
   "source": [
    "report.to_file('report.html')"
   ]
  },
  {
   "source": [
    "## Pearson correlation"
   ],
   "cell_type": "markdown",
   "metadata": {}
  },
  {
   "cell_type": "code",
   "execution_count": null,
   "metadata": {},
   "outputs": [],
   "source": [
    "survey_elected_final['h1015'].count()"
   ]
  },
  {
   "cell_type": "code",
   "execution_count": null,
   "metadata": {},
   "outputs": [],
   "source": [
    "correlation = survey_elected_final.corr(method='spearman')\n",
    "sns.heatmap(correlation, xticklabels=correlation.columns, yticklabels=correlation.columns)"
   ]
  }
 ]
}