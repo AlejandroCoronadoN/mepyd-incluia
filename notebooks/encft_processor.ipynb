{
 "cells": [
  {
   "cell_type": "code",
   "execution_count": null,
   "metadata": {},
   "outputs": [],
   "source": [
    "%load_ext autoreload\n",
    "%autoreload 2"
   ]
  },
  {
   "cell_type": "code",
   "execution_count": null,
   "metadata": {},
   "outputs": [],
   "source": [
    "import sys\n",
    "import importlib\n",
    "\n",
    "import itertools as it\n",
    "import matplotlib.pyplot as plt\n",
    "import seaborn as sns\n",
    "import pandas as pd\n",
    "import numpy as np\n",
    "import statsmodels.api as sm\n",
    "\n",
    "from itertools import product\n",
    "from sklearn.pipeline import make_pipeline\n",
    "\n",
    "from criteriaetl.utils.expansion_func import (get_value_counts_with_expansion_factor,\n",
    "    get_percentage_table_with_expansion_factor)\n",
    "from criteriaetl.utils.display_func import cdisplay, percentage_count_plot\n",
    "from criteriaetl.utils.common_func import (get_weighted_complete_randomization_series_on_subset, \n",
    "    proportional_cut, weighted_qcut, get_partition_bool_columns_dict)\n",
    "from criteriaetl.transformers.columns_base import (NameTransformer, \n",
    "    ReplaceTransformer, SelectTransformer, AssignTransformer)\n",
    "from criteriaetl.transformers.rows_base import AggregateTransformer\n",
    "from criteriaetl.transformers.fusion_base import MergeTransformer\n",
    "\n",
    "from projectetl.utils.dataload import (load_survey_data_do, save_survey_with_pickle,\n",
    "                                       load_survey_from_pickle)\n",
    "from projectetl.utils.config import (ENCFT_SURVEY_PATH, ENCFT_PREVIOUS_SURVEY_PATH,\n",
    "                                     ENCFT_OBJECT_DIR, INFLATION_OBJECT_DIR, DATA_DIR)\n",
    "from projectetl.utils.functions import split_survey_by"
   ]
  },
  {
   "source": [
    "## Configuration variables"
   ],
   "cell_type": "markdown",
   "metadata": {}
  },
  {
   "cell_type": "code",
   "execution_count": null,
   "metadata": {},
   "outputs": [],
   "source": [
    "get_raw = 0 # if 1 will read the raw data, if 0 will load the data from a previously serialized pickle object\n",
    "year = 2020 # year we want to analyze\n",
    "month = 6 # month to analyze\n",
    "trimester = 2 # trimester of the year we want to analyze"
   ]
  },
  {
   "cell_type": "markdown",
   "metadata": {},
   "source": [
    "# Load data"
   ]
  },
  {
   "cell_type": "markdown",
   "metadata": {},
   "source": [
    "## Survey\n"
   ]
  },
  {
   "cell_type": "code",
   "execution_count": null,
   "metadata": {},
   "outputs": [],
   "source": [
    "if get_raw:\n",
    "    survey_raw = load_survey_data_do(ENCFT_SURVEY_PATH)\n",
    "    save_survey_with_pickle(survey_raw, ENCFT_OBJECT_DIR / 'encft202001-202004.pkl')\n",
    "else:\n",
    "    survey_raw = load_survey_from_pickle(ENCFT_OBJECT_DIR / 'encft202001-202004.pkl')"
   ]
  },
  {
   "cell_type": "code",
   "execution_count": null,
   "metadata": {},
   "outputs": [],
   "source": [
    "survey_household_raw = survey_raw['Hogar']\n",
    "survey_member_raw = survey_raw['Miembros']\n",
    "survey_house_raw = survey_raw['Vivienda']"
   ]
  },
  {
   "source": [
    "### Split surveys by trimester"
   ],
   "cell_type": "markdown",
   "metadata": {}
  },
  {
   "cell_type": "code",
   "execution_count": null,
   "metadata": {},
   "outputs": [],
   "source": [
    "survey_household_raw['periodo'].value_counts()"
   ]
  },
  {
   "cell_type": "code",
   "execution_count": null,
   "metadata": {},
   "outputs": [],
   "source": [
    "survey_household_raw['trimestre'].value_counts()"
   ]
  },
  {
   "cell_type": "code",
   "execution_count": null,
   "metadata": {},
   "outputs": [],
   "source": [
    "# split constants\n",
    "column_name = 'trimestre'\n",
    "values = [20201, 20202, 20203, 20204]"
   ]
  },
  {
   "cell_type": "code",
   "execution_count": null,
   "metadata": {},
   "outputs": [],
   "source": [
    "# split household surveys\n",
    "survey_household_raw_01, survey_household_raw_02, \\\n",
    "    survey_household_raw_03, survey_household_raw_04 = split_survey_by(survey_household_raw,\n",
    "                                                                       column_name,\n",
    "                                                                       values)"
   ]
  },
  {
   "cell_type": "code",
   "execution_count": null,
   "metadata": {},
   "outputs": [],
   "source": [
    "# split member surveys\n",
    "survey_member_raw_01, survey_member_raw_02, \\\n",
    "    survey_member_raw_03, survey_member_raw_04 = split_survey_by(survey_member_raw,\n",
    "                                                                 column_name,\n",
    "                                                                 values)"
   ]
  },
  {
   "cell_type": "code",
   "execution_count": null,
   "metadata": {},
   "outputs": [],
   "source": [
    "# split house surveys\n",
    "survey_house_raw_01, survey_house_raw_02, \\\n",
    "    survey_house_raw_03, survey_house_raw_04 = split_survey_by(survey_house_raw,\n",
    "                                                               column_name,\n",
    "                                                               values)"
   ]
  },
  {
   "source": [
    "## Dictionary"
   ],
   "cell_type": "markdown",
   "metadata": {}
  },
  {
   "cell_type": "code",
   "execution_count": null,
   "metadata": {},
   "outputs": [],
   "source": [
    "survey_dict = survey_raw['Diccionario']"
   ]
  },
  {
   "cell_type": "code",
   "execution_count": null,
   "metadata": {},
   "outputs": [],
   "source": [
    "def consult_dict(field):\n",
    "    return survey_dict[survey_dict['campo'] == field.upper()][['valor', 'descripcion', 'texto']] "
   ]
  },
  {
   "source": [
    "## Exchange Rate"
   ],
   "cell_type": "markdown",
   "metadata": {}
  },
  {
   "cell_type": "code",
   "execution_count": null,
   "metadata": {},
   "outputs": [],
   "source": [
    "exchange_rate = survey_raw['Tasa monedas']\n",
    "exchange_rate.head()"
   ]
  },
  {
   "source": [
    "## Inflation"
   ],
   "cell_type": "markdown",
   "metadata": {}
  },
  {
   "cell_type": "code",
   "execution_count": null,
   "metadata": {},
   "outputs": [],
   "source": [
    "inflation_df = load_survey_from_pickle(INFLATION_OBJECT_DIR / 'inflation_basket_2016.pkl')\n",
    "inflation_df.head()"
   ]
  },
  {
   "source": [
    "## CEP and ILAE correction"
   ],
   "cell_type": "markdown",
   "metadata": {}
  },
  {
   "cell_type": "code",
   "execution_count": null,
   "metadata": {},
   "outputs": [],
   "source": [
    "survey_correction = load_survey_from_pickle(ENCFT_OBJECT_DIR / f'encft-{year}-{trimester}-correction.pkl')\n",
    "survey_correction.head()"
   ]
  },
  {
   "source": [
    "## Current Survey"
   ],
   "cell_type": "markdown",
   "metadata": {}
  },
  {
   "cell_type": "code",
   "execution_count": null,
   "metadata": {},
   "outputs": [],
   "source": [
    "survey_member_raw = locals().get(f'survey_member_raw_0{trimester}')\n",
    "survey_house_raw = locals().get(f'survey_house_raw_0{trimester}')\n",
    "survey_household_raw = locals().get(f'survey_household_raw_0{trimester}')\n"
   ]
  },
  {
   "source": [
    "# Processing Members\n",
    "... missing docs"
   ],
   "cell_type": "markdown",
   "metadata": {}
  },
  {
   "source": [
    "## Replace Transformer"
   ],
   "cell_type": "markdown",
   "metadata": {}
  },
  {
   "cell_type": "code",
   "execution_count": null,
   "metadata": {},
   "outputs": [],
   "source": [
    "replace_member_map = {\n",
    "    'sexo': {\n",
    "        1: 0,\n",
    "        2: 1\n",
    "    }\n",
    "}\n",
    "\n",
    "replace_member_transformer = ReplaceTransformer(replace_member_map)\n",
    "survey_member_replaced = replace_member_transformer.transform(survey_member_raw)"
   ]
  },
  {
   "source": [
    "## Assign Transformer"
   ],
   "cell_type": "markdown",
   "metadata": {}
  },
  {
   "cell_type": "code",
   "execution_count": null,
   "metadata": {},
   "outputs": [],
   "source": [
    "total_income_cols = {\n",
    "    'ingreso_laboral_monetario': [\n",
    "        'ingreso_asalariado', # Ingreso monetario principal mensual por ocupacion principal para asalariados (OK)\n",
    "        # '', # Ingreso monetario mensual por ocupacion secundaria para cuenta propia o patron\n",
    "        'comisiones', # Ingreso monetario mensual de comisiones por ocupacion principal (OK)\n",
    "        'propinas', # Ingreso monetario mensual de propinas por ocupacion principal (OK)\n",
    "        'horas_extra', # Ingreso monetario mensual de horas extras por ocupacion principal (OK)\n",
    "        'especie_alimentos', # Ingreso en especie por alimentos adicional mensual por ocupacion principal (OK)\n",
    "        'especie_vivienda', # Ingreso en especie por pago de viviendas adicional mensual por ocupacion principal (OK)\n",
    "        'especie_transporte', # Ingreso en especie por pago de transporte adicional mensual por ocupacion principal (OK)\n",
    "        'especie_combustible', # Ingreso en especie por pago de combustible mensual por ocupacion principal (OK)\n",
    "        'especie_celular', # Ingreso en especie por pago de celular adicional mensual por ocupacion principal (OK)\n",
    "        'ingreso_asalariado_secun', # Ingreso monetario mensual por ocupacion secundaria para ocupacion secundaria asalariada\n",
    "        'ingreso_independientes', # Ingreso monetario principal mensual por ocupacion principal para cuenta propia o patron (OK)\n",
    "        'otros_pagos_secun', # Ingreso monetario mensual de otros ingresos monetarios mensuales por ocupación secundaria asalariada\n",
    "        'otros_beneficios_secun', # Ingreso monetario mensual de otros ingresos por beneficios marginales anuales en ocupación secundaria asalariada\n",
    "\n",
    "        # no se deflactan\n",
    "        # '', # Ingreso monetario mensual de vacaciones pagadas por ocupacion principal\n",
    "        # '', # Ingreso monetario mensual de dividendos por ocupacion principal\n",
    "        # '', # Ingreso monetario mensual de bonificacion por ocupacion principal\n",
    "        # '', # Ingreso monetario mensual de regalia pascual por ocupacion principal\n",
    "        # '', # Ingreso monetario mensual de utilidades empresariales por ocupacion principal\n",
    "        # '', # Ingreso monetario mensual de beneficios marginales por ocupacion principal\n",
    "        # '', # Ingreso monetario nacional no laboral por pension adicional\n",
    "\n",
    "        # se deflactan con el promedio del IPC de los últimos 6 meses\n",
    "        # 'ingreso_independientes', # Ingreso monetario principal mensual por ocupacion principal para independientes agropecuarios y contratista\n",
    "        # '', # Ingreso monetario mensual por ocupacion secundaria para independientes agropecuarios y contratista (1 y 2)\n",
    "    ],\n",
    "\n",
    "    'ingreso_laboral_no_monetario': [\n",
    "        'otros_especie', # Ingreso en especie por otros pagos adicional mensual por ocupacion principal\n",
    "        'especie_independientes', # Ingreso en especie laboral trabajadores por ocupacion principal cuenta propia\n",
    "        'especie_independientes_secun', # Ingreso en especie laboral trabajadores por ocupacion secundaria cuenta propia\n",
    "        'pago_especie_secun', # Ingreso monetario mensual de ingresos en especie mensuales por ocupacion secundaria asalariada\n",
    "    ],\n",
    "    \n",
    "    'ingreso_no_laboral_monetario': [\n",
    "        # no se deflactan\n",
    "        'interes_nac', # Ingreso monetario nacional no laboral por intereses adicionales\n",
    "        'alquiler_nac_a', # Ingreso monetario nacional no laboral por alquileres adcionales\n",
    "        'remesas_nac_a', # Ingreso monetario nacional no laboral por remesas nacionales\n",
    "        'ayuda_especie_nac_a', # Ingreso en especie no laboral por ayuda de familiares, no familiares e instituciones (AYUDA_ESPECIE_NAC_MONTO, AYUDA_ESPECIE_NAC_ANO_MONTO)\n",
    "\n",
    "        'pension_nac_a', # Ingreso monetario no laboral por pension o jubilacion\n",
    "        # '', # Ingreso monetario no laboral por Intereses o dividendos\n",
    "        # '', # Ingreso monetario no laboral por alquileres o rentas de propiedades\n",
    "        # '', # Ingreso monetario no laboral por remesas nacionales       \n",
    "    ],\n",
    "\n",
    "    'ingreso_no_laboral_no_monetario': [\n",
    "        # '', # Ingreso en especie no laboral por ayuda de familiares, no familiares e instituciones (otro)\n",
    "        'consumo_bienes', # Ingreso por autoconsumo y autosuministro para trabajadores por cuenta propia, ocupacion principal (CONSUMIO_BIENES_IN_MONTO)\n",
    "        'consumo_bienes_secun', # Ingreso por autoconsumo y autosuministro ocupacion secundaria para trabajadores por cuenta propia (CONSUMIO_BIENES_IS_MONTO)\n",
    "    ],\n",
    "\n",
    "    'ingreso_monetario_exterior': [\n",
    "        'pension_ext_1', # Ingresos mensuales externos por pension\n",
    "        'interes_ext_1', # Ingresos mensuales externos por intereses o dividendos en RD$\n",
    "        'alquiler_ext_1', # Ingresos mensuales externos por alquileres en RD$\n",
    "        'regalos_ext_1', # Ingresos externos por regalos\n",
    "        'remesas_ext', # Ingresos externos por remesas\n",
    "    ],\n",
    "\n",
    "    'ingreso_subsidios': [\n",
    "        # Ingreso monetario no laboral por ayuda del gobierno\n",
    "        # Prosoli\n",
    "        'comer_es_primero', 'inc_asistencia_escolar', 'bonoluz',\n",
    "        'bonogas_hogar', 'proteccion_vejez',\n",
    "        # Otros\n",
    "        'bonogas_chofer', 'bono_estudiante_progreso', 'inc_educacion_superior',\n",
    "        'inc_policia_preventiva', 'inc_marina_guerra'\n",
    "    ],\n",
    "\n",
    "    'ingreso_subsidios_covid': [\n",
    "        'quedate_en_casa', 'fase', 'pa_ti'\n",
    "    ],\n",
    "\n",
    "    'ingreso_sin_subsidios_covid': [\n",
    "        'ingreso_laboral_monetario', 'ingreso_laboral_no_monetario',\n",
    "        'ingreso_no_laboral_monetario', 'ingreso_no_laboral_no_monetario',\n",
    "        'ingreso_monetario_exterior', 'ingreso_subsidios'\n",
    "    ],\n",
    "\n",
    "    'ingreso_sin_qec': [\n",
    "        'ingreso_sin_subsidios_covid', 'fase', 'pa_ti'\n",
    "    ],\n",
    "\n",
    "    'ingreso_total': [\n",
    "        'ingreso_sin_subsidios_covid', 'ingreso_subsidios_covid'\n",
    "    ]\n",
    "}"
   ]
  },
  {
   "cell_type": "code",
   "execution_count": null,
   "metadata": {},
   "outputs": [],
   "source": [
    "assign_member_map = {\n",
    "    **{\n",
    "        income_column_name: lambda df, cols=income_sum_columns: df[cols].sum(1)\n",
    "        for income_column_name, income_sum_columns in total_income_cols.items()\n",
    "    },\n",
    "    # Segmentation\n",
    "    'edad_menor_5': lambda df: (df['edad'] < 5).astype(int),\n",
    "    'edad_mayor_60': lambda df: (df['edad'] > 60).astype(int),\n",
    "    'edad_mayor_65': lambda df: (df['edad'] > 65).astype(int),\n",
    "    'edad_5_a_10': lambda df: ((df['edad'] >= 5) & (df['edad'] < 10)).astype(int),\n",
    "    'edad_10_a_15': lambda df: ((df['edad'] > 10) & (df['edad'] <= 15)).astype(int),\n",
    "    # ---\n",
    "    'es_jefe': lambda df: (df['parentesco'] == 1).astype(int),\n",
    "    'es_conyugue': lambda df: (df['parentesco'] == 2).astype(int),\n",
    "    'es_hijo': lambda df: (df['parentesco'] == 3).astype(int),\n",
    "    'otro_pariente': lambda df: df['parentesco'].isin(range(4, 12)).astype(int),\n",
    "    'no_pariente': lambda df: (df['parentesco'] == 12).astype(int),\n",
    "    'sexo_jefe_familia': lambda df: df['sexo'] * df['es_jefe'],\n",
    "    # ---\n",
    "    'es_trabajador_domestico': lambda df: df['orden_sector'] == 3,\n",
    "    'es_enfermo': lambda df: df['motivo_no_disponible'] == 4,\n",
    "    'es_trabajador_infantil': lambda df: df['edad'].isin(range(0, 16)) & df['trabajo_semana_pasada'] == 1,\n",
    "    # ---\n",
    "    'es_informal': lambda df: df['orden_empleo'] == 2,\n",
    "    'es_formal': lambda df: df['orden_empleo'] == 1\n",
    "}\n",
    "assign_member_transformer = AssignTransformer(assign_member_map)\n",
    "survey_member_assigned = assign_member_transformer.transform(survey_member_replaced)"
   ]
  },
  {
   "cell_type": "code",
   "execution_count": null,
   "metadata": {},
   "outputs": [],
   "source": [
    "survey_member_assigned[survey_member_assigned['id_hogar'] == 6006][['edad_menor_5', 'edad_mayor_60']]"
   ]
  },
  {
   "source": [
    "## Aggregate Transformer"
   ],
   "cell_type": "markdown",
   "metadata": {}
  },
  {
   "cell_type": "code",
   "execution_count": null,
   "metadata": {},
   "outputs": [],
   "source": [
    "aggregate_member_map = {\n",
    "    'sum': [\n",
    "        'quedate_en_casa', 'ingreso_total', 'ingreso_subsidios',\n",
    "        'ingreso_monetario_exterior', 'ingreso_no_laboral_no_monetario',\n",
    "        'ingreso_no_laboral_monetario', 'ingreso_laboral_no_monetario',\n",
    "        'ingreso_laboral_monetario', 'ingreso_subsidios_covid',\n",
    "        'ingreso_sin_subsidios_covid', 'ingreso_sin_qec',\n",
    "        'quedate_en_casa', 'comer_es_primero',\n",
    "        'sexo_jefe_familia', 'edad_menor_5', 'edad_mayor_60',\n",
    "        'es_jefe', 'es_conyugue', 'es_hijo', 'otro_pariente',\n",
    "        'no_pariente', 'es_informal', 'es_formal'\n",
    "    ],\n",
    "\n",
    "    'any': [\n",
    "        'edad_menor_5', 'edad_mayor_60', 'edad_mayor_65',\n",
    "        'edad_5_a_10', 'edad_10_a_15', 'es_trabajador_domestico',\n",
    "        'es_enfermo', 'es_informal', 'es_trabajador_infantil'\n",
    "    ],\n",
    "}\n",
    "keep_first = ['factor_expansion', 'miembro', 'cantidad_miembros_hogar', 'zona', 'grupo_region']\n",
    "key = 'id_hogar'\n",
    "aggregate_member_transformer = AggregateTransformer(aggregate_member_map, keep_first, key)\n",
    "survey_household_member_aggregated = aggregate_member_transformer.transform(survey_member_assigned)"
   ]
  },
  {
   "cell_type": "code",
   "execution_count": null,
   "metadata": {},
   "outputs": [],
   "source": [
    "survey_household_member_aggregated"
   ]
  },
  {
   "source": [
    "# Processing Households"
   ],
   "cell_type": "markdown",
   "metadata": {}
  },
  {
   "source": [
    "## Merge Transformer"
   ],
   "cell_type": "markdown",
   "metadata": {}
  },
  {
   "cell_type": "code",
   "execution_count": null,
   "metadata": {},
   "outputs": [],
   "source": [
    "merge_survey_household_member_transformer = MergeTransformer(lambda : survey_household_raw, merge_kwargs={'on': key})\n",
    "merge_survey_household_correction_transformer = MergeTransformer(lambda : survey_correction, merge_kwargs={'on': key, 'how':'outer'})\n",
    "# survey_household_merged = merge_survey_household_member_transformer.transform(survey_household_member_aggregated)\n",
    "survey_household_merged = make_pipeline(merge_survey_household_member_transformer,\n",
    "                                        merge_survey_household_correction_transformer) \\\n",
    "                                        .transform(survey_household_member_aggregated)"
   ]
  },
  {
   "cell_type": "code",
   "execution_count": null,
   "metadata": {},
   "outputs": [],
   "source": [
    "survey_household_merged"
   ]
  },
  {
   "source": [
    "## Replace Transformer"
   ],
   "cell_type": "markdown",
   "metadata": {}
  },
  {
   "cell_type": "code",
   "execution_count": null,
   "metadata": {},
   "outputs": [],
   "source": [
    "household_replace_map = {\n",
    "    'zona_first': {\n",
    "        1: 0, # urbana\n",
    "        2: 1 # rural\n",
    "    }\n",
    "}\n",
    "household_replace_transformer = ReplaceTransformer(household_replace_map)\n",
    "survey_household_replaced = household_replace_transformer.transform(survey_household_merged)"
   ]
  },
  {
   "source": [
    "## Select Transformer"
   ],
   "cell_type": "markdown",
   "metadata": {}
  },
  {
   "cell_type": "code",
   "execution_count": null,
   "metadata": {},
   "outputs": [],
   "source": [
    "estrato_region_map = {\n",
    "    'DISTRITO NACIONAL': 'Región Ozama',\n",
    "    'SANTO DOMINGO URBANO': 'Región Ozama',\n",
    "    'SANTO DOMINGO RURAL': 'Región Ozama',\n",
    "    'SANTIAGO URBANO': 'Región Cibao Norte',\n",
    "    'SANTIAGO RURAL': 'Región Cibao Norte',\n",
    "    'RESTO CIBAO NORTE URBANO': 'Región Cibao Norte',\n",
    "    'RESTO CIBAO NORTE RURAL': 'Región Cibao Norte',\n",
    "    'CIBAO SUR URBANO': 'Región Cibao Sur',\n",
    "    'CIBAO SUR RURAL': 'Región Cibao Sur',\n",
    "    ' CIBAO NORDESTE URBANO': 'Región Cibao Nordeste',\n",
    "    ' CIBAO NORDESTE RURAL': 'Región Cibao Nordeste',\n",
    "    ' CIBAO NOROESTE URBANO': 'Región Cibao Noroeste',\n",
    "    ' CIBAO NOROESTE RURAL': 'Región Cibao Noroeste',\n",
    "    ' VALDESIA URBANO': 'Región Valdesia',\n",
    "    ' VALDESIA RURAL': 'Región Valdesia',\n",
    "    ' EL VALLE URBANO': 'Región El Valle',\n",
    "    ' EL VALLE RURAL': 'Región El Valle',\n",
    "    ' ENRIQUILLO URBANO': 'Región Enriquillo',\n",
    "    ' ENRIQUILLO RURAL': 'Región Enriquillo',\n",
    "    ' HIGUAMO URBANO': 'Región Higuamo',\n",
    "    ' HIGUAMO RURAL': 'Región Higuamo',\n",
    "    ' YUMA URBANO': 'Región Yuma',\n",
    "    ' YUMA RURAL': 'Región Yuma'\n",
    "}"
   ]
  },
  {
   "cell_type": "code",
   "execution_count": null,
   "metadata": {},
   "outputs": [],
   "source": [
    "select_household_map = {\n",
    "    'region': {\n",
    "        lambda df, estrato=estrato: df['des_estrato'] == estrato:\n",
    "            lambda df, region=region: region\n",
    "        for estrato, region in estrato_region_map.items()\n",
    "    },\n",
    "\n",
    "    'tipo_hogar': {\n",
    "        lambda df: (df['es_jefe_sum'] == 1) & (\n",
    "            df['es_conyugue_sum'] == 0) & (df['es_hijo_sum'] == 0) & (\n",
    "            df['otro_pariente_sum'] == 0) & (df['no_pariente_sum'] == 0): \"Unipersonal\",\n",
    "        lambda df: (df['es_jefe_sum'] == 1) & (\n",
    "            df['es_conyugue_sum'] != 0) & (df['es_hijo_sum'] == 0) & (\n",
    "            df['otro_pariente_sum'] == 0) & (df['no_pariente_sum'] == 0): \"Nuclear sin hijos\",\n",
    "        lambda df: (df['es_jefe_sum'] == 1) & (\n",
    "            df['es_conyugue_sum'] != 0) & (df['es_hijo_sum'] != 0) & (\n",
    "            df['otro_pariente_sum'] == 0) & (df['no_pariente_sum'] == 0): \"Nuclear con hijos\",\n",
    "        lambda df: (df['es_jefe_sum'] == 1) & (\n",
    "            df['es_conyugue_sum'] == 0) & (df['es_hijo_sum'] != 0) & (\n",
    "            df['otro_pariente_sum'] == 0) & (df['no_pariente_sum'] == 0): \"Nuclear monoparental\",\n",
    "        lambda df: (df['es_jefe_sum'] == 1) & (df['es_conyugue_sum'] != 0)\n",
    "            & (df['es_hijo_sum'] == 0) & (df['otro_pariente_sum'] != 0)\n",
    "            & (df['no_pariente_sum'] == 0): \"Extendido base nuclear sin hijos\",\n",
    "        lambda df: (df['es_jefe_sum'] == 1) & (df['es_conyugue_sum'] != 0) & (\n",
    "            df['es_hijo_sum'] != 0) & (df['otro_pariente_sum'] != 0) & (\n",
    "            df['no_pariente_sum'] == 0): \"Extendido base nuclear con hijos\",\n",
    "        lambda df: (df['es_jefe_sum'] == 1) & (\n",
    "            df['es_conyugue_sum'] == 0) & (df['es_hijo_sum'] != 0) & (\n",
    "            df['otro_pariente_sum'] != 0) & (df['no_pariente_sum'] == 0): \"Extendido base monoparental\",\n",
    "        lambda df: (df['es_jefe_sum'] == 1) & (\n",
    "            df['es_conyugue_sum'] == 0) & (df['es_hijo_sum'] == 0) & (\n",
    "            df['otro_pariente_sum'] != 0) & (df['no_pariente_sum'] == 0): \"Extendido sin base nuclear\",\n",
    "        lambda df: (df['es_jefe_sum'] == 1) & (df['no_pariente_sum'] != 0): \"Compuesto\",\n",
    "    },\n",
    "\n",
    "    'informalidad_mayoria': {\n",
    "        lambda df: df['es_informal_sum'] > df['es_formal_sum'] : True,\n",
    "        'default': False\n",
    "    }\n",
    "}\n",
    "\n",
    "select_household_transformer = SelectTransformer(select_household_map)\n",
    "survey_household_selected = select_household_transformer.transform(survey_household_replaced)"
   ]
  },
  {
   "cell_type": "code",
   "execution_count": null,
   "metadata": {},
   "outputs": [],
   "source": [
    "survey_household_selected"
   ]
  },
  {
   "source": [
    "## Assign Transformer"
   ],
   "cell_type": "markdown",
   "metadata": {}
  },
  {
   "cell_type": "code",
   "execution_count": null,
   "metadata": {},
   "outputs": [],
   "source": [
    "def generate_poverty(suffix, income_per_capita_col):\n",
    "    return {\n",
    "        # General Poverty\n",
    "        f'pobreza_extrema_urbana{suffix}': lambda df, inflation_df=inflation_df, income_col=income_per_capita_col:\n",
    "                                    (df[income_col] < df['linea_pobreza_extrema_urbana']).astype(int),\n",
    "        f'pobreza_extrema_rural{suffix}': lambda df, inflation_df=inflation_df, income_col=income_per_capita_col:\n",
    "                                        (df[income_col] < df['linea_pobreza_extrema_rural']).astype(int),\n",
    "        f'pobreza_extrema{suffix}': lambda df: df[f'pobreza_extrema_urbana{suffix}'] + df[f'pobreza_extrema_rural{suffix}'],\n",
    "        # Extreme Poverty\n",
    "        f'pobreza_urbana{suffix}': lambda df, inflation_df=inflation_df, income_col=income_per_capita_col:\n",
    "                                        (df[income_col] < df['linea_pobreza_urbana']).astype(int),\n",
    "        f'pobreza_rural{suffix}': lambda df, inflation_df=inflation_df, income_col=income_per_capita_col:\n",
    "                                        (df[income_col] < df['linea_pobreza_rural']).astype(int),\n",
    "        f'pobreza_general{suffix}': lambda df: df[f'pobreza_urbana{suffix}'] + df[f'pobreza_rural{suffix}'],\n",
    "        f'pobreza{suffix}': lambda df: df[f'pobreza_extrema{suffix}'] + df[f'pobreza_general{suffix}']\n",
    "    }"
   ]
  },
  {
   "cell_type": "code",
   "execution_count": null,
   "metadata": {},
   "outputs": [],
   "source": [
    "inflation_key = f'{year}-{str(month).zfill(2)}-01'\n",
    "n_buckets, n_buckets_total = 10, 55\n",
    "\n",
    "assign_household_per_capita_map = {\n",
    "    # Incomes corrected\n",
    "    # 'ingreso_sin_subsidio_covid': lambda df: df['ingreso_sin_subsidios_covid_sum'] + df['cep_diff'] + df['ilae_diff'],\n",
    "    # 'ingreso_sin_qec': lambda df: df['ingreso_sin_qec_sum'] + df['cep_diff'] + df['ilae_diff'],\n",
    "    # 'quedate_en_casa': lambda df: df['quedate_en_casa_sum'] - df['qec_diff'],\n",
    "    # Incomes per capita\n",
    "    'ingreso_sin_subsidio_covid_per_capita': lambda df: df['ingreso_sin_subsidios_covid_sum'] / df['cantidad_miembros_hogar_first'],\n",
    "    # 'ingreso_sin_subsidio_covid_per_capita': lambda df: df['ingreso_sin_subsidio_covid'] / df['cantidad_miembros_hogar_first'],\n",
    "    'ingreso_per_capita': lambda df: df['ingreso_total_sum'] / df['cantidad_miembros_hogar_first'],\n",
    "    'ingreso_per_capita_sin_qec': lambda df: df['ingreso_sin_qec_sum'] / df['cantidad_miembros_hogar_first'],\n",
    "    # 'ingreso_per_capita_sin_qec': lambda df: df['ingreso_sin_qec'] / df['cantidad_miembros_hogar_first'],\n",
    "    'ingreso_per_capita_qec': lambda df: df['quedate_en_casa_sum'] / df['cantidad_miembros_hogar_first'],\n",
    "    # 'ingreso_per_capita_qec': lambda df: df['quedate_en_casa'] / df['cantidad_miembros_hogar_first'],\n",
    "    # Poverty lines\n",
    "    'linea_pobreza_urbana': lambda df, key=inflation_key:\n",
    "                                (1 - df['zona_first']) * 4812.93 * inflation_df.loc[key, 'ampliada'],\n",
    "    'linea_pobreza_rural': lambda df, key=inflation_key:\n",
    "                                df['zona_first'] * 4285.26 * inflation_df.loc[key, 'ampliada'],\n",
    "    'linea_pobreza': lambda df: df['linea_pobreza_urbana'] + df['linea_pobreza_rural'],\n",
    "    'linea_pobreza_extrema_urbana': lambda df, key=inflation_key:\n",
    "                                        (1 - df['zona_first']) * 2167.16 * inflation_df.loc[key, 'ampliada'],\n",
    "    'linea_pobreza_extrema_rural': lambda df, key=inflation_key:\n",
    "                                        df['zona_first'] * 2076.49 * inflation_df.loc[key, 'ampliada'],\n",
    "    'linea_pobreza_extrema': lambda df: df['linea_pobreza_extrema_urbana'] + df['linea_pobreza_extrema_rural'],\n",
    "    'linea_pobreza_norm': lambda df: df['linea_pobreza'] / df['linea_pobreza_extrema'],\n",
    "    # Income Bins\n",
    "    'ingreso_per_capita_bins': lambda df: proportional_cut(df, 'ingreso_per_capita', 'linea_pobreza', n_buckets, n_buckets_total, include_lowest=True),\n",
    "    'ingreso_sin_qec_sum_norm': lambda df: df['ingreso_per_capita_sin_qec'] / df['linea_pobreza_extrema'],\n",
    "    'ingreso_per_capita_sin_qec_bins':\n",
    "        lambda df: proportional_cut(df, 'ingreso_per_capita_sin_qec', 'linea_pobreza', n_buckets, n_buckets_total, include_lowest=True),\n",
    "    # Poverty\n",
    "    **generate_poverty('', 'ingreso_per_capita'),\n",
    "    **generate_poverty('_sin_subsidio', 'ingreso_sin_subsidio_covid_per_capita'),\n",
    "    **generate_poverty('_sin_qec', 'ingreso_per_capita_sin_qec'),\n",
    "    # Cost Factors\n",
    "    'factor_cost': lambda df: float(1.0),\n",
    "    'factor_cost_percent': lambda df: (df['ingreso_per_capita_qec'] / 100.0).astype(float),\n",
    "    # Impact Factors\n",
    "    'factor_impact': lambda df, n_buckets=n_buckets: (n_buckets / df['linea_pobreza']).astype(float),\n",
    "    'factor_impact_percent': lambda df: (df['factor_cost_percent'] * df['factor_impact']).astype(float),\n",
    "    'factor_impact_dop': lambda df, n_buckets=n_buckets: (n_buckets / (df['linea_pobreza'] * df['cantidad_miembros_hogar_first'])).astype(float),\n",
    "    # Segmentation\n",
    "    'recibe_qec': lambda df: df['quedate_en_casa_sum'] > 0.0,\n",
    "    # Statistics\n",
    "    'beneficio_promedio_qec': lambda df: 100.0 * df['ingreso_per_capita_qec'] / df['linea_pobreza']\n",
    "}\n",
    "\n",
    "assign_household_transformer = AssignTransformer(assign_household_per_capita_map)\n",
    "survey_household_assigned_per_capita = assign_household_transformer.transform(survey_household_selected)"
   ]
  },
  {
   "cell_type": "code",
   "execution_count": null,
   "metadata": {},
   "outputs": [],
   "source": [
    "sns.countplot(survey_household_assigned_per_capita['ingreso_per_capita_bins'])"
   ]
  },
  {
   "cell_type": "code",
   "execution_count": null,
   "metadata": {},
   "outputs": [],
   "source": [
    "sns.countplot(survey_household_assigned_per_capita['ingreso_per_capita_sin_qec_bins'])"
   ]
  },
  {
   "cell_type": "code",
   "execution_count": null,
   "metadata": {},
   "outputs": [],
   "source": [
    "\"\"\"\n",
    "En Covid bajo la lupa, para junio 2020 se reportan los siguientes valores de pobreza extrema y pobreza general:\n",
    "* pobreza extrema - 8.2 % (9.05% corrected)\n",
    "* pobreza general - 34.6 % (31.48% corrected)\n",
    "\"\"\"\n",
    "get_percentage_table_with_expansion_factor(survey_household_assigned_per_capita, 'pobreza_sin_subsidio', 'factor_expansion_first')"
   ]
  },
  {
   "cell_type": "code",
   "execution_count": null,
   "metadata": {},
   "outputs": [],
   "source": [
    "\"\"\"\n",
    "En Covid bajo la lupa, para junio 2020 se reportan los siguientes valores de pobreza extrema y pobreza general\n",
    "gracias a los programas de mitigación:\n",
    "* pobreza extrema - 5.1 % (6.39% corrected)\n",
    "* pobreza general - 27.4 % (28.78% corrected)\n",
    "\"\"\"\n",
    "get_percentage_table_with_expansion_factor(survey_household_assigned_per_capita, 'pobreza', 'factor_expansion_first')"
   ]
  },
  {
   "cell_type": "code",
   "execution_count": null,
   "metadata": {},
   "outputs": [],
   "source": [
    "get_percentage_table_with_expansion_factor(survey_household_assigned_per_capita, 'pobreza_sin_qec', 'factor_expansion_first')"
   ]
  },
  {
   "source": [
    "# Pipeline"
   ],
   "cell_type": "markdown",
   "metadata": {}
  },
  {
   "cell_type": "code",
   "execution_count": null,
   "metadata": {},
   "outputs": [],
   "source": [
    "survey_pipeline_processor = make_pipeline(\n",
    "    replace_member_transformer,\n",
    "    assign_member_transformer,\n",
    "    aggregate_member_transformer,\n",
    "    merge_survey_household_member_transformer,\n",
    "    # merge_survey_household_correction_transformer,\n",
    "    household_replace_transformer,\n",
    "    select_household_transformer,\n",
    "    assign_household_transformer\n",
    ")\n",
    "\n",
    "survey_final_processed = survey_pipeline_processor.transform(survey_member_raw)"
   ]
  },
  {
   "cell_type": "code",
   "execution_count": null,
   "metadata": {},
   "outputs": [],
   "source": [
    "survey_final_processed['ingreso_per_capita_sin_qec_bins'].isna().sum()"
   ]
  },
  {
   "source": [
    "# Processing to Criteria"
   ],
   "cell_type": "markdown",
   "metadata": {}
  },
  {
   "source": [
    "## Replace Transformer"
   ],
   "cell_type": "markdown",
   "metadata": {}
  },
  {
   "cell_type": "code",
   "execution_count": null,
   "metadata": {},
   "outputs": [],
   "source": [
    "replace_final_map = {\n",
    "    'sexo_jefe_familia_sum': {\n",
    "        0: 'Hombre',\n",
    "        1: 'Mujer',\n",
    "    },\n",
    "    'ps_comer_es_primero': {\n",
    "        1: 'Beneficiario CEP',\n",
    "        2: 'No Beneficiario CEP'\n",
    "    },\n",
    "    'recibe_qec': {\n",
    "        True: 'Beneficiario QEC',\n",
    "        False: 'No Beneficiario QEC'\n",
    "    },\n",
    "    'zona_first': {\n",
    "        0: 'Urbana',\n",
    "        1: 'Rural'\n",
    "    },\n",
    "    'edad_menor_5_any': {\n",
    "        True: 'Con menores de 5 años',\n",
    "        False: 'Sin menores de 5 años'\n",
    "    },\n",
    "    'edad_mayor_60_any': {\n",
    "        True: 'Con mayores de 60 años',\n",
    "        False: 'Sin mayores de 60 años'\n",
    "    },\n",
    "    'edad_mayor_65_any': {\n",
    "        True: 'Con mayores de 65 años',\n",
    "        False: 'Sin mayores de 65 años'\n",
    "    },\n",
    "    'edad_5_a_10_any': {\n",
    "        True: 'Con niños de 5 a 10 años',\n",
    "        False: 'Sin niños de 5 a 10 años'\n",
    "    },\n",
    "    'edad_10_a_15_any': {\n",
    "        True: 'Con niños de 10 a 15 años',\n",
    "        False: 'Sin niños de 10 a 15 años'\n",
    "    },\n",
    "    'es_trabajador_domestico_any': {\n",
    "        True: 'Con trabajador doméstico',\n",
    "        False: 'Sin trabajador doméstico'\n",
    "    },\n",
    "    'es_informal_any': {\n",
    "        True: 'Con trabajador informal',\n",
    "        False: 'Sin trabajador informal'\n",
    "    },\n",
    "    'tipo_hogar':{\n",
    "        'Unipersonal': 'Unipers./Pareja sin hijos',\n",
    "        'Nuclear sin hijos': 'Unipers./Pareja sin hijos',\n",
    "        'Nuclear con hijos': 'Nuclear',\n",
    "        'Nuclear monoparental': 'Monoparental no extendido',\n",
    "        'Extendido base nuclear sin hijos': 'Extendido',\n",
    "        'Extendido base nuclear con hijos': 'Extendido',\n",
    "        'Extendido base monoparental': 'Extendido',\n",
    "        'Extendido sin base nuclear': 'Extendido',\n",
    "        'Compuesto': 'Compuesto',\n",
    "    },\n",
    "    'informalidad_mayoria': {\n",
    "        True: 'Mayoría empleo informal',\n",
    "        False: 'Minoría empleo informal'\n",
    "    },\n",
    "    'es_trabajador_infantil_any': {\n",
    "        True: 'Con trabajo infantil',\n",
    "        False: 'Sin trabajo infantil'\n",
    "    },\n",
    "    'es_enfermo_any': {\n",
    "        True: 'Con inactivos por enfermedad',\n",
    "        False: 'Sin inactivos por enfermedad'\n",
    "    }\n",
    "}\n",
    "\n",
    "replace_final_transformer = ReplaceTransformer(replace_final_map)\n",
    "survey_final_replaced = replace_final_transformer.transform(survey_final_processed)"
   ]
  },
  {
   "source": [
    "## Name Transformer"
   ],
   "cell_type": "markdown",
   "metadata": {}
  },
  {
   "cell_type": "code",
   "execution_count": null,
   "metadata": {},
   "outputs": [],
   "source": [
    "name_final_map = {\n",
    "    'id_hogar': 'uid',\n",
    "    'factor_expansion_first': 'weight',\n",
    "    # Segmentation\n",
    "    'zona_first': 'Zona Urbano-Rural',\n",
    "    'ps_comer_es_primero': 'Beneficiario de Comer es Primero',\n",
    "    'recibe_qec': 'Beneficiario de Quédate en Casa',\n",
    "    'sexo_jefe_familia_sum': 'Sexo jefe de familia',\n",
    "    'grupo_region': 'Macroregión geográfica',\n",
    "    'region': 'Región geográfica',\n",
    "    'tipo_hogar': 'Tipo familia',\n",
    "    'edad_menor_5_any': 'Miembro menor de 5 años',\n",
    "    'edad_mayor_60_any': 'Miembro mayor de 60 años',\n",
    "    'edad_5_a_10_any': 'Miembro entre 5 y 10 años',\n",
    "    'edad_10_a_15_any': 'Miembro entre 10 y 15 años',\n",
    "    'edad_mayor_65_any': 'Miembro mayor de 65 años',\n",
    "    'es_trabajador_domestico_any': 'Miembro trabajador doméstico',\n",
    "    'es_informal_any': 'Miembro con empleo informal',\n",
    "    'informalidad_mayoria': 'Mayoría de miembros con empleo informal',\n",
    "    'es_enfermo_any': 'Miembro inactivo por enfermedad',\n",
    "    # Statistics\n",
    "    'edad_menor_5_sum': 'stat_edad_menor_5_count',\n",
    "    'edad_mayor_60_sum': 'stat_edad_mayor_60_count',\n",
    "    'cantidad_miembros_hogar_first': 'stat_miembros_hogar_count',\n",
    "    'beneficio_promedio_qec': 'stat_beneficio_promedio_qec',\n",
    "    # Factors\n",
    "    'factor_cost': '(C) Beneficio en DOP',\n",
    "    'factor_cost_percent': '(C) Beneficio en % del monto de QEC',\n",
    "    'factor_impact': '(I) Beneficio en DOP',\n",
    "    'factor_impact_dop': '(I) Beneficio en DOP (miembros)',\n",
    "    'factor_impact_percent': '(I) Beneficio en % del monto de QEC',\n",
    "    # Prioritization\n",
    "    'ingreso_per_capita_sin_qec_bins': 'Ingreso del hogar antes de recibir QEC',\n",
    "}\n",
    "\n",
    "name_final_transformer = NameTransformer(name_final_map, keep_features=[])\n",
    "survey_final_named = name_final_transformer.transform(survey_final_replaced)"
   ]
  },
  {
   "cell_type": "code",
   "execution_count": null,
   "metadata": {},
   "outputs": [],
   "source": [
    "cdisplay(survey_final_named.head())"
   ]
  },
  {
   "cell_type": "code",
   "execution_count": null,
   "metadata": {},
   "outputs": [],
   "source": [
    "cdisplay(survey_final_named.isna())"
   ]
  },
  {
   "cell_type": "markdown",
   "metadata": {},
   "source": [
    "# Export file"
   ]
  },
  {
   "cell_type": "code",
   "execution_count": null,
   "metadata": {},
   "outputs": [],
   "source": [
    "survey_final_named.to_csv(\n",
    "    f\"QEC_escenario_s11.csv\", \n",
    "    index=False\n",
    ")"
   ]
  }
 ],
 "metadata": {
  "file_extension": ".py",
  "kernelspec": {
   "name": "python3710jvsc74a57bd0bd21bc71339b4335dc1668425d5993b235026758a1a70d3187a020d8e24cb921",
   "display_name": "Python 3.7.10 64-bit ('criteria-do': conda)"
  },
  "mimetype": "text/x-python",
  "name": "python",
  "nbTranslate": {
   "displayLangs": [
    "es",
    "en"
   ],
   "hotkey": "alt-t",
   "langInMainMenu": true,
   "sourceLang": "en",
   "targetLang": "es",
   "useGoogleTranslate": true
  },
  "npconvert_exporter": "python",
  "pygments_lexer": "ipython3",
  "toc": {
   "base_numbering": 1,
   "nav_menu": {},
   "number_sections": true,
   "sideBar": true,
   "skip_h1_title": false,
   "title_cell": "Table of Contents",
   "title_sidebar": "Contents",
   "toc_cell": false,
   "toc_position": {
    "height": "calc(100% - 180px)",
    "left": "10px",
    "top": "150px",
    "width": "326.533px"
   },
   "toc_section_display": true,
   "toc_window_display": true
  },
  "version": 3
 },
 "nbformat": 4,
 "nbformat_minor": 2
}