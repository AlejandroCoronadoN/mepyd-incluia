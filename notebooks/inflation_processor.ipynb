{
 "metadata": {
  "language_info": {
   "codemirror_mode": {
    "name": "ipython",
    "version": 3
   },
   "file_extension": ".py",
   "mimetype": "text/x-python",
   "name": "python",
   "nbconvert_exporter": "python",
   "pygments_lexer": "ipython3",
   "version": "3.7.9-final"
  },
  "orig_nbformat": 2,
  "kernelspec": {
   "name": "python3",
   "display_name": "Python 3.7.9 64-bit ('criteria-do': conda)",
   "metadata": {
    "interpreter": {
     "hash": "8b34bf399513e06a8774a8efb10030034b49ff381a6bcaf486d5d42f5d9a338c"
    }
   }
  }
 },
 "nbformat": 4,
 "nbformat_minor": 2,
 "cells": [
  {
   "cell_type": "code",
   "execution_count": null,
   "metadata": {},
   "outputs": [],
   "source": [
    "%load_ext autoreload\n",
    "%autoreload 2"
   ]
  },
  {
   "cell_type": "code",
   "execution_count": null,
   "metadata": {},
   "outputs": [],
   "source": [
    "import sys\n",
    "import importlib\n",
    "\n",
    "import itertools as it\n",
    "import matplotlib.pyplot as plt\n",
    "import seaborn as sns\n",
    "import pandas as pd\n",
    "import numpy as np\n",
    "import statsmodels.api as sm\n",
    "\n",
    "from itertools import product\n",
    "from scipy.stats import gmean\n",
    "\n",
    "from criteriaetl.utils.expansion_func import (get_value_counts_with_expansion_factor,\n",
    "    get_percentage_table_with_expansion_factor)\n",
    "from criteriaetl.utils.display_func import cdisplay, percentage_count_plot\n",
    "from criteriaetl.utils.common_func import (get_weighted_complete_randomization_series_on_subset, \n",
    "    proportional_cut, weighted_qcut, get_partition_bool_columns_dict)\n",
    "from criteriaetl.transformers.columns_base import (NameTransformer, \n",
    "    ReplaceTransformer, SelectTransformer, AssignTransformer)\n",
    "from criteriaetl.transformers.rows_base import AggregateTransformer\n",
    "from criteriaetl.transformers.fusion_base import MergeTransformer\n",
    "\n",
    "from projectetl.utils.dataload import (load_survey_data_do, save_survey_with_pickle,\n",
    "                                       load_survey_from_pickle)\n",
    "from projectetl.utils.config import DATA_DIR"
   ]
  },
  {
   "source": [
    "# Load databases"
   ],
   "cell_type": "markdown",
   "metadata": {}
  },
  {
   "cell_type": "code",
   "execution_count": null,
   "metadata": {},
   "outputs": [],
   "source": [
    "canasta_alimentaria = ['alimentos y bebidas no alcohólicas']\n",
    "canasta_no_alimentaria = [\n",
    "    'bebidas alcohólicas y tabaco', 'prendas de vestir y calzado',\n",
    "    'vivienda', 'muebles', 'salud', 'transporte', 'comunicaciones',\n",
    "    'recreación y cultura', 'educación', 'restaurantes y hoteles',\n",
    "    'bienes y servicios diversos'\n",
    "]\n",
    "\n",
    "canasta_alimentaria_cols = [f'{base_col_name} indice' for base_col_name in canasta_alimentaria]\n",
    "canasta_no_alimentaria_cols = [f'{base_col_name} indice' for base_col_name in canasta_no_alimentaria]\n",
    "canasta_cols = canasta_alimentaria_cols + canasta_no_alimentaria_cols"
   ]
  },
  {
   "source": [
    "## Load IPC base 2010 = 100"
   ],
   "cell_type": "markdown",
   "metadata": {}
  },
  {
   "cell_type": "code",
   "execution_count": null,
   "metadata": {},
   "outputs": [],
   "source": [
    "time_cols = ['anno', 'período']\n",
    "\n",
    "inflation_2010_raw = load_survey_data_do(DATA_DIR / 'inflation' / 'ipc_grupos_base_2010.csv',\n",
    "                                         load_func=lambda path: pd.read_csv(str(path)))\n",
    "inflation_2010_raw = inflation_2010_raw[time_cols + canasta_alimentaria_cols + canasta_no_alimentaria_cols]\n",
    "inflation_2010_raw.rename(columns={'período': 'periodo'}, inplace=True)\n",
    "inflation_2010_raw.head()"
   ]
  },
  {
   "source": [
    "## Load annual database IPC base 2019 - 2020 = 100"
   ],
   "cell_type": "markdown",
   "metadata": {}
  },
  {
   "cell_type": "code",
   "execution_count": null,
   "metadata": {},
   "outputs": [],
   "source": [
    "time_cols = ['anno', 'periodo']\n",
    "\n",
    "inflation_19_20_raw = load_survey_data_do(DATA_DIR / 'inflation' / 'ipc_grupos_base_19_20.csv',\n",
    "                                          load_func=lambda path: pd.read_csv(str(path)))\n",
    "inflation_19_20_raw = inflation_19_20_raw[time_cols + canasta_alimentaria_cols + canasta_no_alimentaria_cols]\n",
    "inflation_19_20_raw.head()"
   ]
  },
  {
   "source": [
    "#"
   ],
   "cell_type": "markdown",
   "metadata": {}
  },
  {
   "source": [
    "# Processing databases"
   ],
   "cell_type": "markdown",
   "metadata": {}
  },
  {
   "source": [
    "## Replace Transformer\n",
    "\n",
    "* The `period` column is replaced from spanish names to the corresponding numbers.\n",
    "* A `date` column is created using `pd.to_datetime`\n",
    "* The `date` colum is set as index to easily loc a certain date"
   ],
   "cell_type": "markdown",
   "metadata": {}
  },
  {
   "cell_type": "code",
   "execution_count": null,
   "metadata": {},
   "outputs": [],
   "source": [
    "months = ['Enero', 'Febrero', 'Marzo', 'Abril', 'Mayo', 'Junio', 'Julio', 'Agosto', 'Septiembre', 'Octubre', 'Noviembre', 'Diciembre']\n",
    "replace_months_map = {\n",
    "    'periodo': {month: str(i + 1).zfill(2) for i, month in enumerate(months)}\n",
    "}\n",
    "\n",
    "replace_months_transformer = ReplaceTransformer(replace_months_map)\n",
    "inflation_2010_replaced = replace_months_transformer.transform(inflation_2010_raw)\n",
    "inflation_19_20_replaced = replace_months_transformer.transform(inflation_19_20_raw)"
   ]
  },
  {
   "cell_type": "code",
   "execution_count": null,
   "metadata": {},
   "outputs": [],
   "source": [
    "inflation_2010_replaced['date'] = pd.to_datetime(inflation_2010_replaced['anno'].apply(str) + inflation_2010_replaced['periodo'] + '01',\n",
    "                                                 format='%Y%m%d')\n",
    "inflation_2010_replaced = inflation_2010_replaced.set_index('date')[canasta_cols]\n",
    "\n",
    "inflation_19_20_replaced['date'] = pd.to_datetime(inflation_19_20_replaced['anno'].apply(str) + inflation_19_20_replaced['periodo'] + '01',\n",
    "                                                  format='%Y%m%d')\n",
    "inflation_19_20_replaced = inflation_19_20_replaced.set_index('date')[canasta_cols]"
   ]
  },
  {
   "source": [
    "## Base IPC 2010 database on september 2016"
   ],
   "cell_type": "markdown",
   "metadata": {}
  },
  {
   "cell_type": "code",
   "execution_count": null,
   "metadata": {},
   "outputs": [],
   "source": [
    "inflation_2016_10_replaced = inflation_2010_replaced.astype(float) / inflation_2010_replaced.loc['2016-09-01'].astype(float)"
   ]
  },
  {
   "cell_type": "code",
   "execution_count": null,
   "metadata": {},
   "outputs": [],
   "source": [
    "inflation_2016_10_replaced.head(10)"
   ]
  },
  {
   "cell_type": "code",
   "execution_count": null,
   "metadata": {},
   "outputs": [],
   "source": [
    "inflation_2016_10_replaced.tail(10)"
   ]
  },
  {
   "source": [
    "## Base IPC 2019 - 2020 database on 2016"
   ],
   "cell_type": "markdown",
   "metadata": {}
  },
  {
   "cell_type": "code",
   "execution_count": null,
   "metadata": {},
   "outputs": [],
   "source": [
    "inflation_2016_19_20_replaced = (inflation_19_20_replaced.astype(float) / inflation_19_20_replaced.loc['2020-09-01'].astype(float)) * inflation_2016_10_replaced.loc['2020-09-01']"
   ]
  },
  {
   "cell_type": "code",
   "execution_count": null,
   "metadata": {},
   "outputs": [],
   "source": [
    "inflation_2016_19_20_replaced.tail(10)"
   ]
  },
  {
   "source": [
    "## Append databases"
   ],
   "cell_type": "markdown",
   "metadata": {}
  },
  {
   "cell_type": "code",
   "execution_count": null,
   "metadata": {},
   "outputs": [],
   "source": [
    "inflation_2016_appended = inflation_2016_10_replaced.append(inflation_2016_19_20_replaced.loc['2020-10-01':'2021-01-01'])\n",
    "inflation_2016_appended.tail(10)"
   ]
  },
  {
   "source": [
    "## Calculate inflation for basic basket"
   ],
   "cell_type": "markdown",
   "metadata": {}
  },
  {
   "cell_type": "code",
   "execution_count": null,
   "metadata": {},
   "outputs": [],
   "source": [
    "inflation_basket_2016_assign_map = {\n",
    "    'alimentaria': lambda df, cols=canasta_alimentaria_cols: df[cols],\n",
    "    'no_alimentaria': lambda df, cols=canasta_no_alimentaria_cols: gmean(df[cols], axis=1),\n",
    "    'ampliada': lambda df, cols=canasta_cols: gmean(df[cols], axis=1)\n",
    "}\n",
    "\n",
    "inflation_basket_2016_assign_transformer = AssignTransformer(inflation_basket_2016_assign_map)\n",
    "inflation_basket_2016_assigned = inflation_basket_2016_assign_transformer.transform(inflation_2016_appended)"
   ]
  },
  {
   "cell_type": "code",
   "execution_count": null,
   "metadata": {},
   "outputs": [],
   "source": [
    "basket_cols = ['alimentaria', 'no_alimentaria', 'ampliada']\n",
    "inflation_basket_2016_final = inflation_basket_2016_assigned[basket_cols]"
   ]
  },
  {
   "cell_type": "code",
   "execution_count": null,
   "metadata": {},
   "outputs": [],
   "source": [
    "inflation_basket_2016_final.tail()"
   ]
  },
  {
   "source": [
    "# Save IPC base 2016"
   ],
   "cell_type": "markdown",
   "metadata": {}
  },
  {
   "cell_type": "code",
   "execution_count": null,
   "metadata": {},
   "outputs": [],
   "source": [
    "save_survey_with_pickle(inflation_basket_2016_final, DATA_DIR / 'inflation' / 'object' / 'inflation_basket_2016.pkl')"
   ]
  },
  {
   "cell_type": "code",
   "execution_count": null,
   "metadata": {},
   "outputs": [],
   "source": [
    "inflation = inflation_basket_2016_final['2020-10-01']\n",
    "urbana = inflation * 2167.16\n",
    "rural = inflation * 2076.49\n",
    "print(f'urbana - {urbana}\\nrural - {rural}')"
   ]
  }
 ]
}