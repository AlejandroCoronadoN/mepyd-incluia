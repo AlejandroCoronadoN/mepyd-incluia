{
 "metadata": {
  "language_info": {
   "codemirror_mode": {
    "name": "ipython",
    "version": 3
   },
   "file_extension": ".py",
   "mimetype": "text/x-python",
   "name": "python",
   "nbconvert_exporter": "python",
   "pygments_lexer": "ipython3",
   "version": "3.7.9-final"
  },
  "orig_nbformat": 2,
  "kernelspec": {
   "name": "python3",
   "display_name": "Python 3.7.9 64-bit ('criteria-do': conda)",
   "metadata": {
    "interpreter": {
     "hash": "8b34bf399513e06a8774a8efb10030034b49ff381a6bcaf486d5d42f5d9a338c"
    }
   }
  }
 },
 "nbformat": 4,
 "nbformat_minor": 2,
 "cells": [
  {
   "cell_type": "code",
   "execution_count": 1,
   "metadata": {},
   "outputs": [],
   "source": [
    "%load_ext autoreload\n",
    "%autoreload 2"
   ]
  },
  {
   "cell_type": "code",
   "execution_count": 2,
   "metadata": {},
   "outputs": [],
   "source": [
    "import sys\n",
    "import importlib\n",
    "\n",
    "import itertools as it\n",
    "import matplotlib.pyplot as plt\n",
    "import seaborn as sns\n",
    "import pandas as pd\n",
    "import numpy as np\n",
    "import statsmodels.api as sm\n",
    "\n",
    "from itertools import product\n",
    "from scipy.stats import gmean\n",
    "\n",
    "from criteriaetl.utils.expansion_func import (get_value_counts_with_expansion_factor,\n",
    "    get_percentage_table_with_expansion_factor)\n",
    "from criteriaetl.utils.display_func import cdisplay, percentage_count_plot\n",
    "from criteriaetl.utils.common_func import (get_weighted_complete_randomization_series_on_subset, \n",
    "    proportional_cut, weighted_qcut, get_partition_bool_columns_dict)\n",
    "from criteriaetl.transformers.columns_base import (NameTransformer, \n",
    "    ReplaceTransformer, SelectTransformer, AssignTransformer)\n",
    "from criteriaetl.transformers.rows_base import AggregateTransformer\n",
    "from criteriaetl.transformers.fusion_base import MergeTransformer\n",
    "\n",
    "from projectetl.utils.dataload import (load_survey_data_do, save_survey_with_pickle,\n",
    "                                       load_survey_from_pickle)\n",
    "from projectetl.utils.config import DATA_DIR"
   ]
  },
  {
   "source": [
    "# Load databases"
   ],
   "cell_type": "markdown",
   "metadata": {}
  },
  {
   "cell_type": "code",
   "execution_count": 3,
   "metadata": {},
   "outputs": [],
   "source": [
    "canasta_alimentaria = ['alimentos y bebidas no alcohólicas']\n",
    "canasta_no_alimentaria = [\n",
    "    'bebidas alcohólicas y tabaco', 'prendas de vestir y calzado',\n",
    "    'vivienda', 'muebles', 'salud', 'transporte', 'comunicaciones',\n",
    "    'recreación y cultura', 'educación', 'restaurantes y hoteles',\n",
    "    'bienes y servicios diversos'\n",
    "]\n",
    "\n",
    "canasta_alimentaria_cols = [f'{base_col_name} indice' for base_col_name in canasta_alimentaria]\n",
    "canasta_no_alimentaria_cols = [f'{base_col_name} indice' for base_col_name in canasta_no_alimentaria]\n",
    "canasta_cols = canasta_alimentaria_cols + canasta_no_alimentaria_cols"
   ]
  },
  {
   "source": [
    "## Load IPC base 2010 = 100"
   ],
   "cell_type": "markdown",
   "metadata": {}
  },
  {
   "cell_type": "code",
   "execution_count": 4,
   "metadata": {},
   "outputs": [
    {
     "output_type": "execute_result",
     "data": {
      "text/plain": [
       "   anno  periodo  alimentos y bebidas no alcohólicas indice  \\\n",
       "0  2016    Enero                                     137.49   \n",
       "1  2016  Febrero                                     134.85   \n",
       "2  2016    Marzo                                     133.33   \n",
       "3  2016    Abril                                     132.13   \n",
       "4  2016     Mayo                                     131.61   \n",
       "\n",
       "   bebidas alcohólicas y tabaco indice  prendas de vestir y calzado indice  \\\n",
       "0                               145.78                               93.46   \n",
       "1                               147.30                               93.26   \n",
       "2                               147.85                               92.97   \n",
       "3                               148.12                               92.24   \n",
       "4                               148.38                               92.65   \n",
       "\n",
       "   vivienda indice  muebles indice  salud indice  transporte indice  \\\n",
       "0           109.70          115.68        123.98             110.29   \n",
       "1           109.77          115.74        124.52             109.59   \n",
       "2           111.01          115.73        124.98             110.49   \n",
       "3           111.66          115.86        125.33             111.09   \n",
       "4           112.35          115.93        125.83             112.51   \n",
       "\n",
       "   comunicaciones indice  recreación y cultura indice  educación indice  \\\n",
       "0                 102.08                       109.26            147.64   \n",
       "1                 102.08                       109.65            147.65   \n",
       "2                 102.08                       109.75            147.65   \n",
       "3                 102.08                       109.23            147.65   \n",
       "4                 102.74                       108.85            147.59   \n",
       "\n",
       "   restaurantes y hoteles indice  bienes y servicios diversos indice  \n",
       "0                         122.39                              118.35  \n",
       "1                         122.45                              118.62  \n",
       "2                         122.67                              118.91  \n",
       "3                         122.88                              119.09  \n",
       "4                         123.04                              119.38  "
      ],
      "text/html": "<div>\n<style scoped>\n    .dataframe tbody tr th:only-of-type {\n        vertical-align: middle;\n    }\n\n    .dataframe tbody tr th {\n        vertical-align: top;\n    }\n\n    .dataframe thead th {\n        text-align: right;\n    }\n</style>\n<table border=\"1\" class=\"dataframe\">\n  <thead>\n    <tr style=\"text-align: right;\">\n      <th></th>\n      <th>anno</th>\n      <th>periodo</th>\n      <th>alimentos y bebidas no alcohólicas indice</th>\n      <th>bebidas alcohólicas y tabaco indice</th>\n      <th>prendas de vestir y calzado indice</th>\n      <th>vivienda indice</th>\n      <th>muebles indice</th>\n      <th>salud indice</th>\n      <th>transporte indice</th>\n      <th>comunicaciones indice</th>\n      <th>recreación y cultura indice</th>\n      <th>educación indice</th>\n      <th>restaurantes y hoteles indice</th>\n      <th>bienes y servicios diversos indice</th>\n    </tr>\n  </thead>\n  <tbody>\n    <tr>\n      <th>0</th>\n      <td>2016</td>\n      <td>Enero</td>\n      <td>137.49</td>\n      <td>145.78</td>\n      <td>93.46</td>\n      <td>109.70</td>\n      <td>115.68</td>\n      <td>123.98</td>\n      <td>110.29</td>\n      <td>102.08</td>\n      <td>109.26</td>\n      <td>147.64</td>\n      <td>122.39</td>\n      <td>118.35</td>\n    </tr>\n    <tr>\n      <th>1</th>\n      <td>2016</td>\n      <td>Febrero</td>\n      <td>134.85</td>\n      <td>147.30</td>\n      <td>93.26</td>\n      <td>109.77</td>\n      <td>115.74</td>\n      <td>124.52</td>\n      <td>109.59</td>\n      <td>102.08</td>\n      <td>109.65</td>\n      <td>147.65</td>\n      <td>122.45</td>\n      <td>118.62</td>\n    </tr>\n    <tr>\n      <th>2</th>\n      <td>2016</td>\n      <td>Marzo</td>\n      <td>133.33</td>\n      <td>147.85</td>\n      <td>92.97</td>\n      <td>111.01</td>\n      <td>115.73</td>\n      <td>124.98</td>\n      <td>110.49</td>\n      <td>102.08</td>\n      <td>109.75</td>\n      <td>147.65</td>\n      <td>122.67</td>\n      <td>118.91</td>\n    </tr>\n    <tr>\n      <th>3</th>\n      <td>2016</td>\n      <td>Abril</td>\n      <td>132.13</td>\n      <td>148.12</td>\n      <td>92.24</td>\n      <td>111.66</td>\n      <td>115.86</td>\n      <td>125.33</td>\n      <td>111.09</td>\n      <td>102.08</td>\n      <td>109.23</td>\n      <td>147.65</td>\n      <td>122.88</td>\n      <td>119.09</td>\n    </tr>\n    <tr>\n      <th>4</th>\n      <td>2016</td>\n      <td>Mayo</td>\n      <td>131.61</td>\n      <td>148.38</td>\n      <td>92.65</td>\n      <td>112.35</td>\n      <td>115.93</td>\n      <td>125.83</td>\n      <td>112.51</td>\n      <td>102.74</td>\n      <td>108.85</td>\n      <td>147.59</td>\n      <td>123.04</td>\n      <td>119.38</td>\n    </tr>\n  </tbody>\n</table>\n</div>"
     },
     "metadata": {},
     "execution_count": 4
    }
   ],
   "source": [
    "time_cols = ['anno', 'período']\n",
    "\n",
    "inflation_2010_raw = load_survey_data_do(DATA_DIR / 'inflation' / 'ipc_grupos_base_2010.csv',\n",
    "                                         load_func=lambda path: pd.read_csv(str(path)))\n",
    "inflation_2010_raw = inflation_2010_raw[time_cols + canasta_alimentaria_cols + canasta_no_alimentaria_cols]\n",
    "inflation_2010_raw.rename(columns={'período': 'periodo'}, inplace=True)\n",
    "inflation_2010_raw.head()"
   ]
  },
  {
   "source": [
    "## Load annual database IPC base 2019 - 2020 = 100"
   ],
   "cell_type": "markdown",
   "metadata": {}
  },
  {
   "cell_type": "code",
   "execution_count": 5,
   "metadata": {},
   "outputs": [
    {
     "output_type": "execute_result",
     "data": {
      "text/plain": [
       "   anno  periodo  alimentos y bebidas no alcohólicas indice  \\\n",
       "0  1999    Enero                                      20.99   \n",
       "1  1999  Febrero                                      20.65   \n",
       "2  1999    Marzo                                      20.88   \n",
       "3  1999    Abril                                      20.94   \n",
       "4  1999     Mayo                                      20.79   \n",
       "\n",
       "   bebidas alcohólicas y tabaco indice  prendas de vestir y calzado indice  \\\n",
       "0                                11.47                               47.04   \n",
       "1                                11.48                               47.24   \n",
       "2                                11.76                               47.35   \n",
       "3                                12.04                               47.44   \n",
       "4                                12.08                               47.53   \n",
       "\n",
       "   vivienda indice  muebles indice  salud indice  transporte indice  \\\n",
       "0            20.85           33.48         20.15              14.17   \n",
       "1            20.92           33.69         20.47              14.17   \n",
       "2            20.98           33.79         20.57              14.17   \n",
       "3            21.04           33.91         20.68              14.17   \n",
       "4            21.08           34.01         20.80              14.18   \n",
       "\n",
       "   comunicaciones indice  recreación y cultura indice  educación indice  \\\n",
       "0                  29.31                        35.60             14.18   \n",
       "1                  29.31                        35.94             14.18   \n",
       "2                  29.31                        36.03             14.18   \n",
       "3                  29.31                        36.16             14.18   \n",
       "4                  29.31                        36.30             14.18   \n",
       "\n",
       "   restaurantes y hoteles indice  bienes y servicios diversos indice  \n",
       "0                          23.19                               27.69  \n",
       "1                          23.16                               27.95  \n",
       "2                          23.16                               28.10  \n",
       "3                          23.16                               28.21  \n",
       "4                          23.29                               28.28  "
      ],
      "text/html": "<div>\n<style scoped>\n    .dataframe tbody tr th:only-of-type {\n        vertical-align: middle;\n    }\n\n    .dataframe tbody tr th {\n        vertical-align: top;\n    }\n\n    .dataframe thead th {\n        text-align: right;\n    }\n</style>\n<table border=\"1\" class=\"dataframe\">\n  <thead>\n    <tr style=\"text-align: right;\">\n      <th></th>\n      <th>anno</th>\n      <th>periodo</th>\n      <th>alimentos y bebidas no alcohólicas indice</th>\n      <th>bebidas alcohólicas y tabaco indice</th>\n      <th>prendas de vestir y calzado indice</th>\n      <th>vivienda indice</th>\n      <th>muebles indice</th>\n      <th>salud indice</th>\n      <th>transporte indice</th>\n      <th>comunicaciones indice</th>\n      <th>recreación y cultura indice</th>\n      <th>educación indice</th>\n      <th>restaurantes y hoteles indice</th>\n      <th>bienes y servicios diversos indice</th>\n    </tr>\n  </thead>\n  <tbody>\n    <tr>\n      <th>0</th>\n      <td>1999</td>\n      <td>Enero</td>\n      <td>20.99</td>\n      <td>11.47</td>\n      <td>47.04</td>\n      <td>20.85</td>\n      <td>33.48</td>\n      <td>20.15</td>\n      <td>14.17</td>\n      <td>29.31</td>\n      <td>35.60</td>\n      <td>14.18</td>\n      <td>23.19</td>\n      <td>27.69</td>\n    </tr>\n    <tr>\n      <th>1</th>\n      <td>1999</td>\n      <td>Febrero</td>\n      <td>20.65</td>\n      <td>11.48</td>\n      <td>47.24</td>\n      <td>20.92</td>\n      <td>33.69</td>\n      <td>20.47</td>\n      <td>14.17</td>\n      <td>29.31</td>\n      <td>35.94</td>\n      <td>14.18</td>\n      <td>23.16</td>\n      <td>27.95</td>\n    </tr>\n    <tr>\n      <th>2</th>\n      <td>1999</td>\n      <td>Marzo</td>\n      <td>20.88</td>\n      <td>11.76</td>\n      <td>47.35</td>\n      <td>20.98</td>\n      <td>33.79</td>\n      <td>20.57</td>\n      <td>14.17</td>\n      <td>29.31</td>\n      <td>36.03</td>\n      <td>14.18</td>\n      <td>23.16</td>\n      <td>28.10</td>\n    </tr>\n    <tr>\n      <th>3</th>\n      <td>1999</td>\n      <td>Abril</td>\n      <td>20.94</td>\n      <td>12.04</td>\n      <td>47.44</td>\n      <td>21.04</td>\n      <td>33.91</td>\n      <td>20.68</td>\n      <td>14.17</td>\n      <td>29.31</td>\n      <td>36.16</td>\n      <td>14.18</td>\n      <td>23.16</td>\n      <td>28.21</td>\n    </tr>\n    <tr>\n      <th>4</th>\n      <td>1999</td>\n      <td>Mayo</td>\n      <td>20.79</td>\n      <td>12.08</td>\n      <td>47.53</td>\n      <td>21.08</td>\n      <td>34.01</td>\n      <td>20.80</td>\n      <td>14.18</td>\n      <td>29.31</td>\n      <td>36.30</td>\n      <td>14.18</td>\n      <td>23.29</td>\n      <td>28.28</td>\n    </tr>\n  </tbody>\n</table>\n</div>"
     },
     "metadata": {},
     "execution_count": 5
    }
   ],
   "source": [
    "time_cols = ['anno', 'periodo']\n",
    "\n",
    "inflation_19_20_raw = load_survey_data_do(DATA_DIR / 'inflation' / 'ipc_grupos_base_19_20.csv',\n",
    "                                          load_func=lambda path: pd.read_csv(str(path)))\n",
    "inflation_19_20_raw = inflation_19_20_raw[time_cols + canasta_alimentaria_cols + canasta_no_alimentaria_cols]\n",
    "inflation_19_20_raw.head()"
   ]
  },
  {
   "source": [
    "#"
   ],
   "cell_type": "markdown",
   "metadata": {}
  },
  {
   "source": [
    "# Processing databases"
   ],
   "cell_type": "markdown",
   "metadata": {}
  },
  {
   "source": [
    "## Replace Transformer\n",
    "\n",
    "* The `period` column is replaced from spanish names to the corresponding numbers.\n",
    "* A `date` column is created using `pd.to_datetime`\n",
    "* The `date` colum is set as index to easily loc a certain date"
   ],
   "cell_type": "markdown",
   "metadata": {}
  },
  {
   "cell_type": "code",
   "execution_count": 6,
   "metadata": {},
   "outputs": [],
   "source": [
    "months = ['Enero', 'Febrero', 'Marzo', 'Abril', 'Mayo', 'Junio', 'Julio', 'Agosto', 'Septiembre', 'Octubre', 'Noviembre', 'Diciembre']\n",
    "replace_months_map = {\n",
    "    'periodo': {month: str(i + 1).zfill(2) for i, month in enumerate(months)}\n",
    "}\n",
    "\n",
    "replace_months_transformer = ReplaceTransformer(replace_months_map)\n",
    "inflation_2010_replaced = replace_months_transformer.transform(inflation_2010_raw)\n",
    "inflation_19_20_replaced = replace_months_transformer.transform(inflation_19_20_raw)"
   ]
  },
  {
   "cell_type": "code",
   "execution_count": 7,
   "metadata": {},
   "outputs": [],
   "source": [
    "inflation_2010_replaced['date'] = pd.to_datetime(inflation_2010_replaced['anno'].apply(str) + inflation_2010_replaced['periodo'] + '01',\n",
    "                                                 format='%Y%m%d')\n",
    "inflation_2010_replaced = inflation_2010_replaced.set_index('date')[canasta_cols]\n",
    "\n",
    "inflation_19_20_replaced['date'] = pd.to_datetime(inflation_19_20_replaced['anno'].apply(str) + inflation_19_20_replaced['periodo'] + '01',\n",
    "                                                  format='%Y%m%d')\n",
    "inflation_19_20_replaced = inflation_19_20_replaced.set_index('date')[canasta_cols]"
   ]
  },
  {
   "source": [
    "## Base IPC 2010 database on september 2016"
   ],
   "cell_type": "markdown",
   "metadata": {}
  },
  {
   "cell_type": "code",
   "execution_count": 8,
   "metadata": {},
   "outputs": [],
   "source": [
    "inflation_2016_10_replaced = inflation_2010_replaced.astype(float) / inflation_2010_replaced.loc['2016-09-01'].astype(float)"
   ]
  },
  {
   "cell_type": "code",
   "execution_count": 9,
   "metadata": {},
   "outputs": [
    {
     "output_type": "execute_result",
     "data": {
      "text/plain": [
       "            alimentos y bebidas no alcohólicas indice  \\\n",
       "date                                                    \n",
       "2016-01-01                                   1.043013   \n",
       "2016-02-01                                   1.022986   \n",
       "2016-03-01                                   1.011455   \n",
       "2016-04-01                                   1.002352   \n",
       "2016-05-01                                   0.998407   \n",
       "2016-06-01                                   1.005083   \n",
       "2016-07-01                                   1.011607   \n",
       "2016-08-01                                   1.007890   \n",
       "2016-09-01                                   1.000000   \n",
       "2016-10-01                                   0.996359   \n",
       "\n",
       "            bebidas alcohólicas y tabaco indice  \\\n",
       "date                                              \n",
       "2016-01-01                             0.978783   \n",
       "2016-02-01                             0.988989   \n",
       "2016-03-01                             0.992682   \n",
       "2016-04-01                             0.994494   \n",
       "2016-05-01                             0.996240   \n",
       "2016-06-01                             0.997180   \n",
       "2016-07-01                             0.997986   \n",
       "2016-08-01                             0.999060   \n",
       "2016-09-01                             1.000000   \n",
       "2016-10-01                             1.000739   \n",
       "\n",
       "            prendas de vestir y calzado indice  vivienda indice  \\\n",
       "date                                                              \n",
       "2016-01-01                            1.022315         0.971312   \n",
       "2016-02-01                            1.020127         0.971932   \n",
       "2016-03-01                            1.016955         0.982911   \n",
       "2016-04-01                            1.008970         0.988667   \n",
       "2016-05-01                            1.013454         0.994776   \n",
       "2016-06-01                            1.006673         0.996547   \n",
       "2016-07-01                            1.006673         0.996901   \n",
       "2016-08-01                            1.000875         0.994865   \n",
       "2016-09-01                            1.000000         1.000000   \n",
       "2016-10-01                            0.996062         1.012307   \n",
       "\n",
       "            muebles indice  salud indice  transporte indice  \\\n",
       "date                                                          \n",
       "2016-01-01        0.994327      0.973614           0.963400   \n",
       "2016-02-01        0.994843      0.977855           0.957285   \n",
       "2016-03-01        0.994757      0.981467           0.965147   \n",
       "2016-04-01        0.995874      0.984215           0.970388   \n",
       "2016-05-01        0.996476      0.988142           0.982792   \n",
       "2016-06-01        0.998367      0.991126           1.001048   \n",
       "2016-07-01        0.999656      0.993953           0.998602   \n",
       "2016-08-01        1.000688      0.997016           0.994235   \n",
       "2016-09-01        1.000000      1.000000           1.000000   \n",
       "2016-10-01        0.999742      1.002749           1.013976   \n",
       "\n",
       "            comunicaciones indice  recreación y cultura indice  \\\n",
       "date                                                             \n",
       "2016-01-01               0.993576                     1.001650   \n",
       "2016-02-01               0.993576                     1.005226   \n",
       "2016-03-01               0.993576                     1.006142   \n",
       "2016-04-01               0.993576                     1.001375   \n",
       "2016-05-01               1.000000                     0.997891   \n",
       "2016-06-01               1.000000                     0.998717   \n",
       "2016-07-01               1.000000                     1.000183   \n",
       "2016-08-01               1.000000                     1.000642   \n",
       "2016-09-01               1.000000                     1.000000   \n",
       "2016-10-01               1.005645                     0.999908   \n",
       "\n",
       "            educación indice  restaurantes y hoteles indice  \\\n",
       "date                                                          \n",
       "2016-01-01          0.955042                       0.991333   \n",
       "2016-02-01          0.955107                       0.991819   \n",
       "2016-03-01          0.955107                       0.993601   \n",
       "2016-04-01          0.955107                       0.995302   \n",
       "2016-05-01          0.954719                       0.996598   \n",
       "2016-06-01          0.962870                       0.997246   \n",
       "2016-07-01          0.963646                       0.997813   \n",
       "2016-08-01          0.987386                       0.998704   \n",
       "2016-09-01          1.000000                       1.000000   \n",
       "2016-10-01          1.000065                       1.001296   \n",
       "\n",
       "            bienes y servicios diversos indice  \n",
       "date                                            \n",
       "2016-01-01                            0.981913  \n",
       "2016-02-01                            0.984153  \n",
       "2016-03-01                            0.986559  \n",
       "2016-04-01                            0.988053  \n",
       "2016-05-01                            0.990459  \n",
       "2016-06-01                            0.993695  \n",
       "2016-07-01                            0.995437  \n",
       "2016-08-01                            0.996930  \n",
       "2016-09-01                            1.000000  \n",
       "2016-10-01                            1.001079  "
      ],
      "text/html": "<div>\n<style scoped>\n    .dataframe tbody tr th:only-of-type {\n        vertical-align: middle;\n    }\n\n    .dataframe tbody tr th {\n        vertical-align: top;\n    }\n\n    .dataframe thead th {\n        text-align: right;\n    }\n</style>\n<table border=\"1\" class=\"dataframe\">\n  <thead>\n    <tr style=\"text-align: right;\">\n      <th></th>\n      <th>alimentos y bebidas no alcohólicas indice</th>\n      <th>bebidas alcohólicas y tabaco indice</th>\n      <th>prendas de vestir y calzado indice</th>\n      <th>vivienda indice</th>\n      <th>muebles indice</th>\n      <th>salud indice</th>\n      <th>transporte indice</th>\n      <th>comunicaciones indice</th>\n      <th>recreación y cultura indice</th>\n      <th>educación indice</th>\n      <th>restaurantes y hoteles indice</th>\n      <th>bienes y servicios diversos indice</th>\n    </tr>\n    <tr>\n      <th>date</th>\n      <th></th>\n      <th></th>\n      <th></th>\n      <th></th>\n      <th></th>\n      <th></th>\n      <th></th>\n      <th></th>\n      <th></th>\n      <th></th>\n      <th></th>\n      <th></th>\n    </tr>\n  </thead>\n  <tbody>\n    <tr>\n      <th>2016-01-01</th>\n      <td>1.043013</td>\n      <td>0.978783</td>\n      <td>1.022315</td>\n      <td>0.971312</td>\n      <td>0.994327</td>\n      <td>0.973614</td>\n      <td>0.963400</td>\n      <td>0.993576</td>\n      <td>1.001650</td>\n      <td>0.955042</td>\n      <td>0.991333</td>\n      <td>0.981913</td>\n    </tr>\n    <tr>\n      <th>2016-02-01</th>\n      <td>1.022986</td>\n      <td>0.988989</td>\n      <td>1.020127</td>\n      <td>0.971932</td>\n      <td>0.994843</td>\n      <td>0.977855</td>\n      <td>0.957285</td>\n      <td>0.993576</td>\n      <td>1.005226</td>\n      <td>0.955107</td>\n      <td>0.991819</td>\n      <td>0.984153</td>\n    </tr>\n    <tr>\n      <th>2016-03-01</th>\n      <td>1.011455</td>\n      <td>0.992682</td>\n      <td>1.016955</td>\n      <td>0.982911</td>\n      <td>0.994757</td>\n      <td>0.981467</td>\n      <td>0.965147</td>\n      <td>0.993576</td>\n      <td>1.006142</td>\n      <td>0.955107</td>\n      <td>0.993601</td>\n      <td>0.986559</td>\n    </tr>\n    <tr>\n      <th>2016-04-01</th>\n      <td>1.002352</td>\n      <td>0.994494</td>\n      <td>1.008970</td>\n      <td>0.988667</td>\n      <td>0.995874</td>\n      <td>0.984215</td>\n      <td>0.970388</td>\n      <td>0.993576</td>\n      <td>1.001375</td>\n      <td>0.955107</td>\n      <td>0.995302</td>\n      <td>0.988053</td>\n    </tr>\n    <tr>\n      <th>2016-05-01</th>\n      <td>0.998407</td>\n      <td>0.996240</td>\n      <td>1.013454</td>\n      <td>0.994776</td>\n      <td>0.996476</td>\n      <td>0.988142</td>\n      <td>0.982792</td>\n      <td>1.000000</td>\n      <td>0.997891</td>\n      <td>0.954719</td>\n      <td>0.996598</td>\n      <td>0.990459</td>\n    </tr>\n    <tr>\n      <th>2016-06-01</th>\n      <td>1.005083</td>\n      <td>0.997180</td>\n      <td>1.006673</td>\n      <td>0.996547</td>\n      <td>0.998367</td>\n      <td>0.991126</td>\n      <td>1.001048</td>\n      <td>1.000000</td>\n      <td>0.998717</td>\n      <td>0.962870</td>\n      <td>0.997246</td>\n      <td>0.993695</td>\n    </tr>\n    <tr>\n      <th>2016-07-01</th>\n      <td>1.011607</td>\n      <td>0.997986</td>\n      <td>1.006673</td>\n      <td>0.996901</td>\n      <td>0.999656</td>\n      <td>0.993953</td>\n      <td>0.998602</td>\n      <td>1.000000</td>\n      <td>1.000183</td>\n      <td>0.963646</td>\n      <td>0.997813</td>\n      <td>0.995437</td>\n    </tr>\n    <tr>\n      <th>2016-08-01</th>\n      <td>1.007890</td>\n      <td>0.999060</td>\n      <td>1.000875</td>\n      <td>0.994865</td>\n      <td>1.000688</td>\n      <td>0.997016</td>\n      <td>0.994235</td>\n      <td>1.000000</td>\n      <td>1.000642</td>\n      <td>0.987386</td>\n      <td>0.998704</td>\n      <td>0.996930</td>\n    </tr>\n    <tr>\n      <th>2016-09-01</th>\n      <td>1.000000</td>\n      <td>1.000000</td>\n      <td>1.000000</td>\n      <td>1.000000</td>\n      <td>1.000000</td>\n      <td>1.000000</td>\n      <td>1.000000</td>\n      <td>1.000000</td>\n      <td>1.000000</td>\n      <td>1.000000</td>\n      <td>1.000000</td>\n      <td>1.000000</td>\n    </tr>\n    <tr>\n      <th>2016-10-01</th>\n      <td>0.996359</td>\n      <td>1.000739</td>\n      <td>0.996062</td>\n      <td>1.012307</td>\n      <td>0.999742</td>\n      <td>1.002749</td>\n      <td>1.013976</td>\n      <td>1.005645</td>\n      <td>0.999908</td>\n      <td>1.000065</td>\n      <td>1.001296</td>\n      <td>1.001079</td>\n    </tr>\n  </tbody>\n</table>\n</div>"
     },
     "metadata": {},
     "execution_count": 9
    }
   ],
   "source": [
    "inflation_2016_10_replaced.head(10)"
   ]
  },
  {
   "cell_type": "code",
   "execution_count": 10,
   "metadata": {},
   "outputs": [
    {
     "output_type": "execute_result",
     "data": {
      "text/plain": [
       "            alimentos y bebidas no alcohólicas indice  \\\n",
       "date                                                    \n",
       "2019-12-01                                   1.145805   \n",
       "2020-01-01                                   1.152557   \n",
       "2020-02-01                                   1.153088   \n",
       "2020-03-01                                   1.151419   \n",
       "2020-04-01                                   1.145198   \n",
       "2020-05-01                                   1.124412   \n",
       "2020-06-01                                   1.147246   \n",
       "2020-07-01                                   1.181460   \n",
       "2020-08-01                                   1.189956   \n",
       "2020-09-01                                   1.202625   \n",
       "\n",
       "            bebidas alcohólicas y tabaco indice  \\\n",
       "date                                              \n",
       "2019-12-01                             1.196791   \n",
       "2020-01-01                             1.200483   \n",
       "2020-02-01                             1.211562   \n",
       "2020-03-01                             1.218947   \n",
       "2020-04-01                             1.221029   \n",
       "2020-05-01                             1.225594   \n",
       "2020-06-01                             1.230496   \n",
       "2020-07-01                             1.234860   \n",
       "2020-08-01                             1.239895   \n",
       "2020-09-01                             1.243588   \n",
       "\n",
       "            prendas de vestir y calzado indice  vivienda indice  \\\n",
       "date                                                              \n",
       "2019-12-01                            0.891490         1.076235   \n",
       "2020-01-01                            0.888099         1.069860   \n",
       "2020-02-01                            0.887005         1.066053   \n",
       "2020-03-01                            0.887771         1.053303   \n",
       "2020-04-01                            0.887880         1.049761   \n",
       "2020-05-01                            0.888646         1.062157   \n",
       "2020-06-01                            0.887005         1.087037   \n",
       "2020-07-01                            0.884489         1.095360   \n",
       "2020-08-01                            0.884380         1.106517   \n",
       "2020-09-01                            0.885145         1.110944   \n",
       "\n",
       "            muebles indice  salud indice  transporte indice  \\\n",
       "date                                                          \n",
       "2019-12-01        1.050112      1.114418           1.142558   \n",
       "2020-01-01        1.052690      1.118894           1.147013   \n",
       "2020-02-01        1.053378      1.122899           1.134085   \n",
       "2020-03-01        1.054324      1.125412           1.106394   \n",
       "2020-04-01        1.054839      1.128946           1.065252   \n",
       "2020-05-01        1.066701      1.136014           1.083071   \n",
       "2020-06-01        1.075640      1.142610           1.136618   \n",
       "2020-07-01        1.092230      1.154233           1.179245   \n",
       "2020-08-01        1.095238      1.164756           1.197065   \n",
       "2020-09-01        1.097903      1.172059           1.201695   \n",
       "\n",
       "            comunicaciones indice  recreación y cultura indice  \\\n",
       "date                                                             \n",
       "2019-12-01               1.087210                     1.037587   \n",
       "2020-01-01               1.087210                     1.047671   \n",
       "2020-02-01               1.087210                     1.048680   \n",
       "2020-03-01               1.087210                     1.048863   \n",
       "2020-04-01               1.087210                     1.049780   \n",
       "2020-05-01               1.087210                     1.054914   \n",
       "2020-06-01               1.086529                     1.064723   \n",
       "2020-07-01               1.086529                     1.071782   \n",
       "2020-08-01               1.092856                     1.071507   \n",
       "2020-09-01               1.092856                     1.070132   \n",
       "\n",
       "            educación indice  restaurantes y hoteles indice  \\\n",
       "date                                                          \n",
       "2019-12-01          1.145029                       1.069091   \n",
       "2020-01-01          1.150721                       1.072574   \n",
       "2020-02-01          1.150721                       1.074275   \n",
       "2020-03-01          1.150721                       1.075085   \n",
       "2020-04-01          1.138754                       1.075733   \n",
       "2020-05-01          1.090109                       1.080269   \n",
       "2020-06-01          1.056019                       1.085534   \n",
       "2020-07-01          1.061065                       1.094687   \n",
       "2020-08-01          1.069280                       1.098250   \n",
       "2020-09-01          1.088880                       1.101733   \n",
       "\n",
       "            bienes y servicios diversos indice  \n",
       "date                                            \n",
       "2019-12-01                            1.103045  \n",
       "2020-01-01                            1.107359  \n",
       "2020-02-01                            1.111922  \n",
       "2020-03-01                            1.115158  \n",
       "2020-04-01                            1.117730  \n",
       "2020-05-01                            1.125446  \n",
       "2020-06-01                            1.131420  \n",
       "2020-07-01                            1.138389  \n",
       "2020-08-01                            1.145607  \n",
       "2020-09-01                            1.148843  "
      ],
      "text/html": "<div>\n<style scoped>\n    .dataframe tbody tr th:only-of-type {\n        vertical-align: middle;\n    }\n\n    .dataframe tbody tr th {\n        vertical-align: top;\n    }\n\n    .dataframe thead th {\n        text-align: right;\n    }\n</style>\n<table border=\"1\" class=\"dataframe\">\n  <thead>\n    <tr style=\"text-align: right;\">\n      <th></th>\n      <th>alimentos y bebidas no alcohólicas indice</th>\n      <th>bebidas alcohólicas y tabaco indice</th>\n      <th>prendas de vestir y calzado indice</th>\n      <th>vivienda indice</th>\n      <th>muebles indice</th>\n      <th>salud indice</th>\n      <th>transporte indice</th>\n      <th>comunicaciones indice</th>\n      <th>recreación y cultura indice</th>\n      <th>educación indice</th>\n      <th>restaurantes y hoteles indice</th>\n      <th>bienes y servicios diversos indice</th>\n    </tr>\n    <tr>\n      <th>date</th>\n      <th></th>\n      <th></th>\n      <th></th>\n      <th></th>\n      <th></th>\n      <th></th>\n      <th></th>\n      <th></th>\n      <th></th>\n      <th></th>\n      <th></th>\n      <th></th>\n    </tr>\n  </thead>\n  <tbody>\n    <tr>\n      <th>2019-12-01</th>\n      <td>1.145805</td>\n      <td>1.196791</td>\n      <td>0.891490</td>\n      <td>1.076235</td>\n      <td>1.050112</td>\n      <td>1.114418</td>\n      <td>1.142558</td>\n      <td>1.087210</td>\n      <td>1.037587</td>\n      <td>1.145029</td>\n      <td>1.069091</td>\n      <td>1.103045</td>\n    </tr>\n    <tr>\n      <th>2020-01-01</th>\n      <td>1.152557</td>\n      <td>1.200483</td>\n      <td>0.888099</td>\n      <td>1.069860</td>\n      <td>1.052690</td>\n      <td>1.118894</td>\n      <td>1.147013</td>\n      <td>1.087210</td>\n      <td>1.047671</td>\n      <td>1.150721</td>\n      <td>1.072574</td>\n      <td>1.107359</td>\n    </tr>\n    <tr>\n      <th>2020-02-01</th>\n      <td>1.153088</td>\n      <td>1.211562</td>\n      <td>0.887005</td>\n      <td>1.066053</td>\n      <td>1.053378</td>\n      <td>1.122899</td>\n      <td>1.134085</td>\n      <td>1.087210</td>\n      <td>1.048680</td>\n      <td>1.150721</td>\n      <td>1.074275</td>\n      <td>1.111922</td>\n    </tr>\n    <tr>\n      <th>2020-03-01</th>\n      <td>1.151419</td>\n      <td>1.218947</td>\n      <td>0.887771</td>\n      <td>1.053303</td>\n      <td>1.054324</td>\n      <td>1.125412</td>\n      <td>1.106394</td>\n      <td>1.087210</td>\n      <td>1.048863</td>\n      <td>1.150721</td>\n      <td>1.075085</td>\n      <td>1.115158</td>\n    </tr>\n    <tr>\n      <th>2020-04-01</th>\n      <td>1.145198</td>\n      <td>1.221029</td>\n      <td>0.887880</td>\n      <td>1.049761</td>\n      <td>1.054839</td>\n      <td>1.128946</td>\n      <td>1.065252</td>\n      <td>1.087210</td>\n      <td>1.049780</td>\n      <td>1.138754</td>\n      <td>1.075733</td>\n      <td>1.117730</td>\n    </tr>\n    <tr>\n      <th>2020-05-01</th>\n      <td>1.124412</td>\n      <td>1.225594</td>\n      <td>0.888646</td>\n      <td>1.062157</td>\n      <td>1.066701</td>\n      <td>1.136014</td>\n      <td>1.083071</td>\n      <td>1.087210</td>\n      <td>1.054914</td>\n      <td>1.090109</td>\n      <td>1.080269</td>\n      <td>1.125446</td>\n    </tr>\n    <tr>\n      <th>2020-06-01</th>\n      <td>1.147246</td>\n      <td>1.230496</td>\n      <td>0.887005</td>\n      <td>1.087037</td>\n      <td>1.075640</td>\n      <td>1.142610</td>\n      <td>1.136618</td>\n      <td>1.086529</td>\n      <td>1.064723</td>\n      <td>1.056019</td>\n      <td>1.085534</td>\n      <td>1.131420</td>\n    </tr>\n    <tr>\n      <th>2020-07-01</th>\n      <td>1.181460</td>\n      <td>1.234860</td>\n      <td>0.884489</td>\n      <td>1.095360</td>\n      <td>1.092230</td>\n      <td>1.154233</td>\n      <td>1.179245</td>\n      <td>1.086529</td>\n      <td>1.071782</td>\n      <td>1.061065</td>\n      <td>1.094687</td>\n      <td>1.138389</td>\n    </tr>\n    <tr>\n      <th>2020-08-01</th>\n      <td>1.189956</td>\n      <td>1.239895</td>\n      <td>0.884380</td>\n      <td>1.106517</td>\n      <td>1.095238</td>\n      <td>1.164756</td>\n      <td>1.197065</td>\n      <td>1.092856</td>\n      <td>1.071507</td>\n      <td>1.069280</td>\n      <td>1.098250</td>\n      <td>1.145607</td>\n    </tr>\n    <tr>\n      <th>2020-09-01</th>\n      <td>1.202625</td>\n      <td>1.243588</td>\n      <td>0.885145</td>\n      <td>1.110944</td>\n      <td>1.097903</td>\n      <td>1.172059</td>\n      <td>1.201695</td>\n      <td>1.092856</td>\n      <td>1.070132</td>\n      <td>1.088880</td>\n      <td>1.101733</td>\n      <td>1.148843</td>\n    </tr>\n  </tbody>\n</table>\n</div>"
     },
     "metadata": {},
     "execution_count": 10
    }
   ],
   "source": [
    "inflation_2016_10_replaced.tail(10)"
   ]
  },
  {
   "source": [
    "## Base IPC 2019 - 2020 database on 2016"
   ],
   "cell_type": "markdown",
   "metadata": {}
  },
  {
   "cell_type": "code",
   "execution_count": 11,
   "metadata": {},
   "outputs": [],
   "source": [
    "inflation_2016_19_20_replaced = (inflation_19_20_replaced.astype(float) / inflation_19_20_replaced.loc['2020-09-01'].astype(float)) * inflation_2016_10_replaced.loc['2020-09-01']"
   ]
  },
  {
   "cell_type": "code",
   "execution_count": 12,
   "metadata": {},
   "outputs": [
    {
     "output_type": "execute_result",
     "data": {
      "text/plain": [
       "            alimentos y bebidas no alcohólicas indice  \\\n",
       "date                                                    \n",
       "2020-04-01                                   1.145180   \n",
       "2020-05-01                                   1.124365   \n",
       "2020-06-01                                   1.147157   \n",
       "2020-07-01                                   1.181461   \n",
       "2020-08-01                                   1.189950   \n",
       "2020-09-01                                   1.202625   \n",
       "2020-10-01                                   1.226928   \n",
       "2020-11-01                                   1.244720   \n",
       "2020-12-01                                   1.241580   \n",
       "2021-01-01                                   1.254837   \n",
       "\n",
       "            bebidas alcohólicas y tabaco indice  \\\n",
       "date                                              \n",
       "2020-04-01                             1.221008   \n",
       "2020-05-01                             1.225524   \n",
       "2020-06-01                             1.230406   \n",
       "2020-07-01                             1.234800   \n",
       "2020-08-01                             1.239804   \n",
       "2020-09-01                             1.243588   \n",
       "2020-10-01                             1.247738   \n",
       "2020-11-01                             1.258600   \n",
       "2020-12-01                             1.265069   \n",
       "2021-01-01                             1.277396   \n",
       "\n",
       "            prendas de vestir y calzado indice  vivienda indice  \\\n",
       "date                                                              \n",
       "2020-04-01                            0.887907         1.049747   \n",
       "2020-05-01                            0.888620         1.062073   \n",
       "2020-06-01                            0.887016         1.087049   \n",
       "2020-07-01                            0.884522         1.095266   \n",
       "2020-08-01                            0.884344         1.106511   \n",
       "2020-09-01                            0.885145         1.110944   \n",
       "2020-10-01                            0.883720         1.112890   \n",
       "2020-11-01                            0.878909         1.117215   \n",
       "2020-12-01                            0.881582         1.124675   \n",
       "2021-01-01                            0.883898         1.137109   \n",
       "\n",
       "            muebles indice  salud indice  transporte indice  \\\n",
       "date                                                          \n",
       "2020-04-01        1.054810      1.128939           1.065274   \n",
       "2020-05-01        1.066660      1.135956           1.083088   \n",
       "2020-06-01        1.075602      1.142633           1.136645   \n",
       "2020-07-01        1.092193      1.154177           1.179284   \n",
       "2020-08-01        1.095209      1.164703           1.197097   \n",
       "2020-09-01        1.097903      1.172059           1.201695   \n",
       "2020-10-01        1.102104      1.177944           1.204223   \n",
       "2020-11-01        1.105659      1.182019           1.209280   \n",
       "2020-12-01        1.109215      1.185753           1.228818   \n",
       "2021-01-01        1.112447      1.191073           1.254332   \n",
       "\n",
       "            comunicaciones indice  recreación y cultura indice  \\\n",
       "date                                                             \n",
       "2020-04-01               1.087197                     1.049760   \n",
       "2020-05-01               1.087197                     1.054932   \n",
       "2020-06-01               1.086436                     1.064749   \n",
       "2020-07-01               1.086436                     1.071821   \n",
       "2020-08-01               1.092856                     1.071504   \n",
       "2020-09-01               1.092856                     1.070132   \n",
       "2020-10-01               1.092856                     1.072560   \n",
       "2020-11-01               1.092747                     1.074882   \n",
       "2020-12-01               1.094814                     1.084171   \n",
       "2021-01-01               1.094488                     1.085332   \n",
       "\n",
       "            educación indice  restaurantes y hoteles indice  \\\n",
       "date                                                          \n",
       "2020-04-01          1.138688                       1.075656   \n",
       "2020-05-01          1.090103                       1.080201   \n",
       "2020-06-01          1.055971                       1.085503   \n",
       "2020-07-01          1.060975                       1.094592   \n",
       "2020-08-01          1.069202                       1.098163   \n",
       "2020-09-01          1.088880                       1.101733   \n",
       "2020-10-01          1.088880                       1.105953   \n",
       "2020-11-01          1.089881                       1.111364   \n",
       "2020-12-01          1.089881                       1.116774   \n",
       "2021-01-01          1.094662                       1.126837   \n",
       "\n",
       "            bienes y servicios diversos indice  \n",
       "date                                            \n",
       "2020-04-01                            1.117699  \n",
       "2020-05-01                            1.125457  \n",
       "2020-06-01                            1.131415  \n",
       "2020-07-01                            1.138386  \n",
       "2020-08-01                            1.145582  \n",
       "2020-09-01                            1.148843  \n",
       "2020-10-01                            1.152553  \n",
       "2020-11-01                            1.156938  \n",
       "2020-12-01                            1.163234  \n",
       "2021-01-01                            1.168968  "
      ],
      "text/html": "<div>\n<style scoped>\n    .dataframe tbody tr th:only-of-type {\n        vertical-align: middle;\n    }\n\n    .dataframe tbody tr th {\n        vertical-align: top;\n    }\n\n    .dataframe thead th {\n        text-align: right;\n    }\n</style>\n<table border=\"1\" class=\"dataframe\">\n  <thead>\n    <tr style=\"text-align: right;\">\n      <th></th>\n      <th>alimentos y bebidas no alcohólicas indice</th>\n      <th>bebidas alcohólicas y tabaco indice</th>\n      <th>prendas de vestir y calzado indice</th>\n      <th>vivienda indice</th>\n      <th>muebles indice</th>\n      <th>salud indice</th>\n      <th>transporte indice</th>\n      <th>comunicaciones indice</th>\n      <th>recreación y cultura indice</th>\n      <th>educación indice</th>\n      <th>restaurantes y hoteles indice</th>\n      <th>bienes y servicios diversos indice</th>\n    </tr>\n    <tr>\n      <th>date</th>\n      <th></th>\n      <th></th>\n      <th></th>\n      <th></th>\n      <th></th>\n      <th></th>\n      <th></th>\n      <th></th>\n      <th></th>\n      <th></th>\n      <th></th>\n      <th></th>\n    </tr>\n  </thead>\n  <tbody>\n    <tr>\n      <th>2020-04-01</th>\n      <td>1.145180</td>\n      <td>1.221008</td>\n      <td>0.887907</td>\n      <td>1.049747</td>\n      <td>1.054810</td>\n      <td>1.128939</td>\n      <td>1.065274</td>\n      <td>1.087197</td>\n      <td>1.049760</td>\n      <td>1.138688</td>\n      <td>1.075656</td>\n      <td>1.117699</td>\n    </tr>\n    <tr>\n      <th>2020-05-01</th>\n      <td>1.124365</td>\n      <td>1.225524</td>\n      <td>0.888620</td>\n      <td>1.062073</td>\n      <td>1.066660</td>\n      <td>1.135956</td>\n      <td>1.083088</td>\n      <td>1.087197</td>\n      <td>1.054932</td>\n      <td>1.090103</td>\n      <td>1.080201</td>\n      <td>1.125457</td>\n    </tr>\n    <tr>\n      <th>2020-06-01</th>\n      <td>1.147157</td>\n      <td>1.230406</td>\n      <td>0.887016</td>\n      <td>1.087049</td>\n      <td>1.075602</td>\n      <td>1.142633</td>\n      <td>1.136645</td>\n      <td>1.086436</td>\n      <td>1.064749</td>\n      <td>1.055971</td>\n      <td>1.085503</td>\n      <td>1.131415</td>\n    </tr>\n    <tr>\n      <th>2020-07-01</th>\n      <td>1.181461</td>\n      <td>1.234800</td>\n      <td>0.884522</td>\n      <td>1.095266</td>\n      <td>1.092193</td>\n      <td>1.154177</td>\n      <td>1.179284</td>\n      <td>1.086436</td>\n      <td>1.071821</td>\n      <td>1.060975</td>\n      <td>1.094592</td>\n      <td>1.138386</td>\n    </tr>\n    <tr>\n      <th>2020-08-01</th>\n      <td>1.189950</td>\n      <td>1.239804</td>\n      <td>0.884344</td>\n      <td>1.106511</td>\n      <td>1.095209</td>\n      <td>1.164703</td>\n      <td>1.197097</td>\n      <td>1.092856</td>\n      <td>1.071504</td>\n      <td>1.069202</td>\n      <td>1.098163</td>\n      <td>1.145582</td>\n    </tr>\n    <tr>\n      <th>2020-09-01</th>\n      <td>1.202625</td>\n      <td>1.243588</td>\n      <td>0.885145</td>\n      <td>1.110944</td>\n      <td>1.097903</td>\n      <td>1.172059</td>\n      <td>1.201695</td>\n      <td>1.092856</td>\n      <td>1.070132</td>\n      <td>1.088880</td>\n      <td>1.101733</td>\n      <td>1.148843</td>\n    </tr>\n    <tr>\n      <th>2020-10-01</th>\n      <td>1.226928</td>\n      <td>1.247738</td>\n      <td>0.883720</td>\n      <td>1.112890</td>\n      <td>1.102104</td>\n      <td>1.177944</td>\n      <td>1.204223</td>\n      <td>1.092856</td>\n      <td>1.072560</td>\n      <td>1.088880</td>\n      <td>1.105953</td>\n      <td>1.152553</td>\n    </tr>\n    <tr>\n      <th>2020-11-01</th>\n      <td>1.244720</td>\n      <td>1.258600</td>\n      <td>0.878909</td>\n      <td>1.117215</td>\n      <td>1.105659</td>\n      <td>1.182019</td>\n      <td>1.209280</td>\n      <td>1.092747</td>\n      <td>1.074882</td>\n      <td>1.089881</td>\n      <td>1.111364</td>\n      <td>1.156938</td>\n    </tr>\n    <tr>\n      <th>2020-12-01</th>\n      <td>1.241580</td>\n      <td>1.265069</td>\n      <td>0.881582</td>\n      <td>1.124675</td>\n      <td>1.109215</td>\n      <td>1.185753</td>\n      <td>1.228818</td>\n      <td>1.094814</td>\n      <td>1.084171</td>\n      <td>1.089881</td>\n      <td>1.116774</td>\n      <td>1.163234</td>\n    </tr>\n    <tr>\n      <th>2021-01-01</th>\n      <td>1.254837</td>\n      <td>1.277396</td>\n      <td>0.883898</td>\n      <td>1.137109</td>\n      <td>1.112447</td>\n      <td>1.191073</td>\n      <td>1.254332</td>\n      <td>1.094488</td>\n      <td>1.085332</td>\n      <td>1.094662</td>\n      <td>1.126837</td>\n      <td>1.168968</td>\n    </tr>\n  </tbody>\n</table>\n</div>"
     },
     "metadata": {},
     "execution_count": 12
    }
   ],
   "source": [
    "inflation_2016_19_20_replaced.tail(10)"
   ]
  },
  {
   "source": [
    "## Append databases"
   ],
   "cell_type": "markdown",
   "metadata": {}
  },
  {
   "cell_type": "code",
   "execution_count": 13,
   "metadata": {},
   "outputs": [
    {
     "output_type": "execute_result",
     "data": {
      "text/plain": [
       "            alimentos y bebidas no alcohólicas indice  \\\n",
       "date                                                    \n",
       "2020-04-01                                   1.145198   \n",
       "2020-05-01                                   1.124412   \n",
       "2020-06-01                                   1.147246   \n",
       "2020-07-01                                   1.181460   \n",
       "2020-08-01                                   1.189956   \n",
       "2020-09-01                                   1.202625   \n",
       "2020-10-01                                   1.226928   \n",
       "2020-11-01                                   1.244720   \n",
       "2020-12-01                                   1.241580   \n",
       "2021-01-01                                   1.254837   \n",
       "\n",
       "            bebidas alcohólicas y tabaco indice  \\\n",
       "date                                              \n",
       "2020-04-01                             1.221029   \n",
       "2020-05-01                             1.225594   \n",
       "2020-06-01                             1.230496   \n",
       "2020-07-01                             1.234860   \n",
       "2020-08-01                             1.239895   \n",
       "2020-09-01                             1.243588   \n",
       "2020-10-01                             1.247738   \n",
       "2020-11-01                             1.258600   \n",
       "2020-12-01                             1.265069   \n",
       "2021-01-01                             1.277396   \n",
       "\n",
       "            prendas de vestir y calzado indice  vivienda indice  \\\n",
       "date                                                              \n",
       "2020-04-01                            0.887880         1.049761   \n",
       "2020-05-01                            0.888646         1.062157   \n",
       "2020-06-01                            0.887005         1.087037   \n",
       "2020-07-01                            0.884489         1.095360   \n",
       "2020-08-01                            0.884380         1.106517   \n",
       "2020-09-01                            0.885145         1.110944   \n",
       "2020-10-01                            0.883720         1.112890   \n",
       "2020-11-01                            0.878909         1.117215   \n",
       "2020-12-01                            0.881582         1.124675   \n",
       "2021-01-01                            0.883898         1.137109   \n",
       "\n",
       "            muebles indice  salud indice  transporte indice  \\\n",
       "date                                                          \n",
       "2020-04-01        1.054839      1.128946           1.065252   \n",
       "2020-05-01        1.066701      1.136014           1.083071   \n",
       "2020-06-01        1.075640      1.142610           1.136618   \n",
       "2020-07-01        1.092230      1.154233           1.179245   \n",
       "2020-08-01        1.095238      1.164756           1.197065   \n",
       "2020-09-01        1.097903      1.172059           1.201695   \n",
       "2020-10-01        1.102104      1.177944           1.204223   \n",
       "2020-11-01        1.105659      1.182019           1.209280   \n",
       "2020-12-01        1.109215      1.185753           1.228818   \n",
       "2021-01-01        1.112447      1.191073           1.254332   \n",
       "\n",
       "            comunicaciones indice  recreación y cultura indice  \\\n",
       "date                                                             \n",
       "2020-04-01               1.087210                     1.049780   \n",
       "2020-05-01               1.087210                     1.054914   \n",
       "2020-06-01               1.086529                     1.064723   \n",
       "2020-07-01               1.086529                     1.071782   \n",
       "2020-08-01               1.092856                     1.071507   \n",
       "2020-09-01               1.092856                     1.070132   \n",
       "2020-10-01               1.092856                     1.072560   \n",
       "2020-11-01               1.092747                     1.074882   \n",
       "2020-12-01               1.094814                     1.084171   \n",
       "2021-01-01               1.094488                     1.085332   \n",
       "\n",
       "            educación indice  restaurantes y hoteles indice  \\\n",
       "date                                                          \n",
       "2020-04-01          1.138754                       1.075733   \n",
       "2020-05-01          1.090109                       1.080269   \n",
       "2020-06-01          1.056019                       1.085534   \n",
       "2020-07-01          1.061065                       1.094687   \n",
       "2020-08-01          1.069280                       1.098250   \n",
       "2020-09-01          1.088880                       1.101733   \n",
       "2020-10-01          1.088880                       1.105953   \n",
       "2020-11-01          1.089881                       1.111364   \n",
       "2020-12-01          1.089881                       1.116774   \n",
       "2021-01-01          1.094662                       1.126837   \n",
       "\n",
       "            bienes y servicios diversos indice  \n",
       "date                                            \n",
       "2020-04-01                            1.117730  \n",
       "2020-05-01                            1.125446  \n",
       "2020-06-01                            1.131420  \n",
       "2020-07-01                            1.138389  \n",
       "2020-08-01                            1.145607  \n",
       "2020-09-01                            1.148843  \n",
       "2020-10-01                            1.152553  \n",
       "2020-11-01                            1.156938  \n",
       "2020-12-01                            1.163234  \n",
       "2021-01-01                            1.168968  "
      ],
      "text/html": "<div>\n<style scoped>\n    .dataframe tbody tr th:only-of-type {\n        vertical-align: middle;\n    }\n\n    .dataframe tbody tr th {\n        vertical-align: top;\n    }\n\n    .dataframe thead th {\n        text-align: right;\n    }\n</style>\n<table border=\"1\" class=\"dataframe\">\n  <thead>\n    <tr style=\"text-align: right;\">\n      <th></th>\n      <th>alimentos y bebidas no alcohólicas indice</th>\n      <th>bebidas alcohólicas y tabaco indice</th>\n      <th>prendas de vestir y calzado indice</th>\n      <th>vivienda indice</th>\n      <th>muebles indice</th>\n      <th>salud indice</th>\n      <th>transporte indice</th>\n      <th>comunicaciones indice</th>\n      <th>recreación y cultura indice</th>\n      <th>educación indice</th>\n      <th>restaurantes y hoteles indice</th>\n      <th>bienes y servicios diversos indice</th>\n    </tr>\n    <tr>\n      <th>date</th>\n      <th></th>\n      <th></th>\n      <th></th>\n      <th></th>\n      <th></th>\n      <th></th>\n      <th></th>\n      <th></th>\n      <th></th>\n      <th></th>\n      <th></th>\n      <th></th>\n    </tr>\n  </thead>\n  <tbody>\n    <tr>\n      <th>2020-04-01</th>\n      <td>1.145198</td>\n      <td>1.221029</td>\n      <td>0.887880</td>\n      <td>1.049761</td>\n      <td>1.054839</td>\n      <td>1.128946</td>\n      <td>1.065252</td>\n      <td>1.087210</td>\n      <td>1.049780</td>\n      <td>1.138754</td>\n      <td>1.075733</td>\n      <td>1.117730</td>\n    </tr>\n    <tr>\n      <th>2020-05-01</th>\n      <td>1.124412</td>\n      <td>1.225594</td>\n      <td>0.888646</td>\n      <td>1.062157</td>\n      <td>1.066701</td>\n      <td>1.136014</td>\n      <td>1.083071</td>\n      <td>1.087210</td>\n      <td>1.054914</td>\n      <td>1.090109</td>\n      <td>1.080269</td>\n      <td>1.125446</td>\n    </tr>\n    <tr>\n      <th>2020-06-01</th>\n      <td>1.147246</td>\n      <td>1.230496</td>\n      <td>0.887005</td>\n      <td>1.087037</td>\n      <td>1.075640</td>\n      <td>1.142610</td>\n      <td>1.136618</td>\n      <td>1.086529</td>\n      <td>1.064723</td>\n      <td>1.056019</td>\n      <td>1.085534</td>\n      <td>1.131420</td>\n    </tr>\n    <tr>\n      <th>2020-07-01</th>\n      <td>1.181460</td>\n      <td>1.234860</td>\n      <td>0.884489</td>\n      <td>1.095360</td>\n      <td>1.092230</td>\n      <td>1.154233</td>\n      <td>1.179245</td>\n      <td>1.086529</td>\n      <td>1.071782</td>\n      <td>1.061065</td>\n      <td>1.094687</td>\n      <td>1.138389</td>\n    </tr>\n    <tr>\n      <th>2020-08-01</th>\n      <td>1.189956</td>\n      <td>1.239895</td>\n      <td>0.884380</td>\n      <td>1.106517</td>\n      <td>1.095238</td>\n      <td>1.164756</td>\n      <td>1.197065</td>\n      <td>1.092856</td>\n      <td>1.071507</td>\n      <td>1.069280</td>\n      <td>1.098250</td>\n      <td>1.145607</td>\n    </tr>\n    <tr>\n      <th>2020-09-01</th>\n      <td>1.202625</td>\n      <td>1.243588</td>\n      <td>0.885145</td>\n      <td>1.110944</td>\n      <td>1.097903</td>\n      <td>1.172059</td>\n      <td>1.201695</td>\n      <td>1.092856</td>\n      <td>1.070132</td>\n      <td>1.088880</td>\n      <td>1.101733</td>\n      <td>1.148843</td>\n    </tr>\n    <tr>\n      <th>2020-10-01</th>\n      <td>1.226928</td>\n      <td>1.247738</td>\n      <td>0.883720</td>\n      <td>1.112890</td>\n      <td>1.102104</td>\n      <td>1.177944</td>\n      <td>1.204223</td>\n      <td>1.092856</td>\n      <td>1.072560</td>\n      <td>1.088880</td>\n      <td>1.105953</td>\n      <td>1.152553</td>\n    </tr>\n    <tr>\n      <th>2020-11-01</th>\n      <td>1.244720</td>\n      <td>1.258600</td>\n      <td>0.878909</td>\n      <td>1.117215</td>\n      <td>1.105659</td>\n      <td>1.182019</td>\n      <td>1.209280</td>\n      <td>1.092747</td>\n      <td>1.074882</td>\n      <td>1.089881</td>\n      <td>1.111364</td>\n      <td>1.156938</td>\n    </tr>\n    <tr>\n      <th>2020-12-01</th>\n      <td>1.241580</td>\n      <td>1.265069</td>\n      <td>0.881582</td>\n      <td>1.124675</td>\n      <td>1.109215</td>\n      <td>1.185753</td>\n      <td>1.228818</td>\n      <td>1.094814</td>\n      <td>1.084171</td>\n      <td>1.089881</td>\n      <td>1.116774</td>\n      <td>1.163234</td>\n    </tr>\n    <tr>\n      <th>2021-01-01</th>\n      <td>1.254837</td>\n      <td>1.277396</td>\n      <td>0.883898</td>\n      <td>1.137109</td>\n      <td>1.112447</td>\n      <td>1.191073</td>\n      <td>1.254332</td>\n      <td>1.094488</td>\n      <td>1.085332</td>\n      <td>1.094662</td>\n      <td>1.126837</td>\n      <td>1.168968</td>\n    </tr>\n  </tbody>\n</table>\n</div>"
     },
     "metadata": {},
     "execution_count": 13
    }
   ],
   "source": [
    "inflation_2016_appended = inflation_2016_10_replaced.append(inflation_2016_19_20_replaced.loc['2020-10-01':'2021-01-01'])\n",
    "inflation_2016_appended.tail(10)"
   ]
  },
  {
   "source": [
    "## Calculate inflation for basic basket"
   ],
   "cell_type": "markdown",
   "metadata": {}
  },
  {
   "cell_type": "code",
   "execution_count": 15,
   "metadata": {},
   "outputs": [],
   "source": [
    "inflation_basket_2016_assign_map = {\n",
    "    'alimentaria': lambda df, cols=canasta_alimentaria_cols: df[cols],\n",
    "    'no_alimentaria': lambda df, cols=canasta_no_alimentaria_cols: gmean(df[cols], axis=1),\n",
    "    'ampliada': lambda df, cols=canasta_cols: gmean(df[cols], axis=1)\n",
    "}\n",
    "\n",
    "inflation_basket_2016_assign_transformer = AssignTransformer(inflation_basket_2016_assign_map)\n",
    "inflation_basket_2016_assigned = inflation_basket_2016_assign_transformer.transform(inflation_2016_appended)"
   ]
  },
  {
   "cell_type": "code",
   "execution_count": 16,
   "metadata": {},
   "outputs": [],
   "source": [
    "basket_cols = ['alimentaria', 'no_alimentaria', 'ampliada']\n",
    "inflation_basket_2016_final = inflation_basket_2016_assigned[basket_cols]"
   ]
  },
  {
   "cell_type": "code",
   "execution_count": 17,
   "metadata": {},
   "outputs": [
    {
     "output_type": "execute_result",
     "data": {
      "text/plain": [
       "            alimentaria  no_alimentaria  ampliada\n",
       "date                                             \n",
       "2020-09-01     1.202625        1.106626  1.114324\n",
       "2020-10-01     1.226928        1.109014  1.118391\n",
       "2020-11-01     1.244720        1.112003  1.122500\n",
       "2020-12-01     1.241580        1.117881  1.127701\n",
       "2021-01-01     1.254837        1.125047  1.135330"
      ],
      "text/html": "<div>\n<style scoped>\n    .dataframe tbody tr th:only-of-type {\n        vertical-align: middle;\n    }\n\n    .dataframe tbody tr th {\n        vertical-align: top;\n    }\n\n    .dataframe thead th {\n        text-align: right;\n    }\n</style>\n<table border=\"1\" class=\"dataframe\">\n  <thead>\n    <tr style=\"text-align: right;\">\n      <th></th>\n      <th>alimentaria</th>\n      <th>no_alimentaria</th>\n      <th>ampliada</th>\n    </tr>\n    <tr>\n      <th>date</th>\n      <th></th>\n      <th></th>\n      <th></th>\n    </tr>\n  </thead>\n  <tbody>\n    <tr>\n      <th>2020-09-01</th>\n      <td>1.202625</td>\n      <td>1.106626</td>\n      <td>1.114324</td>\n    </tr>\n    <tr>\n      <th>2020-10-01</th>\n      <td>1.226928</td>\n      <td>1.109014</td>\n      <td>1.118391</td>\n    </tr>\n    <tr>\n      <th>2020-11-01</th>\n      <td>1.244720</td>\n      <td>1.112003</td>\n      <td>1.122500</td>\n    </tr>\n    <tr>\n      <th>2020-12-01</th>\n      <td>1.241580</td>\n      <td>1.117881</td>\n      <td>1.127701</td>\n    </tr>\n    <tr>\n      <th>2021-01-01</th>\n      <td>1.254837</td>\n      <td>1.125047</td>\n      <td>1.135330</td>\n    </tr>\n  </tbody>\n</table>\n</div>"
     },
     "metadata": {},
     "execution_count": 17
    }
   ],
   "source": [
    "inflation_basket_2016_final.tail()"
   ]
  },
  {
   "source": [
    "# Save IPC base 2016"
   ],
   "cell_type": "markdown",
   "metadata": {}
  },
  {
   "cell_type": "code",
   "execution_count": 19,
   "metadata": {},
   "outputs": [],
   "source": [
    "save_survey_with_pickle(inflation_basket_2016_final, DATA_DIR / 'inflation' / 'object' / 'inflation_basket_2016.pkl')"
   ]
  },
  {
   "cell_type": "code",
   "execution_count": null,
   "metadata": {},
   "outputs": [],
   "source": [
    "inflation = inflation_basket_2016_final['2020-10-01']\n",
    "urbana = inflation * 2167.16\n",
    "rural = inflation * 2076.49\n",
    "print(f'urbana - {urbana}\\nrural - {rural}')"
   ]
  }
 ]
}