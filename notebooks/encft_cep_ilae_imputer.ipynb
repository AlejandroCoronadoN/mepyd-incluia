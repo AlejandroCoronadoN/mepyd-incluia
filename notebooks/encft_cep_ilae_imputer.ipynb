{
 "metadata": {
  "language_info": {
   "codemirror_mode": {
    "name": "ipython",
    "version": 3
   },
   "file_extension": ".py",
   "mimetype": "text/x-python",
   "name": "python",
   "nbconvert_exporter": "python",
   "pygments_lexer": "ipython3",
   "version": "3.7.9-final"
  },
  "orig_nbformat": 2,
  "kernelspec": {
   "name": "python3",
   "display_name": "Python 3",
   "language": "python"
  }
 },
 "nbformat": 4,
 "nbformat_minor": 2,
 "cells": [
  {
   "cell_type": "code",
   "execution_count": 12,
   "metadata": {},
   "outputs": [
    {
     "output_type": "stream",
     "name": "stdout",
     "text": [
      "The autoreload extension is already loaded. To reload it, use:\n  %reload_ext autoreload\n"
     ]
    }
   ],
   "source": [
    "%load_ext autoreload\n",
    "%autoreload 2"
   ]
  },
  {
   "cell_type": "code",
   "execution_count": 13,
   "metadata": {},
   "outputs": [],
   "source": [
    "import sys\n",
    "import importlib\n",
    "\n",
    "import itertools as it\n",
    "import matplotlib.pyplot as plt\n",
    "import seaborn as sns\n",
    "import pandas as pd\n",
    "import numpy as np\n",
    "import statsmodels.api as sm\n",
    "\n",
    "from itertools import product\n",
    "from sklearn.pipeline import make_pipeline\n",
    "\n",
    "from criteriaetl.utils.expansion_func import (get_value_counts_with_expansion_factor,\n",
    "    get_percentage_table_with_expansion_factor)\n",
    "from criteriaetl.utils.display_func import cdisplay, percentage_count_plot\n",
    "from criteriaetl.utils.common_func import (get_weighted_complete_randomization_series_on_subset, \n",
    "    proportional_cut, weighted_qcut, get_partition_bool_columns_dict)\n",
    "from criteriaetl.transformers.columns_base import (NameTransformer, \n",
    "    ReplaceTransformer, SelectTransformer, AssignTransformer)\n",
    "from criteriaetl.transformers.rows_base import AggregateTransformer\n",
    "from criteriaetl.transformers.fusion_base import MergeTransformer\n",
    "\n",
    "from projectetl.utils.dataload import (load_survey_data_do, save_survey_with_pickle,\n",
    "                                       load_survey_from_pickle)\n",
    "from projectetl.utils.config import (ENCFT_SURVEY_PATH, ENCFT_PREVIOUS_SURVEY_PATH,\n",
    "                                     ENCFT_OBJECT_DIR, INFLATION_OBJECT_DIR, DATA_DIR,\n",
    "                                     INFLATION_DIR)\n",
    "from projectetl.utils import split_survey_by"
   ]
  },
  {
   "cell_type": "code",
   "execution_count": 14,
   "metadata": {},
   "outputs": [],
   "source": [
    "get_raw = 0 # if 1 will read the raw data, if 0 will load the data from a previously serialized pickle object\n",
    "year = 2020 # year we want to analyze\n",
    "month = 6 # month to analyze\n",
    "trimester = 2 # trimester of the year we want to analyze"
   ]
  },
  {
   "cell_type": "code",
   "execution_count": 15,
   "metadata": {},
   "outputs": [],
   "source": [
    "if get_raw:\n",
    "    survey_raw = load_survey_data_do(ENCFT_SURVEY_PATH)\n",
    "    save_survey_with_pickle(survey_raw, ENCFT_OBJECT_DIR / 'encft202001-202004.pkl')\n",
    "else:\n",
    "    survey_raw = load_survey_from_pickle(ENCFT_OBJECT_DIR / 'encft202001-202004.pkl')"
   ]
  },
  {
   "cell_type": "code",
   "execution_count": 16,
   "metadata": {},
   "outputs": [],
   "source": [
    "survey_household_raw = survey_raw['Hogar']\n",
    "survey_member_raw = survey_raw['Miembros']\n",
    "survey_house_raw = survey_raw['Vivienda']"
   ]
  },
  {
   "cell_type": "code",
   "execution_count": 17,
   "metadata": {},
   "outputs": [],
   "source": [
    "# split constants\n",
    "column_name = 'trimestre'\n",
    "values = [20201, 20202, 20203, 20204]"
   ]
  },
  {
   "cell_type": "code",
   "execution_count": 18,
   "metadata": {},
   "outputs": [],
   "source": [
    "# split household surveys\n",
    "survey_household_raw_01, survey_household_raw_02, \\\n",
    "    survey_household_raw_03, survey_household_raw_04 = split_survey_by(survey_household_raw,\n",
    "                                                                       column_name,\n",
    "                                                                       values)"
   ]
  },
  {
   "cell_type": "code",
   "execution_count": 19,
   "metadata": {},
   "outputs": [],
   "source": [
    "# split member surveys\n",
    "survey_member_raw_01, survey_member_raw_02, \\\n",
    "    survey_member_raw_03, survey_member_raw_04 = split_survey_by(survey_member_raw,\n",
    "                                                                 column_name,\n",
    "                                                                 values)"
   ]
  },
  {
   "cell_type": "code",
   "execution_count": 20,
   "metadata": {},
   "outputs": [],
   "source": [
    "# Current survey\n",
    "survey_member_raw = locals().get(f'survey_member_raw_0{trimester}')\n",
    "survey_household_raw = locals().get(f'survey_household_raw_0{trimester}')"
   ]
  },
  {
   "cell_type": "code",
   "execution_count": 21,
   "metadata": {},
   "outputs": [],
   "source": [
    "# Previous survey\n",
    "survey_member_previous = locals().get(f'survey_member_raw_0{trimester - 1}')"
   ]
  },
  {
   "source": [
    "# Processing previous trimester"
   ],
   "cell_type": "markdown",
   "metadata": {}
  },
  {
   "cell_type": "code",
   "execution_count": 22,
   "metadata": {},
   "outputs": [],
   "source": [
    "trimester_previous = trimester - 1\n",
    "social_programs_cols = [\n",
    "    'comer_primero', 'inc_asis_escolar',\n",
    "    'bono_luz', 'bonogas_choferes', \n",
    "    'bonogas_hogares', 'proteccion_vejez',\n",
    "    'bono_estudiante_prog', 'inc_educacion_sup',\n",
    "    'inc_policia_prev', 'inc_marina_guerra'\n",
    "]\n",
    "social_programs_covid_cols = [\n",
    "    'quedate_en_casa', 'fondo_asistencia_fase',\n",
    "    'programa_pati'\n",
    "]"
   ]
  },
  {
   "source": [
    "## Aggregate Transformer"
   ],
   "cell_type": "markdown",
   "metadata": {}
  },
  {
   "cell_type": "code",
   "execution_count": 23,
   "metadata": {},
   "outputs": [],
   "source": [
    "aggregate_previous_map = {\n",
    "    'sum': [\n",
    "        *[f'gob_{sp}_monto' for sp in social_programs_cols],\n",
    "        *[f'gob_{sp}' for sp in social_programs_covid_cols]\n",
    "    ]\n",
    "}\n",
    "key = 'id_hogar'\n",
    "\n",
    "aggregate_previous_transformer = AggregateTransformer(aggregate_previous_map, groupby_=key, keep_first=[])\n",
    "survey_previous_aggregated = aggregate_previous_transformer.transform(survey_member_previous)"
   ]
  },
  {
   "source": [
    "# Processing current trimester"
   ],
   "cell_type": "markdown",
   "metadata": {}
  },
  {
   "source": [
    "## Assign Transformer"
   ],
   "cell_type": "markdown",
   "metadata": {}
  },
  {
   "cell_type": "code",
   "execution_count": 24,
   "metadata": {},
   "outputs": [],
   "source": [
    "assign_current_map = {\n",
    "    **{\n",
    "        f'recibio_{sp}': lambda df, sp=sp: df[f'gob_{sp}_monto'] > 0.0\n",
    "        for sp in social_programs_cols\n",
    "    },\n",
    "    **{\n",
    "        f'recibio_{sp}': lambda df, sp=sp: df[f'gob_{sp}'] > 0.0\n",
    "        for sp in social_programs_covid_cols\n",
    "    }\n",
    "}\n",
    "\n",
    "assign_current_transformer = AssignTransformer(assign_current_map)\n",
    "survey_current_assigned = assign_current_transformer.transform(survey_member_raw)"
   ]
  },
  {
   "source": [
    "## Aggregate Transformer"
   ],
   "cell_type": "markdown",
   "metadata": {}
  },
  {
   "cell_type": "code",
   "execution_count": 25,
   "metadata": {},
   "outputs": [],
   "source": [
    "aggregate_current_map = {\n",
    "    'sum': [\n",
    "        *[f'gob_{sp}_monto' for sp in social_programs_cols],\n",
    "        *[f'gob_{sp}' for sp in social_programs_covid_cols]\n",
    "    ],\n",
    "    'any': [\n",
    "        f'recibio_{sp}'\n",
    "        for sp in social_programs_cols + social_programs_covid_cols\n",
    "    ]\n",
    "}\n",
    "\n",
    "aggregate_current_transformer = AggregateTransformer(aggregate_current_map, groupby_=key, keep_first=['factor_expansion'])\n",
    "survey_current_aggregated = aggregate_current_transformer.transform(survey_current_assigned)"
   ]
  },
  {
   "source": [
    "## Merge Transformer"
   ],
   "cell_type": "markdown",
   "metadata": {}
  },
  {
   "cell_type": "code",
   "execution_count": 26,
   "metadata": {},
   "outputs": [],
   "source": [
    "merge_current_previous_transformer = MergeTransformer(lambda : survey_previous_aggregated,\n",
    "                                                      merge_kwargs={\n",
    "                                                          'on': key,\n",
    "                                                          'suffixes': ('', f'_{trimester_previous}')})\n",
    "merge_current_household =  MergeTransformer(lambda : survey_household_raw,\n",
    "                                            merge_kwargs={'on': key})\n",
    "survey_current_merged = make_pipeline(\n",
    "        merge_current_previous_transformer,\n",
    "        merge_current_household\n",
    "    ).transform(survey_current_aggregated)"
   ]
  },
  {
   "cell_type": "code",
   "execution_count": 27,
   "metadata": {},
   "outputs": [
    {
     "output_type": "display_data",
     "data": {
      "text/plain": "   id_hogar  factor_expansion_first  gob_comer_primero_monto_sum  \\\n0      1007              654.403718                          0.0   \n1      2006              654.403718                          0.0   \n2      3008              654.403718                       1000.0   \n3      6006              654.403718                        825.0   \n4      7006              654.403718                          0.0   \n\n   gob_inc_asis_escolar_monto_sum  gob_bono_luz_monto_sum  \\\n0                             0.0                     0.0   \n1                             0.0                     0.0   \n2                             0.0                   444.0   \n3                             0.0                     0.0   \n4                             0.0                     0.0   \n\n   gob_bonogas_choferes_monto_sum  gob_bonogas_hogares_monto_sum  \\\n0                             0.0                            0.0   \n1                             0.0                            0.0   \n2                             0.0                          228.0   \n3                             0.0                          228.0   \n4                             0.0                            0.0   \n\n   gob_proteccion_vejez_monto_sum  gob_bono_estudiante_prog_monto_sum  \\\n0                             0.0                                 0.0   \n1                             0.0                                 0.0   \n2                             0.0                                 0.0   \n3                             0.0                                 0.0   \n4                             0.0                                 0.0   \n\n   gob_inc_educacion_sup_monto_sum  gob_inc_policia_prev_monto_sum  \\\n0                              0.0                             0.0   \n1                              0.0                             0.0   \n2                              0.0                             0.0   \n3                              0.0                             0.0   \n4                              0.0                             0.0   \n\n   gob_inc_marina_guerra_monto_sum  gob_quedate_en_casa_sum  \\\n0                              0.0                      0.0   \n1                              0.0                      0.0   \n2                              0.0                      0.0   \n3                              0.0                      0.0   \n4                              0.0                      0.0   \n\n   gob_fondo_asistencia_fase_sum  gob_programa_pati_sum  \\\n0                            0.0                    0.0   \n1                            0.0                    0.0   \n2                            0.0                    0.0   \n3                            0.0                    0.0   \n4                            0.0                    0.0   \n\n   recibio_comer_primero_any  recibio_inc_asis_escolar_any  \\\n0                      False                         False   \n1                      False                         False   \n2                       True                         False   \n3                       True                         False   \n4                      False                         False   \n\n   recibio_bono_luz_any  recibio_bonogas_choferes_any  \\\n0                 False                         False   \n1                 False                         False   \n2                  True                         False   \n3                 False                         False   \n4                 False                         False   \n\n   recibio_bonogas_hogares_any  recibio_proteccion_vejez_any  \\\n0                        False                         False   \n1                        False                         False   \n2                         True                         False   \n3                         True                         False   \n4                        False                         False   \n\n   recibio_bono_estudiante_prog_any  recibio_inc_educacion_sup_any  \\\n0                             False                          False   \n1                             False                          False   \n2                             False                          False   \n3                             False                          False   \n4                             False                          False   \n\n   recibio_inc_policia_prev_any  recibio_inc_marina_guerra_any  \\\n0                         False                          False   \n1                         False                          False   \n2                         False                          False   \n3                         False                          False   \n4                         False                          False   \n\n   recibio_quedate_en_casa_any  recibio_fondo_asistencia_fase_any  \\\n0                        False                              False   \n1                        False                              False   \n2                        False                              False   \n3                        False                              False   \n4                        False                              False   \n\n   recibio_programa_pati_any  gob_comer_primero_monto_sum_1  \\\n0                      False                            0.0   \n1                      False                            0.0   \n2                      False                         1000.0   \n3                      False                          825.0   \n4                      False                            0.0   \n\n   gob_inc_asis_escolar_monto_sum_1  gob_bono_luz_monto_sum_1  \\\n0                               0.0                       0.0   \n1                               0.0                       0.0   \n2                               0.0                     444.0   \n3                               0.0                       0.0   \n4                               0.0                       0.0   \n\n   gob_bonogas_choferes_monto_sum_1  gob_bonogas_hogares_monto_sum_1  \\\n0                               0.0                              0.0   \n1                               0.0                              0.0   \n2                               0.0                            228.0   \n3                               0.0                            228.0   \n4                               0.0                              0.0   \n\n   gob_proteccion_vejez_monto_sum_1  gob_bono_estudiante_prog_monto_sum_1  \\\n0                               0.0                                   0.0   \n1                               0.0                                   0.0   \n2                               0.0                                   0.0   \n3                               0.0                                   0.0   \n4                               0.0                                   0.0   \n\n   gob_inc_educacion_sup_monto_sum_1  gob_inc_policia_prev_monto_sum_1  \\\n0                                0.0                               0.0   \n1                                0.0                               0.0   \n2                                0.0                               0.0   \n3                                0.0                               0.0   \n4                                0.0                               0.0   \n\n   gob_inc_marina_guerra_monto_sum_1  gob_quedate_en_casa_sum_1  \\\n0                                0.0                        0.0   \n1                                0.0                        0.0   \n2                                0.0                        0.0   \n3                                0.0                        0.0   \n4                                0.0                        0.0   \n\n   gob_fondo_asistencia_fase_sum_1  gob_programa_pati_sum_1  trimestre  \\\n0                              0.0                      0.0      20202   \n1                              0.0                      0.0      20202   \n2                              0.0                      0.0      20202   \n3                              0.0                      0.0      20202   \n4                              0.0                      0.0      20202   \n\n   periodo                   des_periodo  orden_region        grupo_region  \\\n0   202004  Encuesta Continua Abril 2020             1  Gran Santo Domingo   \n1   202004  Encuesta Continua Abril 2020             1  Gran Santo Domingo   \n2   202004  Encuesta Continua Abril 2020             1  Gran Santo Domingo   \n3   202004  Encuesta Continua Abril 2020             1  Gran Santo Domingo   \n4   202004  Encuesta Continua Abril 2020             1  Gran Santo Domingo   \n\n   estrato        des_estrato  upm   ano  mes  vivienda  hogar  \\\n0        1  DISTRITO NACIONAL    1  2020    4         1      1   \n1        1  DISTRITO NACIONAL    1  2020    4         2      1   \n2        1  DISTRITO NACIONAL    1  2020    4         3      1   \n3        1  DISTRITO NACIONAL    1  2020    4         6      1   \n4        1  DISTRITO NACIONAL    1  2020    4         7      1   \n\n   factor_expansion  id_provincia      des_provincia  id_municipio  \\\n0        654.403718             1  DISTRITO NACIONAL           101   \n1        654.403718             1  DISTRITO NACIONAL           101   \n2        654.403718             1  DISTRITO NACIONAL           101   \n3        654.403718             1  DISTRITO NACIONAL           101   \n4        654.403718             1  DISTRITO NACIONAL           101   \n\n             des_municipio  zona  hogar_1 barrio_seccion  rotacion_hogar  \\\n0  SANTO DOMINGO DE GUZMAN     1        1  LOS PERALEJOS               0   \n1  SANTO DOMINGO DE GUZMAN     1        1  LOS PERALEJOS               0   \n2  SANTO DOMINGO DE GUZMAN     1        1  LOS PERALEJOS               0   \n3  SANTO DOMINGO DE GUZMAN     1        1  LOS PERALEJOS               0   \n4  SANTO DOMINGO DE GUZMAN     1        1  LOS PERALEJOS               0   \n\n   encuestado_anteriormente  donde_proviene_agua donde_proviene_agua_esp  \\\n0                         1                  1.0                     NaN   \n1                         1                  1.0                     NaN   \n2                         1                  1.0                     NaN   \n3                         1                  1.0                     NaN   \n4                         1                  2.0                     NaN   \n\n   ubicacion_cocina  combustible_para_cocinar  combustible_para_cocinar_esp  \\\n0                 1                         1                           NaN   \n1                 1                         1                           NaN   \n2                 1                         1                           NaN   \n3                 1                         1                           NaN   \n4                 1                         1                           NaN   \n\n   gasto_prom_combustible_cocina  no_tiene_ninguno  radio  televisor  estufa  \\\n0                          400.0                 2      1          1       1   \n1                          900.0                 2      1          1       1   \n2                          828.0                 2      1          1       1   \n3                          928.0                 2      1          1       1   \n4                          600.0                 2      1          1       1   \n\n   refrigerador  lavadora  calentador  plancha_electrica  aire_acondicionado  \\\n0             1         1           2                  1                   2   \n1             1         1           2                  1                   1   \n2             1         1           2                  2                   2   \n3             1         1           2                  1                   2   \n4             1         1           2                  2                   2   \n\n   telefono  celular  aspirador_electrico  maquina_de_coser  licuadora  \\\n0         2        1                    2                 2          1   \n1         1        1                    2                 1          1   \n2         2        1                    2                 2          1   \n3         2        1                    2                 2          1   \n4         2        1                    2                 2          1   \n\n   internet  automovil  motocicleta  abanico_electrico  planta_electrica  \\\n0         1          1            2                  1                 2   \n1         1          1            2                  1                 2   \n2         2          2            1                  1                 2   \n3         1          2            2                  1                 2   \n4         2          2            2                  1                 2   \n\n   horno_electrico  horno_microondas  inversor  computador  parabola  dvd  \\\n0                2                 2         2           2         2    2   \n1                2                 2         2           2         2    2   \n2                2                 2         2           2         2    2   \n3                2                 2         2           2         2    2   \n4                2                 2         2           2         2    2   \n\n   camara_video  tostadora  tableta_electronica  otro otro_esp  \\\n0             2          2                    2     2      NaN   \n1             2          2                    2     2      NaN   \n2             2          2                    2     2      NaN   \n3             2          2                    2     2      NaN   \n4             2          2                    2     2      NaN   \n\n   no_es_beneficiario  ps_comer_es_primero  ps_incentivo_asist_escolar  \\\n0                   1                    2                           2   \n1                   1                    2                           2   \n2                   2                    1                           2   \n3                   2                    1                           2   \n4                   1                    2                           2   \n\n   ps_apoyo_adultos_mayores  ps_bono_luz  ps_bono_gas  bono_gas_choferes  \\\n0                         2            2            2                  2   \n1                         2            2            2                  2   \n2                         2            1            1                  2   \n3                         2            2            1                  2   \n4                         2            2            2                  2   \n\n   ps_chispita_solidaridad  incentivo_educacion_superior  \\\n0                        2                             2   \n1                        2                             2   \n2                        2                             2   \n3                        2                             2   \n4                        2                             2   \n\n   bono_escolar_estudiante_prog  prog_incentivo_policia_prev  \\\n0                             2                            2   \n1                             2                            2   \n2                             2                            2   \n3                             2                            2   \n4                             2                            2   \n\n   prog_incentivo_alist_marina  programa_quedate_casa  \\\n0                            2                    2.0   \n1                            2                    2.0   \n2                            2                    1.0   \n3                            2                    1.0   \n4                            2                    2.0   \n\n   fondo_asistencia_solidaria_emp  programa_apoyo_trabajadores_in  \\\n0                             2.0                             2.0   \n1                             2.0                             2.0   \n2                             2.0                             2.0   \n3                             2.0                             2.0   \n4                             2.0                             2.0   \n\n   cantidad_miembros_hogar  hay_recien_nacidos  numero_linea_informante  \n0                        1                   2                        1  \n1                        3                   2                        1  \n2                        3                   2                        1  \n3                        5                   2                        1  \n4                        4                   2                        1  ",
      "text/html": "<div>\n<style scoped>\n    .dataframe tbody tr th:only-of-type {\n        vertical-align: middle;\n    }\n\n    .dataframe tbody tr th {\n        vertical-align: top;\n    }\n\n    .dataframe thead th {\n        text-align: right;\n    }\n</style>\n<table border=\"1\" class=\"dataframe\">\n  <thead>\n    <tr style=\"text-align: right;\">\n      <th></th>\n      <th>id_hogar</th>\n      <th>factor_expansion_first</th>\n      <th>gob_comer_primero_monto_sum</th>\n      <th>gob_inc_asis_escolar_monto_sum</th>\n      <th>gob_bono_luz_monto_sum</th>\n      <th>gob_bonogas_choferes_monto_sum</th>\n      <th>gob_bonogas_hogares_monto_sum</th>\n      <th>gob_proteccion_vejez_monto_sum</th>\n      <th>gob_bono_estudiante_prog_monto_sum</th>\n      <th>gob_inc_educacion_sup_monto_sum</th>\n      <th>gob_inc_policia_prev_monto_sum</th>\n      <th>gob_inc_marina_guerra_monto_sum</th>\n      <th>gob_quedate_en_casa_sum</th>\n      <th>gob_fondo_asistencia_fase_sum</th>\n      <th>gob_programa_pati_sum</th>\n      <th>recibio_comer_primero_any</th>\n      <th>recibio_inc_asis_escolar_any</th>\n      <th>recibio_bono_luz_any</th>\n      <th>recibio_bonogas_choferes_any</th>\n      <th>recibio_bonogas_hogares_any</th>\n      <th>recibio_proteccion_vejez_any</th>\n      <th>recibio_bono_estudiante_prog_any</th>\n      <th>recibio_inc_educacion_sup_any</th>\n      <th>recibio_inc_policia_prev_any</th>\n      <th>recibio_inc_marina_guerra_any</th>\n      <th>recibio_quedate_en_casa_any</th>\n      <th>recibio_fondo_asistencia_fase_any</th>\n      <th>recibio_programa_pati_any</th>\n      <th>gob_comer_primero_monto_sum_1</th>\n      <th>gob_inc_asis_escolar_monto_sum_1</th>\n      <th>gob_bono_luz_monto_sum_1</th>\n      <th>gob_bonogas_choferes_monto_sum_1</th>\n      <th>gob_bonogas_hogares_monto_sum_1</th>\n      <th>gob_proteccion_vejez_monto_sum_1</th>\n      <th>gob_bono_estudiante_prog_monto_sum_1</th>\n      <th>gob_inc_educacion_sup_monto_sum_1</th>\n      <th>gob_inc_policia_prev_monto_sum_1</th>\n      <th>gob_inc_marina_guerra_monto_sum_1</th>\n      <th>gob_quedate_en_casa_sum_1</th>\n      <th>gob_fondo_asistencia_fase_sum_1</th>\n      <th>gob_programa_pati_sum_1</th>\n      <th>trimestre</th>\n      <th>periodo</th>\n      <th>des_periodo</th>\n      <th>orden_region</th>\n      <th>grupo_region</th>\n      <th>estrato</th>\n      <th>des_estrato</th>\n      <th>upm</th>\n      <th>ano</th>\n      <th>mes</th>\n      <th>vivienda</th>\n      <th>hogar</th>\n      <th>factor_expansion</th>\n      <th>id_provincia</th>\n      <th>des_provincia</th>\n      <th>id_municipio</th>\n      <th>des_municipio</th>\n      <th>zona</th>\n      <th>hogar_1</th>\n      <th>barrio_seccion</th>\n      <th>rotacion_hogar</th>\n      <th>encuestado_anteriormente</th>\n      <th>donde_proviene_agua</th>\n      <th>donde_proviene_agua_esp</th>\n      <th>ubicacion_cocina</th>\n      <th>combustible_para_cocinar</th>\n      <th>combustible_para_cocinar_esp</th>\n      <th>gasto_prom_combustible_cocina</th>\n      <th>no_tiene_ninguno</th>\n      <th>radio</th>\n      <th>televisor</th>\n      <th>estufa</th>\n      <th>refrigerador</th>\n      <th>lavadora</th>\n      <th>calentador</th>\n      <th>plancha_electrica</th>\n      <th>aire_acondicionado</th>\n      <th>telefono</th>\n      <th>celular</th>\n      <th>aspirador_electrico</th>\n      <th>maquina_de_coser</th>\n      <th>licuadora</th>\n      <th>internet</th>\n      <th>automovil</th>\n      <th>motocicleta</th>\n      <th>abanico_electrico</th>\n      <th>planta_electrica</th>\n      <th>horno_electrico</th>\n      <th>horno_microondas</th>\n      <th>inversor</th>\n      <th>computador</th>\n      <th>parabola</th>\n      <th>dvd</th>\n      <th>camara_video</th>\n      <th>tostadora</th>\n      <th>tableta_electronica</th>\n      <th>otro</th>\n      <th>otro_esp</th>\n      <th>no_es_beneficiario</th>\n      <th>ps_comer_es_primero</th>\n      <th>ps_incentivo_asist_escolar</th>\n      <th>ps_apoyo_adultos_mayores</th>\n      <th>ps_bono_luz</th>\n      <th>ps_bono_gas</th>\n      <th>bono_gas_choferes</th>\n      <th>ps_chispita_solidaridad</th>\n      <th>incentivo_educacion_superior</th>\n      <th>bono_escolar_estudiante_prog</th>\n      <th>prog_incentivo_policia_prev</th>\n      <th>prog_incentivo_alist_marina</th>\n      <th>programa_quedate_casa</th>\n      <th>fondo_asistencia_solidaria_emp</th>\n      <th>programa_apoyo_trabajadores_in</th>\n      <th>cantidad_miembros_hogar</th>\n      <th>hay_recien_nacidos</th>\n      <th>numero_linea_informante</th>\n    </tr>\n  </thead>\n  <tbody>\n    <tr>\n      <th>0</th>\n      <td>1007</td>\n      <td>654.403718</td>\n      <td>0.0</td>\n      <td>0.0</td>\n      <td>0.0</td>\n      <td>0.0</td>\n      <td>0.0</td>\n      <td>0.0</td>\n      <td>0.0</td>\n      <td>0.0</td>\n      <td>0.0</td>\n      <td>0.0</td>\n      <td>0.0</td>\n      <td>0.0</td>\n      <td>0.0</td>\n      <td>False</td>\n      <td>False</td>\n      <td>False</td>\n      <td>False</td>\n      <td>False</td>\n      <td>False</td>\n      <td>False</td>\n      <td>False</td>\n      <td>False</td>\n      <td>False</td>\n      <td>False</td>\n      <td>False</td>\n      <td>False</td>\n      <td>0.0</td>\n      <td>0.0</td>\n      <td>0.0</td>\n      <td>0.0</td>\n      <td>0.0</td>\n      <td>0.0</td>\n      <td>0.0</td>\n      <td>0.0</td>\n      <td>0.0</td>\n      <td>0.0</td>\n      <td>0.0</td>\n      <td>0.0</td>\n      <td>0.0</td>\n      <td>20202</td>\n      <td>202004</td>\n      <td>Encuesta Continua Abril 2020</td>\n      <td>1</td>\n      <td>Gran Santo Domingo</td>\n      <td>1</td>\n      <td>DISTRITO NACIONAL</td>\n      <td>1</td>\n      <td>2020</td>\n      <td>4</td>\n      <td>1</td>\n      <td>1</td>\n      <td>654.403718</td>\n      <td>1</td>\n      <td>DISTRITO NACIONAL</td>\n      <td>101</td>\n      <td>SANTO DOMINGO DE GUZMAN</td>\n      <td>1</td>\n      <td>1</td>\n      <td>LOS PERALEJOS</td>\n      <td>0</td>\n      <td>1</td>\n      <td>1.0</td>\n      <td>NaN</td>\n      <td>1</td>\n      <td>1</td>\n      <td>NaN</td>\n      <td>400.0</td>\n      <td>2</td>\n      <td>1</td>\n      <td>1</td>\n      <td>1</td>\n      <td>1</td>\n      <td>1</td>\n      <td>2</td>\n      <td>1</td>\n      <td>2</td>\n      <td>2</td>\n      <td>1</td>\n      <td>2</td>\n      <td>2</td>\n      <td>1</td>\n      <td>1</td>\n      <td>1</td>\n      <td>2</td>\n      <td>1</td>\n      <td>2</td>\n      <td>2</td>\n      <td>2</td>\n      <td>2</td>\n      <td>2</td>\n      <td>2</td>\n      <td>2</td>\n      <td>2</td>\n      <td>2</td>\n      <td>2</td>\n      <td>2</td>\n      <td>NaN</td>\n      <td>1</td>\n      <td>2</td>\n      <td>2</td>\n      <td>2</td>\n      <td>2</td>\n      <td>2</td>\n      <td>2</td>\n      <td>2</td>\n      <td>2</td>\n      <td>2</td>\n      <td>2</td>\n      <td>2</td>\n      <td>2.0</td>\n      <td>2.0</td>\n      <td>2.0</td>\n      <td>1</td>\n      <td>2</td>\n      <td>1</td>\n    </tr>\n    <tr>\n      <th>1</th>\n      <td>2006</td>\n      <td>654.403718</td>\n      <td>0.0</td>\n      <td>0.0</td>\n      <td>0.0</td>\n      <td>0.0</td>\n      <td>0.0</td>\n      <td>0.0</td>\n      <td>0.0</td>\n      <td>0.0</td>\n      <td>0.0</td>\n      <td>0.0</td>\n      <td>0.0</td>\n      <td>0.0</td>\n      <td>0.0</td>\n      <td>False</td>\n      <td>False</td>\n      <td>False</td>\n      <td>False</td>\n      <td>False</td>\n      <td>False</td>\n      <td>False</td>\n      <td>False</td>\n      <td>False</td>\n      <td>False</td>\n      <td>False</td>\n      <td>False</td>\n      <td>False</td>\n      <td>0.0</td>\n      <td>0.0</td>\n      <td>0.0</td>\n      <td>0.0</td>\n      <td>0.0</td>\n      <td>0.0</td>\n      <td>0.0</td>\n      <td>0.0</td>\n      <td>0.0</td>\n      <td>0.0</td>\n      <td>0.0</td>\n      <td>0.0</td>\n      <td>0.0</td>\n      <td>20202</td>\n      <td>202004</td>\n      <td>Encuesta Continua Abril 2020</td>\n      <td>1</td>\n      <td>Gran Santo Domingo</td>\n      <td>1</td>\n      <td>DISTRITO NACIONAL</td>\n      <td>1</td>\n      <td>2020</td>\n      <td>4</td>\n      <td>2</td>\n      <td>1</td>\n      <td>654.403718</td>\n      <td>1</td>\n      <td>DISTRITO NACIONAL</td>\n      <td>101</td>\n      <td>SANTO DOMINGO DE GUZMAN</td>\n      <td>1</td>\n      <td>1</td>\n      <td>LOS PERALEJOS</td>\n      <td>0</td>\n      <td>1</td>\n      <td>1.0</td>\n      <td>NaN</td>\n      <td>1</td>\n      <td>1</td>\n      <td>NaN</td>\n      <td>900.0</td>\n      <td>2</td>\n      <td>1</td>\n      <td>1</td>\n      <td>1</td>\n      <td>1</td>\n      <td>1</td>\n      <td>2</td>\n      <td>1</td>\n      <td>1</td>\n      <td>1</td>\n      <td>1</td>\n      <td>2</td>\n      <td>1</td>\n      <td>1</td>\n      <td>1</td>\n      <td>1</td>\n      <td>2</td>\n      <td>1</td>\n      <td>2</td>\n      <td>2</td>\n      <td>2</td>\n      <td>2</td>\n      <td>2</td>\n      <td>2</td>\n      <td>2</td>\n      <td>2</td>\n      <td>2</td>\n      <td>2</td>\n      <td>2</td>\n      <td>NaN</td>\n      <td>1</td>\n      <td>2</td>\n      <td>2</td>\n      <td>2</td>\n      <td>2</td>\n      <td>2</td>\n      <td>2</td>\n      <td>2</td>\n      <td>2</td>\n      <td>2</td>\n      <td>2</td>\n      <td>2</td>\n      <td>2.0</td>\n      <td>2.0</td>\n      <td>2.0</td>\n      <td>3</td>\n      <td>2</td>\n      <td>1</td>\n    </tr>\n    <tr>\n      <th>2</th>\n      <td>3008</td>\n      <td>654.403718</td>\n      <td>1000.0</td>\n      <td>0.0</td>\n      <td>444.0</td>\n      <td>0.0</td>\n      <td>228.0</td>\n      <td>0.0</td>\n      <td>0.0</td>\n      <td>0.0</td>\n      <td>0.0</td>\n      <td>0.0</td>\n      <td>0.0</td>\n      <td>0.0</td>\n      <td>0.0</td>\n      <td>True</td>\n      <td>False</td>\n      <td>True</td>\n      <td>False</td>\n      <td>True</td>\n      <td>False</td>\n      <td>False</td>\n      <td>False</td>\n      <td>False</td>\n      <td>False</td>\n      <td>False</td>\n      <td>False</td>\n      <td>False</td>\n      <td>1000.0</td>\n      <td>0.0</td>\n      <td>444.0</td>\n      <td>0.0</td>\n      <td>228.0</td>\n      <td>0.0</td>\n      <td>0.0</td>\n      <td>0.0</td>\n      <td>0.0</td>\n      <td>0.0</td>\n      <td>0.0</td>\n      <td>0.0</td>\n      <td>0.0</td>\n      <td>20202</td>\n      <td>202004</td>\n      <td>Encuesta Continua Abril 2020</td>\n      <td>1</td>\n      <td>Gran Santo Domingo</td>\n      <td>1</td>\n      <td>DISTRITO NACIONAL</td>\n      <td>1</td>\n      <td>2020</td>\n      <td>4</td>\n      <td>3</td>\n      <td>1</td>\n      <td>654.403718</td>\n      <td>1</td>\n      <td>DISTRITO NACIONAL</td>\n      <td>101</td>\n      <td>SANTO DOMINGO DE GUZMAN</td>\n      <td>1</td>\n      <td>1</td>\n      <td>LOS PERALEJOS</td>\n      <td>0</td>\n      <td>1</td>\n      <td>1.0</td>\n      <td>NaN</td>\n      <td>1</td>\n      <td>1</td>\n      <td>NaN</td>\n      <td>828.0</td>\n      <td>2</td>\n      <td>1</td>\n      <td>1</td>\n      <td>1</td>\n      <td>1</td>\n      <td>1</td>\n      <td>2</td>\n      <td>2</td>\n      <td>2</td>\n      <td>2</td>\n      <td>1</td>\n      <td>2</td>\n      <td>2</td>\n      <td>1</td>\n      <td>2</td>\n      <td>2</td>\n      <td>1</td>\n      <td>1</td>\n      <td>2</td>\n      <td>2</td>\n      <td>2</td>\n      <td>2</td>\n      <td>2</td>\n      <td>2</td>\n      <td>2</td>\n      <td>2</td>\n      <td>2</td>\n      <td>2</td>\n      <td>2</td>\n      <td>NaN</td>\n      <td>2</td>\n      <td>1</td>\n      <td>2</td>\n      <td>2</td>\n      <td>1</td>\n      <td>1</td>\n      <td>2</td>\n      <td>2</td>\n      <td>2</td>\n      <td>2</td>\n      <td>2</td>\n      <td>2</td>\n      <td>1.0</td>\n      <td>2.0</td>\n      <td>2.0</td>\n      <td>3</td>\n      <td>2</td>\n      <td>1</td>\n    </tr>\n    <tr>\n      <th>3</th>\n      <td>6006</td>\n      <td>654.403718</td>\n      <td>825.0</td>\n      <td>0.0</td>\n      <td>0.0</td>\n      <td>0.0</td>\n      <td>228.0</td>\n      <td>0.0</td>\n      <td>0.0</td>\n      <td>0.0</td>\n      <td>0.0</td>\n      <td>0.0</td>\n      <td>0.0</td>\n      <td>0.0</td>\n      <td>0.0</td>\n      <td>True</td>\n      <td>False</td>\n      <td>False</td>\n      <td>False</td>\n      <td>True</td>\n      <td>False</td>\n      <td>False</td>\n      <td>False</td>\n      <td>False</td>\n      <td>False</td>\n      <td>False</td>\n      <td>False</td>\n      <td>False</td>\n      <td>825.0</td>\n      <td>0.0</td>\n      <td>0.0</td>\n      <td>0.0</td>\n      <td>228.0</td>\n      <td>0.0</td>\n      <td>0.0</td>\n      <td>0.0</td>\n      <td>0.0</td>\n      <td>0.0</td>\n      <td>0.0</td>\n      <td>0.0</td>\n      <td>0.0</td>\n      <td>20202</td>\n      <td>202004</td>\n      <td>Encuesta Continua Abril 2020</td>\n      <td>1</td>\n      <td>Gran Santo Domingo</td>\n      <td>1</td>\n      <td>DISTRITO NACIONAL</td>\n      <td>1</td>\n      <td>2020</td>\n      <td>4</td>\n      <td>6</td>\n      <td>1</td>\n      <td>654.403718</td>\n      <td>1</td>\n      <td>DISTRITO NACIONAL</td>\n      <td>101</td>\n      <td>SANTO DOMINGO DE GUZMAN</td>\n      <td>1</td>\n      <td>1</td>\n      <td>LOS PERALEJOS</td>\n      <td>0</td>\n      <td>1</td>\n      <td>1.0</td>\n      <td>NaN</td>\n      <td>1</td>\n      <td>1</td>\n      <td>NaN</td>\n      <td>928.0</td>\n      <td>2</td>\n      <td>1</td>\n      <td>1</td>\n      <td>1</td>\n      <td>1</td>\n      <td>1</td>\n      <td>2</td>\n      <td>1</td>\n      <td>2</td>\n      <td>2</td>\n      <td>1</td>\n      <td>2</td>\n      <td>2</td>\n      <td>1</td>\n      <td>1</td>\n      <td>2</td>\n      <td>2</td>\n      <td>1</td>\n      <td>2</td>\n      <td>2</td>\n      <td>2</td>\n      <td>2</td>\n      <td>2</td>\n      <td>2</td>\n      <td>2</td>\n      <td>2</td>\n      <td>2</td>\n      <td>2</td>\n      <td>2</td>\n      <td>NaN</td>\n      <td>2</td>\n      <td>1</td>\n      <td>2</td>\n      <td>2</td>\n      <td>2</td>\n      <td>1</td>\n      <td>2</td>\n      <td>2</td>\n      <td>2</td>\n      <td>2</td>\n      <td>2</td>\n      <td>2</td>\n      <td>1.0</td>\n      <td>2.0</td>\n      <td>2.0</td>\n      <td>5</td>\n      <td>2</td>\n      <td>1</td>\n    </tr>\n    <tr>\n      <th>4</th>\n      <td>7006</td>\n      <td>654.403718</td>\n      <td>0.0</td>\n      <td>0.0</td>\n      <td>0.0</td>\n      <td>0.0</td>\n      <td>0.0</td>\n      <td>0.0</td>\n      <td>0.0</td>\n      <td>0.0</td>\n      <td>0.0</td>\n      <td>0.0</td>\n      <td>0.0</td>\n      <td>0.0</td>\n      <td>0.0</td>\n      <td>False</td>\n      <td>False</td>\n      <td>False</td>\n      <td>False</td>\n      <td>False</td>\n      <td>False</td>\n      <td>False</td>\n      <td>False</td>\n      <td>False</td>\n      <td>False</td>\n      <td>False</td>\n      <td>False</td>\n      <td>False</td>\n      <td>0.0</td>\n      <td>0.0</td>\n      <td>0.0</td>\n      <td>0.0</td>\n      <td>0.0</td>\n      <td>0.0</td>\n      <td>0.0</td>\n      <td>0.0</td>\n      <td>0.0</td>\n      <td>0.0</td>\n      <td>0.0</td>\n      <td>0.0</td>\n      <td>0.0</td>\n      <td>20202</td>\n      <td>202004</td>\n      <td>Encuesta Continua Abril 2020</td>\n      <td>1</td>\n      <td>Gran Santo Domingo</td>\n      <td>1</td>\n      <td>DISTRITO NACIONAL</td>\n      <td>1</td>\n      <td>2020</td>\n      <td>4</td>\n      <td>7</td>\n      <td>1</td>\n      <td>654.403718</td>\n      <td>1</td>\n      <td>DISTRITO NACIONAL</td>\n      <td>101</td>\n      <td>SANTO DOMINGO DE GUZMAN</td>\n      <td>1</td>\n      <td>1</td>\n      <td>LOS PERALEJOS</td>\n      <td>0</td>\n      <td>1</td>\n      <td>2.0</td>\n      <td>NaN</td>\n      <td>1</td>\n      <td>1</td>\n      <td>NaN</td>\n      <td>600.0</td>\n      <td>2</td>\n      <td>1</td>\n      <td>1</td>\n      <td>1</td>\n      <td>1</td>\n      <td>1</td>\n      <td>2</td>\n      <td>2</td>\n      <td>2</td>\n      <td>2</td>\n      <td>1</td>\n      <td>2</td>\n      <td>2</td>\n      <td>1</td>\n      <td>2</td>\n      <td>2</td>\n      <td>2</td>\n      <td>1</td>\n      <td>2</td>\n      <td>2</td>\n      <td>2</td>\n      <td>2</td>\n      <td>2</td>\n      <td>2</td>\n      <td>2</td>\n      <td>2</td>\n      <td>2</td>\n      <td>2</td>\n      <td>2</td>\n      <td>NaN</td>\n      <td>1</td>\n      <td>2</td>\n      <td>2</td>\n      <td>2</td>\n      <td>2</td>\n      <td>2</td>\n      <td>2</td>\n      <td>2</td>\n      <td>2</td>\n      <td>2</td>\n      <td>2</td>\n      <td>2</td>\n      <td>2.0</td>\n      <td>2.0</td>\n      <td>2.0</td>\n      <td>4</td>\n      <td>2</td>\n      <td>1</td>\n    </tr>\n  </tbody>\n</table>\n</div>"
     },
     "metadata": {}
    }
   ],
   "source": [
    "cdisplay(survey_current_merged.head())"
   ]
  },
  {
   "source": [
    "## Select Transformer"
   ],
   "cell_type": "markdown",
   "metadata": {}
  },
  {
   "cell_type": "code",
   "execution_count": 28,
   "metadata": {},
   "outputs": [],
   "source": [
    "fix_qec_cols = [\n",
    "    ('cep', 'comer_primero', 'comer_es_primero', 825.0),\n",
    "    ('ilae', 'inc_asis_escolar', 'incentivo_asist_escolar', 300)\n",
    "]"
   ]
  },
  {
   "cell_type": "code",
   "execution_count": 29,
   "metadata": {},
   "outputs": [],
   "source": [
    "select_current_map = {\n",
    "    **{\n",
    "        f'{short}_revisar': {\n",
    "            lambda df, col=monto_col: df[f'recibio_{col}_any']: 1,\n",
    "            lambda df, col=monto_col: ~df[f'recibio_{col}_any'] \\\n",
    "                                      & df['recibio_quedate_en_casa_any'] \\\n",
    "                                      & df[f'gob_{col}_monto_sum_1'] > 0.0:\n",
    "                2,\n",
    "            lambda df, col=monto_col, check_col=check_col:\n",
    "                ~df[f'recibio_{col}_any'] \\\n",
    "                & df['recibio_quedate_en_casa_any'] \\\n",
    "                & (df[f'ps_{check_col}'] == 1) \\\n",
    "                & ((df[f'gob_{col}_monto_sum_1'].isna()) \\\n",
    "                    | (df[f'gob_{col}_monto_sum_1'] == 0.0)):\n",
    "                3,       \n",
    "            'default': 0\n",
    "        }\n",
    "        for short, monto_col, check_col, _ in fix_qec_cols\n",
    "    },\n",
    "    **{\n",
    "        f'{short}_rev': {\n",
    "            lambda df, short=short: df[f'{short}_revisar'] == 1:\n",
    "                lambda df, col=monto_col: df[f'gob_{col}_monto_sum'],\n",
    "            lambda df, short=short: df[f'{short}_revisar'] == 2:\n",
    "                lambda df, col=monto_col: df[f'gob_{col}_monto_sum_1'],\n",
    "            lambda df, short=short: df[f'{short}_revisar'] == 3:\n",
    "                imputed_monto,       \n",
    "            'default': 0.0\n",
    "        }\n",
    "        for short, monto_col, _, imputed_monto in fix_qec_cols\n",
    "    },\n",
    "    'qec_cep_rev': {\n",
    "        lambda df: (df['cep_revisar'] == 2) | (df['cep_revisar'] == 3):\n",
    "            lambda df: df['gob_quedate_en_casa_sum'] - df['cep_rev'],\n",
    "        lambda df: df['gob_quedate_en_casa_sum'].isna(): 0.0,\n",
    "        'default': lambda df: df['gob_quedate_en_casa_sum']\n",
    "    },\n",
    "    'qec_rev': {\n",
    "        lambda df: (df['ilae_revisar'] == 2) | (df['ilae_revisar'] == 3):\n",
    "            lambda df: df['qec_cep_rev'] - df['ilae_rev'],\n",
    "        lambda df: df['qec_cep_rev'].isna(): 0.0,\n",
    "        'default': lambda df: df['qec_cep_rev']\n",
    "    }\n",
    "}\n",
    "\n",
    "select_current_transformer = SelectTransformer(select_current_map)\n",
    "survey_current_selected = select_current_transformer.transform(survey_current_merged)"
   ]
  },
  {
   "cell_type": "code",
   "execution_count": 30,
   "metadata": {},
   "outputs": [
    {
     "output_type": "execute_result",
     "data": {
      "text/plain": [
       "   id_hogar  factor_expansion_first  gob_comer_primero_monto_sum  \\\n",
       "0      1007              654.403718                          0.0   \n",
       "1      2006              654.403718                          0.0   \n",
       "2      3008              654.403718                       1000.0   \n",
       "3      6006              654.403718                        825.0   \n",
       "4      7006              654.403718                          0.0   \n",
       "\n",
       "   gob_inc_asis_escolar_monto_sum  gob_bono_luz_monto_sum  \\\n",
       "0                             0.0                     0.0   \n",
       "1                             0.0                     0.0   \n",
       "2                             0.0                   444.0   \n",
       "3                             0.0                     0.0   \n",
       "4                             0.0                     0.0   \n",
       "\n",
       "   gob_bonogas_choferes_monto_sum  gob_bonogas_hogares_monto_sum  \\\n",
       "0                             0.0                            0.0   \n",
       "1                             0.0                            0.0   \n",
       "2                             0.0                          228.0   \n",
       "3                             0.0                          228.0   \n",
       "4                             0.0                            0.0   \n",
       "\n",
       "   gob_proteccion_vejez_monto_sum  gob_bono_estudiante_prog_monto_sum  \\\n",
       "0                             0.0                                 0.0   \n",
       "1                             0.0                                 0.0   \n",
       "2                             0.0                                 0.0   \n",
       "3                             0.0                                 0.0   \n",
       "4                             0.0                                 0.0   \n",
       "\n",
       "   gob_inc_educacion_sup_monto_sum  ...  programa_apoyo_trabajadores_in  \\\n",
       "0                              0.0  ...                             2.0   \n",
       "1                              0.0  ...                             2.0   \n",
       "2                              0.0  ...                             2.0   \n",
       "3                              0.0  ...                             2.0   \n",
       "4                              0.0  ...                             2.0   \n",
       "\n",
       "   cantidad_miembros_hogar  hay_recien_nacidos  numero_linea_informante  \\\n",
       "0                        1                   2                        1   \n",
       "1                        3                   2                        1   \n",
       "2                        3                   2                        1   \n",
       "3                        5                   2                        1   \n",
       "4                        4                   2                        1   \n",
       "\n",
       "   cep_revisar  ilae_revisar  cep_rev  ilae_rev  qec_cep_rev  qec_rev  \n",
       "0            0             0      0.0       0.0          0.0      0.0  \n",
       "1            0             0      0.0       0.0          0.0      0.0  \n",
       "2            1             0   1000.0       0.0          0.0      0.0  \n",
       "3            1             0    825.0       0.0          0.0      0.0  \n",
       "4            0             0      0.0       0.0          0.0      0.0  \n",
       "\n",
       "[5 rows x 123 columns]"
      ],
      "text/html": "<div>\n<style scoped>\n    .dataframe tbody tr th:only-of-type {\n        vertical-align: middle;\n    }\n\n    .dataframe tbody tr th {\n        vertical-align: top;\n    }\n\n    .dataframe thead th {\n        text-align: right;\n    }\n</style>\n<table border=\"1\" class=\"dataframe\">\n  <thead>\n    <tr style=\"text-align: right;\">\n      <th></th>\n      <th>id_hogar</th>\n      <th>factor_expansion_first</th>\n      <th>gob_comer_primero_monto_sum</th>\n      <th>gob_inc_asis_escolar_monto_sum</th>\n      <th>gob_bono_luz_monto_sum</th>\n      <th>gob_bonogas_choferes_monto_sum</th>\n      <th>gob_bonogas_hogares_monto_sum</th>\n      <th>gob_proteccion_vejez_monto_sum</th>\n      <th>gob_bono_estudiante_prog_monto_sum</th>\n      <th>gob_inc_educacion_sup_monto_sum</th>\n      <th>...</th>\n      <th>programa_apoyo_trabajadores_in</th>\n      <th>cantidad_miembros_hogar</th>\n      <th>hay_recien_nacidos</th>\n      <th>numero_linea_informante</th>\n      <th>cep_revisar</th>\n      <th>ilae_revisar</th>\n      <th>cep_rev</th>\n      <th>ilae_rev</th>\n      <th>qec_cep_rev</th>\n      <th>qec_rev</th>\n    </tr>\n  </thead>\n  <tbody>\n    <tr>\n      <th>0</th>\n      <td>1007</td>\n      <td>654.403718</td>\n      <td>0.0</td>\n      <td>0.0</td>\n      <td>0.0</td>\n      <td>0.0</td>\n      <td>0.0</td>\n      <td>0.0</td>\n      <td>0.0</td>\n      <td>0.0</td>\n      <td>...</td>\n      <td>2.0</td>\n      <td>1</td>\n      <td>2</td>\n      <td>1</td>\n      <td>0</td>\n      <td>0</td>\n      <td>0.0</td>\n      <td>0.0</td>\n      <td>0.0</td>\n      <td>0.0</td>\n    </tr>\n    <tr>\n      <th>1</th>\n      <td>2006</td>\n      <td>654.403718</td>\n      <td>0.0</td>\n      <td>0.0</td>\n      <td>0.0</td>\n      <td>0.0</td>\n      <td>0.0</td>\n      <td>0.0</td>\n      <td>0.0</td>\n      <td>0.0</td>\n      <td>...</td>\n      <td>2.0</td>\n      <td>3</td>\n      <td>2</td>\n      <td>1</td>\n      <td>0</td>\n      <td>0</td>\n      <td>0.0</td>\n      <td>0.0</td>\n      <td>0.0</td>\n      <td>0.0</td>\n    </tr>\n    <tr>\n      <th>2</th>\n      <td>3008</td>\n      <td>654.403718</td>\n      <td>1000.0</td>\n      <td>0.0</td>\n      <td>444.0</td>\n      <td>0.0</td>\n      <td>228.0</td>\n      <td>0.0</td>\n      <td>0.0</td>\n      <td>0.0</td>\n      <td>...</td>\n      <td>2.0</td>\n      <td>3</td>\n      <td>2</td>\n      <td>1</td>\n      <td>1</td>\n      <td>0</td>\n      <td>1000.0</td>\n      <td>0.0</td>\n      <td>0.0</td>\n      <td>0.0</td>\n    </tr>\n    <tr>\n      <th>3</th>\n      <td>6006</td>\n      <td>654.403718</td>\n      <td>825.0</td>\n      <td>0.0</td>\n      <td>0.0</td>\n      <td>0.0</td>\n      <td>228.0</td>\n      <td>0.0</td>\n      <td>0.0</td>\n      <td>0.0</td>\n      <td>...</td>\n      <td>2.0</td>\n      <td>5</td>\n      <td>2</td>\n      <td>1</td>\n      <td>1</td>\n      <td>0</td>\n      <td>825.0</td>\n      <td>0.0</td>\n      <td>0.0</td>\n      <td>0.0</td>\n    </tr>\n    <tr>\n      <th>4</th>\n      <td>7006</td>\n      <td>654.403718</td>\n      <td>0.0</td>\n      <td>0.0</td>\n      <td>0.0</td>\n      <td>0.0</td>\n      <td>0.0</td>\n      <td>0.0</td>\n      <td>0.0</td>\n      <td>0.0</td>\n      <td>...</td>\n      <td>2.0</td>\n      <td>4</td>\n      <td>2</td>\n      <td>1</td>\n      <td>0</td>\n      <td>0</td>\n      <td>0.0</td>\n      <td>0.0</td>\n      <td>0.0</td>\n      <td>0.0</td>\n    </tr>\n  </tbody>\n</table>\n<p>5 rows × 123 columns</p>\n</div>"
     },
     "metadata": {},
     "execution_count": 30
    }
   ],
   "source": [
    "survey_current_selected.head()"
   ]
  },
  {
   "source": [
    "## Assign Transformer"
   ],
   "cell_type": "markdown",
   "metadata": {}
  },
  {
   "cell_type": "code",
   "execution_count": 33,
   "metadata": {},
   "outputs": [],
   "source": [
    "assign_member_diff_map = {\n",
    "    'cep_diff': lambda df: df['gob_quedate_en_casa_sum'] - df['qec_cep_rev'],\n",
    "    'ilae_diff': lambda df: df['qec_cep_rev'] - df['qec_rev'],\n",
    "    'qec_diff': lambda df: df['gob_quedate_en_casa_sum'] - df['qec_rev']\n",
    "}\n",
    "\n",
    "assign_member_diff_transformer = AssignTransformer(assign_member_diff_map)\n",
    "survey_current_diff_assign = assign_member_diff_transformer.transform(survey_current_selected)"
   ]
  },
  {
   "source": [
    "## Replace columns"
   ],
   "cell_type": "markdown",
   "metadata": {}
  },
  {
   "cell_type": "code",
   "execution_count": 38,
   "metadata": {},
   "outputs": [],
   "source": [
    "survey_current_final = survey_current_diff_assign.copy()\n",
    "survey_current_final['gob_quedate_en_casa_sum'] = survey_current_selected['qec_rev']\n",
    "survey_current_final['gob_comer_primero_monto_sum'] = survey_current_selected['cep_rev']\n",
    "survey_current_final['gob_inc_asis_escolar_monto_sum'] = survey_current_selected['ilae_rev']\n",
    "survey_current_final = survey_current_final[['id_hogar', 'cep_rev', 'ilae_rev', 'qec_rev',\n",
    "                                             'qec_diff', 'cep_diff', 'ilae_diff']]"
   ]
  },
  {
   "cell_type": "code",
   "execution_count": 39,
   "metadata": {},
   "outputs": [
    {
     "output_type": "execute_result",
     "data": {
      "text/plain": [
       "      id_hogar  cep_rev  ilae_rev  qec_rev  qec_diff  cep_diff  ilae_diff\n",
       "0         1007      0.0       0.0      0.0       0.0       0.0        0.0\n",
       "1         2006      0.0       0.0      0.0       0.0       0.0        0.0\n",
       "2         3008   1000.0       0.0      0.0       0.0       0.0        0.0\n",
       "3         6006    825.0       0.0      0.0       0.0       0.0        0.0\n",
       "4         7006      0.0       0.0      0.0       0.0       0.0        0.0\n",
       "...        ...      ...       ...      ...       ...       ...        ...\n",
       "5354   8820006      0.0       0.0   5000.0       0.0       0.0        0.0\n",
       "5355   8821008      0.0       0.0      0.0       0.0       0.0        0.0\n",
       "5356   8822007      0.0       0.0   5000.0       0.0       0.0        0.0\n",
       "5357   8823007      0.0       0.0   5000.0       0.0       0.0        0.0\n",
       "5358   8824008      0.0       0.0      0.0       0.0       0.0        0.0\n",
       "\n",
       "[4686 rows x 7 columns]"
      ],
      "text/html": "<div>\n<style scoped>\n    .dataframe tbody tr th:only-of-type {\n        vertical-align: middle;\n    }\n\n    .dataframe tbody tr th {\n        vertical-align: top;\n    }\n\n    .dataframe thead th {\n        text-align: right;\n    }\n</style>\n<table border=\"1\" class=\"dataframe\">\n  <thead>\n    <tr style=\"text-align: right;\">\n      <th></th>\n      <th>id_hogar</th>\n      <th>cep_rev</th>\n      <th>ilae_rev</th>\n      <th>qec_rev</th>\n      <th>qec_diff</th>\n      <th>cep_diff</th>\n      <th>ilae_diff</th>\n    </tr>\n  </thead>\n  <tbody>\n    <tr>\n      <th>0</th>\n      <td>1007</td>\n      <td>0.0</td>\n      <td>0.0</td>\n      <td>0.0</td>\n      <td>0.0</td>\n      <td>0.0</td>\n      <td>0.0</td>\n    </tr>\n    <tr>\n      <th>1</th>\n      <td>2006</td>\n      <td>0.0</td>\n      <td>0.0</td>\n      <td>0.0</td>\n      <td>0.0</td>\n      <td>0.0</td>\n      <td>0.0</td>\n    </tr>\n    <tr>\n      <th>2</th>\n      <td>3008</td>\n      <td>1000.0</td>\n      <td>0.0</td>\n      <td>0.0</td>\n      <td>0.0</td>\n      <td>0.0</td>\n      <td>0.0</td>\n    </tr>\n    <tr>\n      <th>3</th>\n      <td>6006</td>\n      <td>825.0</td>\n      <td>0.0</td>\n      <td>0.0</td>\n      <td>0.0</td>\n      <td>0.0</td>\n      <td>0.0</td>\n    </tr>\n    <tr>\n      <th>4</th>\n      <td>7006</td>\n      <td>0.0</td>\n      <td>0.0</td>\n      <td>0.0</td>\n      <td>0.0</td>\n      <td>0.0</td>\n      <td>0.0</td>\n    </tr>\n    <tr>\n      <th>...</th>\n      <td>...</td>\n      <td>...</td>\n      <td>...</td>\n      <td>...</td>\n      <td>...</td>\n      <td>...</td>\n      <td>...</td>\n    </tr>\n    <tr>\n      <th>5354</th>\n      <td>8820006</td>\n      <td>0.0</td>\n      <td>0.0</td>\n      <td>5000.0</td>\n      <td>0.0</td>\n      <td>0.0</td>\n      <td>0.0</td>\n    </tr>\n    <tr>\n      <th>5355</th>\n      <td>8821008</td>\n      <td>0.0</td>\n      <td>0.0</td>\n      <td>0.0</td>\n      <td>0.0</td>\n      <td>0.0</td>\n      <td>0.0</td>\n    </tr>\n    <tr>\n      <th>5356</th>\n      <td>8822007</td>\n      <td>0.0</td>\n      <td>0.0</td>\n      <td>5000.0</td>\n      <td>0.0</td>\n      <td>0.0</td>\n      <td>0.0</td>\n    </tr>\n    <tr>\n      <th>5357</th>\n      <td>8823007</td>\n      <td>0.0</td>\n      <td>0.0</td>\n      <td>5000.0</td>\n      <td>0.0</td>\n      <td>0.0</td>\n      <td>0.0</td>\n    </tr>\n    <tr>\n      <th>5358</th>\n      <td>8824008</td>\n      <td>0.0</td>\n      <td>0.0</td>\n      <td>0.0</td>\n      <td>0.0</td>\n      <td>0.0</td>\n      <td>0.0</td>\n    </tr>\n  </tbody>\n</table>\n<p>4686 rows × 7 columns</p>\n</div>"
     },
     "metadata": {},
     "execution_count": 39
    }
   ],
   "source": [
    "survey_current_final"
   ]
  },
  {
   "source": [
    "# Save correction"
   ],
   "cell_type": "markdown",
   "metadata": {}
  },
  {
   "cell_type": "code",
   "execution_count": 42,
   "metadata": {},
   "outputs": [],
   "source": [
    "save_survey_with_pickle(survey_current_final, ENCFT_OBJECT_DIR / f'encft-{year}-{trimester}-correction.pkl')"
   ]
  }
 ]
}