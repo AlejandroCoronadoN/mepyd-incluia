{
 "metadata": {
  "language_info": {
   "codemirror_mode": {
    "name": "ipython",
    "version": 3
   },
   "file_extension": ".py",
   "mimetype": "text/x-python",
   "name": "python",
   "nbconvert_exporter": "python",
   "pygments_lexer": "ipython3",
   "version": "3.7.9-final"
  },
  "orig_nbformat": 2,
  "kernelspec": {
   "name": "python3",
   "display_name": "Python 3",
   "language": "python"
  }
 },
 "nbformat": 4,
 "nbformat_minor": 2,
 "cells": [
  {
   "cell_type": "code",
   "execution_count": null,
   "metadata": {},
   "outputs": [],
   "source": [
    "%load_ext autoreload\n",
    "%autoreload 2"
   ]
  },
  {
   "cell_type": "code",
   "execution_count": null,
   "metadata": {},
   "outputs": [],
   "source": [
    "import sys\n",
    "import importlib\n",
    "\n",
    "import itertools as it\n",
    "import matplotlib.pyplot as plt\n",
    "import seaborn as sns\n",
    "import pandas as pd\n",
    "import numpy as np\n",
    "import statsmodels.api as sm\n",
    "\n",
    "from itertools import product\n",
    "from sklearn.pipeline import make_pipeline\n",
    "\n",
    "from criteriaetl.utils.expansion_func import (get_value_counts_with_expansion_factor,\n",
    "    get_percentage_table_with_expansion_factor)\n",
    "from criteriaetl.utils.display_func import cdisplay, percentage_count_plot\n",
    "from criteriaetl.utils.common_func import (get_weighted_complete_randomization_series_on_subset, \n",
    "    proportional_cut, weighted_qcut, get_partition_bool_columns_dict)\n",
    "from criteriaetl.transformers.columns_base import (NameTransformer, \n",
    "    ReplaceTransformer, SelectTransformer, AssignTransformer)\n",
    "from criteriaetl.transformers.rows_base import AggregateTransformer\n",
    "from criteriaetl.transformers.fusion_base import MergeTransformer\n",
    "\n",
    "from projectetl.utils.dataload import (load_survey_data_do, save_survey_with_pickle,\n",
    "                                       load_survey_from_pickle)\n",
    "from projectetl.utils.config import (ENCFT_SURVEY_PATH, ENCFT_PREVIOUS_SURVEY_PATH,\n",
    "                                     ENCFT_OBJECT_DIR, INFLATION_OBJECT_DIR, DATA_DIR,\n",
    "                                     INFLATION_DIR)\n",
    "from projectetl.utils import split_survey_by"
   ]
  },
  {
   "cell_type": "code",
   "execution_count": null,
   "metadata": {},
   "outputs": [],
   "source": [
    "get_raw = 0 # if 1 will read the raw data, if 0 will load the data from a previously serialized pickle object\n",
    "year = 2020 # year we want to analyze\n",
    "month = 6 # month to analyze\n",
    "trimester = 2 # trimester of the year we want to analyze"
   ]
  },
  {
   "cell_type": "code",
   "execution_count": null,
   "metadata": {},
   "outputs": [],
   "source": [
    "if get_raw:\n",
    "    survey_raw = load_survey_data_do(ENCFT_SURVEY_PATH)\n",
    "    save_survey_with_pickle(survey_raw, ENCFT_OBJECT_DIR / 'encft202001-202004.pkl')\n",
    "else:\n",
    "    survey_raw = load_survey_from_pickle(ENCFT_OBJECT_DIR / 'encft202001-202004.pkl')"
   ]
  },
  {
   "cell_type": "code",
   "execution_count": null,
   "metadata": {},
   "outputs": [],
   "source": [
    "survey_household_raw = survey_raw['Hogar']\n",
    "survey_member_raw = survey_raw['Miembros']\n",
    "survey_house_raw = survey_raw['Vivienda']"
   ]
  },
  {
   "cell_type": "code",
   "execution_count": null,
   "metadata": {},
   "outputs": [],
   "source": [
    "# split constants\n",
    "column_name = 'trimestre'\n",
    "values = [20201, 20202, 20203, 20204]"
   ]
  },
  {
   "cell_type": "code",
   "execution_count": null,
   "metadata": {},
   "outputs": [],
   "source": [
    "# split household surveys\n",
    "survey_household_raw_01, survey_household_raw_02, \\\n",
    "    survey_household_raw_03, survey_household_raw_04 = split_survey_by(survey_household_raw,\n",
    "                                                                       column_name,\n",
    "                                                                       values)"
   ]
  },
  {
   "cell_type": "code",
   "execution_count": null,
   "metadata": {},
   "outputs": [],
   "source": [
    "# split member surveys\n",
    "survey_member_raw_01, survey_member_raw_02, \\\n",
    "    survey_member_raw_03, survey_member_raw_04 = split_survey_by(survey_member_raw,\n",
    "                                                                 column_name,\n",
    "                                                                 values)"
   ]
  },
  {
   "cell_type": "code",
   "execution_count": null,
   "metadata": {},
   "outputs": [],
   "source": [
    "# Current survey\n",
    "survey_member_raw = locals().get(f'survey_member_raw_0{trimester}')\n",
    "survey_household_raw = locals().get(f'survey_household_raw_0{trimester}')"
   ]
  },
  {
   "cell_type": "code",
   "execution_count": null,
   "metadata": {},
   "outputs": [],
   "source": [
    "# Previous survey\n",
    "survey_member_previous = locals().get(f'survey_member_raw_0{trimester - 1}')"
   ]
  },
  {
   "source": [
    "# Processing previous trimester"
   ],
   "cell_type": "markdown",
   "metadata": {}
  },
  {
   "cell_type": "code",
   "execution_count": null,
   "metadata": {},
   "outputs": [],
   "source": [
    "trimester_previous = trimester - 1\n",
    "social_programs_cols = [\n",
    "    'comer_primero', 'inc_asis_escolar',\n",
    "    'bono_luz', 'bonogas_choferes', \n",
    "    'bonogas_hogares', 'proteccion_vejez',\n",
    "    'bono_estudiante_prog', 'inc_educacion_sup',\n",
    "    'inc_policia_prev', 'inc_marina_guerra'\n",
    "]\n",
    "social_programs_covid_cols = [\n",
    "    'quedate_en_casa', 'fondo_asistencia_fase',\n",
    "    'programa_pati'\n",
    "]"
   ]
  },
  {
   "source": [
    "## Aggregate Transformer"
   ],
   "cell_type": "markdown",
   "metadata": {}
  },
  {
   "cell_type": "code",
   "execution_count": null,
   "metadata": {},
   "outputs": [],
   "source": [
    "aggregate_previous_map = {\n",
    "    'sum': [\n",
    "        *[f'gob_{sp}_monto' for sp in social_programs_cols],\n",
    "        *[f'gob_{sp}' for sp in social_programs_covid_cols]\n",
    "    ]\n",
    "}\n",
    "key = 'id_hogar'\n",
    "\n",
    "aggregate_previous_transformer = AggregateTransformer(aggregate_previous_map, groupby_=key, keep_first=[])\n",
    "survey_previous_aggregated = aggregate_previous_transformer.transform(survey_member_previous)"
   ]
  },
  {
   "source": [
    "# Processing current trimester"
   ],
   "cell_type": "markdown",
   "metadata": {}
  },
  {
   "source": [
    "## Assign Transformer"
   ],
   "cell_type": "markdown",
   "metadata": {}
  },
  {
   "cell_type": "code",
   "execution_count": null,
   "metadata": {},
   "outputs": [],
   "source": [
    "assign_current_map = {\n",
    "    **{\n",
    "        f'recibio_{sp}': lambda df, sp=sp: df[f'gob_{sp}_monto'] > 0.0\n",
    "        for sp in social_programs_cols\n",
    "    },\n",
    "    **{\n",
    "        f'recibio_{sp}': lambda df, sp=sp: df[f'gob_{sp}'] > 0.0\n",
    "        for sp in social_programs_covid_cols\n",
    "    }\n",
    "}\n",
    "\n",
    "assign_current_transformer = AssignTransformer(assign_current_map)\n",
    "survey_current_assigned = assign_current_transformer.transform(survey_member_raw)"
   ]
  },
  {
   "source": [
    "## Aggregate Transformer"
   ],
   "cell_type": "markdown",
   "metadata": {}
  },
  {
   "cell_type": "code",
   "execution_count": null,
   "metadata": {},
   "outputs": [],
   "source": [
    "aggregate_current_map = {\n",
    "    'sum': [\n",
    "        *[f'gob_{sp}_monto' for sp in social_programs_cols],\n",
    "        *[f'gob_{sp}' for sp in social_programs_covid_cols]\n",
    "    ],\n",
    "    'any': [\n",
    "        f'recibio_{sp}'\n",
    "        for sp in social_programs_cols + social_programs_covid_cols\n",
    "    ]\n",
    "}\n",
    "\n",
    "aggregate_current_transformer = AggregateTransformer(aggregate_current_map, groupby_=key, keep_first=['factor_expansion'])\n",
    "survey_current_aggregated = aggregate_current_transformer.transform(survey_current_assigned)"
   ]
  },
  {
   "source": [
    "## Merge Transformer"
   ],
   "cell_type": "markdown",
   "metadata": {}
  },
  {
   "cell_type": "code",
   "execution_count": null,
   "metadata": {},
   "outputs": [],
   "source": [
    "merge_current_previous_transformer = MergeTransformer(lambda : survey_previous_aggregated,\n",
    "                                                      merge_kwargs={\n",
    "                                                          'on': key,\n",
    "                                                          'suffixes': ('', f'_{trimester_previous}')})\n",
    "merge_current_household =  MergeTransformer(lambda : survey_household_raw,\n",
    "                                            merge_kwargs={'on': key})\n",
    "survey_current_merged = make_pipeline(\n",
    "        merge_current_previous_transformer,\n",
    "        merge_current_household\n",
    "    ).transform(survey_current_aggregated)"
   ]
  },
  {
   "cell_type": "code",
   "execution_count": null,
   "metadata": {},
   "outputs": [],
   "source": [
    "cdisplay(survey_current_merged.head())"
   ]
  },
  {
   "source": [
    "## Select Transformer"
   ],
   "cell_type": "markdown",
   "metadata": {}
  },
  {
   "cell_type": "code",
   "execution_count": null,
   "metadata": {},
   "outputs": [],
   "source": [
    "fix_qec_cols = [\n",
    "    ('cep', 'comer_primero', 'comer_es_primero', 825.0),\n",
    "    ('ilae', 'inc_asis_escolar', 'incentivo_asist_escolar', 300)\n",
    "]"
   ]
  },
  {
   "cell_type": "code",
   "execution_count": null,
   "metadata": {},
   "outputs": [],
   "source": [
    "select_current_map = {\n",
    "    **{\n",
    "        f'{short}_revisar': {\n",
    "            lambda df, col=monto_col: df[f'recibio_{col}_any']: 1,\n",
    "            lambda df, col=monto_col: ~df[f'recibio_{col}_any'] \\\n",
    "                                      & df['recibio_quedate_en_casa_any'] \\\n",
    "                                      & df[f'gob_{col}_monto_sum_1'] > 0.0:\n",
    "                2,\n",
    "            lambda df, col=monto_col, check_col=check_col:\n",
    "                ~df[f'recibio_{col}_any'] \\\n",
    "                & df['recibio_quedate_en_casa_any'] \\\n",
    "                & (df[f'ps_{check_col}'] == 1) \\\n",
    "                & ((df[f'gob_{col}_monto_sum_1'].isna()) \\\n",
    "                    | (df[f'gob_{col}_monto_sum_1'] == 0.0)):\n",
    "                3,       \n",
    "            'default': 0\n",
    "        }\n",
    "        for short, monto_col, check_col, _ in fix_qec_cols\n",
    "    },\n",
    "    **{\n",
    "        f'{short}_rev': {\n",
    "            lambda df, short=short: df[f'{short}_revisar'] == 1:\n",
    "                lambda df, col=monto_col: df[f'gob_{col}_monto_sum'],\n",
    "            lambda df, short=short: df[f'{short}_revisar'] == 2:\n",
    "                lambda df, col=monto_col: df[f'gob_{col}_monto_sum_1'],\n",
    "            lambda df, short=short: df[f'{short}_revisar'] == 3:\n",
    "                imputed_monto,       \n",
    "            'default': 0.0\n",
    "        }\n",
    "        for short, monto_col, _, imputed_monto in fix_qec_cols\n",
    "    },\n",
    "    'qec_cep_rev': {\n",
    "        lambda df: (df['cep_revisar'] == 2) | (df['cep_revisar'] == 3):\n",
    "            lambda df: df['gob_quedate_en_casa_sum'] - df['cep_rev'],\n",
    "        lambda df: df['gob_quedate_en_casa_sum'].isna(): 0.0,\n",
    "        'default': lambda df: df['gob_quedate_en_casa_sum']\n",
    "    },\n",
    "    'qec_rev': {\n",
    "        lambda df: (df['ilae_revisar'] == 2) | (df['ilae_revisar'] == 3):\n",
    "            lambda df: df['qec_cep_rev'] - df['ilae_rev'],\n",
    "        lambda df: df['qec_cep_rev'].isna(): 0.0,\n",
    "        'default': lambda df: df['qec_cep_rev']\n",
    "    }\n",
    "}\n",
    "\n",
    "select_current_transformer = SelectTransformer(select_current_map)\n",
    "survey_current_selected = select_current_transformer.transform(survey_current_merged)"
   ]
  },
  {
   "cell_type": "code",
   "execution_count": null,
   "metadata": {},
   "outputs": [],
   "source": [
    "survey_current_selected.head()"
   ]
  },
  {
   "source": [
    "## Assign Transformer"
   ],
   "cell_type": "markdown",
   "metadata": {}
  },
  {
   "cell_type": "code",
   "execution_count": null,
   "metadata": {},
   "outputs": [],
   "source": [
    "assign_member_diff_map = {\n",
    "    'cep_diff': lambda df: df['gob_quedate_en_casa_sum'] - df['qec_cep_rev'],\n",
    "    'ilae_diff': lambda df: df['qec_cep_rev'] - df['qec_rev'],\n",
    "    'qec_diff': lambda df: df['gob_quedate_en_casa_sum'] - df['qec_rev']\n",
    "}\n",
    "\n",
    "assign_member_diff_transformer = AssignTransformer(assign_member_diff_map)\n",
    "survey_current_diff_assign = assign_member_diff_transformer.transform(survey_current_selected)"
   ]
  },
  {
   "source": [
    "## Replace columns"
   ],
   "cell_type": "markdown",
   "metadata": {}
  },
  {
   "cell_type": "code",
   "execution_count": null,
   "metadata": {},
   "outputs": [],
   "source": [
    "survey_current_final = survey_current_diff_assign.copy()\n",
    "survey_current_final['gob_quedate_en_casa_sum'] = survey_current_selected['qec_rev']\n",
    "survey_current_final['gob_comer_primero_monto_sum'] = survey_current_selected['cep_rev']\n",
    "survey_current_final['gob_inc_asis_escolar_monto_sum'] = survey_current_selected['ilae_rev']\n",
    "survey_current_final = survey_current_final[['id_hogar', 'cep_rev', 'ilae_rev', 'qec_rev',\n",
    "                                             'qec_diff', 'cep_diff', 'ilae_diff']]"
   ]
  },
  {
   "cell_type": "code",
   "execution_count": null,
   "metadata": {},
   "outputs": [],
   "source": [
    "survey_current_final"
   ]
  },
  {
   "source": [
    "# Save correction"
   ],
   "cell_type": "markdown",
   "metadata": {}
  },
  {
   "cell_type": "code",
   "execution_count": null,
   "metadata": {},
   "outputs": [],
   "source": [
    "save_survey_with_pickle(survey_current_final, ENCFT_OBJECT_DIR / f'encft-{year}-{trimester}-correction.pkl')"
   ]
  }
 ]
}