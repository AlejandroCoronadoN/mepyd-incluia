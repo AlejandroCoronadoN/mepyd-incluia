{
 "cells": [
  {
   "cell_type": "code",
   "execution_count": null,
   "metadata": {},
   "outputs": [],
   "source": [
    "%load_ext autoreload\n",
    "%autoreload 2"
   ]
  },
  {
   "cell_type": "code",
   "execution_count": null,
   "metadata": {},
   "outputs": [],
   "source": [
    "import sys\n",
    "import importlib\n",
    "\n",
    "import itertools as it\n",
    "import matplotlib.pyplot as plt\n",
    "import seaborn as sns\n",
    "import pandas as pd\n",
    "import numpy as np\n",
    "import statsmodels.api as sm\n",
    "\n",
    "from itertools import product\n",
    "from pandas_profiling import ProfileReport\n",
    "from sklearn.pipeline import make_pipeline\n",
    "\n",
    "from criteriaetl.utils.expansion_func import (get_value_counts_with_expansion_factor,\n",
    "    get_percentage_table_with_expansion_factor)\n",
    "from criteriaetl.utils.display_func import cdisplay, percentage_count_plot\n",
    "from criteriaetl.utils.common_func import (get_weighted_complete_randomization_series_on_subset, \n",
    "    proportional_cut, weighted_qcut, get_partition_bool_columns_dict)\n",
    "from criteriaetl.transformers.columns_base import (NameTransformer, \n",
    "    ReplaceTransformer, SelectTransformer, AssignTransformer)\n",
    "from criteriaetl.transformers.rows_base import AggregateTransformer\n",
    "from criteriaetl.transformers.fusion_base import MergeTransformer\n",
    "\n",
    "from projectetl.utils.dataload import (load_survey_data_do, save_survey_with_pickle,\n",
    "                                       load_survey_from_pickle)\n",
    "from projectetl.utils.config import (ENHOGAR_DIR, ENCFT_SURVEY_PATH, ENCFT_PREVIOUS_SURVEY_PATH,\n",
    "                                     ENCFT_OBJECT_DIR)"
   ]
  },
  {
   "cell_type": "markdown",
   "metadata": {},
   "source": [
    "# Configuration variables"
   ]
  },
  {
   "cell_type": "code",
   "execution_count": null,
   "metadata": {},
   "outputs": [],
   "source": [
    "get_raw = 0"
   ]
  },
  {
   "cell_type": "markdown",
   "metadata": {},
   "source": [
    "# Load surveys"
   ]
  },
  {
   "cell_type": "markdown",
   "metadata": {},
   "source": [
    "## ENHOGAR 2016"
   ]
  },
  {
   "cell_type": "code",
   "execution_count": null,
   "metadata": {},
   "outputs": [],
   "source": [
    "enhogar_elected_raw = load_survey_data_do(ENHOGAR_DIR / 'Elegidos_ENHOGAR2016_PUB.sav',\n",
    "                                         load_func=lambda path: pd.read_spss(str(path)))\n",
    "enhogar_member_raw = load_survey_data_do(ENHOGAR_DIR / 'Personas_ENHOGAR2016_PUB.sav',\n",
    "                                        load_func=lambda path: pd.read_spss(str(path)))"
   ]
  },
  {
   "cell_type": "markdown",
   "metadata": {},
   "source": [
    "## ENCFT"
   ]
  },
  {
   "cell_type": "code",
   "execution_count": null,
   "metadata": {},
   "outputs": [],
   "source": [
    "if get_raw:\n",
    "    encft_raw = load_survey_data_do(ENCFT_SURVEY_PATH)\n",
    "    save_survey_with_pickle(encft_raw, ENCFT_OBJECT_DIR / 'encft202001-202004.pkl')\n",
    "else:\n",
    "    encft_raw = load_survey_from_pickle(ENCFT_OBJECT_DIR / 'encft202001-202004.pkl')"
   ]
  },
  {
   "cell_type": "code",
   "execution_count": null,
   "metadata": {},
   "outputs": [],
   "source": [
    "encft_member_raw = encft_raw['Miembros']"
   ]
  },
  {
   "cell_type": "markdown",
   "metadata": {},
   "source": [
    "# Preprocess ENCFT"
   ]
  },
  {
   "cell_type": "code",
   "execution_count": null,
   "metadata": {},
   "outputs": [],
   "source": [
    "encft_care_features = [\n",
    "    'sexo',\n",
    "    'parentesco',\n",
    "    'estado_civil',\n",
    "    'nivel_ultimo_ano_aprobado',\n",
    "    'ultimo_ano_aprobado',\n",
    "    'curso_matriculado',\n",
    "    'trabajo_semana_pasada',\n",
    "    'busco_trabajo_establ_negocio',\n",
    "    'aceptaria_trab_sem_pasada',\n",
    "    # # 'categoria_cesantia',\n",
    "    'categoria_principal',\n",
    "    'horas_trabaja_semana_principal',\n",
    "    'afiliado_seguro_salud',\n",
    "    # 'mayores_10_annos', # create\n",
    "    'asiste_centro_educativo',\n",
    "    'realiza_curso_tecnico',\n",
    "    # 'grupo_etareo', # create\n",
    "    # 'condicion_actividad', # create\n",
    "    'miembro',\n",
    "    'id_provincia',\n",
    "    'zona',\n",
    "]\n",
    "\n",
    "encft_domestic_work_features = encft_care_features + [\n",
    "    'sabe_leer_escribir',\n",
    "    'nivel_se_matriculo'\n",
    "]\n",
    "\n",
    "merge_cols = [\n",
    "'trimestre', 'id_hogar', 'id_persona',\n",
    "]\n",
    "\n",
    "encft_extra_columns = [\n",
    "    'edad',\n",
    "    'motivo_no_busca_trabajo', 'motivo_no_disponible',\n",
    "    'motivo_no_disponible_esp', 'realizo_actividad',\n",
    "    'motivo_no_trab_sem_pasada', 'tenia_empleo_negocio',\n",
    "    'que_hizo_buscar_trabajo', 'factor_expansion'\n",
    "]"
   ]
  },
  {
   "cell_type": "code",
   "execution_count": null,
   "metadata": {},
   "outputs": [],
   "source": [
    "encft_member = encft_member_raw[merge_cols + encft_domestic_work_features + encft_extra_columns][encft_member_raw['edad'] >= 10]"
   ]
  },
  {
   "cell_type": "markdown",
   "metadata": {},
   "source": [
    "## Select Transformer"
   ]
  },
  {
   "cell_type": "code",
   "execution_count": null,
   "metadata": {},
   "outputs": [],
   "source": [
    "age_groups = [(10, 14), (15, 24), (25, 45), (46, 59), (60, 74), (75, None)]"
   ]
  },
  {
   "cell_type": "code",
   "execution_count": null,
   "metadata": {},
   "outputs": [],
   "source": [
    "encft_select_member_map = {\n",
    "    'condicion_actividad': {\n",
    "        # ocupados: \n",
    "        # trabajo_semana_pasada - realizo algun trabajo la semana anterior por lo menos una hora: sí, o\n",
    "        # realizo_actividad - en la semana anterior: realizo alguna actividad para \n",
    "        # obtener dinero o especies, o,\n",
    "        # tenia_empleo_negocio - tiene un negocio o empresa a la que proximamente volverá: sí\n",
    "        lambda df: (df['trabajo_semana_pasada'] == 'Sí') \\\n",
    "                    | (df['realizo_actividad'].isin(range(1, 8))) \\\n",
    "                    | (df['tenia_empleo_negocio'] == 'Sí') \\\n",
    "                    | (df['motivo_no_trab_sem_pasada']).isin(range(1, 10)): 1, #'ocupado',\n",
    "        \n",
    "        lambda df: (df['motivo_no_busca_trabajo'] == 9) \\\n",
    "                    | (df['motivo_no_disponible'] == 4) \\\n",
    "                    | ((df['motivo_no_busca_trabajo'] == 6) \\\n",
    "                        & (df['edad'] > 65)) \\\n",
    "                    | ((df['motivo_no_disponible_esp'] == 'EDAD') \\\n",
    "                        & (df['edad'] > 65)): 2, #'incapacitado o anciano',\n",
    "        lambda df: (df['motivo_no_busca_trabajo'] == 10) | (df['motivo_no_disponible'] == 3): 3, #'jubilado o rentista',\n",
    "        lambda df: (df['motivo_no_busca_trabajo'] == 8) | (df['motivo_no_disponible'] == 2): 4, #'quehacer doméstico',\n",
    "        lambda df: (df['motivo_no_busca_trabajo'] == 7) | (df['motivo_no_disponible'] == 1): 5, #'estudiante',\n",
    "\n",
    "        # desocupados\n",
    "        # busco_trabajo_establ_negocio - en las 4 semanas anteriores estuvo buscando trabajo o \n",
    "        # tratando de emprender: si, y\n",
    "        # que_hizo_buscar_trabajo - en las cuantro semanas efectivamente hizo algo para \n",
    "        # buscar trabajo o emprender\n",
    "        lambda df: (df['busco_trabajo_establ_negocio'] == 1) \\\n",
    "                   | df['que_hizo_buscar_trabajo'].isin(range(1, 6)) \\\n",
    "                   | df['motivo_no_busca_trabajo'] == 1: 6, #'desocupado',\n",
    "\n",
    "        # inactivos\n",
    "        'default': 7, #'inactivo'\n",
    "    },\n",
    "\n",
    "    'grupo_etareo': {\n",
    "        lambda df: df['edad'] == '97+': len(age_groups),\n",
    "        **{\n",
    "            lambda df, min_group=min_group, max_group=max_group:\n",
    "                df['edad'].isin(range(min_group, (max_group or 96) + 1)):\n",
    "                lambda _, i=i: i + 1\n",
    "            for i, (min_group, max_group) in enumerate(age_groups)\n",
    "        },\n",
    "        'default': 0\n",
    "    }\n",
    "}\n",
    "\n",
    "encft_select_member_transformer = SelectTransformer(encft_select_member_map)\n",
    "encft_member_selected = encft_select_member_transformer.transform(encft_member)"
   ]
  },
  {
   "cell_type": "markdown",
   "metadata": {},
   "source": [
    "## Assign Transformer"
   ]
  },
  {
   "cell_type": "code",
   "execution_count": null,
   "metadata": {},
   "outputs": [],
   "source": [
    "encft_assign_member_map = {\n",
    "    'mayores_10_annos': lambda df: df.groupby(['trimestre', 'id_hogar'])['edad'].transform(lambda df: len(df >= 10)),\n",
    "}\n",
    "\n",
    "encft_assign_member_transformer = AssignTransformer(encft_assign_member_map)\n",
    "encft_member_assigned = encft_assign_member_transformer.transform(encft_member_selected)"
   ]
  },
  {
   "cell_type": "markdown",
   "metadata": {},
   "source": [
    "## Fill NaN"
   ]
  },
  {
   "cell_type": "code",
   "execution_count": null,
   "metadata": {},
   "outputs": [],
   "source": [
    "columns_with_nan = [\n",
    "    'horas_trabaja_semana_principal', 'ultimo_ano_aprobado',\n",
    "    'curso_matriculado', 'miembro',\n",
    "    'aceptaria_trab_sem_pasada', 'asiste_centro_educativo',\n",
    "    'busco_trabajo_establ_negocio', 'estado_civil',\n",
    "    'trabajo_semana_pasada', 'nivel_ultimo_ano_aprobado',\n",
    "    'categoria_principal', 'realiza_curso_tecnico',\n",
    "    'sabe_leer_escribir', 'nivel_se_matriculo'\n",
    "]\n",
    "encft_member_assigned[columns_with_nan] = encft_member_assigned[columns_with_nan].fillna(0)"
   ]
  },
  {
   "cell_type": "markdown",
   "metadata": {},
   "source": [
    "## Replace Transformer"
   ]
  },
  {
   "cell_type": "code",
   "execution_count": null,
   "metadata": {},
   "outputs": [],
   "source": [
    "encft_replace_member_map = {\n",
    "    'sexo': {\n",
    "        1: 0, # hombre\n",
    "        2: 1 # mujer\n",
    "    },\n",
    "\n",
    "    'parentesco': {\n",
    "        11: 10, # group 'abuelo' under 'otro pariente' category\n",
    "        12: 11\n",
    "    },\n",
    "\n",
    "    'nivel_ultimo_ano_aprobado': {\n",
    "        4: 3,\n",
    "        5: 4,\n",
    "        6: 5,\n",
    "        7: 5,\n",
    "        8: 5,\n",
    "        10: 0,\n",
    "        99: 0,\n",
    "        # np.NaN: 9\n",
    "    },\n",
    "\n",
    "    'nivel_se_matriculo': {\n",
    "        4: 3,\n",
    "        5: 4,\n",
    "        6: 5,\n",
    "        7: 5,\n",
    "        8: 5,\n",
    "        10: 0,\n",
    "        99: 0,\n",
    "        # np.NaN: 9\n",
    "    },\n",
    "\n",
    "    'categoria_principal': {\n",
    "        5: 4,\n",
    "        6: 5,\n",
    "        7: 6,\n",
    "        8: 7,\n",
    "        4: 0,\n",
    "        # np.NaN: 9\n",
    "    }\n",
    "}\n",
    "\n",
    "categorical = [\n",
    "    'parentesco',\n",
    "    'nivel_ultimo_ano_aprobado',\n",
    "    'nivel_se_matriculo',\n",
    "    'categoria_principal',\n",
    "    'afiliado_seguro_salud',\n",
    "    'realiza_curso_tecnico',\n",
    "    'id_provincia',\n",
    "    'sabe_leer_escribir'\n",
    "]\n",
    "\n",
    "integers = [\n",
    "    'aceptaria_trab_sem_pasada', 'asiste_centro_educativo',\n",
    "    'busco_trabajo_establ_negocio', 'estado_civil',\n",
    "    'trabajo_semana_pasada', 'curso_matriculado',\n",
    "    'ultimo_ano_aprobado'\n",
    "]\n",
    "\n",
    "encft_astype_member_map = {\n",
    "    **{col: 'category' for col in categorical},\n",
    "    **{col: int for col in integers}\n",
    "}\n",
    "\n",
    "encft_replace_member_transformer = ReplaceTransformer(encft_replace_member_map,\n",
    "                                                      astype_dict=encft_astype_member_map)\n",
    "encft_member_replaced = encft_replace_member_transformer.transform(encft_member_assigned)"
   ]
  },
  {
   "cell_type": "code",
   "execution_count": null,
   "metadata": {},
   "outputs": [],
   "source": [
    "cdisplay(encft_member_replaced)"
   ]
  },
  {
   "cell_type": "markdown",
   "metadata": {},
   "source": [
    "## Change categories dtypes"
   ]
  },
  {
   "cell_type": "code",
   "execution_count": null,
   "metadata": {},
   "outputs": [],
   "source": [
    "change_dtype_cols = [\n",
    "    'categoria_principal',\n",
    "    'nivel_ultimo_ano_aprobado',\n",
    "    'realiza_curso_tecnico',\n",
    "    'sabe_leer_escribir',\n",
    "    'nivel_se_matriculo'\n",
    "]"
   ]
  },
  {
   "cell_type": "code",
   "execution_count": null,
   "metadata": {},
   "outputs": [],
   "source": [
    "for col in change_dtype_cols:\n",
    "    encft_member_replaced[col].cat.categories = pd.Int64Index(encft_member_replaced[col].cat.categories)"
   ]
  },
  {
   "cell_type": "markdown",
   "metadata": {},
   "source": [
    "## MinMax Scaler"
   ]
  },
  {
   "cell_type": "code",
   "execution_count": null,
   "metadata": {},
   "outputs": [],
   "source": [
    "from sklearn.preprocessing import MinMaxScaler"
   ]
  },
  {
   "cell_type": "code",
   "execution_count": null,
   "metadata": {},
   "outputs": [],
   "source": [
    "encft_member_scaled = encft_member_replaced.copy()\n",
    "encft_member_scaled[['horas_trabaja_semana_principal']] = MinMaxScaler().fit_transform(encft_member_scaled[['horas_trabaja_semana_principal']])"
   ]
  },
  {
   "cell_type": "markdown",
   "metadata": {},
   "source": [
    "## Final dataset"
   ]
  },
  {
   "cell_type": "code",
   "execution_count": null,
   "metadata": {},
   "outputs": [],
   "source": [
    "encft_care_features += ['mayores_10_annos', 'condicion_actividad', 'grupo_etareo']\n",
    "encft_domestic_work_features += ['mayores_10_annos', 'condicion_actividad', 'grupo_etareo']"
   ]
  },
  {
   "cell_type": "markdown",
   "metadata": {},
   "source": [
    "### Care dataset"
   ]
  },
  {
   "cell_type": "code",
   "execution_count": null,
   "metadata": {},
   "outputs": [],
   "source": [
    "encft_care_pre_dummies = encft_member_replaced[merge_cols + encft_care_features]\n",
    "columns_care = set(encft_care_pre_dummies.columns) - set(encft_care_pre_dummies.select_dtypes(float).columns) - set(['mayores_10_annos', 'miembro', 'sexo', 'zona', 'curso_matriculado', 'ultimo_ano_aprobado'] + merge_cols)"
   ]
  },
  {
   "cell_type": "code",
   "execution_count": null,
   "metadata": {},
   "outputs": [],
   "source": [
    "columns_care"
   ]
  },
  {
   "cell_type": "code",
   "execution_count": null,
   "metadata": {},
   "outputs": [],
   "source": [
    "encft_care_impute = pd.get_dummies(encft_care_pre_dummies, drop_first=True, columns=columns_care)"
   ]
  },
  {
   "cell_type": "code",
   "execution_count": null,
   "metadata": {},
   "outputs": [],
   "source": [
    "cdisplay(encft_care_impute)"
   ]
  },
  {
   "cell_type": "markdown",
   "metadata": {},
   "source": [
    "### Domestic work dataset"
   ]
  },
  {
   "cell_type": "code",
   "execution_count": null,
   "metadata": {},
   "outputs": [],
   "source": [
    "encft_domestic_work_pre_dummies = encft_member_replaced[merge_cols + encft_domestic_work_features]\n",
    "columns_domestic_work = set(encft_domestic_work_pre_dummies.columns) - set(encft_domestic_work_pre_dummies.select_dtypes(float).columns) - set(['mayores_10_annos', 'miembro', 'sexo', 'zona', 'curso_matriculado', 'ultimo_ano_aprobado'] + merge_cols)"
   ]
  },
  {
   "cell_type": "code",
   "execution_count": null,
   "metadata": {},
   "outputs": [],
   "source": [
    "columns_domestic_work"
   ]
  },
  {
   "cell_type": "code",
   "execution_count": null,
   "metadata": {},
   "outputs": [],
   "source": [
    "encft_domestic_work_impute = pd.get_dummies(encft_domestic_work_pre_dummies, drop_first=True, columns=columns_domestic_work)"
   ]
  },
  {
   "cell_type": "code",
   "execution_count": null,
   "metadata": {},
   "outputs": [],
   "source": [
    "cdisplay(encft_domestic_work_impute)"
   ]
  },
  {
   "cell_type": "markdown",
   "metadata": {},
   "source": [
    "### Checks"
   ]
  },
  {
   "cell_type": "code",
   "execution_count": null,
   "metadata": {},
   "outputs": [],
   "source": [
    "set(pd.get_dummies(encft_care_pre_dummies, columns=columns_care).columns) - set(pd.get_dummies(encft_care_pre_dummies, drop_first=True, columns=columns_care).columns)"
   ]
  },
  {
   "cell_type": "code",
   "execution_count": null,
   "metadata": {},
   "outputs": [],
   "source": [
    "set(pd.get_dummies(encft_domestic_work_pre_dummies, columns=columns_domestic_work).columns) - set(pd.get_dummies(encft_domestic_work_pre_dummies, drop_first=True, columns=columns_domestic_work).columns)"
   ]
  },
  {
   "cell_type": "markdown",
   "metadata": {},
   "source": [
    "# Preprocess ENHOGAR 2016"
   ]
  },
  {
   "cell_type": "code",
   "execution_count": null,
   "metadata": {},
   "outputs": [],
   "source": [
    "basic_cols = [\n",
    "    'hhupm', 'hhviv', 'hhogar'\n",
    "]"
   ]
  },
  {
   "cell_type": "markdown",
   "metadata": {},
   "source": [
    "## Assign Transformer"
   ]
  },
  {
   "cell_type": "code",
   "execution_count": null,
   "metadata": {},
   "outputs": [],
   "source": [
    "enhogar_assign_member_map = {\n",
    "    'temp': lambda _: 1,\n",
    "    'h703': lambda df, cols=basic_cols: df.groupby(cols)['temp'].transform('cumsum'),\n",
    "}\n",
    "\n",
    "enhogar_assign_member_transformer = AssignTransformer(enhogar_assign_member_map)\n",
    "enhogar_member_assigned = enhogar_assign_member_transformer.transform(enhogar_member_raw)"
   ]
  },
  {
   "cell_type": "markdown",
   "metadata": {},
   "source": [
    "## Merge Transformer"
   ]
  },
  {
   "cell_type": "code",
   "execution_count": null,
   "metadata": {},
   "outputs": [],
   "source": [
    "enhogar_merge_member_elected_transformer = MergeTransformer(lambda : enhogar_member_assigned,\n",
    "                                                            merge_kwargs={\n",
    "                                                                'on': basic_cols + ['h703'],\n",
    "                                                                'suffixes': ('', '_other')\n",
    "                                                            })\n",
    "enhogar_elected_merged = enhogar_merge_member_elected_transformer.transform(enhogar_elected_raw)"
   ]
  },
  {
   "cell_type": "markdown",
   "metadata": {},
   "source": [
    "## Name Transformer"
   ]
  },
  {
   "cell_type": "code",
   "execution_count": null,
   "metadata": {},
   "outputs": [],
   "source": [
    "enhogar_name_elected_map = {\n",
    "    'h402': 'sexo', # sexo\n",
    "    'h403': 'edad', # edad\n",
    "    'h405': 'parentesco', # parentesco\n",
    "    'h407': 'estado_civil',\n",
    "    'h409': 'aprendio_leer_escribir',\n",
    "    'h410': 'donde_aprendio_leer_escribir',\n",
    "    'h411': 'asiste_asistio_centro_educativo',\n",
    "    'h412': 'nivel_educativo_mas_alto',\n",
    "    'h413': 'curso_mas_alto_que_curso',\n",
    "    'h414': 'asiste_centro_educativo_actualmente',\n",
    "    'h415': 'nivel_esta_asistiendo',\n",
    "    'h416': 'curso_esta_asistiendo',\n",
    "    'h501': 'trabajo_semana_pasada',\n",
    "    'h502': 'tenia_empleo_semana_pasada',\n",
    "    'h503': 'cultivo_cosecho_semana_pasada',\n",
    "    'h504': 'elaboro_producto_semana_pasada',\n",
    "    'h505': 'ayudo_familiar_semana_pasada',\n",
    "    'h506': 'tuvo_trabajo_domestico_por_paga_semana_pasada',\n",
    "    'h507': 'busco_trabajo_cuatro_semanas_pasadas',\n",
    "    'h508': 'motivo_no_busca_trabajo',\n",
    "    'lh509': 'podria_aceptar_trabajo_semana_pasada',\n",
    "    'lh510': 'dispone_condiciones_para_trabajar',\n",
    "    'lh511': 'dispone_condiciones_para_trabajar_semana_pasada',\n",
    "    'lh512': 'ha_trabajado_por_paga',\n",
    "    'lh513': 'ultima_principal_ocupacion',\n",
    "    'lh514': 'se_dedica_ultima_empresa',\n",
    "    'lh515': 'ocupacion_ultimo_trabajo',\n",
    "    'lh516': 'horas_trabajadas_semanalmente_ocupacion_principal',\n",
    "    'h601': 'tiene_seguro_salud_pension',\n",
    "    'h702a': 'mayores_10_annos',\n",
    "    'h704': 'edad_elegido',\n",
    "    'h1001': 'trabajo_por_paga_semana_pasada',\n",
    "    'h1002': 'dias_trabajo_semana_pasada',\n",
    "    'h1003': 'horas_trabajo_semana_pasada',\n",
    "    'h1005': 'estudia_actualmente',\n",
    "    'h1009': 'realiza_actividad_vocacional',\n",
    "    'h1015': 'dedico_tiempo_cuidados',\n",
    "    'h1016': 'tiempo_cuidados_dias',\n",
    "    'h1017': 'tiempo_cuidado_horas_diarias',\n",
    "    'h1030': 'tiempo_agricultura_ganado_dias',\n",
    "    'h1032': 'tiempo_trabajo_sin_paga_dias',\n",
    "    'h1034': 'tiempo_trabajo_domestico_hogar_dias',\n",
    "    'h1035': 'tiempo_trabajo_domestico_hogar_horas',\n",
    "    'h1036': 'tiempo_trabajo_domestico_no_hogar_dias',\n",
    "    'h1037': 'tiempo_trabajo_domestico_no_hogar_horas'\n",
    "}\n",
    "\n",
    "keep = ['hhupm', 'hhviv', 'hhogar', 'hzona', 'hprovi',\n",
    "        # Stratos\n",
    "        'hestrat', 'region', 'grupsec', 'zona', 'hmiembro',\n",
    "        'hprovin', 'estratos',\n",
    "        # Factors\n",
    "        'fexpansion', 'fponderacion',\n",
    "        'fexpansion_tic', 'fponderacion_tic',]\n",
    "\n",
    "enhogar_name_elected_transformer = NameTransformer(enhogar_name_elected_map, keep_features=keep)\n",
    "enhogar_elected_named = enhogar_name_elected_transformer.transform(enhogar_elected_merged)"
   ]
  },
  {
   "cell_type": "markdown",
   "metadata": {},
   "source": [
    "## Fill NaN"
   ]
  },
  {
   "cell_type": "code",
   "execution_count": null,
   "metadata": {},
   "outputs": [],
   "source": [
    "enhogar_elected_named['nivel_esta_asistiendo'].isna().sum()"
   ]
  },
  {
   "cell_type": "code",
   "execution_count": null,
   "metadata": {},
   "outputs": [],
   "source": [
    "float_columns_with_nan = ['mayores_10_annos']\n",
    "enhogar_elected_named[float_columns_with_nan] = enhogar_elected_named[float_columns_with_nan].fillna(0)"
   ]
  },
  {
   "cell_type": "code",
   "execution_count": null,
   "metadata": {},
   "outputs": [],
   "source": [
    "columns_with_nan = [\n",
    "    'estado_civil', 'donde_aprendio_leer_escribir',\n",
    "    'nivel_educativo_mas_alto',\n",
    "    'asiste_centro_educativo_actualmente', 'nivel_esta_asistiendo',\n",
    "    'tenia_empleo_semana_pasada',\n",
    "    'cultivo_cosecho_semana_pasada', 'elaboro_producto_semana_pasada',\n",
    "    'ayudo_familiar_semana_pasada',\n",
    "    'tuvo_trabajo_domestico_por_paga_semana_pasada',\n",
    "    'busco_trabajo_cuatro_semanas_pasadas',\n",
    "    'podria_aceptar_trabajo_semana_pasada',\n",
    "    'ocupacion_ultimo_trabajo',\n",
    "    'estudia_actualmente',\n",
    "    'realiza_actividad_vocacional', 'dedico_tiempo_cuidados',\n",
    "    'curso_mas_alto_que_curso', 'curso_esta_asistiendo',\n",
    "    'horas_trabajadas_semanalmente_ocupacion_principal',\n",
    "    'nivel_esta_asistiendo'\n",
    "]\n",
    "\n",
    "for cat in columns_with_nan:\n",
    "    if 0 not in enhogar_elected_named[cat].cat.categories:\n",
    "        enhogar_elected_named[cat] = enhogar_elected_named[cat].cat.add_categories(0).fillna(0)\n",
    "    else:\n",
    "        enhogar_elected_named[cat] = enhogar_elected_named[cat].fillna(0)"
   ]
  },
  {
   "cell_type": "markdown",
   "metadata": {},
   "source": [
    "## Replace Transformer"
   ]
  },
  {
   "cell_type": "code",
   "execution_count": null,
   "metadata": {},
   "outputs": [],
   "source": [
    "motivos_no_busca_trabajo = [\n",
    "    'Ha buscado trabajo y no encuentra', 'Familiar y otras personas le están buscando',\n",
    "    'Solicitó y espera respuesta', 'Está incapacitado permanentemente',\n",
    "    'Está Incapacitado temporalmente', 'Está estudiando', 'Se dedica a quehaceres del hogar',\n",
    "    'Es rentista', 'No tiene suficiente educación o experiencia', 'Cree que no va a encontrar',\n",
    "    'Por razones de edad', 'No quiso buscar trabajo', 'Pensionado o jubilado'\n",
    "]"
   ]
  },
  {
   "cell_type": "code",
   "execution_count": null,
   "metadata": {},
   "outputs": [],
   "source": [
    "enhogar_replace_elected_map = {\n",
    "    'motivo_no_busca_trabajo': {\n",
    "        **{reason: i + 1 for i, reason in enumerate(motivos_no_busca_trabajo)},\n",
    "        'Otro': 98\n",
    "    },\n",
    "    'curso_mas_alto_que_curso': {\n",
    "        'No sabe': 9,\n",
    "        99: 9,\n",
    "        # np.NaN: 9\n",
    "    },\n",
    "    'curso_esta_asistiendo': {\n",
    "        'No sabe': 9,\n",
    "        99: 9,\n",
    "        # np.NaN: 9\n",
    "    },\n",
    "    'horas_trabajadas_semanalmente_ocupacion_principal': {\n",
    "        'No sabe': 0.0,\n",
    "        99.0: 0.0\n",
    "    },\n",
    "    'sexo': {\n",
    "        'Hombre': 0,\n",
    "        'Mujer': 1\n",
    "    },\n",
    "    'parentesco': {\n",
    "        'El (la) Jefe(a)': 1,\n",
    "        'Esposo(a) o compañero(a)': 2,\n",
    "        'Hijo(a)': 3,\n",
    "        'Yerno o nuera': 6,\n",
    "        'Nieto(a)': 5,\n",
    "        'Padre o madre': 7,\n",
    "        'Suegro(a)': 8,\n",
    "        'Hermano(a)': 9,\n",
    "        'Cuñado(a)': 10,\n",
    "        'Tío(a)': 10,\n",
    "        'Sobrino(a)': 10,\n",
    "        'Otro pariente': 10,\n",
    "        'Adoptado/ hijo de crianza': 4,\n",
    "        'Trabajador(a) doméstico(a)': 11,\n",
    "        'Otro': 11,\n",
    "        99.0: 0,\n",
    "    },\n",
    "    'estado_civil': {\n",
    "        'Casado(a)': 2,\n",
    "        'Unido(a)': 1,\n",
    "        'Viudo(a)': 5,\n",
    "        'Divorciado(a)': 3, \n",
    "        'Separado de matrimonio legal o religioso': 4,\n",
    "        'Separado(a) de unión libre': 4,\n",
    "        'Soltero(a)': 6,\n",
    "        9.0: 0,\n",
    "        # np.NaN: 9\n",
    "    },\n",
    "\n",
    "    'nivel_educativo_mas_alto': {\n",
    "        'Inicial o pres-escolar' : 0,\n",
    "        'Básico o Primario' : 1,\n",
    "        'Medio o Secundario' : 2,\n",
    "        'Universitario' : 3,\n",
    "        'Postgrado, Maestría o Doctorado' : 4,\n",
    "        'No sabe' : 0,\n",
    "        'Sin información' : 0,\n",
    "    },\n",
    "    'nivel_esta_asistiendo': {\n",
    "        'Inicial o pres-escolar' : 0,\n",
    "        'Básico o Primario' : 1,\n",
    "        'Medio o Secundario' : 2,\n",
    "        'Universitario' : 3,\n",
    "        'Postgrado, Maestría o Doctorado' : 4,\n",
    "        'No sabe' : 0,\n",
    "        'Sin información' : 0,\n",
    "        9.0: 0\n",
    "    },\n",
    "    'trabajo_semana_pasada': {\n",
    "        'Sí': 1,\n",
    "        'No': 2,\n",
    "        9.0: 0,\n",
    "        \n",
    "    },\n",
    "    'busco_trabajo_cuatro_semanas_pasadas': {\n",
    "        'Sí': 1,\n",
    "        'No': 2,\n",
    "        9.0: 0,\n",
    "    },\n",
    "    'podria_aceptar_trabajo_semana_pasada': {\n",
    "        'Sí': 1,\n",
    "        'No': 2,\n",
    "        9.0: 0,\n",
    "    },\n",
    "    'ocupacion_ultimo_trabajo': {\n",
    "        'empleado u obrero del gobierno central o municipal?': 1,\n",
    "        'empleado u obrero de empresa pública?': 2,\n",
    "        'empleado u obrero de empresas privadas?': 3,\n",
    "        'empleador o patrón?': 5,\n",
    "        'trabajador(a) para un familiar o no familiar sin paga o ganancia?': 7,\n",
    "        'profesional que trabaja por cuenta propia/': 6,\n",
    "        'no profesional que trabaja por cuenta propia?': 6,\n",
    "        'trabajador(a) doméstica?': 4,\n",
    "        'Otro': 0,\n",
    "        'sin información': 0\n",
    "    },\n",
    "    'tiene_seguro_salud_pension': {\n",
    "        'Sí': 1,\n",
    "        'No': 2,\n",
    "        'No sabe': 0,\n",
    "        'Sin información': 0,\n",
    "    },\n",
    "    'podria_aceptar_trabajo_semana_pasada': {\n",
    "        'Sí': 1,\n",
    "        'No': 2,\n",
    "        9.0: 0,\n",
    "    },\n",
    "    'estudia_actualmente': {\n",
    "        'Si': 1,\n",
    "        'No': 2,\n",
    "        9.0: 0,\n",
    "    },\n",
    "    'realiza_actividad_vocacional': {\n",
    "        'Si': 1,\n",
    "        'No': 2,\n",
    "        9.0: 0,\n",
    "    },\n",
    "\n",
    "    'hprovin': {\n",
    "        'Distrito Nacional': 1,\n",
    "        'Azua': 2,\n",
    "        'Bahoruco': 3,\n",
    "        'Barahona': 4,\n",
    "        'Dajabón': 5,\n",
    "        'Duarte': 6,\n",
    "        'Elías Piña': 7,\n",
    "        'El Seibo': 8,\n",
    "        'Espaillat': 9,\n",
    "        'Independencia': 10,\n",
    "        'La Altagracia': 11,\n",
    "        'La Romana': 12,\n",
    "        'La Vega': 13,\n",
    "        'María Trinidad Sánchez': 14,\n",
    "        'Monte Cristi': 15,\n",
    "        'Pedernales': 16,\n",
    "        'Peravia': 17,\n",
    "        'Puerto Plata': 18,\n",
    "        'Salcedo': 19,\n",
    "        'Samaná': 20,\n",
    "        'San Cristóbal': 21,\n",
    "        'San Juan': 22,\n",
    "        'San Pedro de Macorís': 23,\n",
    "        'Sánchez Ramírez': 24,\n",
    "        'Santiago': 25,\n",
    "        'Santiago Rodríguez': 26,\n",
    "        'Valverde': 27,\n",
    "        'Monseñor Nouel': 28,\n",
    "        'Monte Plata': 29,\n",
    "        'Hato Mayor': 30,\n",
    "        'San José de Ocoa': 31,\n",
    "        'Santo Domingo': 32,\n",
    "    },\n",
    "    'zona': {\n",
    "        'Urbano': 1,\n",
    "        'Rural': 2\n",
    "    },\n",
    "    'dedico_tiempo_cuidados': {\n",
    "        'Si': 1,\n",
    "        'No': 0,\n",
    "        9.0: 0,\n",
    "        np.NaN: 0\n",
    "    },\n",
    "    'aprendio_leer_escribir': {\n",
    "        'Sí': 1,\n",
    "        'No': 2,\n",
    "        'No sabe': 0,\n",
    "        9: 0,\n",
    "    }\n",
    "}\n",
    "\n",
    "enhogar_astype_elected_map = {\n",
    "    'horas_trabajadas_semanalmente_ocupacion_principal': float,\n",
    "    'curso_mas_alto_que_curso': int,\n",
    "    'curso_esta_asistiendo': int,\n",
    "    'mayores_10_annos': int,\n",
    "    'hmiembro': int,\n",
    "    'motivo_no_busca_trabajo': 'category',\n",
    "    'parentesco': 'category',\n",
    "    'estado_civil': 'category',\n",
    "    'nivel_educativo_mas_alto': 'category',\n",
    "    'trabajo_semana_pasada': 'category',\n",
    "    'busco_trabajo_cuatro_semanas_pasadas': 'category',\n",
    "    'podria_aceptar_trabajo_semana_pasada': 'category',\n",
    "    'ocupacion_ultimo_trabajo': 'category',\n",
    "    'tiene_seguro_salud_pension': 'category',\n",
    "    'podria_aceptar_trabajo_semana_pasada': 'category',\n",
    "    'estudia_actualmente': 'category',\n",
    "    'realiza_actividad_vocacional': 'category',\n",
    "    'hprovin': 'category',\n",
    "    'dedico_tiempo_cuidados': 'category',\n",
    "    'aprendio_leer_escribir': 'category'\n",
    "}\n",
    "\n",
    "enhogar_replace_elected_transformer = ReplaceTransformer(enhogar_replace_elected_map, astype_dict=enhogar_astype_elected_map)\n",
    "enhogar_elected_replaced = enhogar_replace_elected_transformer.transform(enhogar_elected_named)"
   ]
  },
  {
   "cell_type": "code",
   "execution_count": null,
   "metadata": {},
   "outputs": [],
   "source": [
    "list(enhogar_elected_replaced['hmiembro'].unique())"
   ]
  },
  {
   "cell_type": "markdown",
   "metadata": {},
   "source": [
    "## Select Transformer"
   ]
  },
  {
   "cell_type": "code",
   "execution_count": null,
   "metadata": {},
   "outputs": [],
   "source": [
    "enhogar_select_elected_map = {\n",
    "    'grupo_etareo': {\n",
    "        lambda df: df['edad'] == '97+': len(age_groups),\n",
    "        **{\n",
    "            lambda df, min_group=min_group, max_group=max_group:\n",
    "                pd.to_numeric(df['edad'], errors='coerce').isin(range(min_group, (max_group or 96) + 1)):\n",
    "                lambda _, i=i: i + 1\n",
    "            for i, (min_group, max_group) in enumerate(age_groups)\n",
    "        },\n",
    "        'default': 0\n",
    "    },\n",
    "\n",
    "    'condicion_actividad': {\n",
    "        # ocupados: \n",
    "        # trabajo_semana_pasada - realizo algun trabajo la semana anterior por lo menos una hora: sí, o\n",
    "        # tuvo_trabajo_domestico_por_paga_semana_pasada - en la semana anterior: realizo alguna actividad para \n",
    "        # obtener dinero o especies, o,\n",
    "        # tenia_empleo_semana_pasada - tiene un negocio o empresa a la que proximamente volverá: sí\n",
    "        lambda df: (df['trabajo_semana_pasada'] == 1) \\\n",
    "                    | (df['tuvo_trabajo_domestico_por_paga_semana_pasada'] == 'Sí') \\\n",
    "                    | (df['tenia_empleo_semana_pasada'] == 'Sí'): 1, # 'ocupado',\n",
    "        \n",
    "        lambda df: df['motivo_no_busca_trabajo'].isin([4, 5, 11]): 2, # 'incapacitado o anciano',\n",
    "        lambda df: df['motivo_no_busca_trabajo'].isin([8, 13]): 3, # 'jubilado o rentista',\n",
    "        lambda df: (df['motivo_no_busca_trabajo'] == 7): 4, # 'quehacer doméstico',\n",
    "        lambda df: (df['motivo_no_busca_trabajo'] == 6): 5, # 'estudiante',\n",
    "\n",
    "        # desocupados\n",
    "        # busco_trabajo_cuatro_semanas_pasadas - en las 4 semanas anteriores estuvo buscando trabajo o \n",
    "        # tratando de emprender: si, y\n",
    "        # motivo_no_busca_trabajo = 1, 2, 3\n",
    "        # r408 - en las cuantro semanas efectivamente hizo algo para \n",
    "        # buscar trabajo o emprender\n",
    "        lambda df: (df['busco_trabajo_cuatro_semanas_pasadas'] == 1) \\\n",
    "                   | df['motivo_no_busca_trabajo'].isin([1, 2, 3]): 6, # 'desocupado',\n",
    "\n",
    "        # inactivos\n",
    "        'default': 7, #'inactivo'\n",
    "    },\n",
    "\n",
    "    'tiempo_cuidados_horas_semanales': {\n",
    "        lambda df: (df['dedico_tiempo_cuidados'] == 'No') | (df['dedico_tiempo_cuidados'].isna()): 0.0,\n",
    "        'default': lambda df: df['tiempo_cuidados_dias'] * df['tiempo_cuidado_horas_diarias']\n",
    "    },\n",
    "\n",
    "    'tiempo_trabajo_domestico_hogar_horas_semanales': {\n",
    "        lambda df: (df['tiempo_trabajo_domestico_hogar_dias'] == '97') \\\n",
    "                    | (df['tiempo_trabajo_domestico_hogar_dias'] == 99.0): 0.0,\n",
    "        lambda df: df['tiempo_trabajo_domestico_hogar_dias'].isna(): 0.0,\n",
    "        'default': lambda df: df['tiempo_trabajo_domestico_hogar_dias'].astype(float) * df['tiempo_trabajo_domestico_hogar_horas']\n",
    "    },\n",
    "\n",
    "    'tiempo_trabajo_domestico_no_hogar_horas_semanales': {\n",
    "        lambda df: (df['tiempo_trabajo_domestico_no_hogar_dias'] == '97') \\\n",
    "                    | (df['tiempo_trabajo_domestico_no_hogar_dias'] == 99.0): 0.0,\n",
    "        lambda df: df['tiempo_trabajo_domestico_no_hogar_dias'].isna(): 0.0,\n",
    "        'default': lambda df: df['tiempo_trabajo_domestico_no_hogar_dias'].astype(float) * df['tiempo_trabajo_domestico_hogar_horas']\n",
    "    }\n",
    "}\n",
    "\n",
    "enhogar_select_elected_transformer = SelectTransformer(enhogar_select_elected_map)\n",
    "enhogar_elected_selected = enhogar_select_elected_transformer.transform(enhogar_elected_replaced)"
   ]
  },
  {
   "cell_type": "markdown",
   "metadata": {},
   "source": [
    "## Assign Transformer"
   ]
  },
  {
   "cell_type": "code",
   "execution_count": null,
   "metadata": {},
   "outputs": [],
   "source": [
    "enhogar_assign_elected_map = {\n",
    "    'tiempo_trabajo_doméstico_no_remunerado_horas_semanales':\n",
    "        lambda df: df['tiempo_trabajo_domestico_hogar_horas_semanales'] + df['tiempo_trabajo_domestico_no_hogar_horas_semanales'],\n",
    "\n",
    "    'dedico_tiempo_trabajo_doméstico_no_remunerado': lambda df: df['tiempo_trabajo_doméstico_no_remunerado_horas_semanales'] > 0,\n",
    "}\n",
    "\n",
    "enhogar_assign_elected_transformer = AssignTransformer(enhogar_assign_elected_map)\n",
    "enhogar_elected_assigned = enhogar_assign_elected_transformer.transform(enhogar_elected_selected)"
   ]
  },
  {
   "cell_type": "markdown",
   "metadata": {},
   "source": [
    "## Name Transformer"
   ]
  },
  {
   "cell_type": "code",
   "execution_count": null,
   "metadata": {},
   "outputs": [],
   "source": [
    "enhogar_name_encft_map = {\n",
    "    'nivel_educativo_mas_alto': 'nivel_ultimo_ano_aprobado',\n",
    "    'curso_mas_alto_que_curso': 'ultimo_ano_aprobado',\n",
    "    'curso_esta_asistiendo': 'curso_matriculado',\n",
    "    'trabajo_semana_pasada': 'trabajo_semana_pasada',\n",
    "    'busco_trabajo_cuatro_semanas_pasadas': 'busco_trabajo_establ_negocio',\n",
    "    'podria_aceptar_trabajo_semana_pasada': 'aceptaria_trab_sem_pasada',\n",
    "    'ocupacion_ultimo_trabajo': 'categoria_principal',\n",
    "    'horas_trabajadas_semanalmente_ocupacion_principal': 'horas_trabaja_semana_principal',\n",
    "    'tiene_seguro_salud_pension': 'afiliado_seguro_salud',\n",
    "    'estudia_actualmente': 'asiste_centro_educativo',\n",
    "    'realiza_actividad_vocacional': 'realiza_curso_tecnico',\n",
    "    'hmiembro': 'miembro',\n",
    "    'hprovin': 'id_provincia',\n",
    "    'fexpansion_tic': 'factor_expansion',\n",
    "    'aprendio_leer_escribir': 'sabe_leer_escribir',\n",
    "    'nivel_esta_asistiendo': 'nivel_se_matriculo'\n",
    "}\n",
    "\n",
    "enhogar_name_encft_transformer = NameTransformer(enhogar_name_encft_map, keep_features=True)\n",
    "enhogar_elected_encft_named = enhogar_name_encft_transformer.transform(enhogar_elected_assigned)"
   ]
  },
  {
   "cell_type": "markdown",
   "metadata": {},
   "source": [
    "## Sort categories"
   ]
  },
  {
   "cell_type": "code",
   "execution_count": null,
   "metadata": {},
   "outputs": [],
   "source": [
    "enhogar_elected_encft_named['parentesco'].cat.categories"
   ]
  },
  {
   "cell_type": "code",
   "execution_count": null,
   "metadata": {},
   "outputs": [],
   "source": [
    "sort_categories_cols = ['afiliado_seguro_salud', 'asiste_centro_educativo', 'parentesco', 'realiza_curso_tecnico', 'trabajo_semana_pasada']\n",
    "\n",
    "for col in sort_categories_cols:\n",
    "    first = enhogar_elected_encft_named[col].cat.categories[0]\n",
    "    enhogar_elected_encft_named[col].cat.categories = enhogar_elected_encft_named[col].cat.categories[1:].append(pd.Int64Index([first]))"
   ]
  },
  {
   "cell_type": "markdown",
   "metadata": {},
   "source": [
    "## MinMaxScaler"
   ]
  },
  {
   "cell_type": "code",
   "execution_count": null,
   "metadata": {},
   "outputs": [],
   "source": [
    "enhogar_elected_scaled = enhogar_elected_encft_named.copy()\n",
    "enhogar_elected_scaled[['horas_trabaja_semana_principal']] = MinMaxScaler().fit_transform(enhogar_elected_scaled[['horas_trabaja_semana_principal']])"
   ]
  },
  {
   "cell_type": "markdown",
   "metadata": {},
   "source": [
    "## Final dataset"
   ]
  },
  {
   "cell_type": "markdown",
   "metadata": {},
   "source": [
    "### Care dataset"
   ]
  },
  {
   "cell_type": "code",
   "execution_count": null,
   "metadata": {},
   "outputs": [],
   "source": [
    "enhogar_care_pre_dummies = enhogar_elected_encft_named[encft_care_features]\n",
    "categories_care = set(enhogar_care_pre_dummies.columns) - set(enhogar_care_pre_dummies.select_dtypes(float))\n",
    "categories_care -= set(['zona', 'sexo', 'curso_matriculado', 'ultimo_ano_aprobado', 'mayores_10_annos', 'miembro'])"
   ]
  },
  {
   "cell_type": "code",
   "execution_count": null,
   "metadata": {},
   "outputs": [],
   "source": [
    "enhogar_care_train = pd.get_dummies(enhogar_care_pre_dummies, drop_first=True, columns=categories_care)"
   ]
  },
  {
   "cell_type": "code",
   "execution_count": null,
   "metadata": {},
   "outputs": [],
   "source": [
    "set(pd.get_dummies(enhogar_care_pre_dummies, columns=categories_care)) - set(pd.get_dummies(enhogar_care_pre_dummies, drop_first=True, columns=categories_care))"
   ]
  },
  {
   "cell_type": "markdown",
   "metadata": {},
   "source": [
    "### Check distribution plot"
   ]
  },
  {
   "cell_type": "code",
   "execution_count": null,
   "metadata": {},
   "outputs": [],
   "source": [
    "# for col in enhogar_train_X_pre_dummies.select_dtypes((float, int)).columns:\n",
    "#     enhogar_x = enhogar_train_X_pre_dummies[col]\n",
    "#     encft_x = encft_impute_pre_dummies[col]\n",
    "#     sns.distplot(enhogar_train_X_pre_dummies[col], kde=False, norm_hist=True, label='enhogar', hist_kws={'bins': enhogar_x.max()})\n",
    "#     sns.distplot(encft_impute_pre_dummies[col], ax=plt.gca(), kde=False, norm_hist=True, label='encft', hist_kws={'bins': encft_x.max()})\n",
    "#     plt.legend()\n",
    "#     plt.show()"
   ]
  },
  {
   "cell_type": "code",
   "execution_count": null,
   "metadata": {},
   "outputs": [],
   "source": [
    "enhogar_len = len(enhogar_care_pre_dummies)\n",
    "encft_len = len(encft_care_pre_dummies)"
   ]
  },
  {
   "cell_type": "code",
   "execution_count": null,
   "metadata": {},
   "outputs": [],
   "source": [
    "enhogar_care_pre_dummies['afiliado_seguro_salud'].value_counts()"
   ]
  },
  {
   "cell_type": "code",
   "execution_count": null,
   "metadata": {},
   "outputs": [],
   "source": [
    "for col in enhogar_care_pre_dummies.columns:\n",
    "    sns.barplot(x=enhogar_care_pre_dummies[col].astype(int), y=enhogar_care_pre_dummies[col].astype(int), label='enhogar', color='blue', alpha=.6, estimator=lambda x: len(x) / enhogar_len * 100)\n",
    "    sns.barplot(x=encft_care_pre_dummies[col].astype(int), y=encft_care_pre_dummies[col].astype(int), ax=plt.gca(), label='encft', color='orange', alpha=.6, estimator=lambda x: len(x) / encft_len * 100)\n",
    "    plt.legend()\n",
    "    plt.show()"
   ]
  },
  {
   "cell_type": "code",
   "execution_count": null,
   "metadata": {},
   "outputs": [],
   "source": [
    "enhogar_care_pre_dummies['nivel_ultimo_ano_aprobado'].value_counts()"
   ]
  },
  {
   "cell_type": "code",
   "execution_count": null,
   "metadata": {},
   "outputs": [],
   "source": [
    "cdisplay(enhogar_care_train)"
   ]
  },
  {
   "cell_type": "markdown",
   "metadata": {},
   "source": [
    "### Domestic work dataset"
   ]
  },
  {
   "cell_type": "code",
   "execution_count": null,
   "metadata": {},
   "outputs": [],
   "source": [
    "enhogar_domestic_work_pre_dummies = enhogar_elected_encft_named[encft_domestic_work_features]\n",
    "categories_domestic_work = set(enhogar_domestic_work_pre_dummies.columns) - set(enhogar_domestic_work_pre_dummies.select_dtypes(float))\n",
    "categories_domestic_work -= set(['zona', 'sexo', 'curso_matriculado', 'ultimo_ano_aprobado', 'mayores_10_annos', 'miembro'])"
   ]
  },
  {
   "cell_type": "code",
   "execution_count": null,
   "metadata": {},
   "outputs": [],
   "source": [
    "enhogar_domestic_work_train = pd.get_dummies(enhogar_domestic_work_pre_dummies, drop_first=True, columns=categories_domestic_work)"
   ]
  },
  {
   "cell_type": "code",
   "execution_count": null,
   "metadata": {},
   "outputs": [],
   "source": [
    "set(pd.get_dummies(enhogar_domestic_work_pre_dummies, columns=categories_domestic_work)) - set(pd.get_dummies(enhogar_domestic_work_pre_dummies, drop_first=True, columns=categories_domestic_work))"
   ]
  },
  {
   "cell_type": "markdown",
   "metadata": {},
   "source": [
    "## Drop columns"
   ]
  },
  {
   "cell_type": "markdown",
   "metadata": {},
   "source": [
    "### Care drops"
   ]
  },
  {
   "cell_type": "code",
   "execution_count": null,
   "metadata": {},
   "outputs": [],
   "source": [
    "enhogar_encft_care_diff = (set(enhogar_care_train.columns) - set(encft_care_impute.columns))\n",
    "enhogar_encft_care_diff"
   ]
  },
  {
   "cell_type": "code",
   "execution_count": null,
   "metadata": {},
   "outputs": [],
   "source": [
    "encft_enhogar_care_diff = set(encft_care_impute.columns) - set(enhogar_care_train.columns) - set(merge_cols)\n",
    "encft_enhogar_care_diff"
   ]
  },
  {
   "cell_type": "code",
   "execution_count": null,
   "metadata": {},
   "outputs": [],
   "source": [
    "enhogar_care_X = enhogar_care_train.drop(enhogar_encft_care_diff, axis=1)"
   ]
  },
  {
   "cell_type": "code",
   "execution_count": null,
   "metadata": {},
   "outputs": [],
   "source": [
    "cdisplay(enhogar_care_X)"
   ]
  },
  {
   "cell_type": "code",
   "execution_count": null,
   "metadata": {},
   "outputs": [],
   "source": [
    "encft_care_X = encft_care_impute.drop(encft_enhogar_care_diff, axis=1)\n",
    "encft_care_X = encft_care_X[merge_cols + list(enhogar_care_X.columns)]"
   ]
  },
  {
   "cell_type": "code",
   "execution_count": null,
   "metadata": {},
   "outputs": [],
   "source": [
    "cdisplay(encft_care_X)"
   ]
  },
  {
   "cell_type": "markdown",
   "metadata": {},
   "source": [
    "## Domestic work drops"
   ]
  },
  {
   "cell_type": "code",
   "execution_count": null,
   "metadata": {},
   "outputs": [],
   "source": [
    "enhogar_encft_domestic_work_diff = (set(enhogar_domestic_work_train.columns) - set(encft_domestic_work_impute.columns))\n",
    "enhogar_encft_domestic_work_diff"
   ]
  },
  {
   "cell_type": "code",
   "execution_count": null,
   "metadata": {},
   "outputs": [],
   "source": [
    "encft_enhogar_domestic_work_diff = set(encft_domestic_work_impute.columns) - set(enhogar_domestic_work_train.columns)  - set(merge_cols)\n",
    "encft_enhogar_domestic_work_diff"
   ]
  },
  {
   "cell_type": "code",
   "execution_count": null,
   "metadata": {},
   "outputs": [],
   "source": [
    "enhogar_domestic_work_X = enhogar_domestic_work_train.drop(enhogar_encft_domestic_work_diff, axis=1)"
   ]
  },
  {
   "cell_type": "code",
   "execution_count": null,
   "metadata": {},
   "outputs": [],
   "source": [
    "cdisplay(enhogar_domestic_work_X)"
   ]
  },
  {
   "cell_type": "code",
   "execution_count": null,
   "metadata": {},
   "outputs": [],
   "source": [
    "encft_domestic_work_X = encft_domestic_work_impute.drop(encft_enhogar_domestic_work_diff, axis=1)\n",
    "encft_domestic_work_X = encft_domestic_work_X[merge_cols + list(enhogar_domestic_work_X.columns)]"
   ]
  },
  {
   "cell_type": "code",
   "execution_count": null,
   "metadata": {},
   "outputs": [],
   "source": [
    "cdisplay(encft_domestic_work_X)"
   ]
  },
  {
   "cell_type": "markdown",
   "metadata": {},
   "source": [
    "### Checks"
   ]
  },
  {
   "cell_type": "code",
   "execution_count": null,
   "metadata": {},
   "outputs": [],
   "source": [
    "from criteriaetl.utils.display_func import rdisplay"
   ]
  },
  {
   "cell_type": "code",
   "execution_count": null,
   "metadata": {},
   "outputs": [],
   "source": [
    "rdisplay((encft_domestic_work_X.mean()/encft_domestic_work_X.std() - enhogar_domestic_work_X.mean()/enhogar_domestic_work_X.std()).to_frame())"
   ]
  },
  {
   "cell_type": "markdown",
   "metadata": {},
   "source": [
    "# Estimator"
   ]
  },
  {
   "cell_type": "code",
   "execution_count": null,
   "metadata": {},
   "outputs": [],
   "source": [
    "from sklearn.linear_model import LogisticRegression, Lasso\n",
    "from sklearn.model_selection import GridSearchCV, train_test_split\n",
    "from sklearn.metrics import classification_report\n",
    "\n",
    "from criteriaetl.impute.model_based import ScoreBasedStratifiedImputer\n",
    "\n",
    "from projectetl.utils.estimator import get_estimator"
   ]
  },
  {
   "cell_type": "code",
   "execution_count": null,
   "metadata": {},
   "outputs": [],
   "source": [
    "weight_col = 'factor_expansion'"
   ]
  },
  {
   "cell_type": "markdown",
   "metadata": {},
   "source": [
    "## Tiempo dedicado Cuidados"
   ]
  },
  {
   "cell_type": "markdown",
   "metadata": {},
   "source": [
    "### Classification Estimator"
   ]
  },
  {
   "cell_type": "code",
   "execution_count": null,
   "metadata": {},
   "outputs": [],
   "source": [
    "classifcation_care_target_col = 'dedico_tiempo_cuidados'"
   ]
  },
  {
   "cell_type": "markdown",
   "metadata": {},
   "source": [
    "#### Train"
   ]
  },
  {
   "cell_type": "code",
   "execution_count": null,
   "metadata": {},
   "outputs": [],
   "source": [
    "enhogar_care_y = enhogar_elected_encft_named[classifcation_care_target_col].fillna(0)\n",
    "enhogar_care_weight = enhogar_elected_encft_named[weight_col]"
   ]
  },
  {
   "cell_type": "code",
   "execution_count": null,
   "metadata": {},
   "outputs": [],
   "source": [
    "logistic_lasso_care = LogisticRegression(penalty='l1',\n",
    "                                         solver='liblinear',\n",
    "                                         random_state=6202)"
   ]
  },
  {
   "cell_type": "code",
   "execution_count": null,
   "metadata": {},
   "outputs": [],
   "source": [
    "grid_logistic_lasso_care_kwargs = {\n",
    "    'param_grid': {'C': np.array([.01, .1, 1, 10])},\n",
    "    'verbose': 1,\n",
    "    'scoring': 'neg_log_loss'\n",
    "}"
   ]
  },
  {
   "cell_type": "code",
   "execution_count": null,
   "metadata": {},
   "outputs": [],
   "source": [
    "X_care_train, X_care_test = train_test_split(enhogar_care_X)\n",
    "y_care_train, y_care_test = enhogar_care_y.loc[X_care_train.index.values], enhogar_care_y.loc[X_care_test.index.values]\n",
    "weight_care_train, weight_care_test = enhogar_care_weight.loc[X_care_train.index.values], enhogar_care_weight.loc[X_care_test.index.values]"
   ]
  },
  {
   "cell_type": "code",
   "execution_count": null,
   "metadata": {},
   "outputs": [],
   "source": [
    "estimator_logistic_lasso_care, _ = get_estimator(logistic_lasso_care,\n",
    "                                                 X=X_care_train,\n",
    "                                                 y=y_care_train,\n",
    "                                                 grid_kwargs=grid_logistic_lasso_care_kwargs,\n",
    "                                                 weight=weight_care_train)"
   ]
  },
  {
   "cell_type": "markdown",
   "metadata": {},
   "source": [
    "#### Validate"
   ]
  },
  {
   "cell_type": "code",
   "execution_count": null,
   "metadata": {},
   "outputs": [],
   "source": [
    "predicted_logistic_lasso_care = estimator_logistic_lasso_care.predict(X_care_test)\n",
    "print(classification_report(y_care_test,\n",
    "                            predicted_logistic_lasso_care,\n",
    "                            sample_weight=weight_care_test))"
   ]
  },
  {
   "cell_type": "markdown",
   "metadata": {},
   "source": [
    "#### Impute with predict"
   ]
  },
  {
   "cell_type": "code",
   "execution_count": null,
   "metadata": {},
   "outputs": [],
   "source": [
    "encft_to_impute_care = encft_care_X.copy()\n",
    "encft_to_impute_care[classifcation_care_target_col] = 0\n",
    "encft_to_impute_care[weight_col] = encft_member[weight_col]"
   ]
  },
  {
   "cell_type": "code",
   "execution_count": null,
   "metadata": {},
   "outputs": [],
   "source": [
    "encft_to_impute_care[classifcation_care_target_col] = estimator_logistic_lasso_care.predict(X=encft_care_X[enhogar_care_X.columns])"
   ]
  },
  {
   "cell_type": "code",
   "execution_count": null,
   "metadata": {},
   "outputs": [],
   "source": [
    "encft_to_impute_care.groupby('sexo')[classifcation_care_target_col].sum()"
   ]
  },
  {
   "cell_type": "code",
   "execution_count": null,
   "metadata": {},
   "outputs": [],
   "source": [
    "get_percentage_table_with_expansion_factor(encft_to_impute_care, classifcation_care_target_col, weight_col)"
   ]
  },
  {
   "cell_type": "markdown",
   "metadata": {},
   "source": [
    "#### Impute with `ScoreBasedStratifiedImputer`"
   ]
  },
  {
   "cell_type": "code",
   "execution_count": null,
   "metadata": {},
   "outputs": [],
   "source": [
    "classification_care_strata_cols = ['sexo']\n",
    "classification_care_score_col = 'score_col'\n",
    "classification_care_candidate = 'candidate_col'"
   ]
  },
  {
   "cell_type": "code",
   "execution_count": null,
   "metadata": {},
   "outputs": [],
   "source": [
    "encft_to_impute_care = encft_care_X.copy()\n",
    "encft_to_impute_care[classifcation_care_target_col] = 0\n",
    "encft_to_impute_care[weight_col] = encft_member[weight_col]\n",
    "encft_to_impute_care[classification_care_candidate] = 1\n",
    "encft_to_impute_care[classification_care_score_col] = estimator_logistic_lasso_care.predict_proba(encft_care_X[enhogar_care_X.columns])[:, 1]"
   ]
  },
  {
   "cell_type": "code",
   "execution_count": null,
   "metadata": {},
   "outputs": [],
   "source": [
    "enhogar_care_sex_percent = pd.crosstab(index=[enhogar_care_X[col] for col in classification_care_strata_cols],\n",
    "                                       columns=enhogar_care_y,\n",
    "                                       values=enhogar_care_weight,\n",
    "                                       aggfunc='sum').apply(lambda r: r/r.sum(), axis=1)[1]\n",
    "classification_care_imputation_target_srs = encft_to_impute_care.groupby(classification_care_strata_cols)[weight_col].sum() * enhogar_care_sex_percent\n",
    "display(classification_care_imputation_target_srs)"
   ]
  },
  {
   "cell_type": "code",
   "execution_count": null,
   "metadata": {},
   "outputs": [],
   "source": [
    "classifcation_care_stratified_imputer = ScoreBasedStratifiedImputer(target_col=classifcation_care_target_col,\n",
    "                                                                    candidate_col=classification_care_candidate,\n",
    "                                                                    strata_cols=classification_care_strata_cols,\n",
    "                                                                    score_col=classification_care_score_col,\n",
    "                                                                    imputation_target_srs=classification_care_imputation_target_srs,\n",
    "                                                                    weight_col=weight_col)"
   ]
  },
  {
   "cell_type": "code",
   "execution_count": null,
   "metadata": {},
   "outputs": [],
   "source": [
    "encft_imputed_care = classifcation_care_stratified_imputer.fit_transform(encft_to_impute_care)"
   ]
  },
  {
   "cell_type": "code",
   "execution_count": null,
   "metadata": {},
   "outputs": [],
   "source": [
    "encft_imputed_care.groupby('sexo')[f'imputed_{classifcation_care_target_col}'].sum()"
   ]
  },
  {
   "cell_type": "code",
   "execution_count": null,
   "metadata": {},
   "outputs": [],
   "source": [
    "get_percentage_table_with_expansion_factor(encft_imputed_care, f'imputed_{classifcation_care_target_col}', weight_col)"
   ]
  },
  {
   "cell_type": "code",
   "execution_count": null,
   "metadata": {},
   "outputs": [],
   "source": [
    "enhogar_care_sex_percent"
   ]
  },
  {
   "cell_type": "code",
   "execution_count": null,
   "metadata": {},
   "outputs": [],
   "source": [
    "encft_care_sex_percent = pd.crosstab(index=[encft_care_X[col] for col in classification_care_strata_cols],\n",
    "                                     columns=encft_imputed_care[f'imputed_{classifcation_care_target_col}'],\n",
    "                                     values=encft_imputed_care[weight_col],\n",
    "                                     aggfunc='sum').apply(lambda r: r/r.sum(), axis=1)[1.0]\n",
    "encft_care_sex_percent"
   ]
  },
  {
   "cell_type": "markdown",
   "metadata": {},
   "source": [
    "### Regresion Estimator"
   ]
  },
  {
   "cell_type": "code",
   "execution_count": null,
   "metadata": {},
   "outputs": [],
   "source": [
    "regression_care_target_col = 'tiempo_cuidados_horas_semanales'"
   ]
  },
  {
   "cell_type": "markdown",
   "metadata": {},
   "source": [
    "#### Train"
   ]
  },
  {
   "cell_type": "code",
   "execution_count": null,
   "metadata": {},
   "outputs": [],
   "source": [
    "regression_care_enhogar_y = enhogar_elected_encft_named[regression_care_target_col].fillna(0)\n",
    "regression_care_enhogar_weight = enhogar_elected_encft_named[weight_col]"
   ]
  },
  {
   "cell_type": "code",
   "execution_count": null,
   "metadata": {},
   "outputs": [],
   "source": [
    "lasso_care = Lasso(max_iter=100000)"
   ]
  },
  {
   "cell_type": "code",
   "execution_count": null,
   "metadata": {},
   "outputs": [],
   "source": [
    "alphas = [10**(-i) for i in range(5)]\n",
    "grid_lasso_care_kwargs = {\n",
    "    'param_grid': {'alpha': np.array(alphas)},\n",
    "    'verbose': 1\n",
    "}"
   ]
  },
  {
   "cell_type": "code",
   "execution_count": null,
   "metadata": {},
   "outputs": [],
   "source": [
    "regression_care_X_train, regression_care_X_test = train_test_split(enhogar_care_X)\n",
    "regression_care_y_train, regression_care_y_test = \\\n",
    "    regression_care_enhogar_y.loc[regression_care_X_train.index.values], regression_care_enhogar_y.loc[regression_care_X_test.index.values]\n",
    "regression_care_weight_train, regression_care_weight_test = \\\n",
    "    regression_care_enhogar_weight.loc[regression_care_X_train.index.values], regression_care_enhogar_weight.loc[regression_care_X_test.index.values]"
   ]
  },
  {
   "cell_type": "code",
   "execution_count": null,
   "metadata": {},
   "outputs": [],
   "source": [
    "regression_care_estimator_grid_lasso, _ = get_estimator(lasso_care,\n",
    "                                                        X=regression_care_X_train,\n",
    "                                                        y=regression_care_y_train,\n",
    "                                                        grid_kwargs=grid_lasso_care_kwargs,\n",
    "                                                        weight=regression_care_weight_train)"
   ]
  },
  {
   "cell_type": "markdown",
   "metadata": {},
   "source": [
    "#### Impute with predict"
   ]
  },
  {
   "cell_type": "code",
   "execution_count": null,
   "metadata": {},
   "outputs": [],
   "source": [
    "regression_care_encft_X = encft_imputed_care[encft_imputed_care[f'imputed_{classifcation_care_target_col}'] == 1][enhogar_care_X.columns]"
   ]
  },
  {
   "cell_type": "code",
   "execution_count": null,
   "metadata": {},
   "outputs": [],
   "source": [
    "encft_imputed_care.loc[encft_imputed_care[f'imputed_{classifcation_care_target_col}'] == 1, regression_care_target_col] = regression_care_estimator_grid_lasso.predict(regression_care_encft_X)"
   ]
  },
  {
   "cell_type": "code",
   "execution_count": null,
   "metadata": {},
   "outputs": [],
   "source": [
    "encft_only_care = encft_imputed_care[encft_imputed_care[f'imputed_{classifcation_care_target_col}'] == 1]"
   ]
  },
  {
   "cell_type": "code",
   "execution_count": null,
   "metadata": {},
   "outputs": [],
   "source": [
    "# Weighted average per sex\n",
    "encft_only_care['wa'] = encft_only_care[weight_col] / encft_only_care.groupby('sexo')[weight_col].transform('sum') * encft_only_care[regression_care_target_col]\n",
    "encft_only_care.groupby('sexo')['wa'].sum()"
   ]
  },
  {
   "cell_type": "markdown",
   "metadata": {},
   "source": [
    "## Tiempo dedicado a Trabajo Doméstico"
   ]
  },
  {
   "cell_type": "markdown",
   "metadata": {},
   "source": [
    "### Classification Estimator"
   ]
  },
  {
   "cell_type": "code",
   "execution_count": null,
   "metadata": {},
   "outputs": [],
   "source": [
    "classifcation_domestic_work_target_col = 'dedico_tiempo_trabajo_doméstico_no_remunerado'"
   ]
  },
  {
   "cell_type": "markdown",
   "metadata": {},
   "source": [
    "#### Train"
   ]
  },
  {
   "cell_type": "code",
   "execution_count": null,
   "metadata": {},
   "outputs": [],
   "source": [
    "enhogar_domestic_work_y = enhogar_elected_encft_named[classifcation_domestic_work_target_col].fillna(0)\n",
    "enhogar_domestic_work_weight = enhogar_elected_encft_named[weight_col]"
   ]
  },
  {
   "cell_type": "code",
   "execution_count": null,
   "metadata": {},
   "outputs": [],
   "source": [
    "logistic_lasso_domestic_work = LogisticRegression(penalty='l1',\n",
    "                                                  solver='liblinear',\n",
    "                                                  random_state=6202)"
   ]
  },
  {
   "cell_type": "code",
   "execution_count": null,
   "metadata": {},
   "outputs": [],
   "source": [
    "grid_logistic_lasso_domestic_work_kwargs = {\n",
    "    'param_grid': {'C': np.array([.01, .1, 1, 10])},\n",
    "    'verbose': 1,\n",
    "    'scoring': 'neg_log_loss'\n",
    "}"
   ]
  },
  {
   "cell_type": "code",
   "execution_count": null,
   "metadata": {},
   "outputs": [],
   "source": [
    "X_domestic_work_train, X_domestic_work_test = train_test_split(enhogar_domestic_work_X)\n",
    "y_domestic_work_train, y_domestic_work_test = enhogar_domestic_work_y.loc[X_domestic_work_train.index.values], enhogar_domestic_work_y.loc[X_domestic_work_test.index.values]\n",
    "weight_domestic_work_train, weight_domestic_work_test = enhogar_domestic_work_weight.loc[X_domestic_work_train.index.values], enhogar_domestic_work_weight.loc[X_domestic_work_test.index.values]"
   ]
  },
  {
   "cell_type": "code",
   "execution_count": null,
   "metadata": {},
   "outputs": [],
   "source": [
    "estimator_logistic_lasso_domestic_work, _ = get_estimator(logistic_lasso_domestic_work,\n",
    "                                                          X=X_domestic_work_train,\n",
    "                                                          y=y_domestic_work_train,\n",
    "                                                          grid_kwargs=grid_logistic_lasso_domestic_work_kwargs,\n",
    "                                                          weight=weight_domestic_work_train)"
   ]
  },
  {
   "cell_type": "markdown",
   "metadata": {},
   "source": [
    "#### Validate"
   ]
  },
  {
   "cell_type": "code",
   "execution_count": null,
   "metadata": {},
   "outputs": [],
   "source": [
    "predicted_logistic_lasso_domestic_work = estimator_logistic_lasso_domestic_work.predict(X_domestic_work_test)\n",
    "print(classification_report(y_domestic_work_test,\n",
    "                            predicted_logistic_lasso_domestic_work,\n",
    "                            sample_weight=weight_domestic_work_test))"
   ]
  },
  {
   "cell_type": "markdown",
   "metadata": {},
   "source": [
    "#### Impute with predict"
   ]
  },
  {
   "cell_type": "code",
   "execution_count": null,
   "metadata": {},
   "outputs": [],
   "source": [
    "encft_to_impute_domestic_work = encft_domestic_work_X.copy()\n",
    "encft_to_impute_domestic_work[classifcation_domestic_work_target_col] = 0\n",
    "encft_to_impute_domestic_work[weight_col] = encft_member[weight_col]"
   ]
  },
  {
   "cell_type": "code",
   "execution_count": null,
   "metadata": {},
   "outputs": [],
   "source": [
    "encft_to_impute_domestic_work[classifcation_domestic_work_target_col] = estimator_logistic_lasso_domestic_work.predict(X=encft_domestic_work_X[enhogar_domestic_work_X.columns])"
   ]
  },
  {
   "cell_type": "code",
   "execution_count": null,
   "metadata": {},
   "outputs": [],
   "source": [
    "encft_to_impute_domestic_work.groupby('sexo')[classifcation_domestic_work_target_col].sum()"
   ]
  },
  {
   "cell_type": "code",
   "execution_count": null,
   "metadata": {},
   "outputs": [],
   "source": [
    "get_percentage_table_with_expansion_factor(encft_to_impute_domestic_work, classifcation_domestic_work_target_col, weight_col)"
   ]
  },
  {
   "cell_type": "markdown",
   "metadata": {},
   "source": [
    "#### Impute with `ScoreBasedStratifiedImputer`"
   ]
  },
  {
   "cell_type": "code",
   "execution_count": null,
   "metadata": {},
   "outputs": [],
   "source": [
    "classification_domestic_work_strata_cols = ['sexo']\n",
    "classification_domestic_work_score_col = 'score_col'\n",
    "classification_domestic_work_candidate = 'candidate_col'"
   ]
  },
  {
   "cell_type": "code",
   "execution_count": null,
   "metadata": {},
   "outputs": [],
   "source": [
    "encft_to_impute_domestic_work = encft_domestic_work_X.copy()\n",
    "encft_to_impute_domestic_work[classifcation_domestic_work_target_col] = 0\n",
    "encft_to_impute_domestic_work[weight_col] = encft_member[weight_col]\n",
    "encft_to_impute_domestic_work[classification_domestic_work_candidate] = 1\n",
    "encft_to_impute_domestic_work[classification_domestic_work_score_col] = estimator_logistic_lasso_domestic_work.predict_proba(encft_domestic_work_X[enhogar_domestic_work_X.columns])[:, 1]"
   ]
  },
  {
   "cell_type": "code",
   "execution_count": null,
   "metadata": {},
   "outputs": [],
   "source": [
    "enhogar_domestic_work_sex_percent = pd.crosstab(index=[enhogar_domestic_work_X[col] for col in classification_domestic_work_strata_cols],\n",
    "                                                columns=enhogar_domestic_work_y,\n",
    "                                                values=enhogar_domestic_work_weight,\n",
    "                                                aggfunc='sum').apply(lambda r: r/r.sum(), axis=1)[1]\n",
    "classification_domestic_work_imputation_target_srs = encft_to_impute_domestic_work.groupby(classification_domestic_work_strata_cols)[weight_col].sum() * enhogar_domestic_work_sex_percent\n",
    "display(classification_domestic_work_imputation_target_srs)"
   ]
  },
  {
   "cell_type": "code",
   "execution_count": null,
   "metadata": {},
   "outputs": [],
   "source": [
    "classifcation_domestic_work_stratified_imputer = ScoreBasedStratifiedImputer(target_col=classifcation_domestic_work_target_col,\n",
    "                                                                    candidate_col=classification_domestic_work_candidate,\n",
    "                                                                    strata_cols=classification_domestic_work_strata_cols,\n",
    "                                                                    score_col=classification_domestic_work_score_col,\n",
    "                                                                    imputation_target_srs=classification_domestic_work_imputation_target_srs,\n",
    "                                                                    weight_col=weight_col)"
   ]
  },
  {
   "cell_type": "code",
   "execution_count": null,
   "metadata": {},
   "outputs": [],
   "source": [
    "encft_imputed_domestic_work = classifcation_domestic_work_stratified_imputer.fit_transform(encft_to_impute_domestic_work)"
   ]
  },
  {
   "cell_type": "code",
   "execution_count": null,
   "metadata": {},
   "outputs": [],
   "source": [
    "encft_imputed_domestic_work.groupby('sexo')[f'imputed_{classifcation_domestic_work_target_col}'].sum()"
   ]
  },
  {
   "cell_type": "code",
   "execution_count": null,
   "metadata": {},
   "outputs": [],
   "source": [
    "get_percentage_table_with_expansion_factor(encft_imputed_domestic_work, f'imputed_{classifcation_domestic_work_target_col}', weight_col)"
   ]
  },
  {
   "cell_type": "code",
   "execution_count": null,
   "metadata": {},
   "outputs": [],
   "source": [
    "encft_domestic_work_sex_percent = pd.crosstab(index=[encft_domestic_work_X[col] for col in classification_domestic_work_strata_cols],\n",
    "                                     columns=encft_imputed_domestic_work[f'imputed_{classifcation_domestic_work_target_col}'],\n",
    "                                     values=encft_imputed_domestic_work[weight_col],\n",
    "                                     aggfunc='sum').apply(lambda r: r/r.sum(), axis=1)[1.0]\n",
    "encft_domestic_work_sex_percent"
   ]
  },
  {
   "cell_type": "markdown",
   "metadata": {},
   "source": [
    "### Regresion Estimator"
   ]
  },
  {
   "cell_type": "code",
   "execution_count": null,
   "metadata": {},
   "outputs": [],
   "source": [
    "regression_domestic_work_target_col = 'tiempo_trabajo_doméstico_no_remunerado_horas_semanales'"
   ]
  },
  {
   "cell_type": "markdown",
   "metadata": {},
   "source": [
    "#### Train"
   ]
  },
  {
   "cell_type": "code",
   "execution_count": null,
   "metadata": {},
   "outputs": [],
   "source": [
    "regression_domestic_work_enhogar_y = enhogar_elected_encft_named[regression_domestic_work_target_col].fillna(0)\n",
    "regression_domestic_work_enhogar_weight = enhogar_elected_encft_named[weight_col]"
   ]
  },
  {
   "cell_type": "code",
   "execution_count": null,
   "metadata": {},
   "outputs": [],
   "source": [
    "lasso_domestic_work = Lasso(max_iter=100000)"
   ]
  },
  {
   "cell_type": "code",
   "execution_count": null,
   "metadata": {},
   "outputs": [],
   "source": [
    "alphas = [10**(-i) for i in range(5)]\n",
    "grid_lasso_domestic_work_kwargs = {\n",
    "    'param_grid': {'alpha': np.array(alphas)},\n",
    "    'verbose': 1\n",
    "}"
   ]
  },
  {
   "cell_type": "code",
   "execution_count": null,
   "metadata": {},
   "outputs": [],
   "source": [
    "regression_domestic_work_X_train, regression_domestic_work_X_test = train_test_split(enhogar_domestic_work_X)\n",
    "regression_domestic_work_y_train, regression_domestic_work_y_test = \\\n",
    "    regression_domestic_work_enhogar_y.loc[regression_domestic_work_X_train.index.values], \\\n",
    "    regression_domestic_work_enhogar_y.loc[regression_domestic_work_X_test.index.values]\n",
    "regression_domestic_work_weight_train, regression_domestic_work_weight_test = \\\n",
    "    regression_domestic_work_enhogar_weight.loc[regression_domestic_work_X_train.index.values], \\\n",
    "    regression_domestic_work_enhogar_weight.loc[regression_domestic_work_X_test.index.values]"
   ]
  },
  {
   "cell_type": "code",
   "execution_count": null,
   "metadata": {},
   "outputs": [],
   "source": [
    "regression_domestic_work_estimator_grid_lasso, _ = get_estimator(lasso_domestic_work,\n",
    "                                                                 X=regression_domestic_work_X_train,\n",
    "                                                                 y=regression_domestic_work_y_train,\n",
    "                                                                 grid_kwargs=grid_lasso_domestic_work_kwargs,\n",
    "                                                                 weight=regression_domestic_work_weight_train)"
   ]
  },
  {
   "cell_type": "code",
   "execution_count": null,
   "metadata": {},
   "outputs": [],
   "source": [
    "regression_domestic_work_estimator_grid_lasso.best_estimator_"
   ]
  },
  {
   "cell_type": "markdown",
   "metadata": {},
   "source": [
    "#### Impute with predict"
   ]
  },
  {
   "cell_type": "code",
   "execution_count": null,
   "metadata": {},
   "outputs": [],
   "source": [
    "regression_domestic_work_encft_X = encft_imputed_domestic_work[encft_imputed_domestic_work[f'imputed_{classifcation_domestic_work_target_col}'] == 1][enhogar_domestic_work_X.columns]"
   ]
  },
  {
   "cell_type": "code",
   "execution_count": null,
   "metadata": {},
   "outputs": [],
   "source": [
    "encft_imputed_domestic_work.loc[encft_imputed_domestic_work[f'imputed_{classifcation_domestic_work_target_col}'] == 1, regression_domestic_work_target_col] = \\\n",
    "    regression_domestic_work_estimator_grid_lasso.predict(regression_domestic_work_encft_X)"
   ]
  },
  {
   "cell_type": "code",
   "execution_count": null,
   "metadata": {},
   "outputs": [],
   "source": [
    "encft_only_domestic_work = encft_imputed_domestic_work[encft_imputed_domestic_work[f'imputed_{classifcation_domestic_work_target_col}'] == 1]"
   ]
  },
  {
   "cell_type": "code",
   "execution_count": null,
   "metadata": {},
   "outputs": [],
   "source": [
    "# Weighted average per sex\n",
    "encft_only_domestic_work['wa'] = encft_only_domestic_work[weight_col] / encft_only_domestic_work.groupby('sexo')[weight_col].transform('sum') * encft_only_domestic_work[regression_domestic_work_target_col]\n",
    "encft_only_domestic_work.groupby('sexo')['wa'].sum()"
   ]
  },
  {
   "cell_type": "markdown",
   "metadata": {},
   "source": [
    "# Merge imputations"
   ]
  },
  {
   "cell_type": "code",
   "execution_count": null,
   "metadata": {},
   "outputs": [],
   "source": [
    "merge_care_transformer = MergeTransformer(lambda : encft_imputed_care[merge_cols + [f'imputed_{classifcation_care_target_col}', regression_care_target_col]],\n",
    "                                          merge_kwargs={'on': merge_cols, 'how': 'outer'})\n",
    "merge_domestic_work_transformer = MergeTransformer(lambda : encft_imputed_domestic_work[merge_cols + [f'imputed_{classifcation_domestic_work_target_col}', regression_domestic_work_target_col]],\n",
    "                                                   merge_kwargs={'on': merge_cols, 'how': 'outer'})\n",
    "encft_member_imputed = make_pipeline(\n",
    "    merge_care_transformer,\n",
    "    merge_domestic_work_transformer\n",
    ").transform(encft_member_raw)"
   ]
  },
  {
   "cell_type": "code",
   "execution_count": null,
   "metadata": {},
   "outputs": [],
   "source": [
    "cdisplay(encft_member_imputed)"
   ]
  },
  {
   "cell_type": "markdown",
   "metadata": {},
   "source": [
    "# Save imputed ENCFT"
   ]
  },
  {
   "cell_type": "code",
   "execution_count": null,
   "metadata": {},
   "outputs": [],
   "source": [
    "save_survey_with_pickle(encft_member_imputed, ENCFT_OBJECT_DIR / 'encft-2020-use-time.pkl')"
   ]
  }
 ],
 "metadata": {
  "kernelspec": {
   "display_name": "Python [conda env:criteria-do]",
   "language": "python",
   "name": "conda-env-criteria-do-py"
  },
  "language_info": {
   "codemirror_mode": {
    "name": "ipython",
    "version": 3
   },
   "file_extension": ".py",
   "mimetype": "text/x-python",
   "name": "python",
   "nbconvert_exporter": "python",
   "pygments_lexer": "ipython3",
   "version": "3.7.10"
  }
 },
 "nbformat": 4,
 "nbformat_minor": 2
}