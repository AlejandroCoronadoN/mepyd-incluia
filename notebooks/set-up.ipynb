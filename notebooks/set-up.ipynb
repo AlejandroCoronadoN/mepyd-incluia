{
 "cells": [
  {
   "cell_type": "code",
   "execution_count": null,
   "metadata": {},
   "outputs": [],
   "source": [
    "from projectetl.utils.config import data_dir\n",
    "import pandas as pd\n",
    "import textwrap\n",
    "\n",
    "assert isinstance(pd.read_csv(\n",
    "    f'{data_dir}/other/example.csv'), pd.DataFrame), textwrap.fill(\n",
    "    \"Check if the environment is correctly installed or if `data_dir` is\"\n",
    "    \"not pointing to the appropriate directory\"\n",
    ")\n",
    "print('Set-up run successfully')"
   ]
  }
 ],
 "metadata": {
  "kernelspec": {
   "display_name": "Python [conda env:criteria-etl-template]",
   "language": "python",
   "name": "conda-env-criteria-etl-template-py"
  }
 },
 "nbformat": 4,
 "nbformat_minor": 1
}
