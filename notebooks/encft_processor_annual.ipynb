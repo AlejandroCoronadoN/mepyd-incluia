{
 "cells": [
  {
   "cell_type": "code",
   "execution_count": null,
   "metadata": {},
   "outputs": [],
   "source": [
    "%load_ext autoreload\n",
    "%autoreload 2"
   ]
  },
  {
   "cell_type": "code",
   "execution_count": null,
   "metadata": {},
   "outputs": [],
   "source": [
    "import sys\n",
    "import importlib\n",
    "\n",
    "import itertools as it\n",
    "import matplotlib.pyplot as plt\n",
    "import seaborn as sns\n",
    "import pandas as pd\n",
    "import numpy as np\n",
    "import statsmodels.api as sm\n",
    "import gc\n",
    "\n",
    "from itertools import product\n",
    "from sklearn.pipeline import make_pipeline\n",
    "\n",
    "from criteriaetl.utils.expansion_func import (get_value_counts_with_expansion_factor,\n",
    "    get_percentage_table_with_expansion_factor, get_weighted_average)\n",
    "from criteriaetl.utils.display_func import cdisplay, percentage_count_plot\n",
    "from criteriaetl.utils.common_func import (get_weighted_complete_randomization_series_on_subset, \n",
    "    proportional_cut, weighted_qcut, get_partition_bool_columns_dict)\n",
    "from criteriaetl.transformers.columns_base import (NameTransformer, \n",
    "    ReplaceTransformer, SelectTransformer, AssignTransformer)\n",
    "from criteriaetl.transformers.rows_base import AggregateTransformer\n",
    "from criteriaetl.transformers.fusion_base import MergeTransformer\n",
    "\n",
    "from projectetl.utils.dataload import (load_survey_data_do, save_survey_with_pickle,\n",
    "                                       load_survey_from_pickle)\n",
    "from projectetl.utils.config import (ENCFT_SURVEY_PATH, ENCFT_PREVIOUS_SURVEY_PATH,\n",
    "                                     ENCFT_OBJECT_DIR, INFLATION_OBJECT_DIR, DATA_DIR,\n",
    "                                     ENCFT_DIR)\n",
    "from projectetl.utils.display import inspect_nulls\n",
    "from projectetl.utils.save import protected_save\n",
    "from projectetl.utils.prioritize import normalize_prioritization_variable"
   ]
  },
  {
   "cell_type": "markdown",
   "metadata": {},
   "source": [
    "## Configuration variables"
   ]
  },
  {
   "cell_type": "code",
   "execution_count": null,
   "metadata": {},
   "outputs": [],
   "source": [
    "# control flow\n",
    "get_raw = 0 # if 1 will read the raw data, if 0 will load the data from a previously serialized pickle object\n",
    "get_raw_incomes = 0\n",
    "get_imputed = 1\n",
    "get_icv = 1\n",
    "\n",
    "# merge keys\n",
    "key_member = ['trimestre', 'id_hogar', 'id_persona']\n",
    "key_household = key_member[:-1]"
   ]
  },
  {
   "cell_type": "markdown",
   "metadata": {},
   "source": [
    "# Load data"
   ]
  },
  {
   "cell_type": "markdown",
   "metadata": {},
   "source": [
    "## Survey\n"
   ]
  },
  {
   "cell_type": "code",
   "execution_count": null,
   "metadata": {},
   "outputs": [],
   "source": [
    "if get_raw:\n",
    "    print('loading raw')\n",
    "    survey_raw = load_survey_data_do(ENCFT_DIR / '2020 con pobreza calculada.csv', load_func=lambda path: pd.read_csv(str(path), low_memory=False))\n",
    "    save_survey_with_pickle(survey_raw, ENCFT_OBJECT_DIR / 'encft2020.pkl')\n",
    "else:\n",
    "    print('loading pickle')\n",
    "    survey_raw = load_survey_from_pickle(ENCFT_OBJECT_DIR / 'encft202001-202004.pkl')"
   ]
  },
  {
   "cell_type": "code",
   "execution_count": null,
   "metadata": {},
   "outputs": [],
   "source": [
    "if get_icv:\n",
    "    print('loading icv')\n",
    "    survey_icv = load_survey_from_pickle(ENCFT_OBJECT_DIR / 'encft-2020-icv-household.pkl')"
   ]
  },
  {
   "cell_type": "code",
   "execution_count": null,
   "metadata": {},
   "outputs": [],
   "source": [
    "if get_raw_incomes:\n",
    "    print('loading csv')\n",
    "    survey_incomes = load_survey_data_do(ENCFT_DIR / '2020 con pobreza calculada.csv', load_func=lambda path: pd.read_csv(str(path), low_memory=False))\n",
    "    save_survey_with_pickle(survey_incomes, ENCFT_OBJECT_DIR / 'encft2020.pkl')\n",
    "else:\n",
    "    print('loading pickle')\n",
    "    survey_incomes = load_survey_from_pickle(ENCFT_OBJECT_DIR / 'encft2020.pkl')\n",
    "    \n",
    "cols_from_incomes = key_member + ['ingpercapitadef', 'lpextrema', 'lpgeneral', 'quedateencasa', \n",
    "                                  'trsoc_def', 'trsoc', 'factor_expansion_anual']\n",
    "survey_incomes_slim = survey_incomes[cols_from_incomes].copy()\n",
    "del survey_incomes\n",
    "gc.collect()"
   ]
  },
  {
   "cell_type": "code",
   "execution_count": null,
   "metadata": {},
   "outputs": [],
   "source": [
    "if get_imputed:\n",
    "    print('getting imputed')\n",
    "    survey_member_raw = load_survey_from_pickle(ENCFT_OBJECT_DIR / 'encft-2020-use-time.pkl')\n",
    "else:\n",
    "    print('getting raw')\n",
    "    survey_member_raw = survey_raw['Miembros']\n",
    "    \n",
    "survey_household_raw = survey_raw['Hogar']\n",
    "survey_house_raw = survey_raw['Vivienda']"
   ]
  },
  {
   "cell_type": "code",
   "execution_count": null,
   "metadata": {},
   "outputs": [],
   "source": [
    "cdisplay(survey_member_raw.head())"
   ]
  },
  {
   "cell_type": "markdown",
   "metadata": {},
   "source": [
    "## Dictionary"
   ]
  },
  {
   "cell_type": "code",
   "execution_count": null,
   "metadata": {},
   "outputs": [],
   "source": [
    "survey_dict = survey_raw['Diccionario']"
   ]
  },
  {
   "cell_type": "code",
   "execution_count": null,
   "metadata": {},
   "outputs": [],
   "source": [
    "def consult_dict(field):\n",
    "    return survey_dict[survey_dict['campo'] == field.upper()][['valor', 'descripcion', 'texto']] "
   ]
  },
  {
   "cell_type": "markdown",
   "metadata": {},
   "source": [
    "## Merge Transformer"
   ]
  },
  {
   "cell_type": "code",
   "execution_count": null,
   "metadata": {},
   "outputs": [],
   "source": [
    "merge_survey_incomes_member_transformer = MergeTransformer(\n",
    "    lambda cols=cols_from_incomes: survey_incomes_slim, merge_kwargs={'on': key_member,})\n",
    "survey_member_merged = merge_survey_incomes_member_transformer.transform(\n",
    "    survey_member_raw)"
   ]
  },
  {
   "cell_type": "code",
   "execution_count": null,
   "metadata": {},
   "outputs": [],
   "source": [
    "survey_member_raw.shape, survey_member_merged.shape"
   ]
  },
  {
   "cell_type": "markdown",
   "metadata": {},
   "source": [
    "## Replace Transformer"
   ]
  },
  {
   "cell_type": "code",
   "execution_count": null,
   "metadata": {},
   "outputs": [],
   "source": [
    "replace_member_map = {\n",
    "    'sexo': {\n",
    "        1: 0,\n",
    "        2: 1\n",
    "    }\n",
    "}\n",
    "\n",
    "replace_member_transformer = ReplaceTransformer(replace_member_map)\n",
    "survey_member_replaced = replace_member_transformer.transform(survey_member_merged)"
   ]
  },
  {
   "cell_type": "markdown",
   "metadata": {},
   "source": [
    "## Assign Transformer"
   ]
  },
  {
   "cell_type": "code",
   "execution_count": null,
   "metadata": {},
   "outputs": [],
   "source": [
    "assign_member_map = {\n",
    "    # Segmentation\n",
    "    'edad_menor_5': lambda df: (df['edad'] < 5).astype(int),\n",
    "    'edad_mayor_60': lambda df: (df['edad'] > 60).astype(int),\n",
    "    'edad_mayor_65': lambda df: (df['edad'] > 65).astype(int),\n",
    "    'edad_5_a_10': lambda df: ((df['edad'] >= 5) & (df['edad'] < 10)).astype(int),\n",
    "    'edad_10_a_15': lambda df: ((df['edad'] > 10) & (df['edad'] <= 15)).astype(int),\n",
    "    # ---\n",
    "    'es_jefe': lambda df: (df['parentesco'] == 1).astype(int),\n",
    "    'es_conyugue': lambda df: (df['parentesco'] == 2).astype(int),\n",
    "    'es_hijo': lambda df: (df['parentesco'] == 3).astype(int),\n",
    "    'otro_pariente': lambda df: df['parentesco'].isin(range(4, 12)).astype(int),\n",
    "    'no_pariente': lambda df: (df['parentesco'] == 12).astype(int),\n",
    "    'sexo_jefe_familia': lambda df: df['sexo'] * df['es_jefe'],\n",
    "    # ---\n",
    "    'es_trabajador_domestico': lambda df: df['orden_sector'] == 3,\n",
    "    'es_enfermo': lambda df: df['motivo_no_disponible'] == 4,\n",
    "    'es_trabajador_infantil': lambda df: df['edad'].isin(range(0, 16)) & df['trabajo_semana_pasada'] == 1,\n",
    "    # ---\n",
    "    'es_informal': lambda df: df['orden_empleo'] == 2,\n",
    "    'es_formal': lambda df: df['orden_empleo'] == 1, \n",
    "    'factor_anual': lambda df: df['factor_expansion'].div(4),\n",
    "    \n",
    "    # income cols\n",
    "    'deflactor_trsoc': lambda df: df['trsoc_def'].div(df['trsoc']),\n",
    "    'quedateencasa_def': lambda df: df['quedateencasa'].mul(df['deflactor_trsoc'])\n",
    "}\n",
    "\n",
    "time_use_assign_member_map = {\n",
    "    'tiempo_no_remunerado': lambda df: df[[\n",
    "        'tiempo_cuidados_horas_semanales', \n",
    "        'tiempo_trabajo_doméstico_no_remunerado_horas_semanales']].sum(1),\n",
    "    'femenino_potencial_tnr': lambda df: df['sexo'].eq(1) & df['edad'].ge(10), \n",
    "    'tnr_femenino': lambda df:  df['tiempo_no_remunerado'].mul(df['femenino_potencial_tnr']), \n",
    "    'masculino_potencial_tnr': lambda df: df['sexo'].eq(0) & df['edad'].ge(10),\n",
    "    'tnr_masculino': lambda df:  df['tiempo_no_remunerado'].mul(df['masculino_potencial_tnr']),\n",
    "    \n",
    "    \n",
    "} if get_imputed else {}\n",
    "\n",
    "assign_member_transformer = AssignTransformer({**assign_member_map, **time_use_assign_member_map})\n",
    "survey_member_assigned = assign_member_transformer.transform(survey_member_replaced)"
   ]
  },
  {
   "cell_type": "markdown",
   "metadata": {},
   "source": [
    "## Aggregate Transformer"
   ]
  },
  {
   "cell_type": "code",
   "execution_count": null,
   "metadata": {},
   "outputs": [],
   "source": [
    "aggregate_member_map = {\n",
    "    'sum': [\n",
    "        'quedate_en_casa', #'ingreso_total', 'ingreso_subsidios',\n",
    "        #'ingreso_monetario_exterior', 'ingreso_no_laboral_no_monetario',\n",
    "        #'ingreso_no_laboral_monetario', 'ingreso_laboral_no_monetario',\n",
    "        #'ingreso_laboral_monetario', 'ingreso_subsidios_covid',\n",
    "        #'ingreso_sin_subsidios_covid', 'ingreso_sin_qec',\n",
    "        'quedate_en_casa', 'comer_es_primero',\n",
    "        'sexo_jefe_familia', 'edad_menor_5', 'edad_mayor_65',\n",
    "        'es_jefe', 'es_conyugue', 'es_hijo', 'otro_pariente',\n",
    "        'no_pariente', 'es_informal', 'es_formal', \n",
    "        'ingpercapitadef', 'quedateencasa_def', \n",
    "        \n",
    "    ] + (['tnr_femenino', 'tnr_masculino', 'femenino_potencial_tnr', \n",
    "          'masculino_potencial_tnr'] if get_imputed else []),\n",
    "\n",
    "    'any': [\n",
    "        'edad_menor_5', 'edad_mayor_60', 'edad_mayor_65',\n",
    "        'edad_5_a_10', 'edad_10_a_15', 'es_trabajador_domestico',\n",
    "        'es_enfermo', 'es_informal', 'es_trabajador_infantil'\n",
    "    ],\n",
    "}\n",
    "keep_first = ['factor_anual', 'miembro', 'cantidad_miembros_hogar', 'zona', 'grupo_region', #'trimestre'\n",
    "              'lpgeneral', 'lpextrema'\n",
    "             ]\n",
    "aggregate_member_transformer = AggregateTransformer(aggregate_member_map, keep_first, key_household)\n",
    "survey_household_member_aggregated = aggregate_member_transformer.transform(survey_member_assigned)"
   ]
  },
  {
   "cell_type": "code",
   "execution_count": null,
   "metadata": {},
   "outputs": [],
   "source": [
    "survey_household_member_aggregated"
   ]
  },
  {
   "cell_type": "markdown",
   "metadata": {},
   "source": [
    "# Processing Households"
   ]
  },
  {
   "cell_type": "markdown",
   "metadata": {},
   "source": [
    "## Merge Transformer"
   ]
  },
  {
   "cell_type": "code",
   "execution_count": null,
   "metadata": {},
   "outputs": [],
   "source": [
    "\n",
    "merge_survey_household_member_transformer = MergeTransformer(\n",
    "    lambda : survey_household_raw, merge_kwargs={'on': key_household,})\n",
    "merge_survey_household_icv_transformer = MergeTransformer(\n",
    "    lambda : survey_icv, merge_kwargs={'on': key_household,})\n",
    "\n",
    "survey_household_merged = make_pipeline( \n",
    "    merge_survey_household_member_transformer,\n",
    "    merge_survey_household_icv_transformer,\n",
    ").transform(survey_household_member_aggregated)"
   ]
  },
  {
   "cell_type": "code",
   "execution_count": null,
   "metadata": {},
   "outputs": [],
   "source": [
    "survey_household_merged"
   ]
  },
  {
   "cell_type": "markdown",
   "metadata": {},
   "source": [
    "## Replace Transformer"
   ]
  },
  {
   "cell_type": "code",
   "execution_count": null,
   "metadata": {},
   "outputs": [],
   "source": [
    "household_replace_map = {\n",
    "    'zona_first': {\n",
    "        1: 0, # urbana\n",
    "        2: 1 # rural\n",
    "    }\n",
    "}\n",
    "household_replace_transformer = ReplaceTransformer(household_replace_map)\n",
    "survey_household_replaced = household_replace_transformer.transform(survey_household_merged)"
   ]
  },
  {
   "cell_type": "markdown",
   "metadata": {},
   "source": [
    "## Select Transformer"
   ]
  },
  {
   "cell_type": "code",
   "execution_count": null,
   "metadata": {},
   "outputs": [],
   "source": [
    "estrato_region_map = {\n",
    "    'DISTRITO NACIONAL': 'Región Ozama',\n",
    "    'SANTO DOMINGO URBANO': 'Región Ozama',\n",
    "    'SANTO DOMINGO RURAL': 'Región Ozama',\n",
    "    'SANTIAGO URBANO': 'Región Cibao Norte',\n",
    "    'SANTIAGO RURAL': 'Región Cibao Norte',\n",
    "    'RESTO CIBAO NORTE URBANO': 'Región Cibao Norte',\n",
    "    'RESTO CIBAO NORTE RURAL': 'Región Cibao Norte',\n",
    "    'CIBAO SUR URBANO': 'Región Cibao Sur',\n",
    "    'CIBAO SUR RURAL': 'Región Cibao Sur',\n",
    "    ' CIBAO NORDESTE URBANO': 'Región Cibao Nordeste',\n",
    "    ' CIBAO NORDESTE RURAL': 'Región Cibao Nordeste',\n",
    "    ' CIBAO NOROESTE URBANO': 'Región Cibao Noroeste',\n",
    "    ' CIBAO NOROESTE RURAL': 'Región Cibao Noroeste',\n",
    "    ' VALDESIA URBANO': 'Región Valdesia',\n",
    "    ' VALDESIA RURAL': 'Región Valdesia',\n",
    "    ' EL VALLE URBANO': 'Región El Valle',\n",
    "    ' EL VALLE RURAL': 'Región El Valle',\n",
    "    ' ENRIQUILLO URBANO': 'Región Enriquillo',\n",
    "    ' ENRIQUILLO RURAL': 'Región Enriquillo',\n",
    "    ' HIGUAMO URBANO': 'Región Higuamo',\n",
    "    ' HIGUAMO RURAL': 'Región Higuamo',\n",
    "    ' YUMA URBANO': 'Región Yuma',\n",
    "    ' YUMA RURAL': 'Región Yuma'\n",
    "}"
   ]
  },
  {
   "cell_type": "code",
   "execution_count": null,
   "metadata": {},
   "outputs": [],
   "source": [
    "select_household_map = {\n",
    "    'region': {\n",
    "        lambda df, estrato=estrato: df['des_estrato'] == estrato:\n",
    "            lambda df, region=region: region\n",
    "        for estrato, region in estrato_region_map.items()\n",
    "    },\n",
    "\n",
    "    'tipo_hogar': {\n",
    "        lambda df: (df['es_jefe_sum'] == 1) & (\n",
    "            df['es_conyugue_sum'] == 0) & (df['es_hijo_sum'] == 0) & (\n",
    "            df['otro_pariente_sum'] == 0) & (df['no_pariente_sum'] == 0): \"Unipersonal\",\n",
    "        lambda df: (df['es_jefe_sum'] == 1) & (\n",
    "            df['es_conyugue_sum'] != 0) & (df['es_hijo_sum'] == 0) & (\n",
    "            df['otro_pariente_sum'] == 0) & (df['no_pariente_sum'] == 0): \"Nuclear sin hijos\",\n",
    "        lambda df: (df['es_jefe_sum'] == 1) & (\n",
    "            df['es_conyugue_sum'] != 0) & (df['es_hijo_sum'] != 0) & (\n",
    "            df['otro_pariente_sum'] == 0) & (df['no_pariente_sum'] == 0): \"Nuclear con hijos\",\n",
    "        lambda df: (df['es_jefe_sum'] == 1) & (\n",
    "            df['es_conyugue_sum'] == 0) & (df['es_hijo_sum'] != 0) & (\n",
    "            df['otro_pariente_sum'] == 0) & (df['no_pariente_sum'] == 0): \"Nuclear monoparental\",\n",
    "        lambda df: (df['es_jefe_sum'] == 1) & (df['es_conyugue_sum'] != 0)\n",
    "            & (df['es_hijo_sum'] == 0) & (df['otro_pariente_sum'] != 0)\n",
    "            & (df['no_pariente_sum'] == 0): \"Extendido base nuclear sin hijos\",\n",
    "        lambda df: (df['es_jefe_sum'] == 1) & (df['es_conyugue_sum'] != 0) & (\n",
    "            df['es_hijo_sum'] != 0) & (df['otro_pariente_sum'] != 0) & (\n",
    "            df['no_pariente_sum'] == 0): \"Extendido base nuclear con hijos\",\n",
    "        lambda df: (df['es_jefe_sum'] == 1) & (\n",
    "            df['es_conyugue_sum'] == 0) & (df['es_hijo_sum'] != 0) & (\n",
    "            df['otro_pariente_sum'] != 0) & (df['no_pariente_sum'] == 0): \"Extendido base monoparental\",\n",
    "        lambda df: (df['es_jefe_sum'] == 1) & (\n",
    "            df['es_conyugue_sum'] == 0) & (df['es_hijo_sum'] == 0) & (\n",
    "            df['otro_pariente_sum'] != 0) & (df['no_pariente_sum'] == 0): \"Extendido sin base nuclear\",\n",
    "        lambda df: (df['es_jefe_sum'] == 1) & (df['no_pariente_sum'] != 0): \"Compuesto\",\n",
    "    },\n",
    "\n",
    "    'informalidad_mayoria': {\n",
    "        lambda df: df['es_informal_sum'] > df['es_formal_sum'] : True,\n",
    "        'default': False\n",
    "    }\n",
    "}\n",
    "\n",
    "select_household_transformer = SelectTransformer(select_household_map)\n",
    "survey_household_selected = select_household_transformer.transform(survey_household_replaced)"
   ]
  },
  {
   "cell_type": "code",
   "execution_count": null,
   "metadata": {},
   "outputs": [],
   "source": [
    "survey_household_selected"
   ]
  },
  {
   "cell_type": "code",
   "execution_count": null,
   "metadata": {},
   "outputs": [],
   "source": [
    "inspect_nulls(survey_household_selected)"
   ]
  },
  {
   "cell_type": "markdown",
   "metadata": {},
   "source": [
    "## Assign Transformer"
   ]
  },
  {
   "cell_type": "code",
   "execution_count": null,
   "metadata": {},
   "outputs": [],
   "source": [
    "def generate_poverty(suffix, income_per_capita_col, lp='linea_pobreza', li='linea_pobreza_extrema'):\n",
    "    return {\n",
    "        # General Poverty\n",
    "        f'pobreza_extrema{suffix}': lambda df, income_col=income_per_capita_col, li=li: (df[\n",
    "            income_col] <= df[li]).astype(int),\n",
    "        # Extreme Poverty\n",
    "        f'pobreza_general{suffix}': lambda df, income_col=income_per_capita_col, lp=lp: (df[\n",
    "            income_col] <= df[lp]).astype(int),\n",
    "        f'pobreza{suffix}': lambda df: df[f'pobreza_extrema{suffix}'] + df[f'pobreza_general{suffix}']\n",
    "    }\n"
   ]
  },
  {
   "cell_type": "code",
   "execution_count": null,
   "metadata": {},
   "outputs": [],
   "source": [
    "n_buckets, n_buckets_total = 10, 65\n",
    "\n",
    "assign_household_per_capita_map = {\n",
    "    # Incomes corrected\n",
    "    'ingreso_sin_qec_sum': lambda df: df['ingpercapitadef_sum'].subtract(df['quedateencasa_def_sum']),\n",
    "    \n",
    "    # Incomes per capita\n",
    "    'ingreso_per_capita': lambda df: df['ingpercapitadef_sum'] / df['cantidad_miembros_hogar_first'],\n",
    "    'ingreso_per_capita_sin_qec': lambda df: (df['ingreso_sin_qec_sum'] / df['cantidad_miembros_hogar_first']).fillna(0),\n",
    "    'ingreso_per_capita_qec': lambda df: df['quedate_en_casa_sum'] / df['cantidad_miembros_hogar_first'], \n",
    "    \n",
    "    # poverty lines\n",
    "    'linea_pobreza': lambda df: df['lpgeneral_first'],\n",
    "    'linea_pobreza_extrema': lambda df: df['lpextrema_first'],\n",
    "    'linea_pobreza_norm': lambda df: df['linea_pobreza'] / df['linea_pobreza_extrema'],\n",
    "    \n",
    "    # Income Bins and normalize\n",
    "    'ingreso_per_capita_bins': lambda df: proportional_cut(\n",
    "        df, 'ingreso_per_capita', 'linea_pobreza', n_buckets, n_buckets_total, \n",
    "        include_lowest=True),\n",
    "    'ingreso_sin_qec_sum_norm': lambda df: normalize_prioritization_variable(\n",
    "        df, 'ingreso_per_capita', 'linea_pobreza', n_buckets, (1, n_buckets_total)),\n",
    "    'ingreso_per_capita_sin_qec_bins': lambda df: proportional_cut(\n",
    "        df, 'ingreso_per_capita_sin_qec', 'linea_pobreza', n_buckets, n_buckets_total,\n",
    "        include_lowest=True, collapse_negative=True),\n",
    "    'ingreso_per_capita_sin_qec_norm': lambda df: normalize_prioritization_variable(\n",
    "        df, 'ingreso_per_capita_sin_qec', 'linea_pobreza', n_buckets, (1, n_buckets_total)),\n",
    "    \n",
    "    # Poverty\n",
    "    **generate_poverty('', 'ingreso_per_capita'),\n",
    "    #**generate_poverty('_sin_subsidio', 'ingreso_sin_subsidio_covid_per_capita'),\n",
    "    **generate_poverty('_sin_qec', 'ingreso_per_capita_sin_qec'),\n",
    "    \n",
    "    # Cost Factors\n",
    "    'factor_cost': lambda df: float(1.0),\n",
    "    'factor_cost_percent': lambda df: (df['ingreso_per_capita_qec'] / 100.0).astype(float),\n",
    "    \n",
    "    # Impact Factors\n",
    "    'factor_impact': lambda df, n_buckets=n_buckets: (n_buckets / df['linea_pobreza']).astype(float),\n",
    "    'factor_impact_percent': lambda df: (df['factor_cost_percent'] * df['factor_impact']).astype(float),\n",
    "    'factor_impact_dop': lambda df, n_buckets=n_buckets: (n_buckets / (df['linea_pobreza'] * df[\n",
    "        'cantidad_miembros_hogar_first'])).astype(float),\n",
    "    \n",
    "    # Segmentation\n",
    "    'recibe_qec': lambda df: df['quedateencasa_def_sum'] > 0.0,\n",
    "    \n",
    "    # Statistics\n",
    "    'beneficio_promedio_qec': lambda df: 100.0 * df['ingreso_per_capita_qec'] / df['linea_pobreza'],\n",
    "}\n",
    "\n",
    "time_use_assign_household_map = {\n",
    "    'tnr_femenino_promedio_hogar': lambda df: np.where(df[\n",
    "        'femenino_potencial_tnr_sum'] > 0, df['tnr_femenino_sum'].div(df[\n",
    "        'femenino_potencial_tnr_sum']), 0),\n",
    "    'tnr_masculino_promedio_hogar': lambda df: np.where(df[\n",
    "        'masculino_potencial_tnr_sum'] > 0, df['tnr_masculino_sum'].div(df[\n",
    "        'masculino_potencial_tnr_sum']), 0),\n",
    "} if get_imputed else {}\n",
    "    \n",
    "assign_household_transformer = AssignTransformer({**assign_household_per_capita_map, **time_use_assign_household_map})\n",
    "survey_household_assigned_per_capita = assign_household_transformer.transform(survey_household_selected)"
   ]
  },
  {
   "cell_type": "code",
   "execution_count": null,
   "metadata": {},
   "outputs": [],
   "source": [
    "inspect_nulls(survey_household_assigned_per_capita)"
   ]
  },
  {
   "cell_type": "code",
   "execution_count": null,
   "metadata": {},
   "outputs": [],
   "source": [
    "sns.countplot(x='ingreso_per_capita_bins', data=survey_household_assigned_per_capita)"
   ]
  },
  {
   "cell_type": "code",
   "execution_count": null,
   "metadata": {},
   "outputs": [],
   "source": [
    "sns.countplot(x='ingreso_per_capita_sin_qec_bins', data=survey_household_assigned_per_capita)"
   ]
  },
  {
   "cell_type": "raw",
   "metadata": {},
   "source": [
    "\"\"\"\n",
    "En Covid bajo la lupa, para junio 2020 se reportan los siguientes valores de pobreza extrema y pobreza general:\n",
    "* pobreza extrema - 8.2 % (9.05% corrected)\n",
    "* pobreza general - 34.6 % (31.48% corrected)\n",
    "\"\"\"\n",
    "get_percentage_table_with_expansion_factor(survey_household_assigned_per_capita, 'pobreza_sin_subsidio', 'factor_expansion_first')"
   ]
  },
  {
   "cell_type": "code",
   "execution_count": null,
   "metadata": {},
   "outputs": [],
   "source": [
    "\"\"\"\n",
    "En Covid bajo la lupa, para junio 2020 se reportan los siguientes valores de pobreza extrema y pobreza general\n",
    "gracias a los programas de mitigación:\n",
    "* pobreza extrema - 5.1 % (6.39% corrected)\n",
    "* pobreza general - 27.4 % (28.78% corrected)\n",
    "\"\"\"\n",
    "pov_table = get_percentage_table_with_expansion_factor(survey_household_assigned_per_capita, 'pobreza', 'factor_anual_first')\n",
    "display(pov_table)\n",
    "f\"tasa de pobreza general: {pov_table.loc[[1, 2], 'percentage'].sum().round(1):.1f}\""
   ]
  },
  {
   "cell_type": "code",
   "execution_count": null,
   "metadata": {},
   "outputs": [],
   "source": [
    "pov_table = get_percentage_table_with_expansion_factor(survey_household_assigned_per_capita, 'pobreza_sin_qec', 'factor_anual_first')\n",
    "display(pov_table)\n",
    "f\"tasa de pobreza general: {pov_table.loc[[1, 2], 'percentage'].sum().round(1):.1f}\""
   ]
  },
  {
   "cell_type": "code",
   "execution_count": null,
   "metadata": {},
   "outputs": [],
   "source": [
    "get_weighted_average(survey_household_assigned_per_capita, 'tnr_femenino_promedio_hogar', 'factor_anual_first')"
   ]
  },
  {
   "cell_type": "code",
   "execution_count": null,
   "metadata": {},
   "outputs": [],
   "source": [
    "get_weighted_average(survey_household_assigned_per_capita, 'tnr_masculino_promedio_hogar', 'factor_anual_first')"
   ]
  },
  {
   "cell_type": "markdown",
   "metadata": {},
   "source": [
    "# Pipeline"
   ]
  },
  {
   "cell_type": "code",
   "execution_count": null,
   "metadata": {},
   "outputs": [],
   "source": [
    "survey_pipeline_processor = make_pipeline(\n",
    "    merge_survey_incomes_member_transformer,\n",
    "    replace_member_transformer,\n",
    "    assign_member_transformer,\n",
    "    aggregate_member_transformer,\n",
    "    merge_survey_household_member_transformer,\n",
    "    merge_survey_household_icv_transformer,\n",
    "    # merge_survey_household_correction_transformer,\n",
    "    household_replace_transformer,\n",
    "    select_household_transformer,\n",
    "    assign_household_transformer\n",
    ")\n",
    "\n",
    "survey_final_processed = survey_pipeline_processor.transform(survey_member_raw)"
   ]
  },
  {
   "cell_type": "markdown",
   "metadata": {},
   "source": [
    "# Processing to Criteria"
   ]
  },
  {
   "cell_type": "markdown",
   "metadata": {},
   "source": [
    "## Replace Transformer"
   ]
  },
  {
   "cell_type": "code",
   "execution_count": null,
   "metadata": {},
   "outputs": [],
   "source": [
    "replace_final_map = {\n",
    "    'sexo_jefe_familia_sum': {\n",
    "        0: 'Hombre',\n",
    "        1: 'Mujer',\n",
    "    },\n",
    "    'ps_comer_es_primero': {\n",
    "        1: 'Beneficiario CEP',\n",
    "        2: 'No Beneficiario CEP'\n",
    "    },\n",
    "    'recibe_qec': {\n",
    "        True: 'Beneficiario QEC',\n",
    "        False: 'No Beneficiario QEC'\n",
    "    },\n",
    "    'zona_first': {\n",
    "        0: 'Urbana',\n",
    "        1: 'Rural'\n",
    "    },\n",
    "    'edad_menor_5_any': {\n",
    "        True: 'Con menores de 5',\n",
    "        False: 'Sin menores de 5'\n",
    "    },\n",
    "    'edad_mayor_60_any': {\n",
    "        True: 'Con mayores de 60',\n",
    "        False: 'Sin mayores de 60'\n",
    "    },\n",
    "    'edad_mayor_65_any': {\n",
    "        True: 'Con mayores de 65',\n",
    "        False: 'Sin mayores de 65'\n",
    "    },\n",
    "    'edad_5_a_10_any': {\n",
    "        True: 'Con miembros de 5 a 10',\n",
    "        False: 'Sin miembros de 5 a 10'\n",
    "    },\n",
    "    'edad_10_a_15_any': {\n",
    "        True: 'Con miembros de 10 a 15',\n",
    "        False: 'Sin miembros de 10 a 15'\n",
    "    },\n",
    "    'es_trabajador_domestico_any': {\n",
    "        True: 'Con trabajador doméstico',\n",
    "        False: 'Sin trabajador doméstico'\n",
    "    },\n",
    "    'es_informal_any': {\n",
    "        True: 'Con trabajador informal',\n",
    "        False: 'Sin trabajador informal'\n",
    "    },\n",
    "    'tipo_hogar':{\n",
    "        'Unipersonal': 'Unipers./Pareja sin hijos',\n",
    "        'Nuclear sin hijos': 'Unipers./Pareja sin hijos',\n",
    "        'Nuclear con hijos': 'Nuclear',\n",
    "        'Nuclear monoparental': 'Monoparental no extendido',\n",
    "        'Extendido base nuclear sin hijos': 'Extendido',\n",
    "        'Extendido base nuclear con hijos': 'Extendido',\n",
    "        'Extendido base monoparental': 'Extendido',\n",
    "        'Extendido sin base nuclear': 'Extendido',\n",
    "        'Compuesto': 'Compuesto',\n",
    "    },\n",
    "    'informalidad_mayoria': {\n",
    "        True: 'Mayoría empleo informal',\n",
    "        False: 'Minoría empleo informal'\n",
    "    },\n",
    "    'es_trabajador_infantil_any': {\n",
    "        True: 'Con trabajo infantil',\n",
    "        False: 'Sin trabajo infantil'\n",
    "    },\n",
    "    'es_enfermo_any': {\n",
    "        True: 'Con inactivos por enfermedad',\n",
    "        False: 'Sin inactivos por enfermedad'\n",
    "    }\n",
    "}\n",
    "\n",
    "replace_final_transformer = ReplaceTransformer(replace_final_map)\n",
    "survey_final_replaced = replace_final_transformer.transform(survey_final_processed)"
   ]
  },
  {
   "cell_type": "markdown",
   "metadata": {},
   "source": [
    "## Name Transformer"
   ]
  },
  {
   "cell_type": "code",
   "execution_count": null,
   "metadata": {},
   "outputs": [],
   "source": [
    "name_final_map = {\n",
    "    'id_hogar': 'uid',\n",
    "    'factor_anual_first': 'weight',\n",
    "    # Segmentation\n",
    "    'icv_basico_cat_first': 'Categorización Básica del SIUBEN II', \n",
    "    'zona_first': 'Zona Urbano-Rural',\n",
    "    'ps_comer_es_primero': 'Beneficiario de Comer es Primero',\n",
    "    'recibe_qec': 'Beneficiario de Quédate en Casa',\n",
    "    'sexo_jefe_familia_sum': 'Sexo jefe de familia',\n",
    "    'grupo_region': 'Macroregión geográfica',\n",
    "    'region': 'Región geográfica',\n",
    "    'tipo_hogar': 'Tipo familia',\n",
    "    'edad_menor_5_any': 'Miembro menor de 5 años',\n",
    "    'edad_mayor_60_any': 'Miembro mayor de 60 años',\n",
    "    'edad_5_a_10_any': 'Miembro entre 5 y 10 años',\n",
    "    'edad_10_a_15_any': 'Miembro entre 10 y 15 años',\n",
    "    'edad_mayor_65_any': 'Miembro mayor de 65 años',\n",
    "    'es_trabajador_domestico_any': 'Miembro trabajador doméstico',\n",
    "    'es_informal_any': 'Miembro con empleo informal',\n",
    "    'informalidad_mayoria': 'Mayoría de miembros con empleo informal',\n",
    "    'es_enfermo_any': 'Miembro inactivo por enfermedad',\n",
    "    # Statistics\n",
    "    'edad_menor_5_sum': 'stat_edad_menor_5_count',\n",
    "    'edad_mayor_65_sum': 'stat_edad_mayor_65_count',\n",
    "    'cantidad_miembros_hogar_first': 'stat_miembros_hogar_count',\n",
    "    'beneficio_promedio_qec': 'stat_beneficio_promedio_qec',\n",
    "    'tnr_masculino_promedio_hogar': 'stat_tnr_promedio_masculino',\n",
    "    'tnr_femenino_promedio_hogar': 'stat_tnr_promedio_femenino',\n",
    "    \n",
    "    # Factors\n",
    "    'factor_cost': '(C) Beneficio en DOP',\n",
    "    'factor_cost_percent': '(C) Beneficio en % del monto de QEC',\n",
    "    'factor_impact': '(I) Beneficio en DOP',\n",
    "    'factor_impact_dop': '(I) Beneficio en DOP (miembros)',\n",
    "    'factor_impact_percent': '(I) Beneficio en % del monto de QEC',\n",
    "    # Prioritization\n",
    "    'ingreso_per_capita_sin_qec_norm': 'Ingreso del hogar antes de recibir QEC',\n",
    "}\n",
    "\n",
    "name_final_transformer = NameTransformer(name_final_map, keep_features=[])\n",
    "survey_final_named = name_final_transformer.transform(survey_final_replaced)"
   ]
  },
  {
   "cell_type": "code",
   "execution_count": null,
   "metadata": {},
   "outputs": [],
   "source": [
    "inspect_nulls(survey_final_named)"
   ]
  },
  {
   "cell_type": "code",
   "execution_count": null,
   "metadata": {},
   "outputs": [],
   "source": [
    "cdisplay(survey_final_named.head())"
   ]
  },
  {
   "cell_type": "markdown",
   "metadata": {},
   "source": [
    "# Export file"
   ]
  },
  {
   "cell_type": "code",
   "execution_count": null,
   "metadata": {},
   "outputs": [],
   "source": [
    "protected_save(\n",
    "    lambda df, path: df.to_csv(path, index=False), survey_final_named,\n",
    "    f\"{DATA_DIR}/exports_platform/QEC_escenario_s13.1.csv\"\n",
    ")"
   ]
  }
 ],
 "metadata": {
  "file_extension": ".py",
  "kernelspec": {
   "name": "python3710jvsc74a57bd0bd21bc71339b4335dc1668425d5993b235026758a1a70d3187a020d8e24cb921",
   "display_name": "Python 3.7.10 64-bit ('criteria-do': conda)"
  },
  "language_info": {
   "codemirror_mode": {
    "name": "ipython",
    "version": 3
   },
   "file_extension": ".py",
   "mimetype": "text/x-python",
   "name": "python",
   "nbconvert_exporter": "python",
   "pygments_lexer": "ipython3",
   "version": "3.7.10-final"
  },
  "mimetype": "text/x-python",
  "name": "python",
  "nbTranslate": {
   "displayLangs": [
    "es",
    "en"
   ],
   "hotkey": "alt-t",
   "langInMainMenu": true,
   "sourceLang": "en",
   "targetLang": "es",
   "useGoogleTranslate": true
  },
  "npconvert_exporter": "python",
  "pygments_lexer": "ipython3",
  "toc": {
   "base_numbering": 1,
   "nav_menu": {},
   "number_sections": true,
   "sideBar": true,
   "skip_h1_title": false,
   "title_cell": "Table of Contents",
   "title_sidebar": "Contents",
   "toc_cell": false,
   "toc_position": {
    "height": "calc(100% - 180px)",
    "left": "10px",
    "top": "150px",
    "width": "326.533px"
   },
   "toc_section_display": true,
   "toc_window_display": true
  },
  "version": 3
 },
 "nbformat": 4,
 "nbformat_minor": 4
}