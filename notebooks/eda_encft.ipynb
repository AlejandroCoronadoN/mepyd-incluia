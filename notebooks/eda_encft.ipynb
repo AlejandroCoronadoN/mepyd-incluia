{
 "metadata": {
  "language_info": {
   "codemirror_mode": {
    "name": "ipython",
    "version": 3
   },
   "file_extension": ".py",
   "mimetype": "text/x-python",
   "name": "python",
   "nbconvert_exporter": "python",
   "pygments_lexer": "ipython3",
   "version": 3
  },
  "orig_nbformat": 2
 },
 "nbformat": 4,
 "nbformat_minor": 2,
 "cells": [
  {
   "cell_type": "code",
   "execution_count": null,
   "metadata": {},
   "outputs": [],
   "source": [
    "(survey_member_assigned_04['quedate_en_casa'] == survey_member_assigned_04['quedate_en_casa_jefe']).all()"
   ]
  },
  {
   "cell_type": "code",
   "execution_count": null,
   "metadata": {},
   "outputs": [],
   "source": [
    "temp2['programa_quedate_casa'].sum()"
   ]
  },
  {
   "cell_type": "code",
   "execution_count": null,
   "metadata": {},
   "outputs": [],
   "source": [
    "(temp1['quedate_en_casa_jefe_sum'] > 0).sum()"
   ]
  },
  {
   "cell_type": "code",
   "execution_count": null,
   "metadata": {},
   "outputs": [],
   "source": [
    "from sklearn.metrics import confusion_matrix\n",
    "confusion_matrix(temp2['programa_quedate_casa'], (temp1['quedate_en_casa_jefe_sum'] > 0))"
   ]
  },
  {
   "cell_type": "code",
   "execution_count": null,
   "metadata": {},
   "outputs": [],
   "source": [
    "get_percentage_table_with_expansion_factor(survey_household_member_aggregated_04, 'quedate_en_casa_sum', 'factor_expansion_first')"
   ]
  },
  {
   "cell_type": "code",
   "execution_count": null,
   "metadata": {},
   "outputs": [],
   "source": [
    "(survey_member_raw_04['gob_quedate_en_casa'] == survey_member_raw_04['quedate_en_casa']).all()"
   ]
  },
  {
   "cell_type": "code",
   "execution_count": null,
   "metadata": {},
   "outputs": [],
   "source": [
    "survey_member_raw_04['gob_quedate_en_casa'].value_counts()"
   ]
  },
  {
   "cell_type": "code",
   "execution_count": null,
   "metadata": {},
   "outputs": [],
   "source": [
    "# according to Covid19: Bajo la lupa - 1 547 045 (o 863 281 + 683 764) (o 811 000 + 690 000)\n",
    "((survey_member_raw_04['gob_quedate_en_casa'] > 0) * survey_member_raw_04['factor_expansion']).sum()"
   ]
  },
  {
   "cell_type": "code",
   "execution_count": null,
   "metadata": {},
   "outputs": [],
   "source": [
    "pd.set_option('display.max_colwidth', 200)\n",
    "consult_dict('ingreso_actividad_in')"
   ]
  },
  {
   "cell_type": "code",
   "execution_count": null,
   "metadata": {},
   "outputs": [],
   "source": [
    "cdisplay(survey_member_raw_04.head())"
   ]
  },
  {
   "cell_type": "code",
   "execution_count": null,
   "metadata": {},
   "outputs": [],
   "source": [
    "(survey_member_raw_04['miembro'] == survey_member_raw_04['miembro_1']).all()"
   ]
  },
  {
   "cell_type": "code",
   "execution_count": null,
   "metadata": {},
   "outputs": [],
   "source": [
    "monto_cols = [col for col in survey_member_raw_04.columns if 'monto' in col and '_no_remun' not in col]\n",
    "monto_cols"
   ]
  },
  {
   "cell_type": "code",
   "execution_count": null,
   "metadata": {},
   "outputs": [],
   "source": [
    "consult_dict('mayor_nivel_obtenido')"
   ]
  }
 ]
}