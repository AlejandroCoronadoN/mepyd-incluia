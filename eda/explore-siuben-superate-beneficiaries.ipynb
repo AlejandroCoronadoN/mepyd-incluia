{
 "cells": [
  {
   "cell_type": "markdown",
   "id": "healthy-light",
   "metadata": {},
   "source": [
    "# conclusions\n",
    "- the most convinient key for merge is ['id', 'idversion'] with 1,135,584 matchs\n",
    "- Adding 'cs7idregistrospoblacionn' to merge adds only 134 observations and 908,764 so not coincide on ['id', 'idversion'] (which has 99.99% of birth date collisions), meaning a different hash might be used across tables\n",
    "- the distribution of icv on the Superate beneficiaries (**with duplicated households removed**) is:  \n",
    "\n",
    "\t| icv | superate beneficiaries|\n",
    "    | -- | -- |\n",
    "    | 1.0 |\t105,969  |\n",
    "    | 2.0 |\t600,520  |\n",
    "\t| 3.0 |\t331,589  |\n",
    "\t| 4.0 |\t34,896  |\n",
    "\t| Total |\t1,072,974|"
   ]
  },
  {
   "cell_type": "code",
   "execution_count": null,
   "id": "functional-generic",
   "metadata": {},
   "outputs": [],
   "source": [
    "# magics\n",
    "%load_ext autoreload\n",
    "%autoreload 2\n",
    "%config Completer.use_jedi = False"
   ]
  },
  {
   "cell_type": "code",
   "execution_count": null,
   "id": "certain-canberra",
   "metadata": {},
   "outputs": [],
   "source": [
    "# pandas stack\n",
    "import pandas as pd\n",
    "import numpy as np\n",
    "import matplotlib.pyplot as plt\n",
    "import seaborn as sns\n",
    "import gc\n",
    "from sklearn.pipeline import make_pipeline"
   ]
  },
  {
   "cell_type": "code",
   "execution_count": null,
   "id": "humanitarian-thong",
   "metadata": {},
   "outputs": [],
   "source": [
    "# get timestamp in utc format\n",
    "from datetime import datetime\n",
    "timestamp = datetime.utcnow().strftime('%Y%m%dT%H%MZ')\n",
    "print(f'Timestamp for saving outputs: {timestamp}')"
   ]
  },
  {
   "cell_type": "code",
   "execution_count": null,
   "id": "experienced-cooling",
   "metadata": {},
   "outputs": [],
   "source": [
    "from projectetl.utils.config import data_dir\n",
    "from criteriaetl.utils.display_func import cdisplay\n",
    "from criteriaetl.transformers.fusion_base import MergeTransformer\n",
    "from projectetl.utils.dataload import load_s3_data_do"
   ]
  },
  {
   "cell_type": "code",
   "execution_count": null,
   "id": "dressed-trace",
   "metadata": {},
   "outputs": [],
   "source": [
    "import contextlib\n",
    "import pandas.io.formats.format as pf\n",
    "\n",
    "# copied from https://stackoverflow.com/questions/29663252/\n",
    "# can-you-format-pandas-integers-for-display-like-pd-options-display-float-forma\n",
    "@contextlib.contextmanager\n",
    "def df_formatting(float_fmt='{:0,.1f}', integer_fmt='{:,d}'):\n",
    "    orig_float_format = pd.options.display.float_format\n",
    "    orig_int_format = pf.IntArrayFormatter\n",
    "\n",
    "    pd.options.display.float_format = float_fmt.format\n",
    "    class IntArrayFormatter(pf.GenericArrayFormatter):\n",
    "        def _format_strings(self):\n",
    "            formatter = self.formatter or integer_fmt.format\n",
    "            fmt_values = [formatter(x) for x in self.values]\n",
    "            return fmt_values\n",
    "    pf.IntArrayFormatter = IntArrayFormatter\n",
    "    yield\n",
    "    pd.options.display.float_format = orig_float_format\n",
    "    pf.IntArrayFormatter = orig_int_format\n",
    "    "
   ]
  },
  {
   "cell_type": "code",
   "execution_count": null,
   "id": "informed-personal",
   "metadata": {},
   "outputs": [],
   "source": [
    "superate_beneficiaries_df = pd.read_csv(\n",
    "    f'{data_dir}/AR/raw/SIUBEN-SUPERATE.csv',\n",
    "    usecols=['CS1NoFormularioN', 'CS7IDRegistrosPoblacionN', 'ID',\n",
    "             'IdVersion', 'CS12FechaNacimientoD', 'ICV'], \n",
    "    na_values=\" \")\n",
    "superate_beneficiaries_df.columns = superate_beneficiaries_df.columns.str.lower()\n",
    "gc.collect()\n",
    "cdisplay(superate_beneficiaries_df.head())"
   ]
  },
  {
   "cell_type": "code",
   "execution_count": null,
   "id": "molecular-colon",
   "metadata": {},
   "outputs": [],
   "source": [
    "superate_beneficiaries_df.info()"
   ]
  },
  {
   "cell_type": "code",
   "execution_count": null,
   "id": "magnetic-jacob",
   "metadata": {},
   "outputs": [],
   "source": [
    "superate_beneficiaries_df"
   ]
  },
  {
   "cell_type": "code",
   "execution_count": null,
   "id": "banned-interstate",
   "metadata": {},
   "outputs": [],
   "source": [
    "miembros_parsed_df = load_s3_data_do('miembros')"
   ]
  },
  {
   "cell_type": "code",
   "execution_count": null,
   "id": "seasonal-chemistry",
   "metadata": {},
   "outputs": [],
   "source": [
    "cdisplay(miembros_parsed_df.head())"
   ]
  },
  {
   "cell_type": "code",
   "execution_count": null,
   "id": "simple-fighter",
   "metadata": {},
   "outputs": [],
   "source": [
    "households_parsed_df = load_s3_data_do('hogares')\n",
    "cdisplay(households_parsed_df.head())"
   ]
  },
  {
   "cell_type": "code",
   "execution_count": null,
   "id": "caring-valley",
   "metadata": {},
   "outputs": [],
   "source": [
    "with df_formatting('{:,}'):\n",
    "    miembros_ids_df = miembros_parsed_df[[\n",
    "        'cs7noformularion', 'id', 'idversion', 'cs12fechanacimientod']]\n",
    "    miembros_ids_df.info()\n",
    "    display(miembros_ids_df.head())"
   ]
  },
  {
   "cell_type": "markdown",
   "id": "quarterly-breathing",
   "metadata": {},
   "source": [
    "# Define merge"
   ]
  },
  {
   "cell_type": "code",
   "execution_count": null,
   "id": "african-budget",
   "metadata": {},
   "outputs": [],
   "source": [
    "matched_obs = {}\n",
    "for col in ['id', 'idversion']:\n",
    "    matched_obs[col] = pd.to_numeric(\n",
    "        superate_beneficiaries_df[col].dropna(), downcast='unsigned').isin(\n",
    "        miembros_parsed_df[col]).sum()"
   ]
  },
  {
   "cell_type": "code",
   "execution_count": null,
   "id": "ordinary-boards",
   "metadata": {},
   "outputs": [],
   "source": [
    "matched_obs['noformularion'] = pd.to_numeric(superate_beneficiaries_df[\n",
    "    'cs1noformularion'].dropna(), downcast='unsigned').isin(\n",
    "     miembros_parsed_df['cs7noformularion']).sum()"
   ]
  },
  {
   "cell_type": "code",
   "execution_count": null,
   "id": "refined-purple",
   "metadata": {},
   "outputs": [],
   "source": [
    "to_merge_miembros_df = miembros_parsed_df[[\n",
    "    'cs7noformularion', 'cs7idregistrospoblacionn', 'id', 'idversion',\n",
    "    'cs12fechanacimientod']]\n",
    "\n",
    "to_merge_superate_df = superate_beneficiaries_df[[\n",
    "    'cs1noformularion', 'cs7idregistrospoblacionn', 'id', 'idversion']\n",
    "].astype('Int64')\n",
    "\n",
    "to_merge_superate_df.loc[:, 'cs12fechanacimientod'] = pd.to_datetime(\n",
    "    superate_beneficiaries_df['cs12fechanacimientod'].str.slice(0, -8), \n",
    "    format='%m/%d/%Y')"
   ]
  },
  {
   "cell_type": "code",
   "execution_count": null,
   "id": "charitable-allah",
   "metadata": {},
   "outputs": [],
   "source": [
    "merge_col = 'id'\n",
    "merged_df = to_merge_miembros_df.merge(to_merge_superate_df.dropna(\n",
    "    subset=[merge_col]), on=merge_col, indicator=True)\n",
    "print(merged_df._merge.value_counts())\n",
    "merged_df.cs12fechanacimientod_x.subtract(merged_df.cs12fechanacimientod_y).value_counts()"
   ]
  },
  {
   "cell_type": "code",
   "execution_count": null,
   "id": "signed-ready",
   "metadata": {},
   "outputs": [],
   "source": [
    "merge_col = 'cs7idregistrospoblacionn'\n",
    "merged_df_a = to_merge_miembros_df.merge(to_merge_superate_df.dropna(\n",
    "    subset=[merge_col]), on=merge_col, indicator=True)\n",
    "print(merged_df_a._merge.value_counts())\n",
    "merged_df_a.cs12fechanacimientod_x.subtract(merged_df_a.cs12fechanacimientod_y).value_counts()"
   ]
  },
  {
   "cell_type": "code",
   "execution_count": null,
   "id": "grand-spring",
   "metadata": {},
   "outputs": [],
   "source": [
    "merge_col = 'idversion'\n",
    "merged_df = to_merge_miembros_df.drop_duplicates(subset=[merge_col]).merge(\n",
    "    to_merge_superate_df.dropna(\n",
    "    subset=[merge_col]), on=merge_col, indicator=True, how='right')\n",
    "display(merged_df._merge.value_counts())\n",
    "merged_df.cs12fechanacimientod_x.subtract(merged_df.cs12fechanacimientod_y).value_counts()"
   ]
  },
  {
   "cell_type": "code",
   "execution_count": null,
   "id": "thorough-recommendation",
   "metadata": {},
   "outputs": [],
   "source": [
    "merge_left_col = 'cs7noformularion'\n",
    "merge_right_col = 'cs1noformularion'\n",
    "merged_df = to_merge_miembros_df.drop_duplicates(subset=[merge_left_col]).merge(\n",
    "    to_merge_superate_df.dropna(\n",
    "    subset=[merge_right_col]), left_on=merge_left_col, right_on=merge_right_col, \n",
    "    indicator=True, how='right')\n",
    "display(merged_df._merge.value_counts())\n",
    "merged_df.cs12fechanacimientod_x.subtract(merged_df.cs12fechanacimientod_y).value_counts()"
   ]
  },
  {
   "cell_type": "code",
   "execution_count": null,
   "id": "wound-sunrise",
   "metadata": {},
   "outputs": [],
   "source": [
    "merge_both_col = 'cs7idregistrospoblacionn'\n",
    "merge_left_col = 'cs7noformularion'\n",
    "merge_right_col = 'cs1noformularion'\n",
    "merged_df = to_merge_miembros_df.merge(\n",
    "    to_merge_superate_df.dropna(\n",
    "    subset=[merge_both_col, merge_right_col]), left_on=[merge_both_col, merge_left_col],\n",
    "    right_on=[merge_both_col, merge_right_col], indicator=True, how='right')\n",
    "display(merged_df._merge.value_counts())\n",
    "merged_df.cs12fechanacimientod_x.subtract(merged_df.cs12fechanacimientod_y).value_counts()"
   ]
  },
  {
   "cell_type": "code",
   "execution_count": null,
   "id": "modular-detroit",
   "metadata": {},
   "outputs": [],
   "source": [
    "merge_col = ['id', 'idversion']\n",
    "merged_df_b = to_merge_miembros_df.merge(to_merge_superate_df.dropna(\n",
    "    subset=merge_col), on=merge_col, indicator=True)\n",
    "print(merged_df_b._merge.value_counts())\n",
    "merged_df_b.cs12fechanacimientod_x.subtract(merged_df_b.cs12fechanacimientod_y).value_counts()"
   ]
  },
  {
   "cell_type": "code",
   "execution_count": null,
   "id": "progressive-departure",
   "metadata": {},
   "outputs": [],
   "source": [
    "merge_stats = pd.Series(matched_obs).to_frame(name='# coincidencias')\n",
    "\n",
    "\n",
    "merge_stats.loc[:, '# igual fecha nacimiento'] = [1135517, np.nan, np.nan]\n",
    "merge_stats.loc['id & idversion'] = [1135584, 1135517]\n",
    "\n",
    "with df_formatting('{:,}'):\n",
    "    display(merge_stats)"
   ]
  },
  {
   "cell_type": "code",
   "execution_count": null,
   "id": "existing-philip",
   "metadata": {},
   "outputs": [],
   "source": [
    "merged_df_b"
   ]
  },
  {
   "cell_type": "code",
   "execution_count": null,
   "id": "raising-variance",
   "metadata": {},
   "outputs": [],
   "source": [
    "(~ merged_df_a.cs7idregistrospoblacionn.isin(merged_df_b.cs7idregistrospoblacionn_x)).sum()"
   ]
  },
  {
   "cell_type": "code",
   "execution_count": null,
   "id": "fifty-lying",
   "metadata": {},
   "outputs": [],
   "source": [
    "merged_df_b.cs7idregistrospoblacionn_x.ne(\n",
    "    merged_df_b.cs7idregistrospoblacionn_y).sum()"
   ]
  },
  {
   "cell_type": "markdown",
   "id": "played-greensboro",
   "metadata": {},
   "source": [
    "# Get ICV statistics"
   ]
  },
  {
   "cell_type": "code",
   "execution_count": null,
   "id": "acquired-machine",
   "metadata": {},
   "outputs": [],
   "source": [
    "icv_superate = superate_beneficiaries_df.icv.value_counts().sort_index()\n",
    "print(f'Superate beneficieries across ICV: \\n{icv_superate}')\n",
    "\n",
    "df_ = icv_superate.to_frame('superate beneficiaries')\n",
    "df_.loc['Total'] = icv_superate.sum()\n",
    "with df_formatting('{:,}'):\n",
    "    display(df_)"
   ]
  },
  {
   "cell_type": "code",
   "execution_count": null,
   "id": "organic-compound",
   "metadata": {},
   "outputs": [],
   "source": [
    "merge_cols = ['id', 'idversion']\n",
    "household_key = {\n",
    "    'member': 'cs7noformularion',\n",
    "    'household': 'cs1noformularion'\n",
    "}\n",
    "to_merge_miembros_df = miembros_parsed_df[[\n",
    "    'cs7noformularion', 'id', 'idversion']]\n",
    "\n",
    "to_merge_superate_df = superate_beneficiaries_df[[\n",
    "    'id', 'idversion', 'icv']\n",
    "].astype({'id': 'Int64', 'idversion': 'Int64', 'icv': 'category'})"
   ]
  },
  {
   "cell_type": "code",
   "execution_count": null,
   "id": "included-surge",
   "metadata": {},
   "outputs": [],
   "source": [
    "merge_pipe = make_pipeline(\n",
    "    MergeTransformer(lambda: to_merge_superate_df.dropna(\n",
    "    subset=merge_col), merge_kwargs=dict(\n",
    "    on=merge_cols)),\n",
    "    MergeTransformer(lambda: households_parsed_df[[\n",
    "        household_key['household'], 'nivelpobreza'\n",
    "    ]], merge_kwargs=dict(\n",
    "    left_on=household_key['member'], right_on=household_key['household'])\n",
    "))\n",
    "merged_df = merge_pipe.transform(to_merge_miembros_df)\n"
   ]
  },
  {
   "cell_type": "code",
   "execution_count": null,
   "id": "established-visibility",
   "metadata": {},
   "outputs": [],
   "source": [
    "merged_df"
   ]
  },
  {
   "cell_type": "code",
   "execution_count": null,
   "id": "conceptual-hopkins",
   "metadata": {},
   "outputs": [],
   "source": [
    "merged_df.icv.eq(merged_df.nivelpobreza).value_counts(normalize=True)"
   ]
  },
  {
   "cell_type": "code",
   "execution_count": null,
   "id": "average-monaco",
   "metadata": {},
   "outputs": [],
   "source": [
    "icv_superate_wo_duplicates = merged_df.groupby(household_key['household'])[\n",
    "    'icv'].nth(0).value_counts().sort_index()\n",
    "display(icv_superate_wo_duplicates)\n",
    "df_ = icv_superate_wo_duplicates.to_frame('superate beneficiaries')\n",
    "df_.loc['Total'] = icv_superate_wo_duplicates.sum()\n",
    "with df_formatting('{:,}'):\n",
    "    display(df_)"
   ]
  },
  {
   "cell_type": "code",
   "execution_count": null,
   "id": "prepared-score",
   "metadata": {},
   "outputs": [],
   "source": []
  }
 ],
 "metadata": {
  "kernelspec": {
   "display_name": "Python [conda env:criteria-do]",
   "language": "python",
   "name": "conda-env-criteria-do-py"
  },
  "language_info": {
   "codemirror_mode": {
    "name": "ipython",
    "version": 3
   },
   "file_extension": ".py",
   "mimetype": "text/x-python",
   "name": "python",
   "nbconvert_exporter": "python",
   "pygments_lexer": "ipython3",
   "version": "3.7.10"
  },
  "nbTranslate": {
   "displayLangs": [
    "en",
    "es"
   ],
   "hotkey": "alt-t",
   "langInMainMenu": true,
   "sourceLang": "es",
   "targetLang": "en",
   "useGoogleTranslate": true
  },
  "toc": {
   "base_numbering": 1,
   "nav_menu": {},
   "number_sections": true,
   "sideBar": true,
   "skip_h1_title": false,
   "title_cell": "Table of Contents",
   "title_sidebar": "Contents",
   "toc_cell": false,
   "toc_position": {},
   "toc_section_display": true,
   "toc_window_display": true
  }
 },
 "nbformat": 4,
 "nbformat_minor": 5
}
